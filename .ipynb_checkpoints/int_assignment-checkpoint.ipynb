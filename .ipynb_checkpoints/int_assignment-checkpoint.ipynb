{
 "cells": [
  {
   "cell_type": "markdown",
   "metadata": {},
   "source": [
    "# Completed"
   ]
  },
  {
   "cell_type": "code",
   "execution_count": 1,
   "metadata": {
    "id": "8A5Jw5NR1iEI"
   },
   "outputs": [
    {
     "name": "stdout",
     "output_type": "stream",
     "text": [
      "1\n",
      "<class 'int'>\n",
      "1767002210544\n"
     ]
    }
   ],
   "source": [
    "#Declare an int value and store it in a variable. \n",
    "integer = 1\n",
    "#Check the type and print the id of the same.\n",
    "print(integer)\n",
    "print(type(integer))\n",
    "print(id(integer))"
   ]
  },
  {
   "cell_type": "code",
   "execution_count": 33,
   "metadata": {
    "id": "0YU8LFTn1rAX"
   },
   "outputs": [
    {
     "name": "stdout",
     "output_type": "stream",
     "text": [
      "a1 Id : 1767002210672\n",
      "a2 Id : 1767002210672\n",
      "Id is matching ? True\n",
      "a1 Id : 1767002210384\n",
      "a2 Id : 1767086012208\n",
      "Id is matching ? False\n"
     ]
    }
   ],
   "source": [
    "#Take one int value between 0 - 256.\n",
    "#Assign it to two different variables.\n",
    "#Check the id of both the variables. It should come same. Check why?\n",
    "a1 = 5\n",
    "a2 = 5\n",
    "print(\"a1 Id :\",id(a1))\n",
    "print(\"a2 Id :\",id(a2))\n",
    "print(\"Id is matching ?\",id(a1)==id(a2))\n",
    "#since the value for a1 and a2 is same we are using the same memory. Object reusability.\n",
    "\n",
    "#Take one int value either less than -5 or greater than 256.\n",
    "#Assign it to two different variables.\n",
    "#Check the id of both the variables. It should come different.Check why?\n",
    "a1 = -4\n",
    "a2 = 435\n",
    "print(\"a1 Id :\",id(a1))\n",
    "print(\"a2 Id :\",id(a2))\n",
    "print(\"Id is matching ?\",id(a1)==id(a2))\n",
    "#since the value for a1 and a2 is different we are using the differnt memory.\n",
    "#Note: Here there is a fixed memory for -5 to 256. so how many times we see the id would remain same due to some fixed rule"
   ]
  },
  {
   "cell_type": "code",
   "execution_count": 3,
   "metadata": {
    "id": "YzEIG0ZZ1tSK"
   },
   "outputs": [
    {
     "name": "stdout",
     "output_type": "stream",
     "text": [
      "sum : 20\n",
      "diff : -10\n",
      "prod : 75\n",
      "div : 0.3333333333333333\n",
      "remainder : 5\n",
      "quotient : 0\n",
      "power : 30517578125\n"
     ]
    }
   ],
   "source": [
    "#Arithmatic Operations on integers\n",
    "#Take two different intger values.\n",
    "#Store them in two different variables.\n",
    "a1 = 5\n",
    "a2 = 15\n",
    "#Do below operations on them:-\n",
    "    #Find sum of both numbers\n",
    "print(\"sum :\",a1 + a2)\n",
    "    #Find differce between them\n",
    "print(\"diff :\",a1 - a2)\n",
    "    #Find the product of both numbers.\n",
    "print(\"prod :\",a1 * a2)\n",
    "    #Find value after dividing first num with second number\n",
    "print(\"div :\",a1 / a2)\n",
    "    #Find the remainder after dividing first number with second number\n",
    "print(\"remainder :\",a1 % a2)\n",
    "    #Find the quotient after dividing first number with second number\n",
    "print(\"quotient :\",a1 // a2)\n",
    "    #Find the result of first num to the power of second number.\n",
    "print(\"power :\",a1 ** a2)"
   ]
  },
  {
   "cell_type": "code",
   "execution_count": 4,
   "metadata": {
    "id": "GGM7CdzA1wGn"
   },
   "outputs": [
    {
     "name": "stdout",
     "output_type": "stream",
     "text": [
      "Greater than : False\n",
      "Less than : True\n",
      "Greater than or equal to : False\n",
      "Less than or equal to : True\n",
      "Type : <class 'bool'>\n"
     ]
    }
   ],
   "source": [
    "#Comparison Operators on integers\n",
    "#Take two different intger values.\n",
    "#Store them in two different variables.\n",
    "a1 = 5\n",
    "a2 = 15\n",
    "#Do below operations on them:-\n",
    "    #Compare se two numbers with below operator:-\n",
    "        #Greater than, '>'\n",
    "print(\"Greater than :\",a1 > a2)\n",
    "        #Smaller than, '<'\n",
    "print(\"Less than :\",a1 < a2)\n",
    "        #Greater than or equal to, '>='\n",
    "print(\"Greater than or equal to :\",a1 >= a2)\n",
    "        #Less than or equal to, '<='\n",
    "print(\"Less than or equal to :\",a1 <= a2)\n",
    "#Observe their output(return type should be boolean)\n",
    "print(\"Type :\",type(a1 < a2))"
   ]
  },
  {
   "cell_type": "code",
   "execution_count": 5,
   "metadata": {
    "id": "9x904sUE1y9t"
   },
   "outputs": [
    {
     "name": "stdout",
     "output_type": "stream",
     "text": [
      "Equal : False\n",
      "Not Equal : True\n",
      "Type : <class 'bool'>\n"
     ]
    }
   ],
   "source": [
    "#Equality Operator\n",
    "#Take two different intger values.\n",
    "#Store them in two different variables.\n",
    "a1 = 20\n",
    "a2 = 10\n",
    "#Equuate them using equality operator (==, !=)\n",
    "print(\"Equal :\",a1 == a2)\n",
    "print(\"Not Equal :\",a1 != a2)\n",
    "#Observe the output(return type should be boolean)\n",
    "print(\"Type :\",type(a1 == a2))"
   ]
  },
  {
   "cell_type": "code",
   "execution_count": 6,
   "metadata": {
    "id": "JmQFHUwc11S-"
   },
   "outputs": [
    {
     "name": "stdout",
     "output_type": "stream",
     "text": [
      "20\n",
      "0\n",
      "0\n",
      "0\n",
      "10\n",
      "20\n",
      "20\n",
      "0\n",
      "False\n",
      "True\n"
     ]
    }
   ],
   "source": [
    "#Logical operators\n",
    "#Observe the output of below code\n",
    "#Cross check the output manually\n",
    "\n",
    "print(10 and 20)       #----------------------------------------->Output is 20\n",
    "print(0 and 20)        #----------------------------------------->Output is 0\n",
    "print(20 and 0)        #----------------------------------------->Output is 0\n",
    "print(0 and 0)         #----------------------------------------->Output is 0\n",
    "\n",
    "print(10 or 20)        #----------------------------------------->Output is 10\n",
    "print(0 or 20)         #----------------------------------------->Output is 20\n",
    "print(20 or 0)         #----------------------------------------->Output is 20\n",
    "print(0 or 0)          #----------------------------------------->Output is 0\n",
    "\n",
    "print(not 10)          #----------------------------------------->Output is False\n",
    "print(not 0)           #----------------------------------------->Output is True\n",
    "#Note: And -- Returns True if all are True.\n",
    "#It will keep on checking till the end operator and returns the last value if all are true\n",
    "#Whereas in OR it will keep on searching for the first true till last expression and returns that\n",
    "print(\"10 and 20 and 30 :\",10 and 20 and 30)\n",
    "print(\"0 or 0 or 10 :\",0 or 0 or 10)"
   ]
  },
  {
   "cell_type": "code",
   "execution_count": 3,
   "metadata": {
    "id": "-0tvoulX14Hi"
   },
   "outputs": [
    {
     "name": "stdout",
     "output_type": "stream",
     "text": [
      "10 and 20 : 0\n",
      "10 or 20 : 30\n",
      "10 XOR 20 : 30\n",
      "Negation 10 : -11\n",
      "Left Shift 10 : 40\n",
      "Right Shift 10 : 2\n",
      "10 : 0b1010 ------ 20 : 0b10100\n"
     ]
    }
   ],
   "source": [
    "#Bitwise Operators\n",
    "#Do below operations on the values provided below:-\n",
    "\n",
    "    #Bitwise and(&) -----------------------------------------> 10, 20   -------> Output is 0\n",
    "print(\"10 and 20 :\",10 & 20)\n",
    "    #Bitwise or(|)  -----------------------------------------> 10, 20   -------> Output is 30\n",
    "print(\"10 or 20 :\",10 | 20)    \n",
    "    #Bitwise(^)     -----------------------------------------> 10, 20   -------> Output is 30\n",
    "print(\"10 XOR 20 :\",10 ^ 20)\n",
    "    #Bitwise negation(~) ------------------------------------> 10       -------> Output is -11\n",
    "print(\"Negation 10 :\",~(10))\n",
    "    #Bitwise left shift  ------------------------------------> 10,2     -------> Output is 40\n",
    "print(\"Left Shift 10 :\",10 << 2)\n",
    "    #Bitwise right shift ------------------------------------> 10,2     -------> Output is 2\n",
    "print(\"Right Shift 10 :\",10 >> 2)\n",
    "#Cross check the output manually\n",
    "print(\"10 :\",bin(10),\"------ 20 :\",bin(20))"
   ]
  },
  {
   "attachments": {
    "image.png": {
     "image/png": "[encoded data removed]"
    }
   },
   "cell_type": "markdown",
   "metadata": {},
   "source": [
    "![image.png](attachment:image.png)"
   ]
  },
  {
   "cell_type": "code",
   "execution_count": 8,
   "metadata": {
    "id": "YCcx-Qx016hg"
   },
   "outputs": [
    {
     "name": "stdout",
     "output_type": "stream",
     "text": [
      "True\n",
      "False\n",
      "False\n",
      "True\n"
     ]
    }
   ],
   "source": [
    "#What is the output of expression inside print statement. Cross check before running the program.\n",
    "a = 10\n",
    "b = 10\n",
    "print(a is b)          #True or False? #True\n",
    "print(a is not b)      #True or False? #False\n",
    "\n",
    "a = 1000\n",
    "b = 1000\n",
    "print(a is b)          #True or False? #True\n",
    "print(a is not b)      #True or False? #False\n",
    "\n",
    "#Is operator:\n",
    "#Return TRUE if both the variables belong to same class, same value and same memory location\n",
    "#== operator:\n",
    "#Return TRUE if both the variables belong to same value\n",
    "\n",
    "#memory location for -5 to 256 we have same and hence 10 is matching and not 1000"
   ]
  },
  {
   "cell_type": "code",
   "execution_count": 23,
   "metadata": {
    "id": "Un2To3XN1_Il"
   },
   "outputs": [
    {
     "name": "stdout",
     "output_type": "stream",
     "text": [
      "20\n",
      "20\n",
      "20\n",
      "20\n",
      "20\n"
     ]
    }
   ],
   "source": [
    "#What is the output of expression inside print statement. Cross check before running the program.\n",
    "print(10+(10*32)//2**5&20+(~(-10))<<2) #Precedence\n",
    "print(10+(320)//32&20+9<<2)# Content within (), **, ~\n",
    "print(10+10&20+9<<2)# //\n",
    "print(20&29<<2)# +\n",
    "print(20&116)# <<, &"
   ]
  },
  {
   "cell_type": "code",
   "execution_count": 10,
   "metadata": {
    "id": "kGRb5RMd1_1I"
   },
   "outputs": [
    {
     "name": "stdout",
     "output_type": "stream",
     "text": [
      "True\n",
      "True\n",
      "True\n",
      "True\n",
      "True\n",
      "True\n"
     ]
    }
   ],
   "source": [
    "#Membership operation\n",
    "#in, not in are two membership operators and it returns boolean value\n",
    "\n",
    "print('2' in 'Python2.7.8') #True\n",
    "print(10 in [10,10.20,10+20j,'Python']) #True\n",
    "print(10 in (10,10.20,10+20j,'Python')) #True\n",
    "print(2 in {1,2,3}) #True\n",
    "print(3 in {1:100, 2:200, 3:300}) #True\n",
    "print(10 in range(20)) #True"
   ]
  },
  {
   "cell_type": "code",
   "execution_count": 13,
   "metadata": {
    "id": "Es7iSvL92B9W"
   },
   "outputs": [
    {
     "name": "stdout",
     "output_type": "stream",
     "text": [
      "The decimal value of 9876 is:\n",
      "0b10011010010100 in binary.\n",
      "0o23224 in octal.\n",
      "0x2694 in hexadecimal.\n"
     ]
    }
   ],
   "source": [
    "#An integer can be represented in binary, octal or hexadecimal form.\n",
    "#Declare one binary, one octal and one hexadecimal value and store them in three different variables.\n",
    "#Convert 9876 to its binary, octal and hexadecimal equivalent and print their corresponding value.\n",
    "dec = 9876\n",
    "print(\"The decimal value of\", dec, \"is:\")\n",
    "print(bin(dec), \"in binary.\")\n",
    "print(oct(dec), \"in octal.\")\n",
    "print(hex(dec), \"in hexadecimal.\")"
   ]
  },
  {
   "cell_type": "code",
   "execution_count": 12,
   "metadata": {
    "id": "Hm0r03lH2E0i"
   },
   "outputs": [
    {
     "name": "stdout",
     "output_type": "stream",
     "text": [
      "80\n",
      "3870\n",
      "64222\n",
      "0b1010000\n",
      "0o7436\n",
      "0xfade\n",
      "0b1010000\n",
      "0b1111101011011110\n",
      "0o175336\n",
      "0o7436\n",
      "0x50\n",
      "0xfade\n"
     ]
    }
   ],
   "source": [
    "#What will be the outut of following:-\n",
    "a = 0b1010000\n",
    "print(a)\n",
    "\n",
    "b = 0o7436\n",
    "print(b)\n",
    "\n",
    "c = 0xfade\n",
    "print(c)\n",
    "\n",
    "print(bin(80))\n",
    "\n",
    "print(oct(3870))\n",
    "\n",
    "print(hex(64222))\n",
    "\n",
    "print(bin(0b1010000))\n",
    "\n",
    "print(bin(0xfade))\n",
    "\n",
    "print(oct(0xfade))\n",
    "\n",
    "print(oct(0o7436))\n",
    "\n",
    "print(hex(0b1010000))\n",
    "\n",
    "print(hex(0xfade))"
   ]
  }
 ],
 "metadata": {
  "colab": {
   "name": "int_assignment.ipynb",
   "provenance": []
  },
  "kernelspec": {
   "display_name": "Python 3 (ipykernel)",
   "language": "python",
   "name": "python3"
  },
  "language_info": {
   "codemirror_mode": {
    "name": "ipython",
    "version": 3
   },
   "file_extension": ".py",
   "mimetype": "text/x-python",
   "name": "python",
   "nbconvert_exporter": "python",
   "pygments_lexer": "ipython3",
   "version": "3.10.9"
  }
 },
 "nbformat": 4,
 "nbformat_minor": 1
}
