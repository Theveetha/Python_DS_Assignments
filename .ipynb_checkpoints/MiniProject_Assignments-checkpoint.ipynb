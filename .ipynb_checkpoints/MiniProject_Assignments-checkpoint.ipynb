{
 "cells": [
  {
   "cell_type": "markdown",
   "id": "648d7ded",
   "metadata": {},
   "source": [
    "# Mini Project"
   ]
  },
  {
   "cell_type": "code",
   "execution_count": 11,
   "id": "c06440c0",
   "metadata": {},
   "outputs": [
    {
     "name": "stdout",
     "output_type": "stream",
     "text": [
      "Please enter your user name : thevee@1@gmail.com\n",
      "Your user name is thevee@1 and your domain name is gmail\n"
     ]
    }
   ],
   "source": [
    "#get user email address\n",
    "# Tell her username and company domain name\n",
    "email = input(\"Please enter your user name : \")\n",
    "pos = email.rfind(\"@\")\n",
    "domainpos = email.rfind(\".com\")\n",
    "userName,domainName = email[0:pos:],email[pos+1:domainpos:]\n",
    "print(f\"Your user name is {userName} and your domain name is {domainName}\")"
   ]
  },
  {
   "cell_type": "code",
   "execution_count": 9,
   "id": "b006343e",
   "metadata": {},
   "outputs": [
    {
     "name": "stdout",
     "output_type": "stream",
     "text": [
      "Please enter the number of passwords required : 3\n",
      "Please enter the length : 10\n",
      "s]A9+=h@40\n",
      "6Fran>]7M(\n",
      "q+}NGu^2`#\n"
     ]
    }
   ],
   "source": [
    "# Create a program to generate passwords for you.\n",
    "#You have to create a Program that asks user total passwords he needed and the length of them.\n",
    "import random\n",
    "# import string\n",
    "text = '[Tb*1:(xP{<K|I>{Rnv=-a_V,Qm]3RYu [*IKG~Bfq%Jv5},oE'\n",
    "\n",
    "# res = [t for t in text if t.isalnum()]\n",
    "\n",
    "# count = int(input(\"Please enter the number of passwords required : \"))\n",
    "# for i in range(0,count):\n",
    "#     length = int(input(\"Please enter the length : \"))\n",
    "#     print(\"\".join(random.sample(res,length)))\n",
    "    \n",
    "import string\n",
    "# characters = string.ascii_letters + string.digits + string.punctuation\n",
    "# print(characters)\n",
    "count = int(input(\"Please enter the number of passwords required : \"))\n",
    "length = int(input(\"Please enter the length : \"))\n",
    "for i in range(count):\n",
    "    password = random.sample(characters,length)\n",
    "    print(\"\".join(password))"
   ]
  },
  {
   "cell_type": "code",
   "execution_count": 11,
   "id": "1ab5261b",
   "metadata": {},
   "outputs": [
    {
     "name": "stdout",
     "output_type": "stream",
     "text": [
      "Enter the number of members : 5\n",
      "Enter the member name : 1\n",
      "Enter the member name : 2\n",
      "Enter the member name : 2\n",
      "Enter the member name : 3\n",
      "Enter the member name : 4\n",
      "['1', '2', '2', '3', '4']\n",
      "Enter the count of team 1 : 2\n",
      "Team1 :  ['2', '1']\n"
     ]
    },
    {
     "ename": "KeyboardInterrupt",
     "evalue": "",
     "output_type": "error",
     "traceback": [
      "\u001b[1;31m---------------------------------------------------------------------------\u001b[0m",
      "\u001b[1;31mKeyboardInterrupt\u001b[0m                         Traceback (most recent call last)",
      "Cell \u001b[1;32mIn[11], line 15\u001b[0m\n\u001b[0;32m     13\u001b[0m team2 \u001b[38;5;241m=\u001b[39m []\n\u001b[0;32m     14\u001b[0m \u001b[38;5;28mprint\u001b[39m(\u001b[38;5;124m\"\u001b[39m\u001b[38;5;124mTeam1 : \u001b[39m\u001b[38;5;124m\"\u001b[39m,team1)\n\u001b[1;32m---> 15\u001b[0m \u001b[38;5;28;01mwhile\u001b[39;00m \u001b[38;5;28;43mlen\u001b[39;49m\u001b[43m(\u001b[49m\u001b[43mteam2\u001b[49m\u001b[43m)\u001b[49m\u001b[43m \u001b[49m\u001b[38;5;241;43m<\u001b[39;49m\u001b[43m \u001b[49m\u001b[43mt2_count\u001b[49m:\n\u001b[0;32m     16\u001b[0m     x \u001b[38;5;241m=\u001b[39m random\u001b[38;5;241m.\u001b[39mchoice(members)\n\u001b[0;32m     17\u001b[0m     \u001b[38;5;28;01mif\u001b[39;00m x \u001b[38;5;129;01mnot\u001b[39;00m \u001b[38;5;129;01min\u001b[39;00m team1 \u001b[38;5;129;01mand\u001b[39;00m x \u001b[38;5;129;01mnot\u001b[39;00m \u001b[38;5;129;01min\u001b[39;00m team2:\n\u001b[0;32m     18\u001b[0m \u001b[38;5;66;03m#     if x not in team1:\u001b[39;00m\n",
      "\u001b[1;31mKeyboardInterrupt\u001b[0m: "
     ]
    }
   ],
   "source": [
    "#Write a Python program to take team size from the user and take their names.\n",
    "#Your job is to split in approximate 2 halves only such that members of TeamA shall not reflect in TeamB\n",
    "import random\n",
    "count = int(input(\"Enter the number of members : \"))\n",
    "members = []\n",
    "for i in range(0,count):\n",
    "    name = input(\"Enter the member name : \")\n",
    "    members.append(name)\n",
    "print(members)\n",
    "t1_count = int(input(\"Enter the count of team 1 : \"))\n",
    "t2_count = count - t1_count\n",
    "team1 = random.sample(members,t1_count)\n",
    "team2 = []\n",
    "print(\"Team1 : \",team1)\n",
    "while len(team2) < t2_count:\n",
    "    x = random.choice(members)\n",
    "    if x not in team1 and x not in team2:\n",
    "#     if x not in team1:\n",
    "        team2.append(x)\n",
    "print(\"Team2 : \",team2)"
   ]
  },
  {
   "cell_type": "code",
   "execution_count": 17,
   "id": "d6af6f80",
   "metadata": {},
   "outputs": [
    {
     "name": "stdout",
     "output_type": "stream",
     "text": [
      "Please enter the count of total members5\n",
      "Please enter team members name one by one all should be unique: \n",
      "Name 1 :     Thevee    \n",
      "Name 2 : Parthi\n",
      "Name 3 : Parthi\n",
      "Please enter a unique name, this name already exists in main team\n",
      "Name 3 :    IMAY Parthi\n",
      "Name 4 : Chinu\n",
      "Name 5 : Jeyapal\n",
      "\n",
      "Name entered in main_team :  ['thevee', 'parthi', 'imay parthi', 'chinu', 'jeyapal']\n",
      "Team1 :  ['parthi', 'imay parthi']\n",
      "Team2 :  ['thevee', 'chinu', 'jeyapal']\n"
     ]
    }
   ],
   "source": [
    "# Here we can't repeat the name\n",
    "import random\n",
    "main_team = []\n",
    "team1 = []\n",
    "team2 = []\n",
    "#input team names by user choice\n",
    "num1 = int(input(\"Please enter the count of total members : \"))\n",
    "print(\"Please enter team members name one by one all should be unique: \")\n",
    "i = 0\n",
    "while i<num1:\n",
    "    name = input(f\"Name {i+1} : \")\n",
    "    if name.lower().strip() in main_team:\n",
    "        print(\"Please enter a unique name, this name already exists in main team\")\n",
    "        i-=1\n",
    "    elif name.lower().strip() == \"\" or name == \" \":\n",
    "        print(\"Please enter a valid name\")\n",
    "        i-=1\n",
    "    else:\n",
    "        main_team.append(name.lower().strip())\n",
    "    i+=1\n",
    "print(\"\\nName entered in main_team : \",main_team)\n",
    "# selecting random team1\n",
    "team1 = random.sample(main_team,int(len(main_team)/2))\n",
    "# selecting team2 not in team1\n",
    "for i in main_team:\n",
    "    if i not in team1:\n",
    "        team2.append(i)\n",
    "print(\"Team1 : \",team1)\n",
    "print(\"Team2 : \",team2)"
   ]
  }
 ],
 "metadata": {
  "kernelspec": {
   "display_name": "Python 3 (ipykernel)",
   "language": "python",
   "name": "python3"
  },
  "language_info": {
   "codemirror_mode": {
    "name": "ipython",
    "version": 3
   },
   "file_extension": ".py",
   "mimetype": "text/x-python",
   "name": "python",
   "nbconvert_exporter": "python",
   "pygments_lexer": "ipython3",
   "version": "3.10.9"
  }
 },
 "nbformat": 4,
 "nbformat_minor": 5
}
