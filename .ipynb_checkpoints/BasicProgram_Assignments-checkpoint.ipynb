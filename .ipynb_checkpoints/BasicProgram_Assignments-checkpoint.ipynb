{
 "cells": [
  {
   "cell_type": "markdown",
   "id": "1bde5109",
   "metadata": {},
   "source": [
    "# Basic Programs"
   ]
  },
  {
   "cell_type": "code",
   "execution_count": 1,
   "id": "0c7a29c4",
   "metadata": {},
   "outputs": [
    {
     "name": "stdout",
     "output_type": "stream",
     "text": [
      "Hello World!\n"
     ]
    }
   ],
   "source": [
    "#Print Hello World!\n",
    "print(\"Hello World!\")"
   ]
  },
  {
   "cell_type": "code",
   "execution_count": 4,
   "id": "e92abfb0",
   "metadata": {},
   "outputs": [
    {
     "name": "stdout",
     "output_type": "stream",
     "text": [
      "int : 9\n",
      "float : 99.23\n",
      "boolean : True\n",
      "string : Hello\n"
     ]
    }
   ],
   "source": [
    "#Declare the following variables:\n",
    "#Int, Float, Boolean, String & print its value.\n",
    "i = int(9)\n",
    "f = float(99.23)\n",
    "b = bool(True)\n",
    "s = str(\"Hello\")\n",
    "print(\"int :\",i)\n",
    "print(\"float :\",f)\n",
    "print(\"boolean :\",b)\n",
    "print(\"string :\",s)"
   ]
  },
  {
   "cell_type": "code",
   "execution_count": 8,
   "id": "647bfe75",
   "metadata": {},
   "outputs": [
    {
     "name": "stdout",
     "output_type": "stream",
     "text": [
      "Enter the height of a triangle :4\n",
      "Enter the base of a triangle :3\n",
      "Area of the triangle : 6\n"
     ]
    }
   ],
   "source": [
    "#Program to calculate the Area Of Triangle:\n",
    "height = int(input(\"Enter the height of a triangle :\"))\n",
    "base = int(input(\"Enter the base of a triangle :\"))\n",
    "area = (base * height)/2\n",
    "print(f\"Area of the triangle : {int(area)}\")"
   ]
  },
  {
   "cell_type": "code",
   "execution_count": 10,
   "id": "1071a76f",
   "metadata": {},
   "outputs": [
    {
     "name": "stdout",
     "output_type": "stream",
     "text": [
      "Enter value for 1st variable :3\n",
      "Enter value for 2nd variable :4\n",
      "Before swap --> var1 = 3 and var2 = 4\n",
      "After swap --> var1 = 4 and var2 = 3\n"
     ]
    }
   ],
   "source": [
    "#Program to swap two variables:\n",
    "var1 = input(\"Enter value for 1st variable :\")\n",
    "var2 = input(\"Enter value for 2nd variable :\")\n",
    "print(f\"Before swap --> var1 = {var1} and var2 = {var2}\")\n",
    "temp = var1\n",
    "var1 = var2\n",
    "var2 = temp\n",
    "print(f\"After swap --> var1 = {var1} and var2 = {var2}\")"
   ]
  },
  {
   "cell_type": "code",
   "execution_count": 13,
   "id": "241c6c50",
   "metadata": {},
   "outputs": [
    {
     "name": "stdout",
     "output_type": "stream",
     "text": [
      "Please enter the number :0\n",
      "0 is zero\n"
     ]
    }
   ],
   "source": [
    "#Program is to check if a number is positive, negative or 0 (Using If…elif…else)\n",
    "num = int(input(\"Please enter the number :\"))\n",
    "if num > 0:\n",
    "    print(f\"{num} is a positive number\")\n",
    "elif num < 0:\n",
    "    print(f\"{num} is a negative number\")\n",
    "else:\n",
    "    print(f\"{num} is zero\")"
   ]
  },
  {
   "cell_type": "code",
   "execution_count": 15,
   "id": "e1b0e2f2",
   "metadata": {},
   "outputs": [
    {
     "name": "stdout",
     "output_type": "stream",
     "text": [
      "Enter the number to check if its Even or Odd :10\n",
      "10 is an even number\n"
     ]
    }
   ],
   "source": [
    "#Program is to check if a number is Even or Odd:\n",
    "num = int(input(\"Enter the number to check if its Even or Odd :\"))\n",
    "if num % 2 == 0:\n",
    "    print(f\"{num} is an even number\")\n",
    "else:\n",
    "    print(f\"{num} is a odd number\")"
   ]
  },
  {
   "cell_type": "code",
   "execution_count": 22,
   "id": "2be81019",
   "metadata": {},
   "outputs": [
    {
     "name": "stdout",
     "output_type": "stream",
     "text": [
      "Enter the range to print odd number :100\n",
      "[1, 3, 5, 7, 9, 11, 13, 15, 17, 19, 21, 23, 25, 27, 29, 31, 33, 35, 37, 39, 41, 43, 45, 47, 49, 51, 53, 55, 57, 59, 61, 63, 65, 67, 69, 71, 73, 75, 77, 79, 81, 83, 85, 87, 89, 91, 93, 95, 97, 99]\n",
      "[1, 3, 5, 7, 9, 11, 13, 15, 17, 19, 21, 23, 25, 27, 29, 31, 33, 35, 37, 39, 41, 43, 45, 47, 49, 51, 53, 55, 57, 59, 61, 63, 65, 67, 69, 71, 73, 75, 77, 79, 81, 83, 85, 87, 89, 91, 93, 95, 97, 99]\n"
     ]
    }
   ],
   "source": [
    "#Program to print Odd number within a given range:\n",
    "num = int(input(\"Enter the range to print odd number :\"))\n",
    "output1 = []\n",
    "output2 = []\n",
    "for i in range(num):\n",
    "    if i % 2 != 0:\n",
    "        output1.append(i)\n",
    "print(output1)\n",
    "output2 = [i for i in range(num) if i % 2 != 0]\n",
    "print(output2)"
   ]
  },
  {
   "cell_type": "code",
   "execution_count": 25,
   "id": "c6d32f3b",
   "metadata": {},
   "outputs": [
    {
     "name": "stdout",
     "output_type": "stream",
     "text": [
      "Enter the number to find the factorial :4\n",
      "24\n"
     ]
    }
   ],
   "source": [
    "#Python program to find the factorial of a number:\n",
    "num = int(input(\"Enter the number to find the factorial :\"))\n",
    "output = 1\n",
    "i = 1\n",
    "while i <= num:\n",
    "    output = output*i\n",
    "    i=i+1\n",
    "print(output)"
   ]
  },
  {
   "cell_type": "code",
   "execution_count": 35,
   "id": "24e05a7f",
   "metadata": {},
   "outputs": [
    {
     "name": "stdout",
     "output_type": "stream",
     "text": [
      "Enter the number to be reversed : 534\n",
      "Reversed Number is 435\n",
      "digit -----> 4\n",
      "reversed_num -----> 4\n",
      "num -----> 534\n",
      "num -----> 53\n",
      "digit -----> 3\n",
      "reversed_num -----> 43\n",
      "num -----> 53\n",
      "num -----> 5\n",
      "digit -----> 5\n",
      "reversed_num -----> 435\n",
      "num -----> 5\n",
      "num -----> 0\n",
      "Reversed Number is 435\n"
     ]
    }
   ],
   "source": [
    "#Program to reverse a given number:\n",
    "num = int(input(\"Enter the number to be reversed : \"))\n",
    "print(\"Reversed Number is\",str(num)[::-1])\n",
    "#using while loop\n",
    "reversed_num = 0\n",
    "while num != 0:\n",
    "    digit = num % 10\n",
    "    print(\"digit ----->\",digit)\n",
    "    reversed_num = reversed_num * 10 + digit\n",
    "    print(\"reversed_num ----->\",reversed_num)\n",
    "    print(\"num ----->\",num)\n",
    "    num //= 10\n",
    "    print(\"num ----->\",num)\n",
    "print(f\"Reversed Number is {reversed_num}\")"
   ]
  },
  {
   "cell_type": "code",
   "execution_count": 37,
   "id": "3afd5eec",
   "metadata": {},
   "outputs": [
    {
     "name": "stdout",
     "output_type": "stream",
     "text": [
      "Enter a natural number : 5\n",
      "15\n"
     ]
    }
   ],
   "source": [
    "#Program to find out the sum of Natural numbers:\n",
    "num = int(input(\"Enter a natural number : \"))\n",
    "output = 0\n",
    "while num > 0:\n",
    "    output+= num\n",
    "    num += -1\n",
    "print(output)"
   ]
  },
  {
   "cell_type": "markdown",
   "id": "218b2be5",
   "metadata": {},
   "source": [
    "# Strings"
   ]
  },
  {
   "cell_type": "code",
   "execution_count": 68,
   "id": "aba1f744",
   "metadata": {},
   "outputs": [
    {
     "name": "stdout",
     "output_type": "stream",
     "text": [
      "Enter the string to reversethevee\n",
      "Reverse of given string thevee is eeveht\n",
      "Reverse of given string thevee is eeveht\n",
      "Reverse of given string thevee is eeveht\n",
      "Reverse of given string thevee is eeveht\n"
     ]
    }
   ],
   "source": [
    "#Program to reverse a string without using recursion:\n",
    "string = input(\"Enter the string to reverse\")\n",
    "print(f\"Reverse of given string {string} is {string[::-1]}\")\n",
    "output = []\n",
    "i = 0\n",
    "while i < len(string):\n",
    "    output.append(string[len(string)-i-1])\n",
    "    i+=1\n",
    "print(f'Reverse of given string {string} is {(\"\").join(output)}')\n",
    "output2 = []\n",
    "for i in range(0,len(string)):\n",
    "    output2.append(string[len(string)-i-1])\n",
    "print(f'Reverse of given string {string} is {(\"\").join(output2)}')\n",
    "output3 = []\n",
    "output3 = [string[len(string)-i-1] for i in range(0,len(string))]\n",
    "print(f'Reverse of given string {string} is {(\"\").join(output3)}')"
   ]
  },
  {
   "cell_type": "code",
   "execution_count": 73,
   "id": "758f77e2",
   "metadata": {},
   "outputs": [
    {
     "name": "stdout",
     "output_type": "stream",
     "text": [
      "Enter the string to check Palindromeamama\n",
      "Given string amama is a Palindrome\n",
      "amama is a Palindrome\n"
     ]
    }
   ],
   "source": [
    "#Program to check if string is palindrome or not:\n",
    "string = input(\"Enter the string to check Palindrome\")\n",
    "if string[::1].strip().lower() == string[::-1].strip().lower():\n",
    "    print(f\"Given string {string.strip()} is a Palindrome\")\n",
    "else:\n",
    "    print(f\"Given string {string.strip()} is not a Palindrome\")\n",
    "#using Ternary Operator\n",
    "output = f\"{string.strip()} is a Palindrome\" if string[::1].strip().lower()==string[::-1].strip().lower() else f\"{string.strip()} is not a Palindrome\"\n",
    "print(output)"
   ]
  },
  {
   "cell_type": "code",
   "execution_count": 80,
   "id": "f676c5a7",
   "metadata": {},
   "outputs": [
    {
     "name": "stdout",
     "output_type": "stream",
     "text": [
      "Python Progr$m to Repl$ce $ll Occurrences of ‘$’ with $ in $ String\n"
     ]
    }
   ],
   "source": [
    "#Python Program to Replace all Occurrences of ‘a’ with $ in a String:\n",
    "input1 = \"Python Program to Replace all Occurrences of ‘a’ with $ in a String\"\n",
    "output = input1.replace(\"a\",\"$\")\n",
    "print(output)"
   ]
  },
  {
   "cell_type": "code",
   "execution_count": 88,
   "id": "6321ba43",
   "metadata": {},
   "outputs": [
    {
     "name": "stdout",
     "output_type": "stream",
     "text": [
      "15\n"
     ]
    }
   ],
   "source": [
    "#Python Program to Count the Number of Vowels in a String\n",
    "input1 = \"Python Program to Count the Number of Vowels in a String\"\n",
    "vowels = [\"a\",\"e\",\"i\",\"o\",\"u\"]\n",
    "count = 0\n",
    "for i in input1:\n",
    "    if i in vowels:\n",
    "        count = count+1\n",
    "    else:\n",
    "        pass\n",
    "print(count)"
   ]
  },
  {
   "cell_type": "code",
   "execution_count": 92,
   "id": "96561f1b",
   "metadata": {},
   "outputs": [
    {
     "name": "stdout",
     "output_type": "stream",
     "text": [
      "Enter the string 1 : thevee\n",
      "Enter the string 2 : theveetha\n",
      "theveetha - String2 is the larger String\n",
      "theveetha - String2 is the larger String\n"
     ]
    }
   ],
   "source": [
    "#Input Two Strings and Display the Larger String without Using Built-in Functions:\n",
    "str1 = input(\"Enter the string 1 : \")\n",
    "str2 = input(\"Enter the string 2 : \")\n",
    "print(f\"{str1} - String1 is the larger String\" if len(str1) > len(str2) else f\"{str2} - String2 is the larger String\")\n",
    "count1 = 0\n",
    "count2 = 0\n",
    "for i in str1:\n",
    "    count1 = count1 + 1\n",
    "for j in str2:\n",
    "    count2 = count2 + 1\n",
    "print(f\"{str1} - String1 is the larger String\" if count1 > count2 else f\"{str2} - String2 is the larger String\")"
   ]
  },
  {
   "cell_type": "code",
   "execution_count": 96,
   "id": "0519d1b6",
   "metadata": {},
   "outputs": [
    {
     "name": "stdout",
     "output_type": "stream",
     "text": [
      "Enter the string : 56tyye\n",
      "Count of Digits : 2\n",
      "Count of Letter : 4\n"
     ]
    }
   ],
   "source": [
    "#Count the number of digits & letter in a string:\n",
    "string = input(\"Enter the string : \")\n",
    "count1 = 0\n",
    "count2 = 0\n",
    "for i in string:\n",
    "    if i.isdigit():\n",
    "        count1 = count1+1\n",
    "    elif i.isalpha():\n",
    "        count2 = count2+1\n",
    "    else:\n",
    "        pass\n",
    "print(\"Count of Digits :\",count1)\n",
    "print(\"Count of Letter :\",count2)"
   ]
  },
  {
   "cell_type": "code",
   "execution_count": 97,
   "id": "a89ed5f5",
   "metadata": {},
   "outputs": [
    {
     "name": "stdout",
     "output_type": "stream",
     "text": [
      "Enter the string : 5tAYH\n",
      "Count of Lowercase Characters : 1\n"
     ]
    }
   ],
   "source": [
    "#Count Number of Lowercase Characters in a String:\n",
    "string = input(\"Enter the string : \")\n",
    "count1 = 0\n",
    "for i in string:\n",
    "    if i.islower():\n",
    "        count1 = count1+1\n",
    "    else:\n",
    "        pass\n",
    "print(\"Count of Lowercase Characters :\",count1)"
   ]
  },
  {
   "cell_type": "code",
   "execution_count": 110,
   "id": "147acb5c",
   "metadata": {},
   "outputs": [
    {
     "name": "stdout",
     "output_type": "stream",
     "text": [
      "Substring is present in the given string\n"
     ]
    }
   ],
   "source": [
    "#Program to check if a Substring is Present in a Given String:\n",
    "string = \"Program to check if a Substring is Present in a Given String\".split(\" \")\n",
    "subString = \"Substring\"\n",
    "count = 0\n",
    "for each in string:\n",
    "    if each.lower() == subString.lower():\n",
    "        count = count + 1\n",
    "    else:\n",
    "        pass\n",
    "print(f\"{subString} is present in the given string\" if count > 0 else f\"{subString} is not present in the given string\")"
   ]
  },
  {
   "cell_type": "markdown",
   "id": "f7eddfe2",
   "metadata": {},
   "source": [
    "# List & Tuple"
   ]
  },
  {
   "cell_type": "code",
   "execution_count": 117,
   "id": "87d5148f",
   "metadata": {},
   "outputs": [
    {
     "name": "stdout",
     "output_type": "stream",
     "text": [
      "80\n",
      "80\n",
      "80\n"
     ]
    }
   ],
   "source": [
    "#Program to Find the Largest Number in a List:\n",
    "myList = [10,23,0,-5,80]\n",
    "print(max(myList))\n",
    "myList.sort()\n",
    "print(myList[-1])\n",
    "myList = [10,23,0,-5,80]\n",
    "largest = 0\n",
    "for i in range(len(myList)):\n",
    "    if largest < myList[i]:\n",
    "        largest = myList[i]\n",
    "    else:\n",
    "        largest = largest\n",
    "print(largest)"
   ]
  },
  {
   "cell_type": "code",
   "execution_count": 123,
   "id": "9166f644",
   "metadata": {},
   "outputs": [
    {
     "name": "stdout",
     "output_type": "stream",
     "text": [
      "Enter the length : 5\n",
      "Enter the elements : 5\n",
      "Enter the elements : 6\n",
      "Enter the elements : 2\n",
      "Enter the elements : 4\n",
      "Enter the elements : 5\n",
      "Even : [6, 2, 4]\n",
      "Odd : [5, 5]\n"
     ]
    }
   ],
   "source": [
    "#Program to Put Even and Odd elements in a List into Two Different Lists:\n",
    "inp = int(input(\"Enter the length : \"))\n",
    "list1 = []\n",
    "list2 = []\n",
    "for i in range(1,inp+1):\n",
    "    inp1 = int(input(\"Enter the elements : \"))\n",
    "    if inp1 % 2 == 0:\n",
    "        list1.append(inp1)\n",
    "    else:\n",
    "        list2.append(inp1)\n",
    "print(\"Even :\",list1)\n",
    "print(\"Odd :\",list2)"
   ]
  },
  {
   "cell_type": "code",
   "execution_count": 168,
   "id": "fc0ab541",
   "metadata": {},
   "outputs": [
    {
     "name": "stdout",
     "output_type": "stream",
     "text": [
      "['Program', 'to', 'Read', 'a', 'List', 'of', 'Words', 'and', 'Return', 'the', 'Length', 'of', 'the', 'Longest', 'One']\n",
      "Longest\n"
     ]
    }
   ],
   "source": [
    "#Program to Read a List of Words and Return the Length of the Longest One:\n",
    "inp = \"Program to Read a List of Words and Return the Length of the Longest One\".split(\" \")\n",
    "largest = \"\"\n",
    "print(inp)\n",
    "for i in range(1,len(inp)):\n",
    "    if len(inp[i-1]) < len(inp[i]):\n",
    "        largest = inp[i]\n",
    "    else:\n",
    "        largest = largest\n",
    "print(largest)"
   ]
  },
  {
   "cell_type": "code",
   "execution_count": 176,
   "id": "83247cf9",
   "metadata": {},
   "outputs": [
    {
     "name": "stdout",
     "output_type": "stream",
     "text": [
      "Enter the length of List : 5\n",
      "Enter the number : 3\n",
      "Enter the number : 5\n",
      "Enter the number : 6\n",
      "Enter the number : 7\n",
      "Enter the number : 1\n",
      "[(3, 9), (5, 25), (6, 36), (7, 49), (1, 1)]\n"
     ]
    }
   ],
   "source": [
    "#Create a List of Tuples with the First Element as the Number and Second Element as the Square of the Number:\n",
    "#output = [(1,1),(2,4),(3,9)]\n",
    "list_len = int(input(\"Enter the length of List : \"))\n",
    "output = []\n",
    "for i in range(0,list_len):\n",
    "    num = int(input(\"Enter the number : \"))\n",
    "    output.append((num,num*num))\n",
    "print(output)"
   ]
  },
  {
   "cell_type": "code",
   "execution_count": 14,
   "id": "a41b858a",
   "metadata": {
    "scrolled": true
   },
   "outputs": [
    {
     "name": "stdout",
     "output_type": "stream",
     "text": [
      "Before removing Duplicate : [10, 23, 0, -5, 80, False, 'Python', 23, -5]\n",
      "After removing Duplicate : [0, 'Python', 10, 80, 23, -5]\n",
      "After removing Duplicate via loop : [10, 23, 0, -5, 80, 'Python']\n"
     ]
    }
   ],
   "source": [
    "#Program to Remove the Duplicate Items from a List:\n",
    "myList = [10,23,0,-5,80,False,\"Python\",23,-5]\n",
    "print(\"Before removing Duplicate :\",myList)\n",
    "print(\"After removing Duplicate :\",list(set(myList)))\n",
    "myList = [10,23,0,-5,80,False,\"Python\",23,-5]\n",
    "newList = []\n",
    "\"\"\"\n",
    "for i in range(len(myList)):\n",
    "    if myList[i] in newList:\n",
    "        continue\n",
    "    else:\n",
    "        newList.append(myList[i])\n",
    "\"\"\"\n",
    "i = 0\n",
    "while i < len(myList):\n",
    "    if myList[i] not in newList:\n",
    "        newList.append(myList[i])\n",
    "    else:\n",
    "        pass\n",
    "    i+=1\n",
    "\n",
    "print(\"After removing Duplicate via loop :\",newList)"
   ]
  },
  {
   "cell_type": "markdown",
   "id": "d7155634",
   "metadata": {},
   "source": [
    "# Dictionary"
   ]
  },
  {
   "cell_type": "code",
   "execution_count": 16,
   "id": "a672b18d",
   "metadata": {},
   "outputs": [
    {
     "name": "stdout",
     "output_type": "stream",
     "text": [
      "Please enter the key to check : 6\n",
      "Given key 6 doesn't exist in the Dictionary\n"
     ]
    }
   ],
   "source": [
    "#Program to Check if a Given Key Exists in a Dictionary or Not:\n",
    "dt = {\"a\":\"delhi\",\n",
    "      \"b\":2j,\n",
    "      \"c\":14,\n",
    "      \"d\":-6.4,\n",
    "      \"e\":False,\n",
    "      \"f\":{10,20,30},\n",
    "      \"g\":{\"A\":100,\"B\":200}}\n",
    "k = input(\"Please enter the key to check : \")\n",
    "print(f\"Given key {k} exists in the Dictionary\" if k in dt.keys() else f\"Given key {k} doesn't exist in the Dictionary\")"
   ]
  },
  {
   "cell_type": "code",
   "execution_count": 24,
   "id": "a75c0cd5",
   "metadata": {},
   "outputs": [
    {
     "name": "stdout",
     "output_type": "stream",
     "text": [
      "Enter the count of numbers : 4\n",
      "Please enter the key : 1\n",
      "Please enter the number : 100\n",
      "Please enter the key : 2\n",
      "Please enter the number : 200\n",
      "Please enter the key : 3\n",
      "Please enter the number : 300\n",
      "Please enter the key : 4\n",
      "Please enter the number : 400\n",
      "{1: 100, 2: 200, 3: 300, 4: 400}\n",
      "1000\n"
     ]
    }
   ],
   "source": [
    "#Program to Sum All the Items in a Dictionary:\n",
    "\"\"\"\n",
    "dt = {1 : 100,\n",
    "     2 : 200,\n",
    "     3 : 300,\n",
    "     4 : 400}\n",
    "total = 0\n",
    "for i in dt.values():\n",
    "    total = total+i\n",
    "print(total)\n",
    "\"\"\"\n",
    "num = {}\n",
    "count = int(input(\"Enter the count of numbers : \"))\n",
    "total = 0\n",
    "for i in range(count):\n",
    "    key = int(input(\"Please enter the key : \"))\n",
    "    value = int(input(\"Please enter the number : \"))\n",
    "    num[key] = value\n",
    "for i in num.values():\n",
    "    total = total + i\n",
    "print(num)\n",
    "print(total)"
   ]
  },
  {
   "cell_type": "code",
   "execution_count": 26,
   "id": "f4769079",
   "metadata": {},
   "outputs": [
    {
     "name": "stdout",
     "output_type": "stream",
     "text": [
      "Before : {1: 'delhi', 2: 2j, 3: False, 4: {10, 20, 30}, 5: {'A': 100, 'B': 200}}\n",
      "After : {1: 'delhi', 2: 2j, 4: {10, 20, 30}, 5: {'A': 100, 'B': 200}}\n"
     ]
    }
   ],
   "source": [
    "#Program to Remove the Given Key from a Dictionary:\n",
    "dt = {1:\"delhi\",\n",
    "      2:2j,\n",
    "      3:False,\n",
    "      4:{10,20,30},\n",
    "      5:{\"A\":100,\"B\":200}}\n",
    "print(\"Before :\",dt)\n",
    "dt.pop(3)\n",
    "print(\"After :\",dt)"
   ]
  },
  {
   "cell_type": "code",
   "execution_count": 27,
   "id": "37687590",
   "metadata": {},
   "outputs": [
    {
     "name": "stdout",
     "output_type": "stream",
     "text": [
      "Enter the count of numbers : 4\n",
      "Please enter the key : 1\n",
      "Please enter the number : 100\n",
      "Please enter the key : 2\n",
      "Please enter the number : 200\n",
      "Please enter the key : 3\n",
      "Please enter the number : 300\n",
      "Please enter the key : 4\n",
      "Please enter the number : 400\n",
      "{1: 100, 2: 200, 3: 300, 4: 400}\n"
     ]
    }
   ],
   "source": [
    "#Write a Python program to iterate over dictionaries using for loops:\n",
    "num = {}\n",
    "count = int(input(\"Enter the count of numbers : \"))\n",
    "for i in range(count):\n",
    "    key = int(input(\"Please enter the key : \"))\n",
    "    value = int(input(\"Please enter the number : \"))\n",
    "    num[key] = value\n",
    "print(num)"
   ]
  },
  {
   "cell_type": "code",
   "execution_count": 53,
   "id": "efef6be4",
   "metadata": {},
   "outputs": [
    {
     "name": "stdout",
     "output_type": "stream",
     "text": [
      "2j\n",
      "{1: 2j, 2: 'delhi', 3: {'A': 100, 'B': 200}, 4: {10, 20, 30}, 5: False}\n"
     ]
    }
   ],
   "source": [
    "#Write a Python program to sort a dictionary by key:\n",
    "dt = {2:\"delhi\",\n",
    "      1:2j,\n",
    "      5:False,\n",
    "      4:{10,20,30},\n",
    "      3:{\"A\":100,\"B\":200}}\n",
    "new_dt = {}\n",
    "new_Keys = list(dt.keys())\n",
    "new_Keys.sort()\n",
    "\n",
    "for i in new_Keys:\n",
    "    new_dt[i] = dt[i]\n",
    "    \n",
    "print(new_dt)"
   ]
  }
 ],
 "metadata": {
  "kernelspec": {
   "display_name": "Python 3 (ipykernel)",
   "language": "python",
   "name": "python3"
  },
  "language_info": {
   "codemirror_mode": {
    "name": "ipython",
    "version": 3
   },
   "file_extension": ".py",
   "mimetype": "text/x-python",
   "name": "python",
   "nbconvert_exporter": "python",
   "pygments_lexer": "ipython3",
   "version": "3.10.9"
  }
 },
 "nbformat": 4,
 "nbformat_minor": 5
}
