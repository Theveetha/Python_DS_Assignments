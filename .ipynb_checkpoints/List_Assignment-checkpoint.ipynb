{
 "cells": [
  {
   "cell_type": "markdown",
   "metadata": {},
   "source": [
    "# Pending\n",
    "#### Matrix Questions"
   ]
  },
  {
   "cell_type": "code",
   "execution_count": 25,
   "metadata": {
    "id": "gtlAv2oq9yzd"
   },
   "outputs": [
    {
     "name": "stdout",
     "output_type": "stream",
     "text": [
      "100\n",
      "[10, 20, 30, 40]\n"
     ]
    }
   ],
   "source": [
    "#Write a Python program to find the sum of all elements in a list using loop.\n",
    "#Input:- [10,20,30,40]\n",
    "list_1 = [10,20,30,40]\n",
    "total = 0\n",
    "for i in range(0,len(list_1)):\n",
    "    total = total + list_1[i]\n",
    "print(total)\n",
    "#Here list comprehension isnt possible 'coz we are trying to create a single value and not a list\n",
    "#Output:- 100"
   ]
  },
  {
   "cell_type": "code",
   "execution_count": 13,
   "metadata": {
    "id": "gTbA8psa93Y_"
   },
   "outputs": [
    {
     "name": "stdout",
     "output_type": "stream",
     "text": [
      "240000\n"
     ]
    }
   ],
   "source": [
    "#Write a Python program to find the multiplication of all elements in a list using loop.\n",
    "#Input:- [10,20,30,40]\n",
    "list_1 = [10,20,30,40]\n",
    "total = 1\n",
    "for i in range(0,len(list_1)):\n",
    "    total = total * list_1[i]\n",
    "print(total)\n",
    "#Output:- 240000"
   ]
  },
  {
   "cell_type": "code",
   "execution_count": 1,
   "metadata": {
    "id": "XBCrEtLN94Lj"
   },
   "outputs": [
    {
     "name": "stdout",
     "output_type": "stream",
     "text": [
      "Using For Loop : 2321\n",
      "Using default Function : 2321\n",
      "Using Sort function : 2321\n"
     ]
    }
   ],
   "source": [
    "#Write a Python program to find the largest number from a list using loop.\n",
    "#Input:- [10,100,2321, 1,200,2]\n",
    "list_1 = [10,100,2321, 1,200,2]\n",
    "total = 1\n",
    "for i in range(0,len(list_1)):\n",
    "    if (total < list_1[i]):\n",
    "        total = list_1[i]\n",
    "    else:\n",
    "        total = total\n",
    "print(\"Using For Loop :\",total)\n",
    "print(\"Using default Function :\",max(list_1))#we have default functions also\n",
    "list_1.sort()\n",
    "print(\"Using Sort function :\",list_1[-1])\n",
    "#Output:- 2321"
   ]
  },
  {
   "cell_type": "code",
   "execution_count": 4,
   "metadata": {
    "id": "l3paUtbH94Vw"
   },
   "outputs": [
    {
     "name": "stdout",
     "output_type": "stream",
     "text": [
      "Using For Loop : 1\n",
      "Using default Function : 1\n",
      "Using Sort function : 1\n"
     ]
    }
   ],
   "source": [
    "#Write a Python program to find the smallest number from a list using loop.\n",
    "#Input:- [10,100,2321, 1,200,2]\n",
    "list_1 = [10,100,2321, 1,200,2]\n",
    "total = 1\n",
    "for i in range(0,len(list_1)):\n",
    "    if (total > list_1[i]):\n",
    "        total = list_1[i]\n",
    "    else:\n",
    "        total = total\n",
    "print(\"Using For Loop :\",total)\n",
    "print(\"Using default Function :\",min(list_1))#we have default functions also\n",
    "list_1.sort()\n",
    "print(\"Using Sort function :\",list_1[0])\n",
    "#Output:- 1"
   ]
  },
  {
   "cell_type": "code",
   "execution_count": 4,
   "metadata": {
    "id": "JTVgy5VD94cE"
   },
   "outputs": [
    {
     "name": "stdout",
     "output_type": "stream",
     "text": [
      "3\n"
     ]
    }
   ],
   "source": [
    "#Write a Python program to count the number of strings having length more than 2 and are palindrome in a list using loop.\n",
    "#Input:- ['ab', 'abc', 'aba', 'xyz', '1991']\n",
    "list_1 = ['ab', 'abc', 'aba', 'xyz', '1991']\n",
    "total = 0\n",
    "for i in range(0,len(list_1)):\n",
    "    if (len(list_1[i]) >=2 and list_1[i][ : :1] == list_1[i][ : :-1]):\n",
    "        total = total+1\n",
    "print(total)\n",
    "#Output:- 2"
   ]
  },
  {
   "cell_type": "code",
   "execution_count": 13,
   "metadata": {
    "id": "xs-ZGJbJ94gr"
   },
   "outputs": [
    {
     "name": "stdout",
     "output_type": "stream",
     "text": [
      "[1, 2, 9, 10, 65, 80, 100, 298, 483, 9213, 49876]\n"
     ]
    }
   ],
   "source": [
    "#Write a Python program to sort a list in ascending order using loop.\n",
    "#Input:- [100,10,1,298,65,483,49876,2,80,9,9213]\n",
    "#list_1 = [100,10,1,298,65,483,49876,2,80,9,9213]\n",
    "#list_1.sort()\n",
    "#print(list_1)\n",
    "#Using Loop\n",
    "list_1 = [100,10,1,298,65,483,49876,2,80,9,9213]\n",
    "for i in range(len(list_1)):\n",
    "    for j in range(len(list_1)-i-1):\n",
    "        if list_1[j] > list_1[j+1]:\n",
    "            list_1[j],list_1[j+1] = list_1[j+1],list_1[j]\n",
    "print(list_1)\n",
    "#Output:- [1,2,9,10,65,80,100,298,483,9213,49876]"
   ]
  },
  {
   "cell_type": "code",
   "execution_count": 17,
   "metadata": {
    "id": "VhKQJizZ94kg"
   },
   "outputs": [
    {
     "name": "stdout",
     "output_type": "stream",
     "text": [
      "[(9, 1), (2, 3), (5, 4), (5, 5), (7, 6), (5, 9)]\n"
     ]
    }
   ],
   "source": [
    "#Write a Python program to get a sorted list in increasing order of last element in each tuple in a given list using loop.\n",
    "#Input:- [(5,4),(9,1),(2,3),(5,9),(7,6),(5,5)]\n",
    "#output:- [(9,1),(2,3),(5,4),(5,5),(7,6),(5,9)]\n",
    "myList = [(5,4),(9,1),(2,3),(5,9),(7,6),(5,5)]\n",
    "for i in range(len(myList)):\n",
    "    for j in range (len(myList)-i-1):\n",
    "        if myList[j][1] > myList[j+1][1]:\n",
    "            myList[j],myList[j+1] = myList[j+1],myList[j]\n",
    "print(myList)"
   ]
  },
  {
   "cell_type": "code",
   "execution_count": 34,
   "metadata": {
    "id": "YJrCLYp694n_"
   },
   "outputs": [
    {
     "name": "stdout",
     "output_type": "stream",
     "text": [
      "[10, 1, 11, 29, 876, 768, 92]\n",
      "[768, 1, 10, 11, 876, 92, 29]\n"
     ]
    }
   ],
   "source": [
    "#Write a Python program to remove duplicate element from a list using loop.\n",
    "#Input:- [10,1,11,1,29,876,768,10,11,1,92,29,876]\n",
    "#Output:- [10,1,11,29,876,768,92]\n",
    "myList = [10,1,11,1,29,876,768,10,11,1,92,29,876]\n",
    "output = []\n",
    "for i in myList:\n",
    "    if i in output:\n",
    "        continue\n",
    "    else:\n",
    "        output.append(i)\n",
    "print(output)\n",
    "#Using Set conversion\n",
    "print(list(set(myList)))"
   ]
  },
  {
   "cell_type": "code",
   "execution_count": 33,
   "metadata": {
    "id": "koYe4YCu94rh"
   },
   "outputs": [
    {
     "name": "stdout",
     "output_type": "stream",
     "text": [
      "List is not empty\n"
     ]
    }
   ],
   "source": [
    "#Write a Python program to check a list is empty or not?\n",
    "#Input:- []\n",
    "#Output:- List is empty\n",
    "#Input:- [10,20,30]\n",
    "#Output:- List is not empty\n",
    "myList = [10,20,30]\n",
    "if len(myList) == 0:#if not(myList)\n",
    "    print(\"List is empty\")\n",
    "else:\n",
    "    print(\"List is not empty\")"
   ]
  },
  {
   "cell_type": "code",
   "execution_count": 39,
   "metadata": {
    "id": "mES1WANa94u5"
   },
   "outputs": [
    {
     "name": "stdout",
     "output_type": "stream",
     "text": [
      "using Copy : [10, 10.2, (10+20j), 'Python', [10, 20], (10, 20)]\n",
      "using shallow copy : [10, 10.2, (10+20j), 'Python', [10, 20], (10, 20)]\n",
      "using deep copy : [10, 10.2, (10+20j), 'Python', [10, 20], (10, 20)]\n",
      "*******Using loop********\n",
      "using loop : [10, 10.2, (10+20j), 'Python', [10, 20], (10, 20)]\n"
     ]
    }
   ],
   "source": [
    "import copy\n",
    "#Write a Python program to copy a list using loop.\n",
    "#inp_lst = [10,10.20,10+20j, 'Python', [10,20], (10,20)]\n",
    "#out_lst = [10,10.20,10+20j, 'Python', [10,20], (10,20)]\n",
    "inp_lst = [10,10.20,10+20j, 'Python', [10,20], (10,20)]\n",
    "#using inbuilt function\n",
    "out_lst = inp_lst.copy()\n",
    "print(\"using Copy :\",out_lst)\n",
    "out_lst = []\n",
    "out_lst = copy.copy(inp_lst)\n",
    "print(\"using shallow copy :\",out_lst)\n",
    "out_lst = []\n",
    "out_lst = copy.deepcopy(inp_lst)\n",
    "print(\"using deep copy :\",out_lst)\n",
    "print(\"*******Using loop********\")\n",
    "out_lst = []\n",
    "for each in inp_lst:\n",
    "    out_lst.append(each)\n",
    "print(\"using loop :\",out_lst)"
   ]
  },
  {
   "cell_type": "code",
   "execution_count": 43,
   "metadata": {
    "id": "CpBh31WO94yi"
   },
   "outputs": [
    {
     "name": "stdout",
     "output_type": "stream",
     "text": [
      "['How', 'much', 'wood', 'would', 'a', 'woodchuck', 'chuck', 'if', 'a', 'woodchuck', 'could', 'chuck', 'wood']\n",
      "['much', 'wood', 'would', 'woodchuck', 'chuck', 'could']\n"
     ]
    }
   ],
   "source": [
    "#Write a Python program to find the list of words that are longer than or equal to 4 from a given string.\n",
    "#Input:- 'How much wood would a woodchuck chuck if a woodchuck could chuck wood'\n",
    "#Output:- ['much', 'wood', 'would', 'woodchuck', 'chuck', 'could']\n",
    "#Note:- Duplicate should be avoided.\n",
    "inp_lst = 'How much wood would a woodchuck chuck if a woodchuck could chuck wood'.split(\" \")\n",
    "print(inp_lst)\n",
    "out_lst = []\n",
    "for each in inp_lst:\n",
    "    if each not in out_lst and len(each) >= 4:\n",
    "        out_lst.append(each)\n",
    "    else:\n",
    "        continue\n",
    "print(out_lst)"
   ]
  },
  {
   "cell_type": "code",
   "execution_count": 94,
   "metadata": {
    "id": "YVfj0fgZ9416"
   },
   "outputs": [
    {
     "name": "stdout",
     "output_type": "stream",
     "text": [
      "4\n",
      "True\n"
     ]
    }
   ],
   "source": [
    "#Write a Python program which takes two list as input and returns True if they have at least 3 common elements.\n",
    "#inp_lst1 = [10,20,'Python', 10.20, 10+20j, [10,20,30], (10,20,30)]\n",
    "#inp_lst2 = [(10,20,30),1,20+3j,100.2, 10+20j, [10,20,30],'Python']\n",
    "#Output:- True\n",
    "inp_lst1 = [10,20,'Python', 10.20, 10+20j, [10,20,30], (10,20,30)]\n",
    "inp_lst2 = [(10,20,30),1,20+3j,100.2, 10+20j, [10,20,30],'Python']\n",
    "count = 0\n",
    "Flag = True\n",
    "for i in inp_lst1:\n",
    "    if i in inp_lst2:\n",
    "        count = count+1\n",
    "    if count >= 3:\n",
    "        Flag = True\n",
    "    else:\n",
    "        Flag = False\n",
    "print(count)\n",
    "print(Flag)"
   ]
  },
  {
   "cell_type": "code",
   "execution_count": 153,
   "metadata": {
    "id": "7vwc3pjR945O"
   },
   "outputs": [
    {
     "name": "stdout",
     "output_type": "stream",
     "text": [
      "[[0, 0, 0, 0], [0, 1, 2, 3]]\n"
     ]
    }
   ],
   "source": [
    "#Write a Python program to create a 4X4 2D matrix with below elements using loop and list comprehension both.\n",
    "#Output:- [[0,0,0,0],[0,1,2,3],[0,2,4,6],[0,3,6,9]]\n",
    "\n",
    "start = 0\n",
    "list1 = []\n",
    "\n",
    "list2 = []\n",
    "for inner in range(0,4):\n",
    "    list2.append(0)\n",
    "list1.append(list2)\n",
    "\n",
    "list2 = []\n",
    "for inner in range(0,4):\n",
    "    list2.append(inner)\n",
    "list1.append(list2)\n",
    "\n",
    "print(list1)\n"
   ]
  },
  {
   "cell_type": "code",
   "execution_count": null,
   "metadata": {
    "id": "Pxafor84948b"
   },
   "outputs": [],
   "source": [
    "#Write a Python program to create a 3X4X6 3D matrix wiith below elements using loop\n",
    "#Output:- \n",
    "# [\n",
    "#     [[0,0,0,0,0,0],[0,0,0,0,0,0],[0,0,0,0,0,0],[0,0,0,0,0,0]],\n",
    "#     [[0,0,0,0,0,0],[1,1,1,1,1,1],[2,2,2,2,2,2],[3,3,3,3,3,3]],\n",
    "#     [[0,0,0,0,0,0],[2,2,2,2,2,2],[4,4,4,4,4,4],[6,6,6,6,6,6]]\n",
    "# ]\n",
    "\n",
    "\n"
   ]
  },
  {
   "cell_type": "code",
   "execution_count": 102,
   "metadata": {
    "id": "lYNv8gk794_p"
   },
   "outputs": [
    {
     "name": "stdout",
     "output_type": "stream",
     "text": [
      "[21, 87, 45, 33, 1]\n"
     ]
    }
   ],
   "source": [
    "#Write a Python program which takes a list of numbers as input and prints a new list after removing even numbers from it.\n",
    "#Input:- [10,21,22,98,87,45,33,1,2,100]\n",
    "#Output:- [21,87,45,33,1]\n",
    "inp_lst = [10,21,22,98,87,45,33,1,2,100]\n",
    "out_lst = []\n",
    "len(inp_lst)\n",
    "i = 0\n",
    "while i < len(inp_lst):\n",
    "    if inp_lst[i] % 2 != 0:\n",
    "        out_lst.append(inp_lst[i])\n",
    "    else:\n",
    "        pass\n",
    "    i = i+1\n",
    "print(out_lst)"
   ]
  },
  {
   "cell_type": "code",
   "execution_count": 126,
   "metadata": {
    "id": "3BaCb-rB95B7"
   },
   "outputs": [
    {
     "name": "stdout",
     "output_type": "stream",
     "text": [
      "Enter the length of list :10\n",
      "Enter the input :10\n",
      "Enter the input :21\n",
      "Enter the input :22\n",
      "Enter the input :98\n",
      "Enter the input :87\n",
      "Enter the input :45\n",
      "Enter the input :33\n",
      "Enter the input :1\n",
      "Enter the input :2\n",
      "Enter the input :100\n",
      "['10', '21', '22', '98', '87', '45', '33', '1', '2', '100']\n",
      "['21', '22', '87', '2', '98', '33', '10', '100', '45', '1']\n"
     ]
    }
   ],
   "source": [
    "# Write a Python program which takes a list from the user and prints it after reshuffling the elements of the list.\n",
    "#Input:- [10,21,22,98,87,45,33,1,2,100]\n",
    "#Output:- [1,87,21,10,33,2,100,45,98,22] (It may be any randon list but with same elements)\n",
    "\n",
    "inp_lst = []\n",
    "num = int(input(\"Enter the length of list :\"))\n",
    "for i in range(0,num):\n",
    "    inp_num = input(\"Enter the input :\")\n",
    "    inp_lst.append(inp_num)\n",
    "print(inp_lst)\n",
    "\n",
    "import random\n",
    "print(random.sample(inp_lst,len(inp_lst)))"
   ]
  }
 ],
 "metadata": {
  "colab": {
   "name": "List_Assignment.ipynb",
   "provenance": []
  },
  "kernelspec": {
   "display_name": "Python 3 (ipykernel)",
   "language": "python",
   "name": "python3"
  },
  "language_info": {
   "codemirror_mode": {
    "name": "ipython",
    "version": 3
   },
   "file_extension": ".py",
   "mimetype": "text/x-python",
   "name": "python",
   "nbconvert_exporter": "python",
   "pygments_lexer": "ipython3",
   "version": "3.10.9"
  }
 },
 "nbformat": 4,
 "nbformat_minor": 1
}
