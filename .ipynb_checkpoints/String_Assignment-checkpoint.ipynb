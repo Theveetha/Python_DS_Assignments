{
 "cells": [
  {
   "cell_type": "markdown",
   "metadata": {},
   "source": [
    "# Completed"
   ]
  },
  {
   "cell_type": "code",
   "execution_count": 4,
   "metadata": {
    "id": "OG2JlAXx3VoJ"
   },
   "outputs": [
    {
     "name": "stdout",
     "output_type": "stream",
     "text": [
      "<class 'str'>\n"
     ]
    }
   ],
   "source": [
    "#Declare a string and store it in a variable. \n",
    "string = \"Learnbay provides 'Java', 'Python' classes\"\n",
    "#Check the type and print the id of the same.\n",
    "print(type(string))"
   ]
  },
  {
   "cell_type": "code",
   "execution_count": null,
   "metadata": {
    "id": "wPxm3G8W3dqN"
   },
   "outputs": [],
   "source": [
    "#Which are valid/invalid strings\n",
    "1. 'This is Python class'\n",
    "valid/invalid - Valid\n",
    "\n",
    "2. \"This is Python class\"\n",
    "valid/invalid - Valid\n",
    "\n",
    "3. '''This is Python class'''\n",
    "valid/invalid - Valid\n",
    "\n",
    "4. \"\"\"This is Python class\"\"\"\n",
    "valid/invalid - Valid\n",
    "\n",
    "5. 'This is Python's class'\n",
    "valid/invalid - Invalid\n",
    "\n",
    "6. \"Learnbay provides \"Java\", \"Python\" classes\"\n",
    "valid/invalid - Invalid\n",
    "\n",
    "7. \"Learnbay provides 'Java', 'Python' classes\"\n",
    "valid/invalid - Valid\n",
    "\n",
    "8. \"This is Python's class\"\n",
    "valid/invalid - Valid\n",
    "\n",
    "9. \"\"\"Learnbay provides \"Java\", \"Python\" classes\"\"\"\n",
    "valid/invalid - Valid\n",
    "\n",
    "10. '''Learnbay provides \"Java\", \"Python\" classes'''\n",
    "valid/invalid - Valid\n",
    "\n",
    "11. '''Learnbay provides\n",
    "\"Java\", \"Python\" \n",
    "classes'''\n",
    "valid/invalid - Valid\n",
    "\n",
    "12. 'This is\n",
    "Python \n",
    "class'\n",
    "valid/invalid - Invalid\n"
   ]
  },
  {
   "cell_type": "code",
   "execution_count": 144,
   "metadata": {
    "id": "Drx8fhT23g7a"
   },
   "outputs": [
    {
     "name": "stdout",
     "output_type": "stream",
     "text": [
      "The length of my_str : 66\n",
      "2152340481200\n",
      "2152340240304\n",
      "id of my_str and my_str1 is same ? False\n",
      "Type of my_str is : <class 'str'>\n"
     ]
    }
   ],
   "source": [
    "#Write the code to get the output mentioned below print statement\n",
    "my_str = \"Although that way may not be obvious at first unless you're Dutch.\"\n",
    "my_str1 = \"Although that way may not be obvious at first unless you're Dutch.\"\n",
    "\n",
    "print(\"The length of my_str :\",len(my_str))\n",
    "#output:- The length of my_str is 66\n",
    "\n",
    "print(id(my_str))\n",
    "print(id(my_str1))\n",
    "\n",
    "print(\"id of my_str and my_str1 is same ?\",id(my_str)==id(my_str1))\n",
    "#output:- id of my_str and my_str1 is same? - False\n",
    "\n",
    "print(\"Type of my_str is :\",type(my_str))\n",
    "#output:- Type of my_str is: str"
   ]
  },
  {
   "cell_type": "code",
   "execution_count": 148,
   "metadata": {
    "id": "403e-I3A3lCO"
   },
   "outputs": [
    {
     "name": "stdout",
     "output_type": "stream",
     "text": [
      "The first character in my_str is: A\n",
      "The first character in my_str is: A\n",
      "The first character in my_str is: h\n",
      "The first character in my_str is: h\n",
      "The character at index 10 in my_str is:'   '\n",
      "The last character in my_str is: h\n",
      "The last character in my_str is: h\n",
      "The character in my_str is: 8\n"
     ]
    }
   ],
   "source": [
    "#Indexing\n",
    "my_str = \"Although 8 that way may not be obvious at first unless you're Dutch\"\n",
    "#Write the code to get the output,instructions are mentioned below print statement. use indexing\n",
    "\n",
    "print(\"The first character in my_str is:\",my_str[0])\n",
    "#output:- The first character in my_str is: A\n",
    "#Note:- Use positive indexing\n",
    "\n",
    "print(\"The first character in my_str is:\",my_str[len(\"A\")-1])\n",
    "print(\"The first character in my_str is:\",my_str[len(my_str)-1])\n",
    "print(\"The first character in my_str is:\",my_str[my_str.index(\"h\")])\n",
    "#output:- The first character in my_str is: h\n",
    "#Note:- Use len() function.\n",
    "\n",
    "print(\"The character at index 10 in my_str is:'\",my_str[10],\"'\")\n",
    "#output:- The character at index 10 in my_str is: ' '\n",
    "#Note:- Use positive indexing\n",
    "\n",
    "print(\"The last character in my_str is:\",my_str[-1])\n",
    "#output:- The last character in my_str is: h\n",
    "#Note:- Use negative indexing.\n",
    "\n",
    "print(\"The last character in my_str is:\",my_str[len(my_str)-1])\n",
    "#output:- The last character in my_str is: h\n",
    "#Note:- Use len() function.\n",
    "\n",
    "print(\"The character in my_str is:\",my_str[my_str.index(\"8\")])\n",
    "#output:- The character in my_str is: 8\n",
    "#Note:- Use positive index"
   ]
  },
  {
   "cell_type": "code",
   "execution_count": 65,
   "metadata": {
    "id": "NK_QdtsM3luu"
   },
   "outputs": [
    {
     "name": "stdout",
     "output_type": "stream",
     "text": [
      "Slice without begin, end and step : Although that way may not be obvious at first unless you're Dutch.\n",
      "Slice with begin 0, end as length and no step: Although that way may not be obvious at first unless you're Dutch\n",
      "Slice without begin and end, but only with step: Although that way may not be obvious at first unless you're Dutch.\n",
      "Slice with begin, end and step Although that way may not be obvious at first unless you're Dutch\n",
      "Slice with begin and end using +ve value and step in -ve: \n",
      "Slice with 2 step value: Atog htwymyntb biu tfrtuls o'eDth\n",
      "Slice with 3 step value: Ahgttam tebo  r lsorDc\n",
      "Slice to reverse using only step: .hctuD er'uoy sselnu tsrif ta suoivbo eb ton yam yaw taht hguohtlA\n",
      "Slice to reverse using begin, end and step: .hctuD er'uoy sselnu tsrif ta suoivbo eb ton yam yaw taht hguohtlA\n",
      "Slice to reverse using only 2 step value .cu ruysen si asovoe o a a athuhl\n",
      "Slice to reverse using begin, end and 2 step value .cu ruysen si asovoe o a a athuhl\n",
      "+ve begin and end with -ve step: \n",
      "Slice to print 'yaw ta': yaw ta\n",
      "Slice 'ess you': ess you\n"
     ]
    }
   ],
   "source": [
    "#Slicing\n",
    "my_str = \"Although that way may not be obvious at first unless you're Dutch.\"\n",
    "#Write the code to get the output,instructions are mentioned below print statement. use slicing\n",
    "print(\"Slice without begin, end and step :\",my_str[ : : ])\n",
    "#output:- You have sliced: Although that way may not be obvious at first unless you're Dutch.Without begin, end and step\n",
    "\n",
    "print(\"Slice with begin 0, end as length and no step:\",my_str[0 : len(my_str)-1])\n",
    "#output:- You have sliced: Although that way may not be obvious at first unless you're Dutch.with begin as 0 end using len and without step\n",
    "\n",
    "print(\"Slice without begin and end, but only with step:\",my_str[ : : 1])\n",
    "#output:- You have sliced: Although that way may not be obvious at first unless you're Dutch.without begin and end but using step\n",
    "\n",
    "print(\"Slice with begin, end and step\",my_str[0 : len(my_str)-1 : 1])\n",
    "#output:- You have sliced: Although that way may not be obvious at first unless you're Dutch.With begin, end and step\n",
    "\n",
    "print(\"Slice with begin and end using +ve value and step in -ve:\",my_str[0 : len(my_str)-1 : -1])\n",
    "#output:- You have sliced:   .with using begin and end using postive values and step as negative values.\n",
    "#Slicing command should print empty string.\n",
    "\n",
    "print(\"Slice with 2 step value:\",my_str[0 : len(my_str)-1 : 2])\n",
    "#output:- You have sliced: Atog htwymyntb biu tfrtuls o'eDth\n",
    "\n",
    "print(\"Slice with 3 step value:\",my_str[0 : len(my_str)-1 : 3])\n",
    "#output:- You have sliced: Ahgttam tebo  r lsorDc\n",
    "\n",
    "print(\"Slice to reverse using only step:\",my_str[ : : -1])\n",
    "#output:- You have sliced: .hctuD er'uoy sselnu tsrif ta suoivbo eb ton yam yaw taht hguohtlA. Use only step\n",
    "\n",
    "print(\"Slice to reverse using begin, end and step:\",my_str[-1 : -len(my_str)-1 : -1])\n",
    "#output:- You have sliced: .hctuD er'uoy sselnu tsrif ta suoivbo eb ton yam yaw taht hguohtlA. Use begin end and step.\n",
    "\n",
    "print(\"Slice to reverse using only 2 step value\",my_str[ : : -2])\n",
    "#output:- You have sliced: .cu ruysen si asovoe o a a athuhl. use only step\n",
    "\n",
    "print(\"Slice to reverse using begin, end and 2 step value\",my_str[ -1 : -len(my_str)-1 : -2])\n",
    "#output:- You have sliced: .cu ruysen si asovoe o a a athuhl. use begin, end and step.\n",
    "\n",
    "print(\"+ve begin and end with -ve step:\",my_str[10:17:-1]) #10-1 =9 so null\n",
    "#What will be the output?\n",
    "\n",
    "pos=my_str.find(\"way\")\n",
    "print(\"Slice to print 'yaw ta':\",my_str[pos+2: pos-4 : -1])\n",
    "#output:- You have sliced: yaw ta, Using begin, end and step.\n",
    "\n",
    "pos1 = my_str.find(\"ess\")\n",
    "pos2 = my_str.find(\"you\")\n",
    "print(\"Slice 'ess you':\",my_str[pos1 : pos2+3 : 1])\n",
    "#output:- You have sliced: ess you. Using begin, end and step."
   ]
  },
  {
   "cell_type": "code",
   "execution_count": 67,
   "metadata": {
    "id": "qUSYa5x-3n5j"
   },
   "outputs": [
    {
     "name": "stdout",
     "output_type": "stream",
     "text": [
      "Concat: Learnbay Python\n",
      "Repitition: LearnbayLearnbayLearnbay\n"
     ]
    }
   ],
   "source": [
    "#Basic operation on string\n",
    "str1 = 'Learnbay'\n",
    "str2 = 'Python'\n",
    "\n",
    "#Write the code to get the output,instructions are mentioned below.\n",
    "#Output is: Learnbay Python\n",
    "print(\"Concat:\",str1+\" \"+str2)\n",
    "#Error: TypeError: can only concatenate str (not \"int\") to str\n",
    "#Error: TypeError: can only concatenate str (not \"float\") to str\n",
    "\n",
    "#Find below Output\n",
    "#Output is: LearnbayLearnbayLearnbay\n",
    "print(\"Repitition:\",str1*3)\n",
    "#Error: TypeError: can't multiply sequence by non-int of type 'float'\n",
    "#Error: TypeError: can't multiply sequence by non-int of type 'str'"
   ]
  },
  {
   "cell_type": "code",
   "execution_count": 78,
   "metadata": {
    "id": "gREffmnr3s-p"
   },
   "outputs": [
    {
     "name": "stdout",
     "output_type": "stream",
     "text": [
      "Identity Operator: True\n",
      "Identity Operator: False\n",
      "Identity Operator: False\n",
      "In: True\n",
      "In: True\n",
      "In: False\n"
     ]
    }
   ],
   "source": [
    "#Find below Output\n",
    "str1 = 'Python'\n",
    "str2 = 'Python'\n",
    "str3 = 'Python$'\n",
    "str4 = 'Python$'\n",
    "\n",
    "#print True by using identity operator between str1 and str2\n",
    "print(\"Identity Operator:\",str1 is str2)\n",
    "\n",
    "#print False by using identity operator between str1 and str3\n",
    "print(\"Identity Operator:\",str1 is str3)\n",
    "\n",
    "#print False by using identity operator between str4 and str3\n",
    "print(\"Identity Operator:\",str3 is str4)\n",
    "\n",
    "#Check if P is available in str1 and print True by using membership operator\n",
    "print(\"In:\",\"P\" in str1)\n",
    "\n",
    "#Check if $ is available in str3 and print True by using membership operator\n",
    "print(\"In:\",\"$\" in str3)\n",
    "\n",
    "#Check if N is available in str3 and print False by using membership operator\n",
    "print(\"In:\",\"N\" in str3)"
   ]
  },
  {
   "cell_type": "code",
   "execution_count": 80,
   "metadata": {
    "id": "QNFjxDr73u2H"
   },
   "outputs": [
    {
     "name": "stdout",
     "output_type": "stream",
     "text": [
      "Replace: This is Java class\n"
     ]
    }
   ],
   "source": [
    "#Complete the below code\n",
    "str1 = 'This is Python class'\n",
    "#write the code to replace 'Python' with 'Java' and you should get below error.\n",
    "print(\"Replace:\",str1.replace(\"Python\",\"Java\"))\n",
    "#TypeError: 'str' object does not support item assignment."
   ]
  },
  {
   "cell_type": "code",
   "execution_count": 90,
   "metadata": {
    "id": "-JgFbPmn3w3D"
   },
   "outputs": [
    {
     "name": "stdout",
     "output_type": "stream",
     "text": [
      "Comparison: True\n",
      "Comparison: True\n",
      "Comparison: False\n",
      "Comparison: False\n"
     ]
    }
   ],
   "source": [
    "str1 = 'A'\n",
    "str2 = 'A'\n",
    "#Compare the ASCII value at the backend, till the length of the string\n",
    "#Compare str1 and str2 and print True using comparison operator\n",
    "print(\"Comparison:\",str1 >= str2)\n",
    "#Compare str1 and str2 and print True using equality operator\n",
    "print(\"Comparison:\",str1 == str2)\n",
    "#Compare str1 and str2 and print False using equality operator\n",
    "print(\"Comparison:\",str1 != str2)\n",
    "#Compare str1 and str2 and print False using comparison operator\n",
    "print(\"Comparison:\",str1 > str2)"
   ]
  },
  {
   "cell_type": "code",
   "execution_count": 96,
   "metadata": {
    "id": "fJ46_L-53yhW"
   },
   "outputs": [
    {
     "name": "stdout",
     "output_type": "stream",
     "text": [
      "Comparison: True\n",
      "Comparison: True\n",
      "Comparison: False\n",
      "Comparison: False\n"
     ]
    }
   ],
   "source": [
    "str1 = 'A'\n",
    "str2 = 'a'\n",
    "#Compare str1 and str2 and print True using comparison operator\n",
    "print(\"Comparison:\",str1 < str2)\n",
    "#Compare str1 and str2 and print True using equality operator\n",
    "print(\"Comparison:\",str1 != str2)\n",
    "#Compare str1 and str2 and print False using equality operator\n",
    "print(\"Comparison:\",str1 == str2)\n",
    "#Compare str1 and str2 and print False using comparison operator\n",
    "print(\"Comparison:\",str1 >= str2)"
   ]
  },
  {
   "cell_type": "code",
   "execution_count": 151,
   "metadata": {
    "id": "e-Lr9va330gi"
   },
   "outputs": [
    {
     "name": "stdout",
     "output_type": "stream",
     "text": [
      "65\n",
      "54\n",
      "53\n",
      "A\n",
      "True\n",
      "True\n",
      "False\n"
     ]
    }
   ],
   "source": [
    "str1 = 'A'\n",
    "str2 = '65'\n",
    "#Compare str1 and str2 using comparison operator and it should give below error.\n",
    "#Error: TypeError: '>=' not supported between instances of 'str' and 'int'\n",
    "#it compares the ASCII value and hence we are able to compare str and int\n",
    "\n",
    "print(ord(\"A\")) #ord - gives ascii value of character\n",
    "print(ord(\"6\"))\n",
    "print(ord(\"5\"))\n",
    "print(chr(65)) #chr - gives character for the ascii value\n",
    "\n",
    "print(str1 >= str2)\n",
    "\n",
    "#Compare str1 and str2 and print True using equality operator\n",
    "print(str1 != str2)\n",
    "\n",
    "#Compare str1 and str2 and print False using equality operator\n",
    "print(str1 == str2)"
   ]
  },
  {
   "cell_type": "code",
   "execution_count": 16,
   "metadata": {
    "id": "JO04jmpN32Im"
   },
   "outputs": [
    {
     "name": "stdout",
     "output_type": "stream",
     "text": [
      "True\n",
      "True\n",
      "False\n",
      "False\n"
     ]
    }
   ],
   "source": [
    "str1 = 'Python'\n",
    "str2 = 'Python'\n",
    "#Compare str1 and str2 and print True using comparison operator\n",
    "print(str1 >= str2)\n",
    "\n",
    "#Compare str1 and str2 and print True using equality operator\n",
    "print(str1 == str2)\n",
    "\n",
    "\n",
    "#Compare str1 and str2 and print False using equality operator\n",
    "print(str1 != str2)\n",
    "\n",
    "#Compare str1 and str2 and print False using comparison operator\n",
    "print(str1 < str2)"
   ]
  },
  {
   "cell_type": "code",
   "execution_count": 36,
   "metadata": {
    "id": "7ulv5ith37OJ"
   },
   "outputs": [
    {
     "name": "stdout",
     "output_type": "stream",
     "text": [
      "And: \n",
      "Or: Python\n",
      "Not: False\n",
      "Not: True\n"
     ]
    }
   ],
   "source": [
    "a = 'Python'\n",
    "b = ''\n",
    "\n",
    "#Apply logical opereators (and, or & not) on above string values and observe the output.\n",
    "print(\"And:\",a and b)\n",
    "print(\"Or:\",a or b)\n",
    "print(\"Not:\",not a)\n",
    "print(\"Not:\",not b)"
   ]
  },
  {
   "cell_type": "code",
   "execution_count": 37,
   "metadata": {
    "id": "Yg_gsZBL383n"
   },
   "outputs": [
    {
     "name": "stdout",
     "output_type": "stream",
     "text": [
      "And: \n",
      "Or: \n",
      "Not: True\n",
      "Not: True\n"
     ]
    }
   ],
   "source": [
    "a = ''\n",
    "b = ''\n",
    "\n",
    "#Apply logical opereators (and, or & not) on above string values and observe the output.\n",
    "print(\"And:\",a and b)\n",
    "print(\"Or:\",a or b)\n",
    "print(\"Not:\",not a)\n",
    "print(\"Not:\",not b)"
   ]
  },
  {
   "cell_type": "code",
   "execution_count": 38,
   "metadata": {
    "id": "cIWkP9Hf3-q5"
   },
   "outputs": [
    {
     "name": "stdout",
     "output_type": "stream",
     "text": [
      "And: learnbay\n",
      "Or: Python\n",
      "Not: False\n",
      "Not: False\n"
     ]
    }
   ],
   "source": [
    "a = 'Python'\n",
    "b = 'learnbay'\n",
    "\n",
    "#Apply logical opereators (and, or & not) on above string values and observe the output.\n",
    "print(\"And:\",a and b)\n",
    "print(\"Or:\",a or b)\n",
    "print(\"Not:\",not a)\n",
    "print(\"Not:\",not b)"
   ]
  },
  {
   "cell_type": "code",
   "execution_count": 166,
   "metadata": {
    "id": "Y0Ot_E704AX5"
   },
   "outputs": [
    {
     "name": "stdout",
     "output_type": "stream",
     "text": [
      "7\n",
      "********\n",
      "7\n",
      "********\n",
      "7\n",
      "********\n",
      "7\n",
      "********\n",
      "9\n",
      "9\n",
      "-1\n",
      "11\n",
      "63\n",
      "63\n"
     ]
    }
   ],
   "source": [
    "my_str = \"Although 8 that way may not be obvious at first unless you're Dutch\"\n",
    "\n",
    "#Write the code to get the total count of 't' in above string. Use find() and index() method.\n",
    "count = 0\n",
    "startPosition = 0\n",
    "endPosition = len(my_str)\n",
    "for i in my_str:\n",
    "    my_str1 = my_str.find(\"t\",startPosition,endPosition)\n",
    "    startPosition = my_str1 + 1\n",
    "    if my_str1 == -1:\n",
    "        break\n",
    "    count = count + 1\n",
    "print(count)\n",
    "print(\"********\")\n",
    "print(my_str.count(\"t\"))\n",
    "print(\"********\")\n",
    "count = 0\n",
    "for i in my_str:\n",
    "    if i == \"t\":\n",
    "        count = count + 1\n",
    "print(count)\n",
    "print(\"********\")\n",
    "count = 0\n",
    "for i in range(len(my_str)):\n",
    "    if my_str[i] == \"t\":\n",
    "        count = count + 1\n",
    "print(count)\n",
    "print(\"********\")\n",
    "\n",
    "#Write the code to get the index of '8' in my_str. Use find() and index() method.\n",
    "print(my_str.find(\"8\"))\n",
    "print(my_str.index(\"8\"))\n",
    "\n",
    "#What will be the output of below code?\n",
    "print(my_str.find('the')) #-1\n",
    "#print(my_str.index('the')) #since not found - error\n",
    "\n",
    "print(my_str.find('t', 9, 15)) #finds the position of t between index 9 and 15\n",
    "print(my_str.rfind('u')) #find the position of first u from right side\n",
    "print(my_str.rindex('u'))"
   ]
  },
  {
   "cell_type": "code",
   "execution_count": 47,
   "metadata": {
    "id": "Gommq59Q4CMi"
   },
   "outputs": [
    {
     "name": "stdout",
     "output_type": "stream",
     "text": [
      "Python\n",
      "Python\n",
      "Python\n"
     ]
    }
   ],
   "source": [
    "#W A P which applies strip() method if any string, which will be taken from user, starts and ends with space, or applies \n",
    "#rrstrip() method if that string only ends with space or applies lstrip() method if that string only starts with a space.\n",
    "\n",
    "#For example:-\n",
    "#input:- '    Python   '\n",
    "input_word = '    Python   '\n",
    "print(input_word.strip())\n",
    "#output:- 'Python'\n",
    "\n",
    "#input:- '    Python'\n",
    "input_word = '    Python'\n",
    "print(input_word.lstrip())\n",
    "#output:- 'Python'\n",
    "\n",
    "#input:- 'Python   '\n",
    "input_word = 'Python   '\n",
    "print(input_word.rstrip())\n",
    "#output:- 'Python'"
   ]
  },
  {
   "cell_type": "code",
   "execution_count": 50,
   "metadata": {
    "id": "9IUy-cpS4Dtt"
   },
   "outputs": [
    {
     "name": "stdout",
     "output_type": "stream",
     "text": [
      "Upper : ALTHOUGH 8 THAT WAY MAY NOT BE OBVIOUS AT FIRST UNLESS YOU'RE DUTCH\n",
      "Lower : although 8 that way may not be obvious at first unless you're dutch\n",
      "Swapcase : aLTHOUGH 8 THAT WAY MAY NOT BE OBVIOUS AT FIRST UNLESS YOU'RE dUTCH\n"
     ]
    }
   ],
   "source": [
    "my_str = \"Although 8 that way may not be obvious at first unless you're Dutch\"\n",
    "\n",
    "#Write the code to convert all alphabets in my_str into upper case.\n",
    "print(\"Upper :\",my_str.upper())\n",
    "\n",
    "#Write the code to convert all alphabets in my_str into lower case.\n",
    "print(\"Lower :\",my_str.lower())\n",
    "\n",
    "#Write the code to swap the cases of all alphabets in my_str.(lower to upper and upper to lower)\n",
    "print(\"Swapcase :\",my_str.swapcase())"
   ]
  },
  {
   "cell_type": "code",
   "execution_count": 57,
   "metadata": {
    "id": "-BjS-z674HKW"
   },
   "outputs": [
    {
     "name": "stdout",
     "output_type": "stream",
     "text": [
      "Enter string:thevee is STUdying\n",
      "Thevee Is Studying\n"
     ]
    }
   ],
   "source": [
    "#Write the code which takes one string from user and if it starts with small case letter then convert it to corresponding \n",
    "#capital letter otherwise if starts with capital letters then convert first character of every word in that string into capital.\n",
    "code = input(\"Enter string:\")\n",
    "if code.split(\" \")[0].istitle():\n",
    "    print(code.capitalize())\n",
    "else:\n",
    "    print(code.title())"
   ]
  },
  {
   "cell_type": "code",
   "execution_count": 60,
   "metadata": {
    "id": "-MCuDy5J4JQS"
   },
   "outputs": [
    {
     "name": "stdout",
     "output_type": "stream",
     "text": [
      "Enter a text:12 34\n",
      "alnum : False\n",
      "alpha : False\n",
      "digit : False\n",
      "lower : False\n",
      "upper : False\n",
      "title : False\n",
      "space : False\n",
      "numeric : False\n",
      "decimal : False\n"
     ]
    }
   ],
   "source": [
    "#Take a string from user and check if it is:-\n",
    "#     1. alphanumeric\n",
    "#     2. alphabets\n",
    "#     3. digit\n",
    "#     4. all letters are in lower case\n",
    "#     5. all letters are in upper case\n",
    "#     6. in title case\n",
    "#     7. a space character\n",
    "#     8. numeric\n",
    "#     9. all number elements in string are decimal\n",
    "word = input(\"Enter a text:\")\n",
    "print(\"alnum :\",word.isalnum()) # return True if string is in form of Alphabets or Numbers\n",
    "print(\"alpha :\",word.isalpha()) # return True if all char are Alphabets\n",
    "print(\"digit :\",word.isdigit()) # return True if all the char are digits/ number\n",
    "print(\"lower :\",word.islower()) # return True if all the char are in Lowercase\n",
    "print(\"upper :\",word.isupper()) # return True if all the char are in uppercase\n",
    "print(\"title :\",word.istitle()) # return True if first letter of every word is Upper and rest all are lower\n",
    "print(\"space :\",word.isspace()) # return True if string is spaces\n",
    "print(\"numeric :\",word.isnumeric()) # return True if string is numeric\n",
    "print(\"decimal :\",word.isdecimal()) # return True if string is decimal"
   ]
  },
  {
   "cell_type": "code",
   "execution_count": 167,
   "metadata": {
    "id": "tiTN-4ik4KAG"
   },
   "outputs": [
    {
     "name": "stdout",
     "output_type": "stream",
     "text": [
      "abc: True\n",
      "abc1: True\n",
      "ab1c: True\n",
      "1abc: False\n",
      "abc$: False\n",
      "_abc: True\n",
      "if: True\n"
     ]
    }
   ],
   "source": [
    "#W A P which takes a string as an input and prints True if the string is valid identifier else returns False.\n",
    "#Sample Input:- 'abc', 'abc1', 'ab1c', '1abc', 'abc$', '_abc', 'if'\n",
    "print(\"abc:\",\"abc\".isidentifier())\n",
    "print(\"abc1:\",\"abc1\".isidentifier())\n",
    "print(\"ab1c:\",\"ab1c\".isidentifier())\n",
    "print(\"1abc:\",\"1abc\".isidentifier())\n",
    "print(\"abc$:\",\"abc$\".isidentifier())\n",
    "print(\"_abc:\",\"_abc\".isidentifier())\n",
    "print(\"if:\",\"if\".isidentifier())\n",
    "#Identifier can check for anything except for the keyword hence for if we are getting true"
   ]
  },
  {
   "cell_type": "code",
   "execution_count": 67,
   "metadata": {
    "id": "tAMkSIN84MPe"
   },
   "outputs": [
    {
     "name": "stdout",
     "output_type": "stream",
     "text": [
      "chr(65): A\n",
      "chr(97): a\n",
      "chr(27): \u001b\n",
      "True\n",
      "False\n",
      "False\n",
      "True\n"
     ]
    }
   ],
   "source": [
    "#What will be output of below code?\n",
    "print(\"chr(65):\",chr(65))\n",
    "print(\"chr(97):\",chr(97))\n",
    "print(\"chr(27):\",chr(27))\n",
    "\n",
    "s = chr(65) + chr(97)\n",
    "print(s.isprintable())#str lies in single line so True\n",
    "\n",
    "s = chr(27) + chr(97)\n",
    "print(s.isprintable())#str goes to multiple line so False\n",
    "\n",
    "s = '\\n'\n",
    "print(s.isprintable())#str goes to multiple line so False\n",
    "\n",
    "s = ''\n",
    "print(s.isprintable())#str lies in single line so True"
   ]
  },
  {
   "cell_type": "code",
   "execution_count": 68,
   "metadata": {
    "id": "pU9Os0mD4Pk1"
   },
   "outputs": [
    {
     "name": "stdout",
     "output_type": "stream",
     "text": [
      "True\n",
      "True\n",
      "True\n",
      "True\n",
      "False\n",
      "False\n"
     ]
    }
   ],
   "source": [
    "#What will be output of below code?\n",
    "#The isascii() method returns True if all the characters are ascii characters\n",
    "\n",
    "my_string = '  '\n",
    "print(my_string.isascii())\n",
    "\n",
    "my_string = 'Studytonight'\n",
    "print(my_string.isascii())\n",
    "\n",
    "my_string = 'Study tonight'\n",
    "print(my_string.isascii())\n",
    "\n",
    "my_string = 'Studytonight@123'\n",
    "print(my_string.isascii())\n",
    "\n",
    "my_string = '°'\n",
    "print(my_string.isascii())\n",
    "#ASCII value isnt available for this\n",
    "\n",
    "my_string = 'ö'\n",
    "print(my_string.isascii())\n",
    "#ASCII value isnt available for this"
   ]
  },
  {
   "cell_type": "code",
   "execution_count": 168,
   "metadata": {
    "id": "VsLV8FF74QTB"
   },
   "outputs": [
    {
     "name": "stdout",
     "output_type": "stream",
     "text": [
      "der fluß\n",
      "der fluss\n",
      "der fluss\n",
      "The strings are equal.\n"
     ]
    }
   ],
   "source": [
    "#What will be the output of below code?\n",
    "firstString = \"der Fluß\"\n",
    "secondString = \"der Fluss\"\n",
    "\n",
    "#casefold method is similar to the lower() method, but the casefold() method is stronger, more aggressive\n",
    "#meaning that it will convert more characters into lower case, and will find more matches when comparing two strings \n",
    "#and both are converted using the casefold() method.\n",
    "\n",
    "print(firstString.lower())\n",
    "\n",
    "print(firstString.casefold())\n",
    "print(secondString.casefold())\n",
    "\n",
    "if firstString.casefold() == secondString.casefold():\n",
    "    print('The strings are equal.')\n",
    "else:\n",
    "    print('The strings are not equal.')"
   ]
  },
  {
   "cell_type": "code",
   "execution_count": 6,
   "metadata": {
    "id": "1m0U7jLa4Wjf"
   },
   "outputs": [
    {
     "name": "stdout",
     "output_type": "stream",
     "text": [
      "python**\n",
      "**python\n",
      "**python**\n"
     ]
    }
   ],
   "source": [
    "#Write the code to get below output\n",
    "word = \"python\"\n",
    "#O/P 1:- python** (using ljust method)\n",
    "print(word.ljust(8,\"*\"))\n",
    "\n",
    "#Write the code to get below output\n",
    "#O/P 1:- **python (using rjust method)\n",
    "print(word.rjust(8,\"*\"))\n",
    "\n",
    "#Write the code to get below output\n",
    "#O/P 1:- **python** (using rjust method)\n",
    "print(word.center(10,\"*\"))"
   ]
  },
  {
   "cell_type": "code",
   "execution_count": 169,
   "metadata": {
    "id": "cRVkvW6s4YKK"
   },
   "outputs": [
    {
     "name": "stdout",
     "output_type": "stream",
     "text": [
      "55\n"
     ]
    }
   ],
   "source": [
    "#Write a Python program to find the length of the my_str:-\n",
    "my_str = \"Write a Python program to find the length of the my_str\"\n",
    "#Input:- 'Write a Python program to find the length of the my_str'\n",
    "print(len(my_str))\n",
    "#Output:- 55\n"
   ]
  },
  {
   "cell_type": "code",
   "execution_count": 74,
   "metadata": {
    "id": "SjABWI284Zuz"
   },
   "outputs": [
    {
     "name": "stdout",
     "output_type": "stream",
     "text": [
      "9\n"
     ]
    }
   ],
   "source": [
    "#Write a Python program to find the total number of times letter 'p' is appeared in the below string:-\n",
    "    \n",
    "#Input:- 'peter piper picked a peck of pickled peppers.'\n",
    "code = \"peter piper picked a peck of pickled peppers.\"\n",
    "print(code.count(\"p\"))\n",
    "#Output:- 9"
   ]
  },
  {
   "cell_type": "code",
   "execution_count": 99,
   "metadata": {
    "id": "-iZtqbEo4bQp"
   },
   "outputs": [
    {
     "name": "stdout",
     "output_type": "stream",
     "text": [
      "0\n",
      "6\n",
      "8\n",
      "12\n",
      "21\n",
      "29\n",
      "37\n",
      "39\n",
      "40\n"
     ]
    }
   ],
   "source": [
    "#Write a Python Program, to print all the indexes of all occurences of letter 'p' appeared in the string:-\n",
    "#Input:- 'peter piper picked a peck of pickled peppers.'\n",
    "code = \"peter piper picked a peck of pickled peppers.\"\n",
    "pos = code.find(\"p\")\n",
    "#print(pos)\n",
    "#print(range(pos,len(code)))\n",
    "#print(code.find(\"p\",pos,len(code)))\n",
    "for i in range(len(code)):\n",
    "    if(code[i] == \"p\" ):\n",
    "        print(i)\n",
    "#Output:- \n",
    "# 0\n",
    "# 6\n",
    "# 8\n",
    "# 12\n",
    "# 21\n",
    "# 29\n",
    "# 37\n",
    "# 39\n",
    "# 40\n"
   ]
  },
  {
   "cell_type": "code",
   "execution_count": 100,
   "metadata": {
    "id": "_A8Eu8f84daM"
   },
   "outputs": [
    {
     "name": "stdout",
     "output_type": "stream",
     "text": [
      "['peter', 'piper', 'picked', 'a', 'peck', 'of', 'pickled', 'peppers.']\n"
     ]
    }
   ],
   "source": [
    "#Write a python program to find below output:-\n",
    "\n",
    "#Input:- 'peter piper picked a peck of pickled peppers.'\n",
    "code = \"peter piper picked a peck of pickled peppers.\"\n",
    "print(code.split(\" \"))\n",
    "#Output:- ['peter', 'piper', 'picked', 'a', 'peck', 'of', 'pickled', 'peppers.']\n",
    "\n"
   ]
  },
  {
   "cell_type": "code",
   "execution_count": 201,
   "metadata": {
    "id": "juh7tQuL4fNc"
   },
   "outputs": [
    {
     "name": "stdout",
     "output_type": "stream",
     "text": [
      "['peter', 'piper', 'picked', 'a', 'peck', 'of', 'pickled', 'peppers.']\n",
      "peppers. pickled of peck a picked piper peter\n",
      "********\n",
      "peppers. of a piper peter picked peck pickled\n",
      "********\n",
      "peppers. pickled of peck a picked piper peter\n"
     ]
    }
   ],
   "source": [
    "#Write a python program to find below output:-\n",
    "#Input:- 'peter piper picked a peck of pickled peppers.'\n",
    "code = \"peter piper picked a peck of pickled peppers.\"\n",
    "split = code.split(\" \")\n",
    "print(split)\n",
    "split.reverse()\n",
    "result = ''\n",
    "for i in range(len(split)):\n",
    "    result = result + \" \" + split[i]\n",
    "print(result.strip())\n",
    "print(\"********\")\n",
    "\n",
    "code = \"peter piper picked a peck of pickled peppers.\"\n",
    "split = code.split(\" \")\n",
    "newList = []\n",
    "for each in split:\n",
    "    newList.append(each[ : :1])\n",
    "    newList.reverse()\n",
    "print(\" \".join(newList))\n",
    "print(\"********\")\n",
    "\n",
    "code = \"peter piper picked a peck of pickled peppers.\"\n",
    "split = code.split(\" \")\n",
    "myList = [each[ : :1] for each in split]\n",
    "myList.reverse()\n",
    "print(\" \".join(myList))\n",
    "\n",
    "#Output:- 'peppers. pickled of peck a picked piper peter'"
   ]
  },
  {
   "cell_type": "code",
   "execution_count": 114,
   "metadata": {
    "id": "aaHQYz194fW7"
   },
   "outputs": [
    {
     "name": "stdout",
     "output_type": "stream",
     "text": [
      ".sreppep delkcip fo kcep a dekcip repip retep\n"
     ]
    }
   ],
   "source": [
    "#Write a python program to find below output:-\n",
    "\n",
    "#Input:- 'peter piper picked a peck of pickled peppers.'\n",
    "code = \"peter piper picked a peck of pickled peppers.\"\n",
    "print(code[ : :-1])\n",
    "#Output:- '.sreppep delkcip fo kcep a dekcip repip retep'"
   ]
  },
  {
   "cell_type": "code",
   "execution_count": 183,
   "metadata": {
    "id": "LSgj9glC4feI"
   },
   "outputs": [
    {
     "name": "stdout",
     "output_type": "stream",
     "text": [
      "['peter', 'piper', 'picked', 'a', 'peck', 'of', 'pickled', 'peppers.']\n",
      "retep repip dekcip a kcep fo delkcip .sreppep\n",
      "***************\n",
      "retep repip dekcip a kcep fo delkcip .sreppep\n",
      "***************\n",
      "retep repip dekcip a kcep fo delkcip .sreppep\n"
     ]
    }
   ],
   "source": [
    "#Write a python program to find below output:-\n",
    "#Input:- 'peter piper picked a peck of pickled peppers.'\n",
    "\n",
    "code = \"peter piper picked a peck of pickled peppers.\"\n",
    "split = code.split(\" \")\n",
    "print(split)\n",
    "split.reverse()\n",
    "result = ''\n",
    "for i in range(len(split)):\n",
    "    result = result + \" \" + split[i]\n",
    "print(result.strip()[::-1])\n",
    "print(\"***************\")\n",
    "\n",
    "code = \"peter piper picked a peck of pickled peppers.\"\n",
    "split = code.split(\" \")\n",
    "newList = []\n",
    "for each in split:\n",
    "    newList.append(each[ : :-1])\n",
    "print(\" \".join(newList))\n",
    "print(\"***************\")\n",
    "\n",
    "code = \"peter piper picked a peck of pickled peppers.\"\n",
    "split = code.split(\" \")\n",
    "myList = [each[ : :-1] for each in split]\n",
    "print(\" \".join(myList))\n",
    "\n",
    "#Output:- 'retep repip dekcip a kcep fo delkcip .sreppep'"
   ]
  },
  {
   "cell_type": "code",
   "execution_count": 116,
   "metadata": {
    "id": "WUxPAkY94foo"
   },
   "outputs": [
    {
     "name": "stdout",
     "output_type": "stream",
     "text": [
      "Peter Piper Picked A Peck Of Pickled Peppers.\n"
     ]
    }
   ],
   "source": [
    "#Write a python program to find below output:-\n",
    "\n",
    "#Input:- 'peter piper picked a peck of pickled peppers.'\n",
    "code = \"peter piper picked a peck of pickled peppers.\"\n",
    "print(code.title())\n",
    "#Output:- 'Peter Piper Picked A Peck Of Pickled Peppers.'"
   ]
  },
  {
   "cell_type": "code",
   "execution_count": 117,
   "metadata": {
    "id": "IT1NSPxA4mww"
   },
   "outputs": [
    {
     "name": "stdout",
     "output_type": "stream",
     "text": [
      "Peter piper picked a peck of pickled peppers.\n"
     ]
    }
   ],
   "source": [
    "#Write a python program to find below output:-\n",
    "\n",
    "#Input:- 'Peter Piper Picked A Peck Of Pickled Peppers.'\n",
    "code = \"peter piper picked a peck of pickled peppers.\"\n",
    "print(code.capitalize())\n",
    "#Output:- 'Peter piper picked a peck of pickled peppers.'"
   ]
  },
  {
   "cell_type": "code",
   "execution_count": 127,
   "metadata": {
    "id": "3Gg65vSc4m3C"
   },
   "outputs": [
    {
     "name": "stdout",
     "output_type": "stream",
     "text": [
      "29\n"
     ]
    }
   ],
   "source": [
    "#Write a python program to implement index method. If sub_str is found in my_str then it will print the index\n",
    "# of first occurrence of first character of matching string in my_str:-\n",
    "\n",
    "#Input:- my_str = 'Peter Piper Picked A Peck Of Pickled Peppers.', sub_str = 'Pickl'\n",
    "my_str = \"Peter Piper Picked A Peck Of Pickled Peppers.\"\n",
    "sub_str = \"Pickl\"\n",
    "if(my_str.find(sub_str) != -1):\n",
    "    print(my_str.find(sub_str))\n",
    "else:\n",
    "    print(\"sub_str not found\")\n",
    "#Output:- 29\n"
   ]
  },
  {
   "cell_type": "code",
   "execution_count": 184,
   "metadata": {
    "id": "iFRhp_JI4m6k"
   },
   "outputs": [
    {
     "name": "stdout",
     "output_type": "stream",
     "text": [
      "Peter Piper Picked A Pack Of Pickled Peppers.\n"
     ]
    }
   ],
   "source": [
    "#Write a python program to implement replace method. If sub_str is found in my_str then it will replace the first \n",
    "#occurrence of sub_str with new_str else it will will print sub_str not found:-\n",
    "\n",
    "#Input:- my_str = 'Peter Piper Picked A Peck Of Pickled Peppers.', sub_str = 'Peck', new_str = 'Pack'\n",
    "my_str = \"Peter Piper Picked A Peck Of Pickled Peppers.\"\n",
    "sub_str = \"Peck\"\n",
    "new_str = \"Pack\"\n",
    "if(my_str.find(sub_str) != -1):\n",
    "    print(my_str.replace(sub_str,new_str))\n",
    "else:\n",
    "    print(\"sub_str not found\")\n",
    "#Output:- 'Peter Piper Picked A Pack Of Pickled Peppers.'\n",
    "\n"
   ]
  },
  {
   "cell_type": "code",
   "execution_count": 22,
   "metadata": {},
   "outputs": [
    {
     "name": "stdout",
     "output_type": "stream",
     "text": [
      "Xeter Xiper Xicked A Peck Of Pickled Peppers.\n",
      "********************************************************************************\n",
      "['Xeter', 'Xiper', 'Xicked']\n",
      "['A', 'Peck', 'Of', 'Pickled', 'Peppers.']\n",
      "Xeter Xiper Xicked A Peck Of Pickled Peppers.\n",
      "********************************************************************************\n",
      "Xeter Xiper Xicked A Peck Of Pickled Peppers.\n"
     ]
    }
   ],
   "source": [
    "#Input:- my_str = 'Peter Piper Picked A Peck Of Pickled Peppers.', sub_str = 'Peck', new_str = 'Pack'\n",
    "#replace first 3 \"P's\" with \"X's\"\n",
    "my_str = \"Peter Piper Picked A Peck Of Pickled Peppers.\"\n",
    "new_str = my_str.replace(\"P\",\"X\",3)\n",
    "print(new_str)\n",
    "print(\"****\"*20)\n",
    "#using for loop\n",
    "firstHalf = []\n",
    "secondHalf = []\n",
    "my_str = \"Peter Piper Picked A Peck Of Pickled Peppers.\".split()\n",
    "for i in range(3):\n",
    "    firstHalf.append(my_str[i].replace(\"P\",\"X\"))\n",
    "for i in range(3,len(my_str)):\n",
    "    secondHalf.append(my_str[i])\n",
    "print(firstHalf)\n",
    "print(secondHalf)\n",
    "finalList = \" \".join(firstHalf + secondHalf)\n",
    "print(finalList)\n",
    "print(\"****\"*20)\n",
    "#using list comprehension\n",
    "my_str = \"Peter Piper Picked A Peck Of Pickled Peppers.\".split()\n",
    "finalList = \" \".join([my_str[i].replace(\"P\",\"X\") for i in range(3)] + [my_str[i] for i in range(3,len(my_str))])\n",
    "print(finalList)"
   ]
  },
  {
   "cell_type": "code",
   "execution_count": 228,
   "metadata": {
    "id": "dQ9YhBBc4m9V"
   },
   "outputs": [
    {
     "name": "stdout",
     "output_type": "stream",
     "text": [
      "#Output:- *********************Peck********************\n",
      "#Output:- *********************Peck********************\n"
     ]
    }
   ],
   "source": [
    "#Write a python program to find below output (implements rjust and ljust):-\n",
    "\n",
    "#Input:- 'Peter Piper Picked A Peck Of Pickled Peppers.', sub_str = 'Peck', \n",
    "my_str = \"Peter Piper Picked A Peck Of Pickled Peppers.\"\n",
    "sub_str = \"Peck\"\n",
    "if(my_str.find(sub_str) != -1):\n",
    "    print(\"#Output:-\",sub_str.center(len(my_str),\"*\"))\n",
    "else:\n",
    "    print(\"sub_str not found\")\n",
    "#Output:- '*********************Peck********************'\n",
    "\n",
    "my_str = \"Peter Piper Picked A Peck Of Pickled Peppers.\"\n",
    "sub_str = \"Peck\"\n",
    "#(0 - 20)*+sub_str+(25 - 45)\n",
    "print(\"#Output:-\",sub_str.rjust(my_str.find(sub_str)+len(sub_str),\"*\").ljust(len(my_str),\"*\"))"
   ]
  },
  {
   "cell_type": "code",
   "execution_count": 209,
   "metadata": {},
   "outputs": [
    {
     "name": "stdout",
     "output_type": "stream",
     "text": [
      "Happy***Python***2023***Journey***False\n"
     ]
    }
   ],
   "source": [
    "myList = [\"Happy\",\"Python\",2023,\"Journey\",False]\n",
    "newList = (\"***\").join(str(word) for word in myList)\n",
    "print(newList)"
   ]
  }
 ],
 "metadata": {
  "colab": {
   "collapsed_sections": [],
   "name": "String_Assignment.ipynb",
   "provenance": []
  },
  "kernelspec": {
   "display_name": "Python 3 (ipykernel)",
   "language": "python",
   "name": "python3"
  },
  "language_info": {
   "codemirror_mode": {
    "name": "ipython",
    "version": 3
   },
   "file_extension": ".py",
   "mimetype": "text/x-python",
   "name": "python",
   "nbconvert_exporter": "python",
   "pygments_lexer": "ipython3",
   "version": "3.10.9"
  },
  "latex_envs": {
   "LaTeX_envs_menu_present": true,
   "autoclose": false,
   "autocomplete": true,
   "bibliofile": "biblio.bib",
   "cite_by": "apalike",
   "current_citInitial": 1,
   "eqLabelWithNumbers": true,
   "eqNumInitial": 1,
   "hotkeys": {
    "equation": "Ctrl-E",
    "itemize": "Ctrl-I"
   },
   "labels_anchors": false,
   "latex_user_defs": false,
   "report_style_numbering": false,
   "user_envs_cfg": false
  },
  "varInspector": {
   "cols": {
    "lenName": 16,
    "lenType": 16,
    "lenVar": 40
   },
   "kernels_config": {
    "python": {
     "delete_cmd_postfix": "",
     "delete_cmd_prefix": "del ",
     "library": "var_list.py",
     "varRefreshCmd": "print(var_dic_list())"
    },
    "r": {
     "delete_cmd_postfix": ") ",
     "delete_cmd_prefix": "rm(",
     "library": "var_list.r",
     "varRefreshCmd": "cat(var_dic_list()) "
    }
   },
   "types_to_exclude": [
    "module",
    "function",
    "builtin_function_or_method",
    "instance",
    "_Feature"
   ],
   "window_display": false
  }
 },
 "nbformat": 4,
 "nbformat_minor": 1
}
