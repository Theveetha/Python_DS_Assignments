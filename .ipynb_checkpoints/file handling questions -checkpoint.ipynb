{
 "cells": [
  {
   "cell_type": "markdown",
   "metadata": {},
   "source": [
    "# file handling questions"
   ]
  },
  {
   "cell_type": "code",
   "execution_count": 44,
   "metadata": {},
   "outputs": [],
   "source": [
    "myData = \"\"\"\n",
    "This is the File Handling data.\n",
    "There is a lot of stuff in @@Python : \n",
    "string\n",
    "list\n",
    "tuple SUN\n",
    "dictionary\n",
    "regular expression\n",
    "functions\n",
    "\n",
    "To learn further, you have to cover @the best topics -- \n",
    "string\n",
    "@list\n",
    "functions SUN\n",
    "\n",
    "You can reach it to Academy;\n",
    "8745742105\n",
    "96457421 SUN\n",
    "9656452580 \n",
    "011-25499746\n",
    "7744120258 and 9874745745\n",
    "\n",
    "nitsih@gmail.com SUN\n",
    "company@hotmail.com\n",
    "\n",
    "abc@yahoo.com and learning@@hive.com\n",
    "\n",
    "\"\"\""
   ]
  },
  {
   "cell_type": "code",
   "execution_count": 10,
   "metadata": {},
   "outputs": [],
   "source": [
    "f = open('myData.txt', \"w\")\n",
    "f.write(myData)\n",
    "f.close()"
   ]
  },
  {
   "cell_type": "code",
   "execution_count": 45,
   "metadata": {},
   "outputs": [
    {
     "name": "stdout",
     "output_type": "stream",
     "text": [
      "4\n"
     ]
    }
   ],
   "source": [
    "print(myData.count(\"SUN\"))"
   ]
  },
  {
   "cell_type": "code",
   "execution_count": 47,
   "metadata": {},
   "outputs": [
    {
     "name": "stdout",
     "output_type": "stream",
     "text": [
      "Count of 'SUN' in the message : 4\n"
     ]
    }
   ],
   "source": [
    "# Count how many times \"SUN\" has occured.\n",
    "f = open('myData.txt',\"r\")\n",
    "msg = f.read()\n",
    "print(f\"Count of 'SUN' in the message : {msg.count('SUN')}\")\n",
    "f.close()"
   ]
  },
  {
   "cell_type": "code",
   "execution_count": 56,
   "metadata": {},
   "outputs": [
    {
     "name": "stdout",
     "output_type": "stream",
     "text": [
      "Line position number where 'SUN' has occured  :  [6, 14, 18, 23]\n"
     ]
    }
   ],
   "source": [
    "# Find the line position number where \"SUN\" has occured.\n",
    "f = open('myData.txt',\"r\")\n",
    "msg = f.read()\n",
    "# print(f\"Position number of 'SUN' : {msg.find('SUN')}\")\n",
    "# now placing the each line in sep\n",
    "newData = msg.split(\"\\n\")\n",
    "position = []\n",
    "for line in range(len(newData)):\n",
    "#     print(\"Line Number : \",line+1,end = \"\\t\\t\")\n",
    "#     print(\"Data : \",newData[line])\n",
    "#     if newData[line].find('SUN') != -1 :\n",
    "    if 'SUN' in newData[line]:\n",
    "        position.append(line+1)\n",
    "#         print(f\"Line position number where 'SUN' has occured  : \",line+1)\n",
    "print(f\"Line position number where 'SUN' has occured  : \",position)\n",
    "f.close()"
   ]
  },
  {
   "cell_type": "code",
   "execution_count": 90,
   "metadata": {},
   "outputs": [
    {
     "name": "stdout",
     "output_type": "stream",
     "text": [
      "Mobile Number =  ['8745742105', '9656452580', '7744120258', '9874745745']\n"
     ]
    }
   ],
   "source": [
    "mobilenumber = []\n",
    "num = \"\"\"You can reach it to Academy;\n",
    "8745742105\n",
    "96457421 SUN\n",
    "9656452580 \n",
    "011-25499746\n",
    "7744120258 and 9874745745\"\"\"\n",
    "newData = num.split(\"\\n\")\n",
    "for line in range(len(newData)):\n",
    "#     print(\"Line Number : \",line+1,end=\"\\t\\t\")\n",
    "#     print(\"Data : \",newData[line])\n",
    "    data = newData[line].split(\" \")\n",
    "    for i in range(len(data)):\n",
    "        if data[i].isnumeric() and len(data[i]) == 10:\n",
    "            mobilenumber.append(data[i])\n",
    "print(\"Mobile Number = \",mobilenumber)"
   ]
  },
  {
   "cell_type": "code",
   "execution_count": 91,
   "metadata": {},
   "outputs": [
    {
     "name": "stdout",
     "output_type": "stream",
     "text": [
      "Mobile Number =  ['8745742105', '9656452580', '7744120258', '9874745745']\n"
     ]
    }
   ],
   "source": [
    "# Find out the valid mobile numbers, which are 10-digit long\n",
    "f = open('myData.txt',\"r\")\n",
    "msg = f.read()\n",
    "newData = msg.split(\"\\n\")\n",
    "mobilenumber = []\n",
    "for line in range(len(newData)):\n",
    "#     print(\"Line Number : \",line+1,end=\"\\t\\t\")\n",
    "#     print(\"Data : \",newData[line])\n",
    "    data = newData[line].split(\" \")\n",
    "    for i in range(len(data)):\n",
    "        if data[i].isnumeric() and len(data[i]) == 10:\n",
    "            mobilenumber.append(data[i])\n",
    "print(\"Mobile Number = \",mobilenumber)\n",
    "f.close()"
   ]
  },
  {
   "cell_type": "code",
   "execution_count": 104,
   "metadata": {},
   "outputs": [
    {
     "name": "stdout",
     "output_type": "stream",
     "text": [
      "EMAILS =  ['nitsih@gmail.com', 'company@hotmail.com', 'abc@yahoo.com']\n"
     ]
    }
   ],
   "source": [
    "# Find out the valid EMAIL Address numbers.\n",
    "f = open('myData.txt',\"r\")\n",
    "msg = f.read()\n",
    "newData = msg.split(\"\\n\")\n",
    "email = []\n",
    "for line in range(len(newData)):\n",
    "#     print(\"Line Number : \",line+1,end=\"\\t\\t\")\n",
    "#     print(\"Data : \",newData[line])\n",
    "    data = newData[line].split(\" \")\n",
    "    for i in range(len(data)):\n",
    "        if data[i].count('@')==1 and '.com' in data[i]:\n",
    "            email.append(data[i])\n",
    "print(\"EMAILS = \",email)\n",
    "f.close()"
   ]
  },
  {
   "cell_type": "code",
   "execution_count": 105,
   "metadata": {},
   "outputs": [
    {
     "name": "stdout",
     "output_type": "stream",
     "text": [
      "EMAILS =  ['nitsih@gmail.com', 'company@hotmail.com', 'abc@yahoo.com']\n",
      "EMAIL Platforms ::  ['gmail', 'hotmail', 'yahoo']\n"
     ]
    }
   ],
   "source": [
    "# Find out the valid EMAIL platforms\n",
    "f = open('myData.txt',\"r\")\n",
    "msg = f.read()\n",
    "newData = msg.split(\"\\n\")\n",
    "email = []\n",
    "platforms = []\n",
    "for line in range(len(newData)):\n",
    "#     print(\"Line Number : \",line+1,end=\"\\t\\t\")\n",
    "#     print(\"Data : \",newData[line])\n",
    "    data = newData[line].split(\" \")\n",
    "    for i in range(len(data)):\n",
    "        if data[i].count('@')==1 and '.com' in data[i]:\n",
    "            email.append(data[i])\n",
    "            start_pos = data[i].find('@')\n",
    "            end_pos = data[i].find('.com')\n",
    "            platforms.append(data[i][start_pos+1 : end_pos])\n",
    "print(\"EMAILS = \",email)\n",
    "print(\"EMAIL Platforms :: \",platforms)\n",
    "f.close()\n"
   ]
  }
 ],
 "metadata": {
  "kernelspec": {
   "display_name": "Python 3 (ipykernel)",
   "language": "python",
   "name": "python3"
  },
  "language_info": {
   "codemirror_mode": {
    "name": "ipython",
    "version": 3
   },
   "file_extension": ".py",
   "mimetype": "text/x-python",
   "name": "python",
   "nbconvert_exporter": "python",
   "pygments_lexer": "ipython3",
   "version": "3.10.9"
  }
 },
 "nbformat": 4,
 "nbformat_minor": 4
}
