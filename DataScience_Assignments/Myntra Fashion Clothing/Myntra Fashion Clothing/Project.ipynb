{
 "cells": [
  {
   "cell_type": "markdown",
   "id": "d99eba61",
   "metadata": {},
   "source": [
    "# Project"
   ]
  },
  {
   "cell_type": "markdown",
   "id": "ea93f131",
   "metadata": {},
   "source": [
    "Data Gathering (1) -> Observation (2) -> Manipulation (Changes) / Data Cleaning -> Analysis (Queries, Charts) -> Deep Analysis (Intentianally do changes)\n",
    "\n",
    "-> ML model -> ML Tuning -> Deployment\n"
   ]
  },
  {
   "cell_type": "code",
   "execution_count": 1,
   "id": "de41ccc0",
   "metadata": {},
   "outputs": [],
   "source": [
    "import pandas as pd\n",
    "import numpy as np\n",
    "import matplotlib.pyplot as plt\n",
    "import seaborn as sns"
   ]
  },
  {
   "cell_type": "code",
   "execution_count": 4,
   "id": "4022106a",
   "metadata": {},
   "outputs": [],
   "source": [
    "df1 = pd.read_csv(\"products catalog.csv\")\n",
    "df2 = pd.read_csv(\"product details.csv\")"
   ]
  },
  {
   "cell_type": "code",
   "execution_count": 12,
   "id": "07a31736",
   "metadata": {},
   "outputs": [
    {
     "name": "stdout",
     "output_type": "stream",
     "text": [
      "<class 'pandas.core.frame.DataFrame'>\n",
      "RangeIndex: 12491 entries, 0 to 12490\n",
      "Data columns (total 6 columns):\n",
      " #   Column        Non-Null Count  Dtype \n",
      "---  ------        --------------  ----- \n",
      " 0   Gender        12491 non-null  object\n",
      " 1   Price (INR)   12491 non-null  int64 \n",
      " 2   NumImages     12491 non-null  int64 \n",
      " 3   ID            12491 non-null  int64 \n",
      " 4   Description   12491 non-null  object\n",
      " 5   PrimaryColor  11597 non-null  object\n",
      "dtypes: int64(3), object(3)\n",
      "memory usage: 585.6+ KB\n"
     ]
    },
    {
     "data": {
      "text/plain": [
       "(12491, 6)"
      ]
     },
     "execution_count": 12,
     "metadata": {},
     "output_type": "execute_result"
    }
   ],
   "source": [
    "df1.head()\n",
    "df1.info()\n",
    "df1.shape"
   ]
  },
  {
   "cell_type": "code",
   "execution_count": 13,
   "id": "768194f4",
   "metadata": {},
   "outputs": [
    {
     "name": "stdout",
     "output_type": "stream",
     "text": [
      "<class 'pandas.core.frame.DataFrame'>\n",
      "RangeIndex: 12491 entries, 0 to 12490\n",
      "Data columns (total 3 columns):\n",
      " #   Column        Non-Null Count  Dtype \n",
      "---  ------        --------------  ----- \n",
      " 0   ProductID     12491 non-null  int64 \n",
      " 1   ProductName   12491 non-null  object\n",
      " 2   ProductBrand  12491 non-null  object\n",
      "dtypes: int64(1), object(2)\n",
      "memory usage: 292.9+ KB\n"
     ]
    },
    {
     "data": {
      "text/plain": [
       "(12491, 3)"
      ]
     },
     "execution_count": 13,
     "metadata": {},
     "output_type": "execute_result"
    }
   ],
   "source": [
    "df2.head()\n",
    "df2.info()\n",
    "df2.shape"
   ]
  },
  {
   "cell_type": "markdown",
   "id": "35864b06",
   "metadata": {},
   "source": [
    "## Scenario 1"
   ]
  },
  {
   "cell_type": "code",
   "execution_count": 4,
   "id": "a018bc7f",
   "metadata": {},
   "outputs": [
    {
     "name": "stdout",
     "output_type": "stream",
     "text": [
      "(12491, 6)\n",
      "(12491, 3)\n"
     ]
    }
   ],
   "source": [
    "print( df1.shape )\n",
    "print( df2.shape )"
   ]
  },
  {
   "cell_type": "code",
   "execution_count": 5,
   "id": "6ae3ce2d",
   "metadata": {},
   "outputs": [
    {
     "data": {
      "text/html": [
       "<div>\n",
       "<style scoped>\n",
       "    .dataframe tbody tr th:only-of-type {\n",
       "        vertical-align: middle;\n",
       "    }\n",
       "\n",
       "    .dataframe tbody tr th {\n",
       "        vertical-align: top;\n",
       "    }\n",
       "\n",
       "    .dataframe thead th {\n",
       "        text-align: right;\n",
       "    }\n",
       "</style>\n",
       "<table border=\"1\" class=\"dataframe\">\n",
       "  <thead>\n",
       "    <tr style=\"text-align: right;\">\n",
       "      <th></th>\n",
       "      <th>Gender</th>\n",
       "      <th>Price (INR)</th>\n",
       "      <th>NumImages</th>\n",
       "      <th>ID</th>\n",
       "      <th>Description</th>\n",
       "      <th>PrimaryColor</th>\n",
       "    </tr>\n",
       "  </thead>\n",
       "  <tbody>\n",
       "    <tr>\n",
       "      <th>0</th>\n",
       "      <td>Women</td>\n",
       "      <td>593</td>\n",
       "      <td>5</td>\n",
       "      <td>10182131</td>\n",
       "      <td>Off-White printed woven A-line  top, has a rou...</td>\n",
       "      <td>White</td>\n",
       "    </tr>\n",
       "    <tr>\n",
       "      <th>1</th>\n",
       "      <td>Men</td>\n",
       "      <td>6396</td>\n",
       "      <td>5</td>\n",
       "      <td>10052169</td>\n",
       "      <td>Display: AnalogueMovement: QuartzPower source:...</td>\n",
       "      <td>Black</td>\n",
       "    </tr>\n",
       "    <tr>\n",
       "      <th>2</th>\n",
       "      <td>Women</td>\n",
       "      <td>599</td>\n",
       "      <td>5</td>\n",
       "      <td>10168643</td>\n",
       "      <td>Blue printed knitted regular  top, has a high ...</td>\n",
       "      <td>Blue</td>\n",
       "    </tr>\n",
       "    <tr>\n",
       "      <th>3</th>\n",
       "      <td>Men</td>\n",
       "      <td>1034</td>\n",
       "      <td>5</td>\n",
       "      <td>10155427</td>\n",
       "      <td>Grey and Purple checked smart casual shirt, ha...</td>\n",
       "      <td>Grey</td>\n",
       "    </tr>\n",
       "    <tr>\n",
       "      <th>4</th>\n",
       "      <td>Men</td>\n",
       "      <td>477</td>\n",
       "      <td>3</td>\n",
       "      <td>10191059</td>\n",
       "      <td>Beige and Brown striped beltReversible: NoStre...</td>\n",
       "      <td>Brown</td>\n",
       "    </tr>\n",
       "  </tbody>\n",
       "</table>\n",
       "</div>"
      ],
      "text/plain": [
       "  Gender  Price (INR)  NumImages        ID  \\\n",
       "0  Women          593          5  10182131   \n",
       "1    Men         6396          5  10052169   \n",
       "2  Women          599          5  10168643   \n",
       "3    Men         1034          5  10155427   \n",
       "4    Men          477          3  10191059   \n",
       "\n",
       "                                         Description PrimaryColor  \n",
       "0  Off-White printed woven A-line  top, has a rou...        White  \n",
       "1  Display: AnalogueMovement: QuartzPower source:...        Black  \n",
       "2  Blue printed knitted regular  top, has a high ...         Blue  \n",
       "3  Grey and Purple checked smart casual shirt, ha...         Grey  \n",
       "4  Beige and Brown striped beltReversible: NoStre...        Brown  "
      ]
     },
     "execution_count": 5,
     "metadata": {},
     "output_type": "execute_result"
    }
   ],
   "source": [
    "df1.head()"
   ]
  },
  {
   "cell_type": "code",
   "execution_count": 6,
   "id": "f7d1031a",
   "metadata": {},
   "outputs": [
    {
     "data": {
      "text/html": [
       "<div>\n",
       "<style scoped>\n",
       "    .dataframe tbody tr th:only-of-type {\n",
       "        vertical-align: middle;\n",
       "    }\n",
       "\n",
       "    .dataframe tbody tr th {\n",
       "        vertical-align: top;\n",
       "    }\n",
       "\n",
       "    .dataframe thead th {\n",
       "        text-align: right;\n",
       "    }\n",
       "</style>\n",
       "<table border=\"1\" class=\"dataframe\">\n",
       "  <thead>\n",
       "    <tr style=\"text-align: right;\">\n",
       "      <th></th>\n",
       "      <th>ProductID</th>\n",
       "      <th>ProductName</th>\n",
       "      <th>ProductBrand</th>\n",
       "    </tr>\n",
       "  </thead>\n",
       "  <tbody>\n",
       "    <tr>\n",
       "      <th>0</th>\n",
       "      <td>10017413</td>\n",
       "      <td>DKNY Unisex Black &amp; Grey Printed Medium Trolle...</td>\n",
       "      <td>DKNY</td>\n",
       "    </tr>\n",
       "    <tr>\n",
       "      <th>1</th>\n",
       "      <td>10016283</td>\n",
       "      <td>EthnoVogue Women Beige &amp; Grey Made to Measure ...</td>\n",
       "      <td>EthnoVogue</td>\n",
       "    </tr>\n",
       "    <tr>\n",
       "      <th>2</th>\n",
       "      <td>10009781</td>\n",
       "      <td>SPYKAR Women Pink Alexa Super Skinny Fit High-...</td>\n",
       "      <td>SPYKAR</td>\n",
       "    </tr>\n",
       "    <tr>\n",
       "      <th>3</th>\n",
       "      <td>10015921</td>\n",
       "      <td>Raymond Men Blue Self-Design Single-Breasted B...</td>\n",
       "      <td>Raymond</td>\n",
       "    </tr>\n",
       "    <tr>\n",
       "      <th>4</th>\n",
       "      <td>10017833</td>\n",
       "      <td>Parx Men Brown &amp; Off-White Slim Fit Printed Ca...</td>\n",
       "      <td>Parx</td>\n",
       "    </tr>\n",
       "  </tbody>\n",
       "</table>\n",
       "</div>"
      ],
      "text/plain": [
       "   ProductID                                        ProductName ProductBrand\n",
       "0   10017413  DKNY Unisex Black & Grey Printed Medium Trolle...         DKNY\n",
       "1   10016283  EthnoVogue Women Beige & Grey Made to Measure ...   EthnoVogue\n",
       "2   10009781  SPYKAR Women Pink Alexa Super Skinny Fit High-...       SPYKAR\n",
       "3   10015921  Raymond Men Blue Self-Design Single-Breasted B...      Raymond\n",
       "4   10017833  Parx Men Brown & Off-White Slim Fit Printed Ca...         Parx"
      ]
     },
     "execution_count": 6,
     "metadata": {},
     "output_type": "execute_result"
    }
   ],
   "source": [
    "df2.head()"
   ]
  },
  {
   "cell_type": "code",
   "execution_count": 7,
   "id": "f9bb7d3a",
   "metadata": {},
   "outputs": [
    {
     "name": "stdout",
     "output_type": "stream",
     "text": [
      "<class 'pandas.core.frame.DataFrame'>\n",
      "RangeIndex: 12491 entries, 0 to 12490\n",
      "Data columns (total 6 columns):\n",
      " #   Column        Non-Null Count  Dtype \n",
      "---  ------        --------------  ----- \n",
      " 0   Gender        12491 non-null  object\n",
      " 1   Price (INR)   12491 non-null  int64 \n",
      " 2   NumImages     12491 non-null  int64 \n",
      " 3   ID            12491 non-null  int64 \n",
      " 4   Description   12491 non-null  object\n",
      " 5   PrimaryColor  11597 non-null  object\n",
      "dtypes: int64(3), object(3)\n",
      "memory usage: 585.6+ KB\n"
     ]
    }
   ],
   "source": [
    "df1.info()"
   ]
  },
  {
   "cell_type": "code",
   "execution_count": 8,
   "id": "68d62d62",
   "metadata": {},
   "outputs": [
    {
     "name": "stdout",
     "output_type": "stream",
     "text": [
      "<class 'pandas.core.frame.DataFrame'>\n",
      "RangeIndex: 12491 entries, 0 to 12490\n",
      "Data columns (total 3 columns):\n",
      " #   Column        Non-Null Count  Dtype \n",
      "---  ------        --------------  ----- \n",
      " 0   ProductID     12491 non-null  int64 \n",
      " 1   ProductName   12491 non-null  object\n",
      " 2   ProductBrand  12491 non-null  object\n",
      "dtypes: int64(1), object(2)\n",
      "memory usage: 292.9+ KB\n"
     ]
    }
   ],
   "source": [
    "df2.info()"
   ]
  },
  {
   "cell_type": "code",
   "execution_count": 9,
   "id": "f978d1e3",
   "metadata": {},
   "outputs": [
    {
     "data": {
      "text/html": [
       "<div>\n",
       "<style scoped>\n",
       "    .dataframe tbody tr th:only-of-type {\n",
       "        vertical-align: middle;\n",
       "    }\n",
       "\n",
       "    .dataframe tbody tr th {\n",
       "        vertical-align: top;\n",
       "    }\n",
       "\n",
       "    .dataframe thead th {\n",
       "        text-align: right;\n",
       "    }\n",
       "</style>\n",
       "<table border=\"1\" class=\"dataframe\">\n",
       "  <thead>\n",
       "    <tr style=\"text-align: right;\">\n",
       "      <th></th>\n",
       "      <th>ProductID</th>\n",
       "      <th>ProductName</th>\n",
       "      <th>ProductBrand</th>\n",
       "      <th>Gender</th>\n",
       "      <th>Price (INR)</th>\n",
       "      <th>NumImages</th>\n",
       "      <th>ID</th>\n",
       "      <th>Description</th>\n",
       "      <th>PrimaryColor</th>\n",
       "    </tr>\n",
       "  </thead>\n",
       "  <tbody>\n",
       "    <tr>\n",
       "      <th>0</th>\n",
       "      <td>10017413</td>\n",
       "      <td>DKNY Unisex Black &amp; Grey Printed Medium Trolle...</td>\n",
       "      <td>DKNY</td>\n",
       "      <td>Unisex</td>\n",
       "      <td>11745</td>\n",
       "      <td>7</td>\n",
       "      <td>10017413</td>\n",
       "      <td>Black and grey printed medium trolley bag, sec...</td>\n",
       "      <td>Black</td>\n",
       "    </tr>\n",
       "    <tr>\n",
       "      <th>1</th>\n",
       "      <td>10016283</td>\n",
       "      <td>EthnoVogue Women Beige &amp; Grey Made to Measure ...</td>\n",
       "      <td>EthnoVogue</td>\n",
       "      <td>Women</td>\n",
       "      <td>5810</td>\n",
       "      <td>7</td>\n",
       "      <td>10016283</td>\n",
       "      <td>Beige &amp; Grey made to measure kurta with churid...</td>\n",
       "      <td>Beige</td>\n",
       "    </tr>\n",
       "    <tr>\n",
       "      <th>2</th>\n",
       "      <td>10009781</td>\n",
       "      <td>SPYKAR Women Pink Alexa Super Skinny Fit High-...</td>\n",
       "      <td>SPYKAR</td>\n",
       "      <td>Women</td>\n",
       "      <td>899</td>\n",
       "      <td>7</td>\n",
       "      <td>10009781</td>\n",
       "      <td>Pink coloured wash 5-pocket high-rise cropped ...</td>\n",
       "      <td>Pink</td>\n",
       "    </tr>\n",
       "    <tr>\n",
       "      <th>3</th>\n",
       "      <td>10015921</td>\n",
       "      <td>Raymond Men Blue Self-Design Single-Breasted B...</td>\n",
       "      <td>Raymond</td>\n",
       "      <td>Men</td>\n",
       "      <td>5599</td>\n",
       "      <td>5</td>\n",
       "      <td>10015921</td>\n",
       "      <td>Blue self-design bandhgala suitBlue self-desig...</td>\n",
       "      <td>Blue</td>\n",
       "    </tr>\n",
       "    <tr>\n",
       "      <th>4</th>\n",
       "      <td>10017833</td>\n",
       "      <td>Parx Men Brown &amp; Off-White Slim Fit Printed Ca...</td>\n",
       "      <td>Parx</td>\n",
       "      <td>Men</td>\n",
       "      <td>759</td>\n",
       "      <td>5</td>\n",
       "      <td>10017833</td>\n",
       "      <td>Brown and off-white printed casual shirt, has ...</td>\n",
       "      <td>White</td>\n",
       "    </tr>\n",
       "  </tbody>\n",
       "</table>\n",
       "</div>"
      ],
      "text/plain": [
       "   ProductID                                        ProductName ProductBrand  \\\n",
       "0   10017413  DKNY Unisex Black & Grey Printed Medium Trolle...         DKNY   \n",
       "1   10016283  EthnoVogue Women Beige & Grey Made to Measure ...   EthnoVogue   \n",
       "2   10009781  SPYKAR Women Pink Alexa Super Skinny Fit High-...       SPYKAR   \n",
       "3   10015921  Raymond Men Blue Self-Design Single-Breasted B...      Raymond   \n",
       "4   10017833  Parx Men Brown & Off-White Slim Fit Printed Ca...         Parx   \n",
       "\n",
       "   Gender  Price (INR)  NumImages        ID  \\\n",
       "0  Unisex        11745          7  10017413   \n",
       "1   Women         5810          7  10016283   \n",
       "2   Women          899          7  10009781   \n",
       "3     Men         5599          5  10015921   \n",
       "4     Men          759          5  10017833   \n",
       "\n",
       "                                         Description PrimaryColor  \n",
       "0  Black and grey printed medium trolley bag, sec...        Black  \n",
       "1  Beige & Grey made to measure kurta with churid...        Beige  \n",
       "2  Pink coloured wash 5-pocket high-rise cropped ...         Pink  \n",
       "3  Blue self-design bandhgala suitBlue self-desig...         Blue  \n",
       "4  Brown and off-white printed casual shirt, has ...        White  "
      ]
     },
     "execution_count": 9,
     "metadata": {},
     "output_type": "execute_result"
    }
   ],
   "source": [
    "df = pd.merge( left = df2, right = df1, how = 'inner' , left_on = \"ProductID\", right_on = \"ID\" )\n",
    "df.head()"
   ]
  },
  {
   "cell_type": "code",
   "execution_count": 10,
   "id": "6d303bca",
   "metadata": {},
   "outputs": [],
   "source": [
    "df.drop(\"ID\", axis = 1, inplace = True)"
   ]
  },
  {
   "cell_type": "code",
   "execution_count": 11,
   "id": "68c79b05",
   "metadata": {},
   "outputs": [
    {
     "data": {
      "text/html": [
       "<div>\n",
       "<style scoped>\n",
       "    .dataframe tbody tr th:only-of-type {\n",
       "        vertical-align: middle;\n",
       "    }\n",
       "\n",
       "    .dataframe tbody tr th {\n",
       "        vertical-align: top;\n",
       "    }\n",
       "\n",
       "    .dataframe thead th {\n",
       "        text-align: right;\n",
       "    }\n",
       "</style>\n",
       "<table border=\"1\" class=\"dataframe\">\n",
       "  <thead>\n",
       "    <tr style=\"text-align: right;\">\n",
       "      <th></th>\n",
       "      <th>ProductID</th>\n",
       "      <th>ProductName</th>\n",
       "      <th>ProductBrand</th>\n",
       "      <th>Gender</th>\n",
       "      <th>Price (INR)</th>\n",
       "      <th>NumImages</th>\n",
       "      <th>Description</th>\n",
       "      <th>PrimaryColor</th>\n",
       "    </tr>\n",
       "  </thead>\n",
       "  <tbody>\n",
       "    <tr>\n",
       "      <th>0</th>\n",
       "      <td>10017413</td>\n",
       "      <td>DKNY Unisex Black &amp; Grey Printed Medium Trolle...</td>\n",
       "      <td>DKNY</td>\n",
       "      <td>Unisex</td>\n",
       "      <td>11745</td>\n",
       "      <td>7</td>\n",
       "      <td>Black and grey printed medium trolley bag, sec...</td>\n",
       "      <td>Black</td>\n",
       "    </tr>\n",
       "    <tr>\n",
       "      <th>1</th>\n",
       "      <td>10016283</td>\n",
       "      <td>EthnoVogue Women Beige &amp; Grey Made to Measure ...</td>\n",
       "      <td>EthnoVogue</td>\n",
       "      <td>Women</td>\n",
       "      <td>5810</td>\n",
       "      <td>7</td>\n",
       "      <td>Beige &amp; Grey made to measure kurta with churid...</td>\n",
       "      <td>Beige</td>\n",
       "    </tr>\n",
       "    <tr>\n",
       "      <th>2</th>\n",
       "      <td>10009781</td>\n",
       "      <td>SPYKAR Women Pink Alexa Super Skinny Fit High-...</td>\n",
       "      <td>SPYKAR</td>\n",
       "      <td>Women</td>\n",
       "      <td>899</td>\n",
       "      <td>7</td>\n",
       "      <td>Pink coloured wash 5-pocket high-rise cropped ...</td>\n",
       "      <td>Pink</td>\n",
       "    </tr>\n",
       "    <tr>\n",
       "      <th>3</th>\n",
       "      <td>10015921</td>\n",
       "      <td>Raymond Men Blue Self-Design Single-Breasted B...</td>\n",
       "      <td>Raymond</td>\n",
       "      <td>Men</td>\n",
       "      <td>5599</td>\n",
       "      <td>5</td>\n",
       "      <td>Blue self-design bandhgala suitBlue self-desig...</td>\n",
       "      <td>Blue</td>\n",
       "    </tr>\n",
       "    <tr>\n",
       "      <th>4</th>\n",
       "      <td>10017833</td>\n",
       "      <td>Parx Men Brown &amp; Off-White Slim Fit Printed Ca...</td>\n",
       "      <td>Parx</td>\n",
       "      <td>Men</td>\n",
       "      <td>759</td>\n",
       "      <td>5</td>\n",
       "      <td>Brown and off-white printed casual shirt, has ...</td>\n",
       "      <td>White</td>\n",
       "    </tr>\n",
       "  </tbody>\n",
       "</table>\n",
       "</div>"
      ],
      "text/plain": [
       "   ProductID                                        ProductName ProductBrand  \\\n",
       "0   10017413  DKNY Unisex Black & Grey Printed Medium Trolle...         DKNY   \n",
       "1   10016283  EthnoVogue Women Beige & Grey Made to Measure ...   EthnoVogue   \n",
       "2   10009781  SPYKAR Women Pink Alexa Super Skinny Fit High-...       SPYKAR   \n",
       "3   10015921  Raymond Men Blue Self-Design Single-Breasted B...      Raymond   \n",
       "4   10017833  Parx Men Brown & Off-White Slim Fit Printed Ca...         Parx   \n",
       "\n",
       "   Gender  Price (INR)  NumImages  \\\n",
       "0  Unisex        11745          7   \n",
       "1   Women         5810          7   \n",
       "2   Women          899          7   \n",
       "3     Men         5599          5   \n",
       "4     Men          759          5   \n",
       "\n",
       "                                         Description PrimaryColor  \n",
       "0  Black and grey printed medium trolley bag, sec...        Black  \n",
       "1  Beige & Grey made to measure kurta with churid...        Beige  \n",
       "2  Pink coloured wash 5-pocket high-rise cropped ...         Pink  \n",
       "3  Blue self-design bandhgala suitBlue self-desig...         Blue  \n",
       "4  Brown and off-white printed casual shirt, has ...        White  "
      ]
     },
     "execution_count": 11,
     "metadata": {},
     "output_type": "execute_result"
    }
   ],
   "source": [
    "df.head()"
   ]
  },
  {
   "cell_type": "code",
   "execution_count": 12,
   "id": "4c8527e5",
   "metadata": {},
   "outputs": [
    {
     "data": {
      "text/html": [
       "<div>\n",
       "<style scoped>\n",
       "    .dataframe tbody tr th:only-of-type {\n",
       "        vertical-align: middle;\n",
       "    }\n",
       "\n",
       "    .dataframe tbody tr th {\n",
       "        vertical-align: top;\n",
       "    }\n",
       "\n",
       "    .dataframe thead th {\n",
       "        text-align: right;\n",
       "    }\n",
       "</style>\n",
       "<table border=\"1\" class=\"dataframe\">\n",
       "  <thead>\n",
       "    <tr style=\"text-align: right;\">\n",
       "      <th></th>\n",
       "      <th>ProductID</th>\n",
       "      <th>ProductName</th>\n",
       "      <th>ProductBrand</th>\n",
       "      <th>Gender</th>\n",
       "      <th>Price (INR)</th>\n",
       "      <th>NumImages</th>\n",
       "      <th>Description</th>\n",
       "      <th>PrimaryColor</th>\n",
       "    </tr>\n",
       "  </thead>\n",
       "  <tbody>\n",
       "    <tr>\n",
       "      <th>count</th>\n",
       "      <td>1.249100e+04</td>\n",
       "      <td>12491</td>\n",
       "      <td>12491</td>\n",
       "      <td>12491</td>\n",
       "      <td>12491.000000</td>\n",
       "      <td>12491.000000</td>\n",
       "      <td>12491</td>\n",
       "      <td>11597</td>\n",
       "    </tr>\n",
       "    <tr>\n",
       "      <th>unique</th>\n",
       "      <td>NaN</td>\n",
       "      <td>10761</td>\n",
       "      <td>677</td>\n",
       "      <td>6</td>\n",
       "      <td>NaN</td>\n",
       "      <td>NaN</td>\n",
       "      <td>10435</td>\n",
       "      <td>27</td>\n",
       "    </tr>\n",
       "    <tr>\n",
       "      <th>top</th>\n",
       "      <td>NaN</td>\n",
       "      <td>Parx Men Blue Slim Fit Checked Casual Shirt</td>\n",
       "      <td>Indian Terrain</td>\n",
       "      <td>Women</td>\n",
       "      <td>NaN</td>\n",
       "      <td>NaN</td>\n",
       "      <td>Blue medium wash 5-pocket mid-rise jeans, clea...</td>\n",
       "      <td>Blue</td>\n",
       "    </tr>\n",
       "    <tr>\n",
       "      <th>freq</th>\n",
       "      <td>NaN</td>\n",
       "      <td>16</td>\n",
       "      <td>971</td>\n",
       "      <td>5126</td>\n",
       "      <td>NaN</td>\n",
       "      <td>NaN</td>\n",
       "      <td>54</td>\n",
       "      <td>3443</td>\n",
       "    </tr>\n",
       "    <tr>\n",
       "      <th>mean</th>\n",
       "      <td>9.917160e+06</td>\n",
       "      <td>NaN</td>\n",
       "      <td>NaN</td>\n",
       "      <td>NaN</td>\n",
       "      <td>1452.660956</td>\n",
       "      <td>4.913698</td>\n",
       "      <td>NaN</td>\n",
       "      <td>NaN</td>\n",
       "    </tr>\n",
       "    <tr>\n",
       "      <th>std</th>\n",
       "      <td>1.438006e+06</td>\n",
       "      <td>NaN</td>\n",
       "      <td>NaN</td>\n",
       "      <td>NaN</td>\n",
       "      <td>2118.503976</td>\n",
       "      <td>1.092333</td>\n",
       "      <td>NaN</td>\n",
       "      <td>NaN</td>\n",
       "    </tr>\n",
       "    <tr>\n",
       "      <th>min</th>\n",
       "      <td>1.012060e+05</td>\n",
       "      <td>NaN</td>\n",
       "      <td>NaN</td>\n",
       "      <td>NaN</td>\n",
       "      <td>90.000000</td>\n",
       "      <td>1.000000</td>\n",
       "      <td>NaN</td>\n",
       "      <td>NaN</td>\n",
       "    </tr>\n",
       "    <tr>\n",
       "      <th>25%</th>\n",
       "      <td>1.006215e+07</td>\n",
       "      <td>NaN</td>\n",
       "      <td>NaN</td>\n",
       "      <td>NaN</td>\n",
       "      <td>649.000000</td>\n",
       "      <td>5.000000</td>\n",
       "      <td>NaN</td>\n",
       "      <td>NaN</td>\n",
       "    </tr>\n",
       "    <tr>\n",
       "      <th>50%</th>\n",
       "      <td>1.015463e+07</td>\n",
       "      <td>NaN</td>\n",
       "      <td>NaN</td>\n",
       "      <td>NaN</td>\n",
       "      <td>920.000000</td>\n",
       "      <td>5.000000</td>\n",
       "      <td>NaN</td>\n",
       "      <td>NaN</td>\n",
       "    </tr>\n",
       "    <tr>\n",
       "      <th>75%</th>\n",
       "      <td>1.021565e+07</td>\n",
       "      <td>NaN</td>\n",
       "      <td>NaN</td>\n",
       "      <td>NaN</td>\n",
       "      <td>1499.000000</td>\n",
       "      <td>5.000000</td>\n",
       "      <td>NaN</td>\n",
       "      <td>NaN</td>\n",
       "    </tr>\n",
       "    <tr>\n",
       "      <th>max</th>\n",
       "      <td>1.027514e+07</td>\n",
       "      <td>NaN</td>\n",
       "      <td>NaN</td>\n",
       "      <td>NaN</td>\n",
       "      <td>63090.000000</td>\n",
       "      <td>10.000000</td>\n",
       "      <td>NaN</td>\n",
       "      <td>NaN</td>\n",
       "    </tr>\n",
       "  </tbody>\n",
       "</table>\n",
       "</div>"
      ],
      "text/plain": [
       "           ProductID                                  ProductName  \\\n",
       "count   1.249100e+04                                        12491   \n",
       "unique           NaN                                        10761   \n",
       "top              NaN  Parx Men Blue Slim Fit Checked Casual Shirt   \n",
       "freq             NaN                                           16   \n",
       "mean    9.917160e+06                                          NaN   \n",
       "std     1.438006e+06                                          NaN   \n",
       "min     1.012060e+05                                          NaN   \n",
       "25%     1.006215e+07                                          NaN   \n",
       "50%     1.015463e+07                                          NaN   \n",
       "75%     1.021565e+07                                          NaN   \n",
       "max     1.027514e+07                                          NaN   \n",
       "\n",
       "          ProductBrand Gender   Price (INR)     NumImages  \\\n",
       "count            12491  12491  12491.000000  12491.000000   \n",
       "unique             677      6           NaN           NaN   \n",
       "top     Indian Terrain  Women           NaN           NaN   \n",
       "freq               971   5126           NaN           NaN   \n",
       "mean               NaN    NaN   1452.660956      4.913698   \n",
       "std                NaN    NaN   2118.503976      1.092333   \n",
       "min                NaN    NaN     90.000000      1.000000   \n",
       "25%                NaN    NaN    649.000000      5.000000   \n",
       "50%                NaN    NaN    920.000000      5.000000   \n",
       "75%                NaN    NaN   1499.000000      5.000000   \n",
       "max                NaN    NaN  63090.000000     10.000000   \n",
       "\n",
       "                                              Description PrimaryColor  \n",
       "count                                               12491        11597  \n",
       "unique                                              10435           27  \n",
       "top     Blue medium wash 5-pocket mid-rise jeans, clea...         Blue  \n",
       "freq                                                   54         3443  \n",
       "mean                                                  NaN          NaN  \n",
       "std                                                   NaN          NaN  \n",
       "min                                                   NaN          NaN  \n",
       "25%                                                   NaN          NaN  \n",
       "50%                                                   NaN          NaN  \n",
       "75%                                                   NaN          NaN  \n",
       "max                                                   NaN          NaN  "
      ]
     },
     "execution_count": 12,
     "metadata": {},
     "output_type": "execute_result"
    }
   ],
   "source": [
    "df.describe( include = 'all' )"
   ]
  },
  {
   "cell_type": "code",
   "execution_count": 13,
   "id": "e2ec022b",
   "metadata": {},
   "outputs": [
    {
     "data": {
      "image/png": "[encoded data removed]",
      "text/plain": [
       "<Figure size 640x480 with 1 Axes>"
      ]
     },
     "metadata": {},
     "output_type": "display_data"
    }
   ],
   "source": [
    "sns.histplot(df['Price (INR)'])\n",
    "plt.show()"
   ]
  },
  {
   "cell_type": "code",
   "execution_count": null,
   "id": "2ea7477a",
   "metadata": {},
   "outputs": [],
   "source": [
    "# Right dataset  .....................\n",
    "# No Duplicates .,   # OK\n",
    "# No (Minimum)  NULL Values # OK\n",
    "# Remove unnesaary columns # OK\n",
    "# DATA CLEANING  # ON-GOING"
   ]
  },
  {
   "cell_type": "code",
   "execution_count": 15,
   "id": "7dd13a6f",
   "metadata": {},
   "outputs": [],
   "source": [
    "df.columns = [col.strip() for col in df.columns]"
   ]
  },
  {
   "cell_type": "code",
   "execution_count": 16,
   "id": "191bb519",
   "metadata": {},
   "outputs": [
    {
     "data": {
      "text/plain": [
       "Index(['ProductID', 'ProductName', 'ProductBrand', 'Gender', 'Price (INR)',\n",
       "       'NumImages', 'Description', 'PrimaryColor'],\n",
       "      dtype='object')"
      ]
     },
     "execution_count": 16,
     "metadata": {},
     "output_type": "execute_result"
    }
   ],
   "source": [
    "df.columns"
   ]
  },
  {
   "cell_type": "code",
   "execution_count": 17,
   "id": "cb12fa1c",
   "metadata": {},
   "outputs": [
    {
     "data": {
      "text/plain": [
       "ProductID         0\n",
       "ProductName       0\n",
       "ProductBrand      0\n",
       "Gender            0\n",
       "Price (INR)       0\n",
       "NumImages         0\n",
       "Description       0\n",
       "PrimaryColor    894\n",
       "dtype: int64"
      ]
     },
     "execution_count": 17,
     "metadata": {},
     "output_type": "execute_result"
    }
   ],
   "source": [
    "df.isna().sum()"
   ]
  },
  {
   "cell_type": "code",
   "execution_count": 18,
   "id": "2651986c",
   "metadata": {},
   "outputs": [
    {
     "data": {
      "text/plain": [
       "0"
      ]
     },
     "execution_count": 18,
     "metadata": {},
     "output_type": "execute_result"
    }
   ],
   "source": [
    "df.duplicated().sum()"
   ]
  },
  {
   "cell_type": "code",
   "execution_count": null,
   "id": "98b5690c",
   "metadata": {},
   "outputs": [],
   "source": []
  },
  {
   "cell_type": "code",
   "execution_count": null,
   "id": "4ef31ada",
   "metadata": {},
   "outputs": [],
   "source": [
    "# ROWS : population, records, enteries, sample...\n",
    "# COLUMNS : Features, attributes, measure, variables ..\n",
    "# TABLE : Dataframe\n",
    "\n",
    "# Machine learning\n",
    "# Input                         # Output\n",
    "InDependent variables            Dependent variables\n",
    "features                         Target , Class , Label\n"
   ]
  },
  {
   "cell_type": "code",
   "execution_count": null,
   "id": "ecc66a16",
   "metadata": {},
   "outputs": [],
   "source": []
  },
  {
   "cell_type": "code",
   "execution_count": 53,
   "id": "53ebcd29",
   "metadata": {},
   "outputs": [],
   "source": [
    "df.rename(columns = {\"Price (INR)\" : \"Price\"}, inplace=True)"
   ]
  },
  {
   "cell_type": "code",
   "execution_count": 26,
   "id": "8450f694",
   "metadata": {},
   "outputs": [
    {
     "data": {
      "text/plain": [
       "['ProductName', 'ProductBrand', 'Gender', 'Description', 'PrimaryColor']"
      ]
     },
     "execution_count": 26,
     "metadata": {},
     "output_type": "execute_result"
    }
   ],
   "source": [
    " [ cols for cols in df.columns if df[cols].dtypes == np.object0]"
   ]
  },
  {
   "cell_type": "code",
   "execution_count": 24,
   "id": "b298b112",
   "metadata": {},
   "outputs": [
    {
     "data": {
      "text/plain": [
       "ProductID        int64\n",
       "ProductName     object\n",
       "ProductBrand    object\n",
       "Gender          object\n",
       "Price (INR)      int64\n",
       "NumImages        int64\n",
       "Description     object\n",
       "PrimaryColor    object\n",
       "dtype: object"
      ]
     },
     "execution_count": 24,
     "metadata": {},
     "output_type": "execute_result"
    }
   ],
   "source": [
    "df.dtypes"
   ]
  },
  {
   "cell_type": "code",
   "execution_count": null,
   "id": "9d8a82e4",
   "metadata": {},
   "outputs": [],
   "source": []
  },
  {
   "cell_type": "code",
   "execution_count": null,
   "id": "b9adfba1",
   "metadata": {},
   "outputs": [],
   "source": []
  },
  {
   "cell_type": "code",
   "execution_count": 28,
   "id": "f4d139c4",
   "metadata": {},
   "outputs": [
    {
     "data": {
      "text/plain": [
       "['ProductName', 'ProductBrand', 'Gender', 'Description', 'PrimaryColor']"
      ]
     },
     "execution_count": 28,
     "metadata": {},
     "output_type": "execute_result"
    }
   ],
   "source": [
    "cat_cols =  [ cols for cols in df.columns if df[cols].dtypes == np.object0]\n",
    "cat_cols"
   ]
  },
  {
   "cell_type": "code",
   "execution_count": 39,
   "id": "3fa22165",
   "metadata": {},
   "outputs": [
    {
     "name": "stdout",
     "output_type": "stream",
     "text": [
      "Column Name : ProductName\n",
      "Count Of Unique Values --> \n",
      "10761\n",
      "Unique Values --> \n",
      "['DKNY Unisex Black & Grey Printed Medium Trolley Bag'\n",
      " 'EthnoVogue Women Beige & Grey Made to Measure Custom Made Kurta Set with Jacket'\n",
      " 'SPYKAR Women Pink Alexa Super Skinny Fit High-Rise Clean Look Stretchable Cropped Jeans'\n",
      " 'Raymond Men Blue Self-Design Single-Breasted Bandhgala Suit'\n",
      " 'Parx Men Brown & Off-White Slim Fit Printed Casual Shirt']\n",
      "\n",
      "Value Counts --> \n",
      "Parx Men Blue Slim Fit Checked Casual Shirt                           16\n",
      "ZHEIA Women Blue Skinny Fit Mid-Rise Clean Look Stretchable Jeans     15\n",
      "Roadster Men Blue Skinny Fit Mid-Rise Clean Look Stretchable Jeans    14\n",
      "Sonari Pack of 2 Full-Coverage Bras                                   14\n",
      "Roadster Men Blue Slim Fit Mid-Rise Clean Look Stretchable Jeans      13\n",
      "Name: ProductName, dtype: int64\n",
      "------------------------------------------------------------\n",
      "\n",
      "Column Name : ProductBrand\n",
      "Count Of Unique Values --> \n",
      "677\n",
      "Unique Values --> \n",
      "['DKNY' 'EthnoVogue' 'SPYKAR' 'Raymond' 'Parx']\n",
      "\n",
      "Value Counts --> \n",
      "Indian Terrain    971\n",
      "Puma              345\n",
      "Pepe Jeans        340\n",
      "AURELIA           307\n",
      "Flying Machine    301\n",
      "Name: ProductBrand, dtype: int64\n",
      "------------------------------------------------------------\n",
      "\n",
      "Column Name : Gender\n",
      "Count Of Unique Values --> \n",
      "6\n",
      "Unique Values --> \n",
      "['Unisex' 'Women' 'Men' 'Boys' 'Girls']\n",
      "\n",
      "Value Counts --> \n",
      "Women     5126\n",
      "Men       4591\n",
      "Unisex    1188\n",
      "Boys      1100\n",
      "Girls      440\n",
      "Name: Gender, dtype: int64\n",
      "------------------------------------------------------------\n",
      "\n",
      "Column Name : Description\n",
      "Count Of Unique Values --> \n",
      "10435\n",
      "Unique Values --> \n",
      "['Black and grey printed medium trolley bag, secured with a TSA lockOne handle on the top and one on the side, has a trolley with a retractable handle on the top and four corner mounted inline skate wheelsOne main zip compartment, zip lining, two compression straps with click clasps, one zip compartment on the flap with three zip pocketsWarranty: 5 yearsWarranty provided by Brand Owner / Manufacturer'\n",
      " 'Beige & Grey made to measure kurta with churidar and\\xa0dupattaBeige made to measure calf\\xa0length kurta, has a V-neck, three-quarter sleeves, lightly padded on bust, flared hem, concealed zip closureGrey solid made to measure churidar, drawstring closureGrey net sequined dupatta, has printed tapingWhat is Made to Measure?Customised Kurta Set according to your Bust and Length. So please refer to the Size Chart to pick your perfect size.How to measure bust?Measure under your arms and around your chest to find your bust size in inchesHow to measure Kurta length?Measure from shoulder till barefoot to find kurta length in'\n",
      " 'Pink coloured wash 5-pocket high-rise cropped jeans, clean look, no fade, has a button and zip closure, and waistband with belt loops'\n",
      " 'Blue self-design bandhgala suitBlue self-design bandhgala blazer, has a mandarin collar, single breasted with full button placket, long sleeves, three pockets, an attached lining and a double-vented back hemBlue self-design mid-rise trousers, has a zip fly with a button and a hook-and-bar closure, four pockets, a waistband with belt loops'\n",
      " 'Brown and off-white printed casual shirt, has a spread collar, long sleeves, button placket,  curved hem, one patch pocket']\n",
      "\n",
      "Value Counts --> \n",
      "Blue medium wash 5-pocket mid-rise jeans, clean look, heavy fade, has a button and zip closure, and waistband with belt loops                                                                                                                                             54\n",
      "Blue medium wash 5-pocket mid-rise jeans, clean look, light fade, has a button and zip closure, and waistband with belt loops                                                                                                                                             47\n",
      "Black printed T-shirt, has a round neck, and short sleeves                                                                                                                                                                                                                36\n",
      "Pattern: PrintedFinish: MatteMaterial: Ceramic                                                                                                                                                                                                                            30\n",
      "Pack of 2 solid medium-coverage assorted T-shirt brasLightly padded and non-wired seamless cupsRegular straps and back closureBack style: RegularFeature: All Day ComfortDisclaimer: The final product delivered might vary in colour and prints from the display here    29\n",
      "Name: Description, dtype: int64\n",
      "------------------------------------------------------------\n",
      "\n",
      "Column Name : PrimaryColor\n",
      "Count Of Unique Values --> \n",
      "27\n",
      "Unique Values --> \n",
      "[' Black' ' Beige' ' Pink' 'Blue' ' White']\n",
      "\n",
      "Value Counts --> \n",
      "Blue      3443\n",
      " Black    1640\n",
      " Red      1543\n",
      " Green     908\n",
      " White     880\n",
      "Name: PrimaryColor, dtype: int64\n",
      "------------------------------------------------------------\n",
      "\n"
     ]
    }
   ],
   "source": [
    "# unique, nunique, value count\n",
    "\n",
    "for c in range( len(cat_cols)  ):\n",
    "#     print(c, cat_cols[c])\n",
    "    print( f\"Column Name : {cat_cols[c]}\" )\n",
    "    print( f\"Count Of Unique Values --> \\n{ df[ cat_cols[c] ].nunique()  }\" )\n",
    "    print( f\"Unique Values --> \\n{ df[ cat_cols[c] ].unique()[ : 5]  }\" )\n",
    "    print()\n",
    "    print( f\"Value Counts --> \\n{ df[ cat_cols[c] ].value_counts().head()  }\" )\n",
    "    \n",
    "    \n",
    "    \n",
    "    print(\"--\" * 30)\n",
    "    print()\n",
    "    "
   ]
  },
  {
   "cell_type": "code",
   "execution_count": 40,
   "id": "936ab5c7",
   "metadata": {},
   "outputs": [
    {
     "data": {
      "text/plain": [
       "array([' Black', ' Beige', ' Pink', 'Blue', ' White', ' Brown',\n",
       "       ' Burgundy', ' Red', ' Green', nan, ' Maroon', ' Navy', ' Gold',\n",
       "       ' Yellow', ' Grey', ' Platinum', ' Silver', ' Khaki', ' Mustard',\n",
       "       ' Lavender', ' Matte', ' Rose', ' Charcoal', ' Purple', ' Orange',\n",
       "       ' Peach', ' Magenta', ' Bronze'], dtype=object)"
      ]
     },
     "execution_count": 40,
     "metadata": {},
     "output_type": "execute_result"
    }
   ],
   "source": [
    "df['PrimaryColor'].unique()"
   ]
  },
  {
   "cell_type": "code",
   "execution_count": null,
   "id": "dee27c74",
   "metadata": {},
   "outputs": [],
   "source": []
  },
  {
   "cell_type": "code",
   "execution_count": 51,
   "id": "89324af9",
   "metadata": {},
   "outputs": [
    {
     "data": {
      "text/html": [
       "<div>\n",
       "<style scoped>\n",
       "    .dataframe tbody tr th:only-of-type {\n",
       "        vertical-align: middle;\n",
       "    }\n",
       "\n",
       "    .dataframe tbody tr th {\n",
       "        vertical-align: top;\n",
       "    }\n",
       "\n",
       "    .dataframe thead th {\n",
       "        text-align: right;\n",
       "    }\n",
       "</style>\n",
       "<table border=\"1\" class=\"dataframe\">\n",
       "  <thead>\n",
       "    <tr style=\"text-align: right;\">\n",
       "      <th></th>\n",
       "      <th>ProductID</th>\n",
       "      <th>ProductName</th>\n",
       "      <th>ProductBrand</th>\n",
       "      <th>Gender</th>\n",
       "      <th>Price (INR)</th>\n",
       "      <th>NumImages</th>\n",
       "      <th>Description</th>\n",
       "      <th>PrimaryColor</th>\n",
       "    </tr>\n",
       "  </thead>\n",
       "  <tbody>\n",
       "    <tr>\n",
       "      <th>8</th>\n",
       "      <td>10000571</td>\n",
       "      <td>Parx Men Brown Tapered Fit Solid Regular Trousers</td>\n",
       "      <td>Parx</td>\n",
       "      <td>Men</td>\n",
       "      <td>664</td>\n",
       "      <td>5</td>\n",
       "      <td>Brown solid regular trousers regular trousers</td>\n",
       "      <td>Red</td>\n",
       "    </tr>\n",
       "    <tr>\n",
       "      <th>14</th>\n",
       "      <td>10017749</td>\n",
       "      <td>Parx Men Red Slim Fit Checked Casual Shirt</td>\n",
       "      <td>Parx</td>\n",
       "      <td>Men</td>\n",
       "      <td>752</td>\n",
       "      <td>5</td>\n",
       "      <td>Red checked casual shirt, has a spread collar,...</td>\n",
       "      <td>Red</td>\n",
       "    </tr>\n",
       "    <tr>\n",
       "      <th>19</th>\n",
       "      <td>10013483</td>\n",
       "      <td>PARFAIT Plus Size Black Striped Non-Wired Ligh...</td>\n",
       "      <td>PARFAIT</td>\n",
       "      <td>Women</td>\n",
       "      <td>1749</td>\n",
       "      <td>3</td>\n",
       "      <td>Black striped medium-coverage T-shirt braLight...</td>\n",
       "      <td>Red</td>\n",
       "    </tr>\n",
       "    <tr>\n",
       "      <th>22</th>\n",
       "      <td>10012795</td>\n",
       "      <td>SEJ by Nisha Gupta Set of 6 Multicoloured Prin...</td>\n",
       "      <td>SEJ by Nisha Gupta</td>\n",
       "      <td>Unisex</td>\n",
       "      <td>899</td>\n",
       "      <td>4</td>\n",
       "      <td>Set content: 6 table matsShape: RectangleColou...</td>\n",
       "      <td>Red</td>\n",
       "    </tr>\n",
       "    <tr>\n",
       "      <th>26</th>\n",
       "      <td>10017377</td>\n",
       "      <td>Story@home Multicoloured Geometric 210TC Cotto...</td>\n",
       "      <td>Story@home</td>\n",
       "      <td>Unisex</td>\n",
       "      <td>1199</td>\n",
       "      <td>4</td>\n",
       "      <td>Set content: 1 King bedsheet with 2 pillow cov...</td>\n",
       "      <td>Red</td>\n",
       "    </tr>\n",
       "  </tbody>\n",
       "</table>\n",
       "</div>"
      ],
      "text/plain": [
       "    ProductID                                        ProductName  \\\n",
       "8    10000571  Parx Men Brown Tapered Fit Solid Regular Trousers   \n",
       "14   10017749         Parx Men Red Slim Fit Checked Casual Shirt   \n",
       "19   10013483  PARFAIT Plus Size Black Striped Non-Wired Ligh...   \n",
       "22   10012795  SEJ by Nisha Gupta Set of 6 Multicoloured Prin...   \n",
       "26   10017377  Story@home Multicoloured Geometric 210TC Cotto...   \n",
       "\n",
       "          ProductBrand  Gender  Price (INR)  NumImages  \\\n",
       "8                 Parx     Men          664          5   \n",
       "14                Parx     Men          752          5   \n",
       "19             PARFAIT   Women         1749          3   \n",
       "22  SEJ by Nisha Gupta  Unisex          899          4   \n",
       "26          Story@home  Unisex         1199          4   \n",
       "\n",
       "                                          Description PrimaryColor  \n",
       "8       Brown solid regular trousers regular trousers          Red  \n",
       "14  Red checked casual shirt, has a spread collar,...          Red  \n",
       "19  Black striped medium-coverage T-shirt braLight...          Red  \n",
       "22  Set content: 6 table matsShape: RectangleColou...          Red  \n",
       "26  Set content: 1 King bedsheet with 2 pillow cov...          Red  "
      ]
     },
     "execution_count": 51,
     "metadata": {},
     "output_type": "execute_result"
    }
   ],
   "source": [
    "df[ df['PrimaryColor'] == 'Red' ].head()"
   ]
  },
  {
   "cell_type": "code",
   "execution_count": 45,
   "id": "aceb0e0f",
   "metadata": {},
   "outputs": [
    {
     "data": {
      "text/plain": [
       "array([' Black', ' Beige', ' Pink', 'Blue', ' White', ' Brown',\n",
       "       ' Burgundy', ' Red', ' Green', 'Others', ' Maroon', ' Navy',\n",
       "       ' Gold', ' Yellow', ' Grey', ' Platinum', ' Silver', ' Khaki',\n",
       "       ' Mustard', ' Lavender', ' Matte', ' Rose', ' Charcoal', ' Purple',\n",
       "       ' Orange', ' Peach', ' Magenta', ' Bronze'], dtype=object)"
      ]
     },
     "execution_count": 45,
     "metadata": {},
     "output_type": "execute_result"
    }
   ],
   "source": [
    "# Apply fill na before strip()\n",
    "df['PrimaryColor'].fillna(\"Others\").unique()"
   ]
  },
  {
   "cell_type": "code",
   "execution_count": 46,
   "id": "678ba68c",
   "metadata": {},
   "outputs": [],
   "source": [
    "df['PrimaryColor'].fillna(\"Others\", inplace = True)"
   ]
  },
  {
   "cell_type": "code",
   "execution_count": 48,
   "id": "ff00762d",
   "metadata": {},
   "outputs": [],
   "source": [
    "df['PrimaryColor'] = df['PrimaryColor'].apply(lambda x : str(x).strip()  )"
   ]
  },
  {
   "cell_type": "code",
   "execution_count": 49,
   "id": "0c5dadb0",
   "metadata": {},
   "outputs": [
    {
     "data": {
      "text/plain": [
       "array(['Black', 'Beige', 'Pink', 'Blue', 'White', 'Brown', 'Burgundy',\n",
       "       'Red', 'Green', 'Others', 'Maroon', 'Navy', 'Gold', 'Yellow',\n",
       "       'Grey', 'Platinum', 'Silver', 'Khaki', 'Mustard', 'Lavender',\n",
       "       'Matte', 'Rose', 'Charcoal', 'Purple', 'Orange', 'Peach',\n",
       "       'Magenta', 'Bronze'], dtype=object)"
      ]
     },
     "execution_count": 49,
     "metadata": {},
     "output_type": "execute_result"
    }
   ],
   "source": [
    "df['PrimaryColor'].unique()"
   ]
  },
  {
   "cell_type": "code",
   "execution_count": null,
   "id": "98e37853",
   "metadata": {},
   "outputs": [],
   "source": []
  },
  {
   "cell_type": "code",
   "execution_count": 47,
   "id": "7bd39379",
   "metadata": {},
   "outputs": [
    {
     "data": {
      "text/plain": [
       "array(['Black', 'Beige', 'Pink', 'Blue', 'White', 'Brown', 'Burgundy',\n",
       "       'Red', 'Green', 'Others', 'Maroon', 'Navy', 'Gold', 'Yellow',\n",
       "       'Grey', 'Platinum', 'Silver', 'Khaki', 'Mustard', 'Lavender',\n",
       "       'Matte', 'Rose', 'Charcoal', 'Purple', 'Orange', 'Peach',\n",
       "       'Magenta', 'Bronze'], dtype=object)"
      ]
     },
     "execution_count": 47,
     "metadata": {},
     "output_type": "execute_result"
    }
   ],
   "source": [
    "df['PrimaryColor'].apply(lambda x : str(x).strip()  ).unique()"
   ]
  },
  {
   "cell_type": "code",
   "execution_count": null,
   "id": "a584f5bf",
   "metadata": {},
   "outputs": [],
   "source": [
    "# Fill na after strip()\n",
    "# df['PrimaryColor'].apply(lambda x : \"Others\" if str(x) == \"nan\" else \"\"  )"
   ]
  },
  {
   "cell_type": "code",
   "execution_count": null,
   "id": "c9fe54d8",
   "metadata": {},
   "outputs": [],
   "source": []
  },
  {
   "cell_type": "code",
   "execution_count": 54,
   "id": "0588a1df",
   "metadata": {},
   "outputs": [
    {
     "data": {
      "image/png": "[encoded data removed]",
      "text/plain": [
       "<Figure size 640x480 with 1 Axes>"
      ]
     },
     "metadata": {},
     "output_type": "display_data"
    }
   ],
   "source": [
    "sns.histplot(df['Price'])\n",
    "plt.show()"
   ]
  },
  {
   "cell_type": "code",
   "execution_count": 55,
   "id": "8729192d",
   "metadata": {},
   "outputs": [],
   "source": [
    "df_under_10000 = df[ df['Price'] <= 10000 ]\n",
    "df_above_10000 = df[ df['Price'] > 10000 ]\n"
   ]
  },
  {
   "cell_type": "code",
   "execution_count": 59,
   "id": "778e1632",
   "metadata": {},
   "outputs": [
    {
     "data": {
      "text/plain": [
       "(12491, 8)"
      ]
     },
     "execution_count": 59,
     "metadata": {},
     "output_type": "execute_result"
    }
   ],
   "source": [
    "df.shape"
   ]
  },
  {
   "cell_type": "code",
   "execution_count": 58,
   "id": "e0f401e9",
   "metadata": {},
   "outputs": [
    {
     "data": {
      "text/plain": [
       "(12397, 8)"
      ]
     },
     "execution_count": 58,
     "metadata": {},
     "output_type": "execute_result"
    }
   ],
   "source": [
    "df_under_10000.head()\n",
    "df_under_10000.shape"
   ]
  },
  {
   "cell_type": "code",
   "execution_count": 62,
   "id": "ff3be2cf",
   "metadata": {},
   "outputs": [
    {
     "data": {
      "text/plain": [
       "99.24745816988232"
      ]
     },
     "execution_count": 62,
     "metadata": {},
     "output_type": "execute_result"
    }
   ],
   "source": [
    "df_under_10000.shape[0] / df.shape[0] * 100"
   ]
  },
  {
   "cell_type": "code",
   "execution_count": null,
   "id": "ac9252cb",
   "metadata": {},
   "outputs": [],
   "source": []
  },
  {
   "cell_type": "code",
   "execution_count": null,
   "id": "e46c7f0c",
   "metadata": {},
   "outputs": [],
   "source": []
  },
  {
   "cell_type": "code",
   "execution_count": 63,
   "id": "63c0fc10",
   "metadata": {},
   "outputs": [
    {
     "data": {
      "image/png": "[encoded data removed]",
      "text/plain": [
       "<Figure size 640x480 with 1 Axes>"
      ]
     },
     "metadata": {},
     "output_type": "display_data"
    }
   ],
   "source": [
    "sns.histplot(df_under_10000['Price'])\n",
    "plt.show()"
   ]
  },
  {
   "cell_type": "code",
   "execution_count": 64,
   "id": "00ffe871",
   "metadata": {},
   "outputs": [
    {
     "data": {
      "image/png": "[encoded data removed]",
      "text/plain": [
       "<Figure size 640x480 with 1 Axes>"
      ]
     },
     "metadata": {},
     "output_type": "display_data"
    }
   ],
   "source": [
    "sns.histplot(df_above_10000['Price'])\n",
    "plt.show()"
   ]
  },
  {
   "cell_type": "code",
   "execution_count": null,
   "id": "71b1ce98",
   "metadata": {},
   "outputs": [],
   "source": []
  },
  {
   "cell_type": "code",
   "execution_count": null,
   "id": "4468f983",
   "metadata": {},
   "outputs": [],
   "source": []
  },
  {
   "cell_type": "code",
   "execution_count": 68,
   "id": "c64a931f",
   "metadata": {},
   "outputs": [
    {
     "data": {
      "text/html": [
       "<div>\n",
       "<style scoped>\n",
       "    .dataframe tbody tr th:only-of-type {\n",
       "        vertical-align: middle;\n",
       "    }\n",
       "\n",
       "    .dataframe tbody tr th {\n",
       "        vertical-align: top;\n",
       "    }\n",
       "\n",
       "    .dataframe thead th {\n",
       "        text-align: right;\n",
       "    }\n",
       "</style>\n",
       "<table border=\"1\" class=\"dataframe\">\n",
       "  <thead>\n",
       "    <tr style=\"text-align: right;\">\n",
       "      <th></th>\n",
       "      <th>totalRecords</th>\n",
       "      <th>avgPrice</th>\n",
       "      <th>totalPrice</th>\n",
       "    </tr>\n",
       "    <tr>\n",
       "      <th>PrimaryColor</th>\n",
       "      <th></th>\n",
       "      <th></th>\n",
       "      <th></th>\n",
       "    </tr>\n",
       "  </thead>\n",
       "  <tbody>\n",
       "    <tr>\n",
       "      <th>Beige</th>\n",
       "      <td>236</td>\n",
       "      <td>1402.004237</td>\n",
       "      <td>330873</td>\n",
       "    </tr>\n",
       "    <tr>\n",
       "      <th>Black</th>\n",
       "      <td>1640</td>\n",
       "      <td>1951.487805</td>\n",
       "      <td>3200440</td>\n",
       "    </tr>\n",
       "    <tr>\n",
       "      <th>Blue</th>\n",
       "      <td>3443</td>\n",
       "      <td>1350.478652</td>\n",
       "      <td>4649698</td>\n",
       "    </tr>\n",
       "    <tr>\n",
       "      <th>Bronze</th>\n",
       "      <td>3</td>\n",
       "      <td>588.000000</td>\n",
       "      <td>1764</td>\n",
       "    </tr>\n",
       "    <tr>\n",
       "      <th>Brown</th>\n",
       "      <td>473</td>\n",
       "      <td>1540.021142</td>\n",
       "      <td>728430</td>\n",
       "    </tr>\n",
       "  </tbody>\n",
       "</table>\n",
       "</div>"
      ],
      "text/plain": [
       "              totalRecords     avgPrice  totalPrice\n",
       "PrimaryColor                                       \n",
       "Beige                  236  1402.004237      330873\n",
       "Black                 1640  1951.487805     3200440\n",
       "Blue                  3443  1350.478652     4649698\n",
       "Bronze                   3   588.000000        1764\n",
       "Brown                  473  1540.021142      728430"
      ]
     },
     "execution_count": 68,
     "metadata": {},
     "output_type": "execute_result"
    }
   ],
   "source": [
    "color_group = df.groupby(\"PrimaryColor\").agg(totalRecords = (\"PrimaryColor\", np.size),\n",
    "                                            avgPrice = (\"Price\", np.mean), \n",
    "                                            totalPrice = (\"Price\", np.sum))\n",
    "color_group.head()"
   ]
  },
  {
   "cell_type": "code",
   "execution_count": 71,
   "id": "d3649a52",
   "metadata": {},
   "outputs": [
    {
     "data": {
      "image/png": "[encoded data removed]",
      "text/plain": [
       "<Figure size 2000x800 with 3 Axes>"
      ]
     },
     "metadata": {},
     "output_type": "display_data"
    }
   ],
   "source": [
    "plt.figure( figsize=(20, 8) )\n",
    "plt.suptitle(\"Color Analysis\", fontsize = 18)\n",
    "\n",
    "plt.subplot(1 , 3 , 1)\n",
    "color_group = color_group.sort_values(by = \"totalRecords\", ascending = False)  # Sorted the group on the basis of column\n",
    "sns.barplot( x = color_group.index.values, y = color_group['totalRecords'].values , \n",
    "            palette= \"magma\")\n",
    "\n",
    "plt.title(\"Color vs Records\", fontsize = 12)\n",
    "plt.xticks(rotation = 45)\n",
    "\n",
    "\n",
    "plt.subplot(1 , 3 , 2)\n",
    "color_group = color_group.sort_values(by = \"avgPrice\", ascending = False)  # Sorted the group on the basis of column\n",
    "sns.barplot( x = color_group.index.values, y = color_group['avgPrice'].values , \n",
    "            palette= \"magma\")\n",
    "plt.title(\"Color vs avgPrice\", fontsize = 12)\n",
    "plt.xticks(rotation = 45)\n",
    "\n",
    "\n",
    "plt.subplot(1 , 3 , 3)\n",
    "color_group = color_group.sort_values(by = \"totalPrice\", ascending = False)  # Sorted the group on the basis of column\n",
    "sns.barplot( x = color_group.index.values, y = color_group['totalPrice'].values , \n",
    "            palette= \"magma\")\n",
    "plt.title(\"Color vs totalPrice\", fontsize = 12)\n",
    "plt.xticks(rotation = 45)\n",
    "\n",
    "\n",
    "plt.show()"
   ]
  },
  {
   "cell_type": "code",
   "execution_count": 74,
   "id": "108730ac",
   "metadata": {},
   "outputs": [
    {
     "name": "stdout",
     "output_type": "stream",
     "text": [
      "['Blue' 'Black' 'Red' 'White' 'Others' 'Green' 'Grey' 'Brown' 'Pink'\n",
      " 'Yellow']\n",
      "[3443 1640 1543  880  894  908  684  473  391  406]\n"
     ]
    }
   ],
   "source": [
    "print(color_group.index.values[:  10])\n",
    "print(color_group['totalRecords'].values[ : 10] )"
   ]
  },
  {
   "cell_type": "code",
   "execution_count": 75,
   "id": "bce5c5e2",
   "metadata": {},
   "outputs": [
    {
     "data": {
      "image/png": "[encoded data removed]",
      "text/plain": [
       "<Figure size 2000x800 with 3 Axes>"
      ]
     },
     "metadata": {},
     "output_type": "display_data"
    }
   ],
   "source": [
    "plt.figure( figsize=(20, 8) )\n",
    "plt.suptitle(\"Color Analysis\", fontsize = 18)\n",
    "\n",
    "plt.subplot(1 , 3 , 1)\n",
    "color_group = color_group.sort_values(by = \"totalRecords\", ascending = False)  # Sorted the group on the basis of column\n",
    "sns.barplot( x = color_group.index.values[ : 6], y = color_group['totalRecords'].values[ : 6] , \n",
    "            palette= \"magma\")\n",
    "\n",
    "plt.title(\"Color vs Records\", fontsize = 12)\n",
    "plt.xticks(rotation = 45)\n",
    "\n",
    "\n",
    "plt.subplot(1 , 3 , 2)\n",
    "color_group = color_group.sort_values(by = \"avgPrice\", ascending = False)  # Sorted the group on the basis of column\n",
    "sns.barplot( x = color_group.index.values[ : 6], y = color_group['avgPrice'].values[ : 6] , \n",
    "            palette= \"magma\")\n",
    "plt.title(\"Color vs avgPrice\", fontsize = 12)\n",
    "plt.xticks(rotation = 45)\n",
    "\n",
    "\n",
    "plt.subplot(1 , 3 , 3)\n",
    "color_group = color_group.sort_values(by = \"totalPrice\", ascending = False)  # Sorted the group on the basis of column\n",
    "sns.barplot( x = color_group.index.values[ : 6], y = color_group['totalPrice'].values[ : 6] , \n",
    "            palette= \"magma\")\n",
    "plt.title(\"Color vs totalPrice\", fontsize = 12)\n",
    "plt.xticks(rotation = 45)\n",
    "\n",
    "\n",
    "plt.show()"
   ]
  },
  {
   "cell_type": "code",
   "execution_count": null,
   "id": "f291ded3",
   "metadata": {},
   "outputs": [],
   "source": []
  },
  {
   "cell_type": "code",
   "execution_count": 80,
   "id": "079e8db4",
   "metadata": {},
   "outputs": [
    {
     "name": "stdout",
     "output_type": "stream",
     "text": [
      "10774\n",
      "86.25410295412698\n"
     ]
    }
   ],
   "source": [
    "\n",
    "# how many records have color in product name ??\n",
    "\n",
    "counter = 0\n",
    "\n",
    "for row in range( df.shape[0] ) : \n",
    "    if ( df.loc[row, \"PrimaryColor\"] in df.loc[row, 'ProductName'] ) : \n",
    "        counter += 1\n",
    "\n",
    "print(counter)\n",
    "print(counter / df.shape[0] * 100)\n",
    "\n",
    "\n"
   ]
  },
  {
   "cell_type": "code",
   "execution_count": 81,
   "id": "bd34534b",
   "metadata": {},
   "outputs": [
    {
     "name": "stdout",
     "output_type": "stream",
     "text": [
      "12359\n",
      "98.94323913217517\n"
     ]
    }
   ],
   "source": [
    "\n",
    "# how many records have ProductBrand in product name ??\n",
    "\n",
    "counter = 0\n",
    "\n",
    "for row in range( df.shape[0] ) : \n",
    "    if ( df.loc[row, \"ProductBrand\"] in df.loc[row, 'ProductName'] ) : \n",
    "        counter += 1\n",
    "\n",
    "print(counter)\n",
    "print(counter / df.shape[0] * 100)\n",
    "\n",
    "\n"
   ]
  },
  {
   "cell_type": "code",
   "execution_count": 76,
   "id": "e61dec12",
   "metadata": {},
   "outputs": [
    {
     "data": {
      "text/html": [
       "<div>\n",
       "<style scoped>\n",
       "    .dataframe tbody tr th:only-of-type {\n",
       "        vertical-align: middle;\n",
       "    }\n",
       "\n",
       "    .dataframe tbody tr th {\n",
       "        vertical-align: top;\n",
       "    }\n",
       "\n",
       "    .dataframe thead th {\n",
       "        text-align: right;\n",
       "    }\n",
       "</style>\n",
       "<table border=\"1\" class=\"dataframe\">\n",
       "  <thead>\n",
       "    <tr style=\"text-align: right;\">\n",
       "      <th></th>\n",
       "      <th>ProductID</th>\n",
       "      <th>ProductName</th>\n",
       "      <th>ProductBrand</th>\n",
       "      <th>Gender</th>\n",
       "      <th>Price</th>\n",
       "      <th>NumImages</th>\n",
       "      <th>Description</th>\n",
       "      <th>PrimaryColor</th>\n",
       "    </tr>\n",
       "  </thead>\n",
       "  <tbody>\n",
       "    <tr>\n",
       "      <th>0</th>\n",
       "      <td>10017413</td>\n",
       "      <td>DKNY Unisex Black &amp; Grey Printed Medium Trolle...</td>\n",
       "      <td>DKNY</td>\n",
       "      <td>Unisex</td>\n",
       "      <td>11745</td>\n",
       "      <td>7</td>\n",
       "      <td>Black and grey printed medium trolley bag, sec...</td>\n",
       "      <td>Black</td>\n",
       "    </tr>\n",
       "    <tr>\n",
       "      <th>1</th>\n",
       "      <td>10016283</td>\n",
       "      <td>EthnoVogue Women Beige &amp; Grey Made to Measure ...</td>\n",
       "      <td>EthnoVogue</td>\n",
       "      <td>Women</td>\n",
       "      <td>5810</td>\n",
       "      <td>7</td>\n",
       "      <td>Beige &amp; Grey made to measure kurta with churid...</td>\n",
       "      <td>Beige</td>\n",
       "    </tr>\n",
       "    <tr>\n",
       "      <th>2</th>\n",
       "      <td>10009781</td>\n",
       "      <td>SPYKAR Women Pink Alexa Super Skinny Fit High-...</td>\n",
       "      <td>SPYKAR</td>\n",
       "      <td>Women</td>\n",
       "      <td>899</td>\n",
       "      <td>7</td>\n",
       "      <td>Pink coloured wash 5-pocket high-rise cropped ...</td>\n",
       "      <td>Pink</td>\n",
       "    </tr>\n",
       "    <tr>\n",
       "      <th>3</th>\n",
       "      <td>10015921</td>\n",
       "      <td>Raymond Men Blue Self-Design Single-Breasted B...</td>\n",
       "      <td>Raymond</td>\n",
       "      <td>Men</td>\n",
       "      <td>5599</td>\n",
       "      <td>5</td>\n",
       "      <td>Blue self-design bandhgala suitBlue self-desig...</td>\n",
       "      <td>Blue</td>\n",
       "    </tr>\n",
       "    <tr>\n",
       "      <th>4</th>\n",
       "      <td>10017833</td>\n",
       "      <td>Parx Men Brown &amp; Off-White Slim Fit Printed Ca...</td>\n",
       "      <td>Parx</td>\n",
       "      <td>Men</td>\n",
       "      <td>759</td>\n",
       "      <td>5</td>\n",
       "      <td>Brown and off-white printed casual shirt, has ...</td>\n",
       "      <td>White</td>\n",
       "    </tr>\n",
       "  </tbody>\n",
       "</table>\n",
       "</div>"
      ],
      "text/plain": [
       "   ProductID                                        ProductName ProductBrand  \\\n",
       "0   10017413  DKNY Unisex Black & Grey Printed Medium Trolle...         DKNY   \n",
       "1   10016283  EthnoVogue Women Beige & Grey Made to Measure ...   EthnoVogue   \n",
       "2   10009781  SPYKAR Women Pink Alexa Super Skinny Fit High-...       SPYKAR   \n",
       "3   10015921  Raymond Men Blue Self-Design Single-Breasted B...      Raymond   \n",
       "4   10017833  Parx Men Brown & Off-White Slim Fit Printed Ca...         Parx   \n",
       "\n",
       "   Gender  Price  NumImages  \\\n",
       "0  Unisex  11745          7   \n",
       "1   Women   5810          7   \n",
       "2   Women    899          7   \n",
       "3     Men   5599          5   \n",
       "4     Men    759          5   \n",
       "\n",
       "                                         Description PrimaryColor  \n",
       "0  Black and grey printed medium trolley bag, sec...        Black  \n",
       "1  Beige & Grey made to measure kurta with churid...        Beige  \n",
       "2  Pink coloured wash 5-pocket high-rise cropped ...         Pink  \n",
       "3  Blue self-design bandhgala suitBlue self-desig...         Blue  \n",
       "4  Brown and off-white printed casual shirt, has ...        White  "
      ]
     },
     "execution_count": 76,
     "metadata": {},
     "output_type": "execute_result"
    }
   ],
   "source": [
    "df.head()"
   ]
  },
  {
   "cell_type": "code",
   "execution_count": null,
   "id": "ac176718",
   "metadata": {},
   "outputs": [],
   "source": []
  },
  {
   "cell_type": "code",
   "execution_count": 83,
   "id": "13859ffd",
   "metadata": {},
   "outputs": [],
   "source": [
    "df['AgeGroup'] = df['Gender'].copy()"
   ]
  },
  {
   "cell_type": "code",
   "execution_count": 84,
   "id": "95b7d8a6",
   "metadata": {},
   "outputs": [
    {
     "data": {
      "text/html": [
       "<div>\n",
       "<style scoped>\n",
       "    .dataframe tbody tr th:only-of-type {\n",
       "        vertical-align: middle;\n",
       "    }\n",
       "\n",
       "    .dataframe tbody tr th {\n",
       "        vertical-align: top;\n",
       "    }\n",
       "\n",
       "    .dataframe thead th {\n",
       "        text-align: right;\n",
       "    }\n",
       "</style>\n",
       "<table border=\"1\" class=\"dataframe\">\n",
       "  <thead>\n",
       "    <tr style=\"text-align: right;\">\n",
       "      <th></th>\n",
       "      <th>ProductID</th>\n",
       "      <th>ProductName</th>\n",
       "      <th>ProductBrand</th>\n",
       "      <th>Gender</th>\n",
       "      <th>Price</th>\n",
       "      <th>NumImages</th>\n",
       "      <th>Description</th>\n",
       "      <th>PrimaryColor</th>\n",
       "      <th>AgeGroup</th>\n",
       "    </tr>\n",
       "  </thead>\n",
       "  <tbody>\n",
       "    <tr>\n",
       "      <th>0</th>\n",
       "      <td>10017413</td>\n",
       "      <td>DKNY Unisex Black &amp; Grey Printed Medium Trolle...</td>\n",
       "      <td>DKNY</td>\n",
       "      <td>Unisex</td>\n",
       "      <td>11745</td>\n",
       "      <td>7</td>\n",
       "      <td>Black and grey printed medium trolley bag, sec...</td>\n",
       "      <td>Black</td>\n",
       "      <td>Unisex</td>\n",
       "    </tr>\n",
       "    <tr>\n",
       "      <th>1</th>\n",
       "      <td>10016283</td>\n",
       "      <td>EthnoVogue Women Beige &amp; Grey Made to Measure ...</td>\n",
       "      <td>EthnoVogue</td>\n",
       "      <td>Women</td>\n",
       "      <td>5810</td>\n",
       "      <td>7</td>\n",
       "      <td>Beige &amp; Grey made to measure kurta with churid...</td>\n",
       "      <td>Beige</td>\n",
       "      <td>Women</td>\n",
       "    </tr>\n",
       "    <tr>\n",
       "      <th>2</th>\n",
       "      <td>10009781</td>\n",
       "      <td>SPYKAR Women Pink Alexa Super Skinny Fit High-...</td>\n",
       "      <td>SPYKAR</td>\n",
       "      <td>Women</td>\n",
       "      <td>899</td>\n",
       "      <td>7</td>\n",
       "      <td>Pink coloured wash 5-pocket high-rise cropped ...</td>\n",
       "      <td>Pink</td>\n",
       "      <td>Women</td>\n",
       "    </tr>\n",
       "    <tr>\n",
       "      <th>3</th>\n",
       "      <td>10015921</td>\n",
       "      <td>Raymond Men Blue Self-Design Single-Breasted B...</td>\n",
       "      <td>Raymond</td>\n",
       "      <td>Men</td>\n",
       "      <td>5599</td>\n",
       "      <td>5</td>\n",
       "      <td>Blue self-design bandhgala suitBlue self-desig...</td>\n",
       "      <td>Blue</td>\n",
       "      <td>Men</td>\n",
       "    </tr>\n",
       "    <tr>\n",
       "      <th>4</th>\n",
       "      <td>10017833</td>\n",
       "      <td>Parx Men Brown &amp; Off-White Slim Fit Printed Ca...</td>\n",
       "      <td>Parx</td>\n",
       "      <td>Men</td>\n",
       "      <td>759</td>\n",
       "      <td>5</td>\n",
       "      <td>Brown and off-white printed casual shirt, has ...</td>\n",
       "      <td>White</td>\n",
       "      <td>Men</td>\n",
       "    </tr>\n",
       "  </tbody>\n",
       "</table>\n",
       "</div>"
      ],
      "text/plain": [
       "   ProductID                                        ProductName ProductBrand  \\\n",
       "0   10017413  DKNY Unisex Black & Grey Printed Medium Trolle...         DKNY   \n",
       "1   10016283  EthnoVogue Women Beige & Grey Made to Measure ...   EthnoVogue   \n",
       "2   10009781  SPYKAR Women Pink Alexa Super Skinny Fit High-...       SPYKAR   \n",
       "3   10015921  Raymond Men Blue Self-Design Single-Breasted B...      Raymond   \n",
       "4   10017833  Parx Men Brown & Off-White Slim Fit Printed Ca...         Parx   \n",
       "\n",
       "   Gender  Price  NumImages  \\\n",
       "0  Unisex  11745          7   \n",
       "1   Women   5810          7   \n",
       "2   Women    899          7   \n",
       "3     Men   5599          5   \n",
       "4     Men    759          5   \n",
       "\n",
       "                                         Description PrimaryColor AgeGroup  \n",
       "0  Black and grey printed medium trolley bag, sec...        Black   Unisex  \n",
       "1  Beige & Grey made to measure kurta with churid...        Beige    Women  \n",
       "2  Pink coloured wash 5-pocket high-rise cropped ...         Pink    Women  \n",
       "3  Blue self-design bandhgala suitBlue self-desig...         Blue      Men  \n",
       "4  Brown and off-white printed casual shirt, has ...        White      Men  "
      ]
     },
     "execution_count": 84,
     "metadata": {},
     "output_type": "execute_result"
    }
   ],
   "source": [
    "df.head()"
   ]
  },
  {
   "cell_type": "code",
   "execution_count": 85,
   "id": "b05007f3",
   "metadata": {},
   "outputs": [
    {
     "data": {
      "text/plain": [
       "array(['Unisex', 'Women', 'Men', 'Boys', 'Girls', 'Unisex Kids'],\n",
       "      dtype=object)"
      ]
     },
     "execution_count": 85,
     "metadata": {},
     "output_type": "execute_result"
    }
   ],
   "source": [
    "df['Gender'].unique()"
   ]
  },
  {
   "cell_type": "code",
   "execution_count": null,
   "id": "3a574766",
   "metadata": {},
   "outputs": [],
   "source": []
  },
  {
   "cell_type": "code",
   "execution_count": 86,
   "id": "9932f606",
   "metadata": {},
   "outputs": [],
   "source": [
    "df['AgeGroup'].replace({'Unisex Kids' : \"Kids\" , \n",
    "                       \"Boys\" : \"Kids\", \n",
    "                       \"Girls\" : 'Kids', \n",
    "                       \"Unisex\" : 'Adults', \n",
    "                       \"Women\" : 'Adults', \n",
    "                       \"Men\" : 'Adults'}, inplace=True)"
   ]
  },
  {
   "cell_type": "code",
   "execution_count": 87,
   "id": "7cc9d84b",
   "metadata": {},
   "outputs": [
    {
     "data": {
      "text/plain": [
       "Adults    10905\n",
       "Kids       1586\n",
       "Name: AgeGroup, dtype: int64"
      ]
     },
     "execution_count": 87,
     "metadata": {},
     "output_type": "execute_result"
    }
   ],
   "source": [
    "df['AgeGroup'].value_counts()"
   ]
  },
  {
   "cell_type": "code",
   "execution_count": null,
   "id": "63800926",
   "metadata": {},
   "outputs": [],
   "source": []
  },
  {
   "cell_type": "code",
   "execution_count": null,
   "id": "862294f0",
   "metadata": {},
   "outputs": [],
   "source": []
  },
  {
   "cell_type": "code",
   "execution_count": null,
   "id": "a99ca12e",
   "metadata": {},
   "outputs": [],
   "source": []
  },
  {
   "cell_type": "code",
   "execution_count": null,
   "id": "44f309f8",
   "metadata": {},
   "outputs": [],
   "source": []
  },
  {
   "cell_type": "code",
   "execution_count": null,
   "id": "3165fd84",
   "metadata": {},
   "outputs": [],
   "source": []
  },
  {
   "cell_type": "code",
   "execution_count": null,
   "id": "8259e432",
   "metadata": {},
   "outputs": [],
   "source": []
  },
  {
   "cell_type": "code",
   "execution_count": null,
   "id": "27bbb4ac",
   "metadata": {},
   "outputs": [],
   "source": []
  }
 ],
 "metadata": {
  "kernelspec": {
   "display_name": "Python 3 (ipykernel)",
   "language": "python",
   "name": "python3"
  },
  "language_info": {
   "codemirror_mode": {
    "name": "ipython",
    "version": 3
   },
   "file_extension": ".py",
   "mimetype": "text/x-python",
   "name": "python",
   "nbconvert_exporter": "python",
   "pygments_lexer": "ipython3",
   "version": "3.10.9"
  }
 },
 "nbformat": 4,
 "nbformat_minor": 5
}
