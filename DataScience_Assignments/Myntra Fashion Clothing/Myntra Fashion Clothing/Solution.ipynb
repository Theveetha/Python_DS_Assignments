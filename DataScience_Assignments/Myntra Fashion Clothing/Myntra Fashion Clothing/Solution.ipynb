{
 "cells": [
  {
   "cell_type": "markdown",
   "metadata": {},
   "source": [
    "# Fashion Clothing Products Analysis - EDA Project"
   ]
  },
  {
   "cell_type": "markdown",
   "metadata": {},
   "source": [
    "# Scenario1\n",
    "\n",
    "You have been provided with 2 datasets. You will be learning here how to create the dataframe from 2 datasets and make some minor changes as required.\n",
    "Recognize the attributes carefully and make sure they are aligned in proper format.\n"
   ]
  },
  {
   "cell_type": "markdown",
   "metadata": {},
   "source": [
    "## Task1\n",
    "\n",
    "1.\tImport all the relevant packages (Eg: Numpy, Seaborn...)\n",
    "2.\tImport the datasets into the python environment.\n",
    "3.\tCheck the structure, statistics and other important functions. (Only observe the changes)\n"
   ]
  },
  {
   "cell_type": "markdown",
   "metadata": {},
   "source": [
    "###### Import relevant packages"
   ]
  },
  {
   "cell_type": "code",
   "execution_count": 196,
   "metadata": {},
   "outputs": [],
   "source": [
    "import pandas as pd\n",
    "import numpy as np\n",
    "import seaborn as sns\n",
    "import matplotlib.pyplot as plt\n",
    "\n",
    "pd.set_option(\"display.max_rows\", 100)\n",
    "pd.set_option(\"display.max_columns\", 100)"
   ]
  },
  {
   "cell_type": "markdown",
   "metadata": {},
   "source": [
    "###### Import the datasets \"product details\" and \"products catalog\""
   ]
  },
  {
   "cell_type": "code",
   "execution_count": 92,
   "metadata": {},
   "outputs": [
    {
     "data": {
      "text/html": [
       "<div>\n",
       "<style scoped>\n",
       "    .dataframe tbody tr th:only-of-type {\n",
       "        vertical-align: middle;\n",
       "    }\n",
       "\n",
       "    .dataframe tbody tr th {\n",
       "        vertical-align: top;\n",
       "    }\n",
       "\n",
       "    .dataframe thead th {\n",
       "        text-align: right;\n",
       "    }\n",
       "</style>\n",
       "<table border=\"1\" class=\"dataframe\">\n",
       "  <thead>\n",
       "    <tr style=\"text-align: right;\">\n",
       "      <th></th>\n",
       "      <th>ProductID</th>\n",
       "      <th>ProductName</th>\n",
       "      <th>ProductBrand</th>\n",
       "    </tr>\n",
       "  </thead>\n",
       "  <tbody>\n",
       "    <tr>\n",
       "      <th>0</th>\n",
       "      <td>10017413</td>\n",
       "      <td>DKNY Unisex Black &amp; Grey Printed Medium Trolle...</td>\n",
       "      <td>DKNY</td>\n",
       "    </tr>\n",
       "    <tr>\n",
       "      <th>1</th>\n",
       "      <td>10016283</td>\n",
       "      <td>EthnoVogue Women Beige &amp; Grey Made to Measure ...</td>\n",
       "      <td>EthnoVogue</td>\n",
       "    </tr>\n",
       "    <tr>\n",
       "      <th>2</th>\n",
       "      <td>10009781</td>\n",
       "      <td>SPYKAR Women Pink Alexa Super Skinny Fit High-...</td>\n",
       "      <td>SPYKAR</td>\n",
       "    </tr>\n",
       "    <tr>\n",
       "      <th>3</th>\n",
       "      <td>10015921</td>\n",
       "      <td>Raymond Men Blue Self-Design Single-Breasted B...</td>\n",
       "      <td>Raymond</td>\n",
       "    </tr>\n",
       "    <tr>\n",
       "      <th>4</th>\n",
       "      <td>10017833</td>\n",
       "      <td>Parx Men Brown &amp; Off-White Slim Fit Printed Ca...</td>\n",
       "      <td>Parx</td>\n",
       "    </tr>\n",
       "  </tbody>\n",
       "</table>\n",
       "</div>"
      ],
      "text/plain": [
       "   ProductID                                        ProductName ProductBrand\n",
       "0   10017413  DKNY Unisex Black & Grey Printed Medium Trolle...         DKNY\n",
       "1   10016283  EthnoVogue Women Beige & Grey Made to Measure ...   EthnoVogue\n",
       "2   10009781  SPYKAR Women Pink Alexa Super Skinny Fit High-...       SPYKAR\n",
       "3   10015921  Raymond Men Blue Self-Design Single-Breasted B...      Raymond\n",
       "4   10017833  Parx Men Brown & Off-White Slim Fit Printed Ca...         Parx"
      ]
     },
     "execution_count": 92,
     "metadata": {},
     "output_type": "execute_result"
    }
   ],
   "source": [
    "df1 = pd.read_csv(\"product details.csv\")\n",
    "df1.head()"
   ]
  },
  {
   "cell_type": "code",
   "execution_count": 93,
   "metadata": {},
   "outputs": [
    {
     "data": {
      "text/html": [
       "<div>\n",
       "<style scoped>\n",
       "    .dataframe tbody tr th:only-of-type {\n",
       "        vertical-align: middle;\n",
       "    }\n",
       "\n",
       "    .dataframe tbody tr th {\n",
       "        vertical-align: top;\n",
       "    }\n",
       "\n",
       "    .dataframe thead th {\n",
       "        text-align: right;\n",
       "    }\n",
       "</style>\n",
       "<table border=\"1\" class=\"dataframe\">\n",
       "  <thead>\n",
       "    <tr style=\"text-align: right;\">\n",
       "      <th></th>\n",
       "      <th>Gender</th>\n",
       "      <th>Price (INR)</th>\n",
       "      <th>NumImages</th>\n",
       "      <th>ID</th>\n",
       "      <th>Description</th>\n",
       "      <th>PrimaryColor</th>\n",
       "    </tr>\n",
       "  </thead>\n",
       "  <tbody>\n",
       "    <tr>\n",
       "      <th>0</th>\n",
       "      <td>Women</td>\n",
       "      <td>593</td>\n",
       "      <td>5</td>\n",
       "      <td>10182131</td>\n",
       "      <td>Off-White printed woven A-line  top, has a rou...</td>\n",
       "      <td>White</td>\n",
       "    </tr>\n",
       "    <tr>\n",
       "      <th>1</th>\n",
       "      <td>Men</td>\n",
       "      <td>6396</td>\n",
       "      <td>5</td>\n",
       "      <td>10052169</td>\n",
       "      <td>Display: AnalogueMovement: QuartzPower source:...</td>\n",
       "      <td>Black</td>\n",
       "    </tr>\n",
       "    <tr>\n",
       "      <th>2</th>\n",
       "      <td>Women</td>\n",
       "      <td>599</td>\n",
       "      <td>5</td>\n",
       "      <td>10168643</td>\n",
       "      <td>Blue printed knitted regular  top, has a high ...</td>\n",
       "      <td>Blue</td>\n",
       "    </tr>\n",
       "    <tr>\n",
       "      <th>3</th>\n",
       "      <td>Men</td>\n",
       "      <td>1034</td>\n",
       "      <td>5</td>\n",
       "      <td>10155427</td>\n",
       "      <td>Grey and Purple checked smart casual shirt, ha...</td>\n",
       "      <td>Grey</td>\n",
       "    </tr>\n",
       "    <tr>\n",
       "      <th>4</th>\n",
       "      <td>Men</td>\n",
       "      <td>477</td>\n",
       "      <td>3</td>\n",
       "      <td>10191059</td>\n",
       "      <td>Beige and Brown striped beltReversible: NoStre...</td>\n",
       "      <td>Brown</td>\n",
       "    </tr>\n",
       "  </tbody>\n",
       "</table>\n",
       "</div>"
      ],
      "text/plain": [
       "  Gender  Price (INR)  NumImages        ID  \\\n",
       "0  Women          593          5  10182131   \n",
       "1    Men         6396          5  10052169   \n",
       "2  Women          599          5  10168643   \n",
       "3    Men         1034          5  10155427   \n",
       "4    Men          477          3  10191059   \n",
       "\n",
       "                                         Description PrimaryColor  \n",
       "0  Off-White printed woven A-line  top, has a rou...        White  \n",
       "1  Display: AnalogueMovement: QuartzPower source:...        Black  \n",
       "2  Blue printed knitted regular  top, has a high ...         Blue  \n",
       "3  Grey and Purple checked smart casual shirt, ha...         Grey  \n",
       "4  Beige and Brown striped beltReversible: NoStre...        Brown  "
      ]
     },
     "execution_count": 93,
     "metadata": {},
     "output_type": "execute_result"
    }
   ],
   "source": [
    "df2 = pd.read_csv(\"products catalog.csv\")\n",
    "df2.head()"
   ]
  },
  {
   "cell_type": "markdown",
   "metadata": {},
   "source": [
    "###### Check the shape of the dataset and guess the primary key to make join"
   ]
  },
  {
   "cell_type": "code",
   "execution_count": 94,
   "metadata": {},
   "outputs": [
    {
     "name": "stdout",
     "output_type": "stream",
     "text": [
      "(12491, 3)\n",
      "(12491, 6)\n"
     ]
    }
   ],
   "source": [
    "print(  df1.shape  )\n",
    "print(  df2.shape  )"
   ]
  },
  {
   "cell_type": "code",
   "execution_count": null,
   "metadata": {},
   "outputs": [],
   "source": []
  },
  {
   "cell_type": "markdown",
   "metadata": {},
   "source": [
    "## Task2\n",
    "\n",
    "1.\tCreate a new dataframe “df” by joining the 2 datasets\n",
    "2.\tDrop the duplicate data\n",
    "3.\tCheck for missing values\n"
   ]
  },
  {
   "cell_type": "code",
   "execution_count": 95,
   "metadata": {},
   "outputs": [],
   "source": [
    "df = pd.merge(df1, df2, left_on = 'ProductID', right_on=\"ID\", how = 'inner')"
   ]
  },
  {
   "cell_type": "code",
   "execution_count": 96,
   "metadata": {},
   "outputs": [
    {
     "data": {
      "text/plain": [
       "(12491, 9)"
      ]
     },
     "execution_count": 96,
     "metadata": {},
     "output_type": "execute_result"
    }
   ],
   "source": [
    "df.shape"
   ]
  },
  {
   "cell_type": "code",
   "execution_count": 97,
   "metadata": {},
   "outputs": [
    {
     "data": {
      "text/html": [
       "<div>\n",
       "<style scoped>\n",
       "    .dataframe tbody tr th:only-of-type {\n",
       "        vertical-align: middle;\n",
       "    }\n",
       "\n",
       "    .dataframe tbody tr th {\n",
       "        vertical-align: top;\n",
       "    }\n",
       "\n",
       "    .dataframe thead th {\n",
       "        text-align: right;\n",
       "    }\n",
       "</style>\n",
       "<table border=\"1\" class=\"dataframe\">\n",
       "  <thead>\n",
       "    <tr style=\"text-align: right;\">\n",
       "      <th></th>\n",
       "      <th>ProductID</th>\n",
       "      <th>ProductName</th>\n",
       "      <th>ProductBrand</th>\n",
       "      <th>Gender</th>\n",
       "      <th>Price (INR)</th>\n",
       "      <th>NumImages</th>\n",
       "      <th>ID</th>\n",
       "      <th>Description</th>\n",
       "      <th>PrimaryColor</th>\n",
       "    </tr>\n",
       "  </thead>\n",
       "  <tbody>\n",
       "    <tr>\n",
       "      <th>0</th>\n",
       "      <td>10017413</td>\n",
       "      <td>DKNY Unisex Black &amp; Grey Printed Medium Trolle...</td>\n",
       "      <td>DKNY</td>\n",
       "      <td>Unisex</td>\n",
       "      <td>11745</td>\n",
       "      <td>7</td>\n",
       "      <td>10017413</td>\n",
       "      <td>Black and grey printed medium trolley bag, sec...</td>\n",
       "      <td>Black</td>\n",
       "    </tr>\n",
       "    <tr>\n",
       "      <th>1</th>\n",
       "      <td>10016283</td>\n",
       "      <td>EthnoVogue Women Beige &amp; Grey Made to Measure ...</td>\n",
       "      <td>EthnoVogue</td>\n",
       "      <td>Women</td>\n",
       "      <td>5810</td>\n",
       "      <td>7</td>\n",
       "      <td>10016283</td>\n",
       "      <td>Beige &amp; Grey made to measure kurta with churid...</td>\n",
       "      <td>Beige</td>\n",
       "    </tr>\n",
       "    <tr>\n",
       "      <th>2</th>\n",
       "      <td>10009781</td>\n",
       "      <td>SPYKAR Women Pink Alexa Super Skinny Fit High-...</td>\n",
       "      <td>SPYKAR</td>\n",
       "      <td>Women</td>\n",
       "      <td>899</td>\n",
       "      <td>7</td>\n",
       "      <td>10009781</td>\n",
       "      <td>Pink coloured wash 5-pocket high-rise cropped ...</td>\n",
       "      <td>Pink</td>\n",
       "    </tr>\n",
       "    <tr>\n",
       "      <th>3</th>\n",
       "      <td>10015921</td>\n",
       "      <td>Raymond Men Blue Self-Design Single-Breasted B...</td>\n",
       "      <td>Raymond</td>\n",
       "      <td>Men</td>\n",
       "      <td>5599</td>\n",
       "      <td>5</td>\n",
       "      <td>10015921</td>\n",
       "      <td>Blue self-design bandhgala suitBlue self-desig...</td>\n",
       "      <td>Blue</td>\n",
       "    </tr>\n",
       "    <tr>\n",
       "      <th>4</th>\n",
       "      <td>10017833</td>\n",
       "      <td>Parx Men Brown &amp; Off-White Slim Fit Printed Ca...</td>\n",
       "      <td>Parx</td>\n",
       "      <td>Men</td>\n",
       "      <td>759</td>\n",
       "      <td>5</td>\n",
       "      <td>10017833</td>\n",
       "      <td>Brown and off-white printed casual shirt, has ...</td>\n",
       "      <td>White</td>\n",
       "    </tr>\n",
       "  </tbody>\n",
       "</table>\n",
       "</div>"
      ],
      "text/plain": [
       "   ProductID                                        ProductName ProductBrand  \\\n",
       "0   10017413  DKNY Unisex Black & Grey Printed Medium Trolle...         DKNY   \n",
       "1   10016283  EthnoVogue Women Beige & Grey Made to Measure ...   EthnoVogue   \n",
       "2   10009781  SPYKAR Women Pink Alexa Super Skinny Fit High-...       SPYKAR   \n",
       "3   10015921  Raymond Men Blue Self-Design Single-Breasted B...      Raymond   \n",
       "4   10017833  Parx Men Brown & Off-White Slim Fit Printed Ca...         Parx   \n",
       "\n",
       "   Gender  Price (INR)  NumImages        ID  \\\n",
       "0  Unisex        11745          7  10017413   \n",
       "1   Women         5810          7  10016283   \n",
       "2   Women          899          7  10009781   \n",
       "3     Men         5599          5  10015921   \n",
       "4     Men          759          5  10017833   \n",
       "\n",
       "                                         Description PrimaryColor  \n",
       "0  Black and grey printed medium trolley bag, sec...        Black  \n",
       "1  Beige & Grey made to measure kurta with churid...        Beige  \n",
       "2  Pink coloured wash 5-pocket high-rise cropped ...         Pink  \n",
       "3  Blue self-design bandhgala suitBlue self-desig...         Blue  \n",
       "4  Brown and off-white printed casual shirt, has ...        White  "
      ]
     },
     "execution_count": 97,
     "metadata": {},
     "output_type": "execute_result"
    }
   ],
   "source": [
    "df.head()"
   ]
  },
  {
   "cell_type": "markdown",
   "metadata": {},
   "source": [
    "###### Remove the duplicate column"
   ]
  },
  {
   "cell_type": "code",
   "execution_count": 98,
   "metadata": {},
   "outputs": [],
   "source": [
    "df.drop(\"ID\", axis = 1, inplace = True)"
   ]
  },
  {
   "cell_type": "code",
   "execution_count": 99,
   "metadata": {},
   "outputs": [
    {
     "data": {
      "text/html": [
       "<div>\n",
       "<style scoped>\n",
       "    .dataframe tbody tr th:only-of-type {\n",
       "        vertical-align: middle;\n",
       "    }\n",
       "\n",
       "    .dataframe tbody tr th {\n",
       "        vertical-align: top;\n",
       "    }\n",
       "\n",
       "    .dataframe thead th {\n",
       "        text-align: right;\n",
       "    }\n",
       "</style>\n",
       "<table border=\"1\" class=\"dataframe\">\n",
       "  <thead>\n",
       "    <tr style=\"text-align: right;\">\n",
       "      <th></th>\n",
       "      <th>ProductID</th>\n",
       "      <th>ProductName</th>\n",
       "      <th>ProductBrand</th>\n",
       "      <th>Gender</th>\n",
       "      <th>Price (INR)</th>\n",
       "      <th>NumImages</th>\n",
       "      <th>Description</th>\n",
       "      <th>PrimaryColor</th>\n",
       "    </tr>\n",
       "  </thead>\n",
       "  <tbody>\n",
       "    <tr>\n",
       "      <th>0</th>\n",
       "      <td>10017413</td>\n",
       "      <td>DKNY Unisex Black &amp; Grey Printed Medium Trolle...</td>\n",
       "      <td>DKNY</td>\n",
       "      <td>Unisex</td>\n",
       "      <td>11745</td>\n",
       "      <td>7</td>\n",
       "      <td>Black and grey printed medium trolley bag, sec...</td>\n",
       "      <td>Black</td>\n",
       "    </tr>\n",
       "    <tr>\n",
       "      <th>1</th>\n",
       "      <td>10016283</td>\n",
       "      <td>EthnoVogue Women Beige &amp; Grey Made to Measure ...</td>\n",
       "      <td>EthnoVogue</td>\n",
       "      <td>Women</td>\n",
       "      <td>5810</td>\n",
       "      <td>7</td>\n",
       "      <td>Beige &amp; Grey made to measure kurta with churid...</td>\n",
       "      <td>Beige</td>\n",
       "    </tr>\n",
       "  </tbody>\n",
       "</table>\n",
       "</div>"
      ],
      "text/plain": [
       "   ProductID                                        ProductName ProductBrand  \\\n",
       "0   10017413  DKNY Unisex Black & Grey Printed Medium Trolle...         DKNY   \n",
       "1   10016283  EthnoVogue Women Beige & Grey Made to Measure ...   EthnoVogue   \n",
       "\n",
       "   Gender  Price (INR)  NumImages  \\\n",
       "0  Unisex        11745          7   \n",
       "1   Women         5810          7   \n",
       "\n",
       "                                         Description PrimaryColor  \n",
       "0  Black and grey printed medium trolley bag, sec...        Black  \n",
       "1  Beige & Grey made to measure kurta with churid...        Beige  "
      ]
     },
     "execution_count": 99,
     "metadata": {},
     "output_type": "execute_result"
    }
   ],
   "source": [
    "df.head(2)"
   ]
  },
  {
   "cell_type": "code",
   "execution_count": 100,
   "metadata": {},
   "outputs": [
    {
     "data": {
      "text/plain": [
       "(12491, 8)"
      ]
     },
     "execution_count": 100,
     "metadata": {},
     "output_type": "execute_result"
    }
   ],
   "source": [
    "df.shape"
   ]
  },
  {
   "cell_type": "code",
   "execution_count": null,
   "metadata": {},
   "outputs": [],
   "source": []
  },
  {
   "cell_type": "markdown",
   "metadata": {},
   "source": [
    "###### Check for duplicate records"
   ]
  },
  {
   "cell_type": "code",
   "execution_count": 101,
   "metadata": {},
   "outputs": [
    {
     "data": {
      "text/plain": [
       "0"
      ]
     },
     "execution_count": 101,
     "metadata": {},
     "output_type": "execute_result"
    }
   ],
   "source": [
    "df.duplicated().sum()"
   ]
  },
  {
   "cell_type": "code",
   "execution_count": null,
   "metadata": {},
   "outputs": [],
   "source": []
  },
  {
   "cell_type": "markdown",
   "metadata": {},
   "source": [
    "###### Dataset structure"
   ]
  },
  {
   "cell_type": "code",
   "execution_count": 102,
   "metadata": {},
   "outputs": [
    {
     "name": "stdout",
     "output_type": "stream",
     "text": [
      "<class 'pandas.core.frame.DataFrame'>\n",
      "Int64Index: 12491 entries, 0 to 12490\n",
      "Data columns (total 8 columns):\n",
      " #   Column        Non-Null Count  Dtype \n",
      "---  ------        --------------  ----- \n",
      " 0   ProductID     12491 non-null  int64 \n",
      " 1   ProductName   12491 non-null  object\n",
      " 2   ProductBrand  12491 non-null  object\n",
      " 3   Gender        12491 non-null  object\n",
      " 4   Price (INR)   12491 non-null  int64 \n",
      " 5   NumImages     12491 non-null  int64 \n",
      " 6   Description   12491 non-null  object\n",
      " 7   PrimaryColor  11597 non-null  object\n",
      "dtypes: int64(3), object(5)\n",
      "memory usage: 878.3+ KB\n"
     ]
    }
   ],
   "source": [
    "df.info()"
   ]
  },
  {
   "cell_type": "code",
   "execution_count": null,
   "metadata": {},
   "outputs": [],
   "source": []
  },
  {
   "cell_type": "markdown",
   "metadata": {},
   "source": [
    "###### Check for NULL Values"
   ]
  },
  {
   "cell_type": "code",
   "execution_count": 13,
   "metadata": {},
   "outputs": [
    {
     "data": {
      "text/plain": [
       "ProductID         0\n",
       "ProductName       0\n",
       "ProductBrand      0\n",
       "Gender            0\n",
       "Price (INR)       0\n",
       "NumImages         0\n",
       "Description       0\n",
       "PrimaryColor    894\n",
       "dtype: int64"
      ]
     },
     "execution_count": 13,
     "metadata": {},
     "output_type": "execute_result"
    }
   ],
   "source": [
    "df.isnull().sum()"
   ]
  },
  {
   "cell_type": "markdown",
   "metadata": {},
   "source": [
    "_PrimaryColor is the only column with null values_"
   ]
  },
  {
   "cell_type": "code",
   "execution_count": null,
   "metadata": {},
   "outputs": [],
   "source": []
  },
  {
   "cell_type": "code",
   "execution_count": null,
   "metadata": {},
   "outputs": [],
   "source": []
  },
  {
   "cell_type": "markdown",
   "metadata": {},
   "source": [
    "###### Dataset Description"
   ]
  },
  {
   "cell_type": "code",
   "execution_count": 14,
   "metadata": {},
   "outputs": [
    {
     "data": {
      "text/html": [
       "<div>\n",
       "<style scoped>\n",
       "    .dataframe tbody tr th:only-of-type {\n",
       "        vertical-align: middle;\n",
       "    }\n",
       "\n",
       "    .dataframe tbody tr th {\n",
       "        vertical-align: top;\n",
       "    }\n",
       "\n",
       "    .dataframe thead th {\n",
       "        text-align: right;\n",
       "    }\n",
       "</style>\n",
       "<table border=\"1\" class=\"dataframe\">\n",
       "  <thead>\n",
       "    <tr style=\"text-align: right;\">\n",
       "      <th></th>\n",
       "      <th>ProductID</th>\n",
       "      <th>ProductName</th>\n",
       "      <th>ProductBrand</th>\n",
       "      <th>Gender</th>\n",
       "      <th>Price (INR)</th>\n",
       "      <th>NumImages</th>\n",
       "      <th>Description</th>\n",
       "      <th>PrimaryColor</th>\n",
       "    </tr>\n",
       "  </thead>\n",
       "  <tbody>\n",
       "    <tr>\n",
       "      <th>count</th>\n",
       "      <td>1.249100e+04</td>\n",
       "      <td>12491</td>\n",
       "      <td>12491</td>\n",
       "      <td>12491</td>\n",
       "      <td>12491.000000</td>\n",
       "      <td>12491.000000</td>\n",
       "      <td>12491</td>\n",
       "      <td>11597</td>\n",
       "    </tr>\n",
       "    <tr>\n",
       "      <th>unique</th>\n",
       "      <td>NaN</td>\n",
       "      <td>10761</td>\n",
       "      <td>677</td>\n",
       "      <td>6</td>\n",
       "      <td>NaN</td>\n",
       "      <td>NaN</td>\n",
       "      <td>10435</td>\n",
       "      <td>27</td>\n",
       "    </tr>\n",
       "    <tr>\n",
       "      <th>top</th>\n",
       "      <td>NaN</td>\n",
       "      <td>Parx Men Blue Slim Fit Checked Casual Shirt</td>\n",
       "      <td>Indian Terrain</td>\n",
       "      <td>Women</td>\n",
       "      <td>NaN</td>\n",
       "      <td>NaN</td>\n",
       "      <td>Blue medium wash 5-pocket mid-rise jeans, clea...</td>\n",
       "      <td>Blue</td>\n",
       "    </tr>\n",
       "    <tr>\n",
       "      <th>freq</th>\n",
       "      <td>NaN</td>\n",
       "      <td>16</td>\n",
       "      <td>971</td>\n",
       "      <td>5126</td>\n",
       "      <td>NaN</td>\n",
       "      <td>NaN</td>\n",
       "      <td>54</td>\n",
       "      <td>3443</td>\n",
       "    </tr>\n",
       "    <tr>\n",
       "      <th>mean</th>\n",
       "      <td>9.917160e+06</td>\n",
       "      <td>NaN</td>\n",
       "      <td>NaN</td>\n",
       "      <td>NaN</td>\n",
       "      <td>1452.660956</td>\n",
       "      <td>4.913698</td>\n",
       "      <td>NaN</td>\n",
       "      <td>NaN</td>\n",
       "    </tr>\n",
       "    <tr>\n",
       "      <th>std</th>\n",
       "      <td>1.438006e+06</td>\n",
       "      <td>NaN</td>\n",
       "      <td>NaN</td>\n",
       "      <td>NaN</td>\n",
       "      <td>2118.503976</td>\n",
       "      <td>1.092333</td>\n",
       "      <td>NaN</td>\n",
       "      <td>NaN</td>\n",
       "    </tr>\n",
       "    <tr>\n",
       "      <th>min</th>\n",
       "      <td>1.012060e+05</td>\n",
       "      <td>NaN</td>\n",
       "      <td>NaN</td>\n",
       "      <td>NaN</td>\n",
       "      <td>90.000000</td>\n",
       "      <td>1.000000</td>\n",
       "      <td>NaN</td>\n",
       "      <td>NaN</td>\n",
       "    </tr>\n",
       "    <tr>\n",
       "      <th>25%</th>\n",
       "      <td>1.006215e+07</td>\n",
       "      <td>NaN</td>\n",
       "      <td>NaN</td>\n",
       "      <td>NaN</td>\n",
       "      <td>649.000000</td>\n",
       "      <td>5.000000</td>\n",
       "      <td>NaN</td>\n",
       "      <td>NaN</td>\n",
       "    </tr>\n",
       "    <tr>\n",
       "      <th>50%</th>\n",
       "      <td>1.015463e+07</td>\n",
       "      <td>NaN</td>\n",
       "      <td>NaN</td>\n",
       "      <td>NaN</td>\n",
       "      <td>920.000000</td>\n",
       "      <td>5.000000</td>\n",
       "      <td>NaN</td>\n",
       "      <td>NaN</td>\n",
       "    </tr>\n",
       "    <tr>\n",
       "      <th>75%</th>\n",
       "      <td>1.021565e+07</td>\n",
       "      <td>NaN</td>\n",
       "      <td>NaN</td>\n",
       "      <td>NaN</td>\n",
       "      <td>1499.000000</td>\n",
       "      <td>5.000000</td>\n",
       "      <td>NaN</td>\n",
       "      <td>NaN</td>\n",
       "    </tr>\n",
       "    <tr>\n",
       "      <th>max</th>\n",
       "      <td>1.027514e+07</td>\n",
       "      <td>NaN</td>\n",
       "      <td>NaN</td>\n",
       "      <td>NaN</td>\n",
       "      <td>63090.000000</td>\n",
       "      <td>10.000000</td>\n",
       "      <td>NaN</td>\n",
       "      <td>NaN</td>\n",
       "    </tr>\n",
       "  </tbody>\n",
       "</table>\n",
       "</div>"
      ],
      "text/plain": [
       "           ProductID                                  ProductName  \\\n",
       "count   1.249100e+04                                        12491   \n",
       "unique           NaN                                        10761   \n",
       "top              NaN  Parx Men Blue Slim Fit Checked Casual Shirt   \n",
       "freq             NaN                                           16   \n",
       "mean    9.917160e+06                                          NaN   \n",
       "std     1.438006e+06                                          NaN   \n",
       "min     1.012060e+05                                          NaN   \n",
       "25%     1.006215e+07                                          NaN   \n",
       "50%     1.015463e+07                                          NaN   \n",
       "75%     1.021565e+07                                          NaN   \n",
       "max     1.027514e+07                                          NaN   \n",
       "\n",
       "          ProductBrand Gender   Price (INR)     NumImages  \\\n",
       "count            12491  12491  12491.000000  12491.000000   \n",
       "unique             677      6           NaN           NaN   \n",
       "top     Indian Terrain  Women           NaN           NaN   \n",
       "freq               971   5126           NaN           NaN   \n",
       "mean               NaN    NaN   1452.660956      4.913698   \n",
       "std                NaN    NaN   2118.503976      1.092333   \n",
       "min                NaN    NaN     90.000000      1.000000   \n",
       "25%                NaN    NaN    649.000000      5.000000   \n",
       "50%                NaN    NaN    920.000000      5.000000   \n",
       "75%                NaN    NaN   1499.000000      5.000000   \n",
       "max                NaN    NaN  63090.000000     10.000000   \n",
       "\n",
       "                                              Description PrimaryColor  \n",
       "count                                               12491        11597  \n",
       "unique                                              10435           27  \n",
       "top     Blue medium wash 5-pocket mid-rise jeans, clea...         Blue  \n",
       "freq                                                   54         3443  \n",
       "mean                                                  NaN          NaN  \n",
       "std                                                   NaN          NaN  \n",
       "min                                                   NaN          NaN  \n",
       "25%                                                   NaN          NaN  \n",
       "50%                                                   NaN          NaN  \n",
       "75%                                                   NaN          NaN  \n",
       "max                                                   NaN          NaN  "
      ]
     },
     "execution_count": 14,
     "metadata": {},
     "output_type": "execute_result"
    }
   ],
   "source": [
    "df.describe(include = 'all')"
   ]
  },
  {
   "cell_type": "code",
   "execution_count": null,
   "metadata": {},
   "outputs": [],
   "source": []
  },
  {
   "cell_type": "code",
   "execution_count": null,
   "metadata": {},
   "outputs": [],
   "source": []
  },
  {
   "cell_type": "markdown",
   "metadata": {},
   "source": [
    "###### Seperate the names of the numerical and categorical cols"
   ]
  },
  {
   "cell_type": "code",
   "execution_count": 15,
   "metadata": {},
   "outputs": [
    {
     "name": "stdout",
     "output_type": "stream",
     "text": [
      "['ProductName', 'ProductBrand', 'Gender', 'Description', 'PrimaryColor']\n",
      "['ProductID', 'Price (INR)', 'NumImages']\n"
     ]
    }
   ],
   "source": [
    "cat_cols = [col for col in df.columns if df[col].dtypes == \"O\"]\n",
    "print(cat_cols)\n",
    "\n",
    "num_cols = [col for col in df.columns if df[col].dtypes != \"O\"]\n",
    "print(num_cols)"
   ]
  },
  {
   "cell_type": "code",
   "execution_count": null,
   "metadata": {},
   "outputs": [],
   "source": []
  },
  {
   "cell_type": "markdown",
   "metadata": {},
   "source": [
    "###### Check for Number Of Unique values for categorical cols"
   ]
  },
  {
   "cell_type": "code",
   "execution_count": 105,
   "metadata": {},
   "outputs": [
    {
     "name": "stdout",
     "output_type": "stream",
     "text": [
      "Column Name = 'ProductName'\n",
      "Total Unique Values = 10761\n",
      "____________________________________________________________\n",
      "Column Name = 'ProductBrand'\n",
      "Total Unique Values = 677\n",
      "____________________________________________________________\n",
      "Column Name = 'Gender'\n",
      "Total Unique Values = 6\n",
      "____________________________________________________________\n",
      "Column Name = 'Description'\n",
      "Total Unique Values = 10435\n",
      "____________________________________________________________\n",
      "Column Name = 'PrimaryColor'\n",
      "Total Unique Values = 27\n",
      "____________________________________________________________\n"
     ]
    }
   ],
   "source": [
    "for col in cat_cols : \n",
    "    print(f\"Column Name = '{col}'\")\n",
    "    print(f\"Total Unique Values = {df[col].nunique()}\"  )\n",
    "    print(\"__\" * 30)"
   ]
  },
  {
   "cell_type": "markdown",
   "metadata": {},
   "source": [
    "###### Check for Unique values for categorical cols"
   ]
  },
  {
   "cell_type": "code",
   "execution_count": 106,
   "metadata": {},
   "outputs": [
    {
     "name": "stdout",
     "output_type": "stream",
     "text": [
      "Column Name = 'ProductName' \n",
      "\n",
      "['DKNY Unisex Black & Grey Printed Medium Trolley Bag'\n",
      " 'EthnoVogue Women Beige & Grey Made to Measure Custom Made Kurta Set with Jacket'\n",
      " 'SPYKAR Women Pink Alexa Super Skinny Fit High-Rise Clean Look Stretchable Cropped Jeans'\n",
      " ... '612 league Girls Navy Blue & White Printed Regular Fit Denim Shorts'\n",
      " 'Bvlgari Men Aqva Pour Homme Marine Eau de Toilette 150ml'\n",
      " 'Pepe Jeans Men Black & Grey Striped Polo Collar T-shirt']\n",
      "____________________________________________________________\n",
      "\n",
      "Column Name = 'ProductBrand' \n",
      "\n",
      "['DKNY' 'EthnoVogue' 'SPYKAR' 'Raymond' 'Parx' 'SHOWOFF' 'Kenneth Cole'\n",
      " 'Police' 'Vishudh' 'Being Human' 'Homesake' 'SEJ by Nisha Gupta'\n",
      " 'YAK YAK' 'PARFAIT' 'Michael Kors' 'HIGHLANDER' 'JEWEL JUNCTION' 'ID'\n",
      " 'Story@home' 'Gini and Jony' 'Sera' 'AccessHer' 'Alcis'\n",
      " 'Difference of Opinion' 'Tokyo Talkies' 'ANNA SUI' 'her by invictus'\n",
      " 'Soie' 'Lara Karen' 'Urban Dog' 'ahilya' 'VASTRAMAY' 'Campus Sutra'\n",
      " 'FIDO DIDO' 'MIAH Decor' 'BuckleUp' 'Peter England' 'AIGNER' 'Lady Lyka'\n",
      " 'Park Avenue' 'Roadster' 'U.S. Polo Assn. Denim Co.' 'Sweet Dreams'\n",
      " 'Kazo' 'Stylo Bug' 'Bvlgari' 'Qraa Men' 'GAS' 'WITH' 'ZUSH'\n",
      " 'JBN Creation' 'U.S. Polo Assn. Kids' 'DressBerry' 'ColorPlus' 'Lakme'\n",
      " 'Allen Solly Woman' 'Palm Tree' 'Arrow' 'DAVID BECKHAM' 'MANGO' 'Carrera'\n",
      " 'ROMEE' 'TAYHAA' 'Ishin' 'Shoe Couture' 'HARBORNBAY' 'Keds' 'Rozia'\n",
      " 'Aj DEZInES' 'Monte Carlo' 'even' 'ether' 'Crimsoune Club'\n",
      " 'Russell Athletic' 'MIMOSA' 'Puma' 'Blackberrys' 'Playdate' 'Rocia'\n",
      " 'Marvel by Wear Your Mind' 'Annabelle by Pantaloons' 'berrytree'\n",
      " 'SIMON CARTER LONDON' 'Beli' 'Nautica' 'Jn Joy' 'THE SILHOUETTE STORE'\n",
      " 'Xpose' 'MBE' 'Mast & Harbour' 'JC Collection' 'GUESS' 'NEUDIS'\n",
      " 'StyleStone' 'SASSAFRAS' 'United Colors of Benetton' 'VLCC'\n",
      " 'Kook N Keech Disney' 'Bubblegummers' 'Hoopers' 'Peter England Casuals'\n",
      " 'Honey by Pantaloons' 'Pink Cow' 'DOROTHY PERKINS' 'Crew STREET'\n",
      " 'Bhama Couture' 'Zippo' 'Daffodils' 'aramis' 'C9 AIRWEAR' 'Oxolloxo'\n",
      " 'Soumya' 'Crocs' 'Carlton London' 'HERE&NOW' 'French Connection'\n",
      " 'Next Look' 'XYXX' 'shaze' 'Bitiya by Bhama' 'Geox' 'Tulsattva'\n",
      " 'ExclusiveLane' 'SHISEIDO' 'MSC' 'Anekaant' 'Innisfree' 'Wintage'\n",
      " 'LOCOMOTIVE' 'Bene Kleed' 'Varanga' 'HRX by Hrithik Roshan' 'Avira Home'\n",
      " 'Force 10' 'maxima' 'Aapno Rajasthan' 'Fortune' 'Moedbuille' 'Blue Saint'\n",
      " 'MASPAR' 'W' 'SCORPIUS' 'Ecko Unltd' 'BERING' 'Healers' 'Kvsfab' 'MOVADO'\n",
      " 'CINOCCI' 'Mitera' 'Harvard' 'Ojjasvi' 'Wild stone' 'AVANT-GARDE PARIS'\n",
      " 'Gliders' 'U&F' 'Abhishti' 'Dreamscape' 'OddCroft' 'Flying Machine'\n",
      " 'IT luggage' 'Nike' 'One Friday' 'Indibelle' 'Dynamocks' 'Arrow New York'\n",
      " 'Titan' 'Zoop' 'Levis' 'IVOC' 'Athena' 'Elizabeth Arden' 'Arrow Sport'\n",
      " 'Red Tape' 'PANAHI' 'Veni Vidi Vici' 'CODE by Lifestyle'\n",
      " 'Fame Forever by Lifestyle' 'Sonata' 'Yuris' 'Sherrif Shoes' 'TIMESMITH'\n",
      " 'Cherry Crumble' 'Senorita' 'CHUTPUT' 'Slumber Jill' 'Metro'\n",
      " 'Marks & Spencer' 'Fastrack' 'DODO & MOA' 'FabSeasons' 'Shaily'\n",
      " 'Mirchi Fashion' 'Sergio Tacchini' 'Janasya' 'Bossini' 'Rajnandini'\n",
      " 'Call It Spring' 'Coolers' 'Chhabra 555' 'LA LOFT' 'Cottinfab'\n",
      " 'Calvin Klein' 'Liberty' 'IMYOUNG' 'CLAY CRAFT' 'Crunchy Fashion'\n",
      " 'Respiro' 'trueBrowns' 'Trend Arrest' 'Besiva' 'INCOLOR' 'Kraus Jeans'\n",
      " 'RICHARD PARKER by Pantaloons' 'Mali Fionna' 'Kryptic' 'San Frissco'\n",
      " 'You Got Plan B' 'The Kaftan Company' 'Simply' 'Infuzze' 'Sir Corbett'\n",
      " 'HOME DECOR INDIA' 'Vero Moda' 'Be Indi' 'Da Intimo' 'Camey' 'Solemio'\n",
      " 'MsFQ' 'Forever New' 'Killer' 'AURELIA' 'Miss Chase' 'Saadgi'\n",
      " 'Lee Cooper' 'Foolzy' 'ZHEIA' 'Friskers' 'UCLA' 'Genie' 'Femmora'\n",
      " 'Fos Lighting' 'FirstClap' 'Clovia' 'Style Quotient' 'Rajasthan Decor'\n",
      " 'SG YUVRAJ' 'URBAN TRIBE' 'CASIO' 'VRINDA' 'Lady Stark' 'Newton'\n",
      " 'Bodycare' 'Alvaro Castagnino' 'Organic Harvest' 'Campus'\n",
      " 'Free Authority' 'Dennmarks' 'Voylla' 'Wish Karo' 'MBOSS' 'Mochi' 'ELLE'\n",
      " 'OBSESSIONS' 'Living Essence' 'GIORDANO' 'Hi RELs' 'DDecor' 'INVICTUS'\n",
      " 'Evoke 1899' 'Newport' 'Schwarzkopf PROFESSIONAL' 'Louis Philippe'\n",
      " 'PANIT' 'SELECTED' 'SOJANYA' 'Sangria' 'Divine Casa' 'Unravel India'\n",
      " 'Steenbok' 'Belle Fille' 'Kittens' 'Slub' 'Blissta' 'Alena' 'SWHF'\n",
      " 'JUMP USA' 'St. Ives' 'FabAlley' 'Nucleus' 'Home Sparkle' 'shiloh'\n",
      " 'Allen Solly' 'KLEIO' 'Maniac' 'Globus' 'Fourwalls'\n",
      " 'AKKRITI BY PANTALOONS' 'Genius' 'Bohemia Crystal' 'EQUINOX'\n",
      " 'Zink London' 'YASH GALLERY' 'Sparx' 'Van Heusen' 'YK' 'Blue Giraffe'\n",
      " 'Silvermerc Designs' 'Black coffee' 'Jacques Lemans' 'ZIYAA'\n",
      " 'SKULT by Shahid Kapoor' 'PERFKT-U' 'Zeal' 'Cortina' 'plusS' 'V Dot'\n",
      " 'Shoetopia' 'Eavan' 'Masch Sports' 'Devis' 'Namyaa' 'ONLY' 'Eske' 'MIWAY'\n",
      " 'Smiley World' 'Maserati' 'Archies' 'Marie Claire' 'Chumbak' 'Aber & Q'\n",
      " 'People' 'GMF' 'ABELINO' 'COVER STORY' 'Karmic Vision' 'Bonjour'\n",
      " 'Deco Window' 'ADIVA' 'Latin Quarters' 'Moda Rapido' 'Indian Terrain'\n",
      " 'RARE' 'SOLES' 'Lavie' 'Truffle Collection' 'GAP' 'KARATCART' 'Priyaasi'\n",
      " 'Mine4Nine' 'CHROME & CORAL' 'FAUSTO' 'ADORN by Nikita Ladiwala'\n",
      " 'Hancock' 'Calvin Klein Jeans' 'Secret Temptation' 'HEATWAVE' 'BownBee'\n",
      " 'Baggit' 'Force NXT' 'URBANE' 'Canary London' 'Jack & Jones' 'fancy mart'\n",
      " 'ADORENITE' 'Hypernation' 'Pantaloons Junior' 'Minions by Kook N Keech'\n",
      " 'Caprese' 'SUITLTD' 'Harpa' 'Taavi' 'Geroo Jaipur' 'Bamboo Tree Jewels'\n",
      " 'Kappa' 'Sher Singh' 'Morpheme Remedies' 'KiddoPanti' 'ANTS'\n",
      " 'Allen Cooper' 'Pure Home and Living' 'ComicSense.xyz'\n",
      " 'Louis Philippe Sport' 'Monrow' 'breya' 'RANGMANCH BY PANTALOONS'\n",
      " 'Wonder Woman' 'Melange by Lifestyle' 'CERIZ' 'Eego Italy' 'Knotyy' 'mf'\n",
      " 'Chemistry' 'TREEMODA' 'Chambor' 'OOMPH' 'KazarMax' 'Chkokko' 'Duke'\n",
      " 'Club York' 'BBLUNT' 'Jewels Galaxy' 'Molly & Michel' 'The Beauty Co.'\n",
      " 'Libas' 'Pipa Bella' 'FOSH' 'Freehand' 'Ed Hardy' 'Aditi Wasan' 'Akiva'\n",
      " 'Franco Leone' 'Mufti' '7Rainbow' 'beevee' 'Yellow Jeans' 'Soludos'\n",
      " 'Tresmode' 'bigbanana' 'Rex Straut Jeans' 'hummel' 'E2O'\n",
      " 'CAVALLO by Linen Club' 'Tommy Hilfiger' 'PRESTO' 'Tistabene' 'boAt'\n",
      " 'DENNISON' 'U.S. Polo Assn.' \"Kurti's by Menka\" 'Saree mall'\n",
      " 'Forca by Lifestyle' 'VALIOSAA' 'Ginger by Lifestyle' 'Iti'\n",
      " 'Stylee LIFESTYLE' 'JAINISH' 'Cation' 'WROGN' 'GODS'\n",
      " 'Disney by Wear Your Mind' 'Calvin Klein Underwear' 'Ayesha' 'Woodland'\n",
      " 'INDYA' 'meriggiare' 'BIANCA' 'Kook N Keech Marvel' 'Just Wow'\n",
      " 'Golden Peacock' 'Rosaline' 'Wildcraft' 'Rubans' 'Zaveri Pearls'\n",
      " 'CUTECUMBER' 'HAMMER' 'PrettyCat' 'Johnny Bravo by Kook N Keech' 'Zivame'\n",
      " 'Kook N Keech Garfield' 'Tissu' 'Turkish Bath' 'Nature Casuals'\n",
      " 'Unshaven' 'GIO COLLECTION' 'YWC' 'Kraft Cellar' 'Saral Home'\n",
      " 'justpeachy' 'GERUA' 'Skechers' 'Studio Voylla' 'Bruno Manetti'\n",
      " 'Invincible' 'Global Desi' 'yelloe' 'American Crew' 'Blisscovered'\n",
      " 'Alina decor' 'MANOHARI' 'Aujjessa' 't-base' 'NBA' 'RUF & TUF'\n",
      " 'SPRAY GROUND' 'UNKNOWN by Ayesha' 'WILD WEST' 'Pure Play'\n",
      " 'PUMA Motorsport' '20Dresses' 'Enamor' 'Aerosoles' 'Garmin'\n",
      " 'Street Style Store' 'Alom' 'DOT & KEY' 'pinwheel' 'Lotto' 'IZOD' 'Ruosh'\n",
      " 'Aarika' 'Envy' 'Reebok Classic' 'FEVER' 'Madame' '612 league' 'Tossido'\n",
      " 'WISSTLER' 'AHIKA' 'Jompers' 'Yuuki' 'Ahalyaa' 'Z-ZOOM'\n",
      " 'Van Heusen Woman' 'Blacksmith' 'fungus' 'Naari' 'Van Heusen Sport'\n",
      " 'Lady Love' 'NIZA' 'Saint G' 'HIROLAS' 'The Pink Moon' 'MISH' 'Vozaf'\n",
      " 'Louis Philippe Jeans' 'Indo Era' 'CALFNERO' 'The House of Tara'\n",
      " 'Kids Ville' 'The Chennai Silks' 'Superdry' 'Fox' 'Anouk' 'OFF LIMITS'\n",
      " 'Frozen' 'DIXCY SCOTT' 'BEARDO' 'Sherlock' 'FS Mini Klub' 'De Moza'\n",
      " 'VarEesha' 'Zelocity' 'Peanuts' 'Denizen From Levis' 'Ferraiolo'\n",
      " 'Yaadleen' 'Peter England Elite' 'SEIKO' 'TALES & STORIES'\n",
      " 'Daily Life Forever52' 'The Vanca' 'AND' 'The Indian Garage Co' 'Voyage'\n",
      " 'Reebok' 'SCOUP' 'GNIST' 'Biba' 'RAISIN' 'AASK' 'FABNEST'\n",
      " 'Signature Sole' 'Batman' 'STAR WARS' 'SWAROVSKI' 'FUGAZEE'\n",
      " 'KAMA AYURVEDA' 'ADIDAS Originals' 'Fusion Beats' 'bodha' 'Peora'\n",
      " 'Amante' 'naughty ninos' 'Rajesh Silk Mills' 'ADIDAS' 'Allen Solly Sport'\n",
      " 'Krafted with Happiness' 'Golden Girl' 'RUGSMITH' 'SKAGEN'\n",
      " 'Masculino Latino' 'Lychee bags' 'Ira Soleil' 'CORSICA' 'Instacrush'\n",
      " 'SCUDERIA FERRARI' 'Superman' 'DailyObjects' 'The Dry State'\n",
      " 'Makeup Revolution London' 'Orange and Orchid' 'CAPTAIN AMERICA'\n",
      " 'Teakwood Leathers' 'Ponds' 'Inc 5' 'EK DO DHAI' 'Natilene' 'OBOW'\n",
      " 'Basics' 'ESBEDA' 'TAG EYE' 'Proline Active' 'FableStreet' 'amraoo'\n",
      " 'Varkala Silk Sarees' 'LilPicks' 'Lacoste' 'Purple Feather'\n",
      " 'FURO by Red Chief' 'WESTCLO' 'FOREVER 21' 'Barbie by Many Frocks &'\n",
      " 'Khushal K' 'Rangoli Jaipur' 'I AM FOR YOU' 'Soulflower'\n",
      " 'Allen Solly Junior' 'Hubberholme' 'BOLLYGLOW' 'Braun' 'DUGRISTYLE'\n",
      " 'HUNTER 1114' 'FILA' 'Vastraa Fusion' 'Renka' 'U.S. Polo Assn. Women'\n",
      " 'Antheaa' 'Tikhi Imli' 'Wear Your Mind' 'Moon Dust' 'Philips'\n",
      " 'AWW HUNNIE' 'Purple State' 'Kidling' 'Twisha' 'Genius18' 'Pepe Jeans'\n",
      " 'Plum' 'Lapis O Lupo' 'SHINGORA' 'Lino Perros' 'Revlon' 'MomToBe'\n",
      " 'DEYANN' 'Nauti Nati' 'FLAVIDO' 'QUIERO' 'Inddus' 'Laceandme'\n",
      " 'Maybelline' 'STREET 9' 'Rain & Rainbow' 'Campana' 'ToniQ'\n",
      " 'OSHKOSH Bgosh' 'Qurvii' 'ULRIC DE VARENS' 'BUKKUM' 'KID1' 'Hidesign'\n",
      " 'Sonari' 'Wrangler' 'Ives' 'Noble Faith' 'PURYS'\n",
      " 'BEAT LONDON by PEPE JEANS' 'Chopard' 'House of Pataudi' 'INVU' 'CAT'\n",
      " 'ESPRIT' 'PRITA' 'Satrani' '109F' 'SWISS MILITARY' 'Carven'\n",
      " 'Stupid Cupid']\n",
      "____________________________________________________________\n",
      "\n",
      "Column Name = 'Gender' \n",
      "\n",
      "['Unisex' 'Women' 'Men' 'Boys' 'Girls' 'Unisex Kids']\n",
      "____________________________________________________________\n",
      "\n",
      "Column Name = 'Description' \n",
      "\n",
      "['Black and grey printed medium trolley bag, secured with a TSA lockOne handle on the top and one on the side, has a trolley with a retractable handle on the top and four corner mounted inline skate wheelsOne main zip compartment, zip lining, two compression straps with click clasps, one zip compartment on the flap with three zip pocketsWarranty: 5 yearsWarranty provided by Brand Owner / Manufacturer'\n",
      " 'Beige & Grey made to measure kurta with churidar and\\xa0dupattaBeige made to measure calf\\xa0length kurta, has a V-neck, three-quarter sleeves, lightly padded on bust, flared hem, concealed zip closureGrey solid made to measure churidar, drawstring closureGrey net sequined dupatta, has printed tapingWhat is Made to Measure?Customised Kurta Set according to your Bust and Length. So please refer to the Size Chart to pick your perfect size.How to measure bust?Measure under your arms and around your chest to find your bust size in inchesHow to measure Kurta length?Measure from shoulder till barefoot to find kurta length in'\n",
      " 'Pink coloured wash 5-pocket high-rise cropped jeans, clean look, no fade, has a button and zip closure, and waistband with belt loops'\n",
      " ...\n",
      " 'Navy Blue and White printed mid-rise denim shorts, has 5 pockets, and button closure'\n",
      " 'Bvlgari Men Aqva Pour Homme Marine Eau de Toilette'\n",
      " 'Black and grey striped T-shirt, has a polo collar, and short sleeves Design Details-PEPE JEANS MENS POLO.SPACE DYED JERSEY FABRIC.HIGH DENSITY PRINT.REGULAR FIT.SHORT SLEEVE.SOFT WASHED.']\n",
      "____________________________________________________________\n",
      "\n",
      "Column Name = 'PrimaryColor' \n",
      "\n",
      "[' Black' ' Beige' ' Pink' 'Blue' ' White' ' Brown' ' Burgundy' ' Red'\n",
      " ' Green' nan ' Maroon' ' Navy' ' Gold' ' Yellow' ' Grey' ' Platinum'\n",
      " ' Silver' ' Khaki' ' Mustard' ' Lavender' ' Matte' ' Rose' ' Charcoal'\n",
      " ' Purple' ' Orange' ' Peach' ' Magenta' ' Bronze']\n",
      "____________________________________________________________\n",
      "\n"
     ]
    }
   ],
   "source": [
    "for col in cat_cols : \n",
    "    print(f\"Column Name = '{col}' \\n\")\n",
    "    print(df[col].unique())\n",
    "    print(\"__\" * 30)\n",
    "    print()"
   ]
  },
  {
   "cell_type": "code",
   "execution_count": 17,
   "metadata": {},
   "outputs": [
    {
     "data": {
      "text/plain": [
       "array([ 7,  5,  4,  6,  3,  2,  1,  8,  9, 10], dtype=int64)"
      ]
     },
     "execution_count": 17,
     "metadata": {},
     "output_type": "execute_result"
    }
   ],
   "source": [
    "df['NumImages'].unique()"
   ]
  },
  {
   "cell_type": "code",
   "execution_count": null,
   "metadata": {},
   "outputs": [],
   "source": []
  },
  {
   "cell_type": "markdown",
   "metadata": {},
   "source": [
    "# Scenario2\n",
    "\n",
    "You have successfully created the dataframe from the two input files.\n",
    "Here we will be processing cleaning operations and intro to brief analysis.\n",
    "Expected shape of the dataset: 12491 rows and 8 columns\n"
   ]
  },
  {
   "cell_type": "markdown",
   "metadata": {},
   "source": [
    "## Task\n",
    "\n",
    "1.\tThere is a column that needs string strip operation. Identify that and apply it.\n",
    "2.\tFill the missing value by ‘Others’ in the column containing it\n",
    "3.\tSince all the column names are single word so you can convert the ‘Price (INR)’ also to single name ‘Price’.\n",
    "4.\tAnalyse the Gender column and include your viewpoints how to make it useful.\n"
   ]
  },
  {
   "cell_type": "markdown",
   "metadata": {},
   "source": [
    "##### There are spaces in the 'PrimaryColor' column so removing them"
   ]
  },
  {
   "cell_type": "code",
   "execution_count": 107,
   "metadata": {},
   "outputs": [],
   "source": [
    "#Removing leading spaces from PrimaryColor column\n",
    "df['PrimaryColor'] = df['PrimaryColor'].str.lstrip()"
   ]
  },
  {
   "cell_type": "code",
   "execution_count": 110,
   "metadata": {},
   "outputs": [
    {
     "data": {
      "text/plain": [
       "array(['Black', 'Beige', 'Pink', 'Blue', 'White', 'Brown', 'Burgundy',\n",
       "       'Red', 'Green', 'Other', 'Maroon', 'Navy', 'Gold', 'Yellow',\n",
       "       'Grey', 'Platinum', 'Silver', 'Khaki', 'Mustard', 'Lavender',\n",
       "       'Matte', 'Rose', 'Charcoal', 'Purple', 'Orange', 'Peach',\n",
       "       'Magenta', 'Bronze'], dtype=object)"
      ]
     },
     "execution_count": 110,
     "metadata": {},
     "output_type": "execute_result"
    }
   ],
   "source": [
    "df['PrimaryColor'].unique()"
   ]
  },
  {
   "cell_type": "code",
   "execution_count": 109,
   "metadata": {},
   "outputs": [],
   "source": [
    "#The NULL in PrimaryColor is simply filled with 'Other'\n",
    "df['PrimaryColor'] = df['PrimaryColor'].fillna('Other')"
   ]
  },
  {
   "cell_type": "code",
   "execution_count": 111,
   "metadata": {},
   "outputs": [
    {
     "data": {
      "text/plain": [
       "False"
      ]
     },
     "execution_count": 111,
     "metadata": {},
     "output_type": "execute_result"
    }
   ],
   "source": [
    "\"Violet\" in df['PrimaryColor'].unique()"
   ]
  },
  {
   "cell_type": "code",
   "execution_count": null,
   "metadata": {},
   "outputs": [],
   "source": []
  },
  {
   "cell_type": "markdown",
   "metadata": {},
   "source": [
    "##### Finding Length of each unique ID"
   ]
  },
  {
   "cell_type": "code",
   "execution_count": 129,
   "metadata": {},
   "outputs": [],
   "source": [
    "df[\"ProductIDLength\"] = df[\"ProductID\"].apply(lambda x : len( str(x)  ))"
   ]
  },
  {
   "cell_type": "code",
   "execution_count": 130,
   "metadata": {},
   "outputs": [
    {
     "data": {
      "text/html": [
       "<div>\n",
       "<style scoped>\n",
       "    .dataframe tbody tr th:only-of-type {\n",
       "        vertical-align: middle;\n",
       "    }\n",
       "\n",
       "    .dataframe tbody tr th {\n",
       "        vertical-align: top;\n",
       "    }\n",
       "\n",
       "    .dataframe thead th {\n",
       "        text-align: right;\n",
       "    }\n",
       "</style>\n",
       "<table border=\"1\" class=\"dataframe\">\n",
       "  <thead>\n",
       "    <tr style=\"text-align: right;\">\n",
       "      <th></th>\n",
       "      <th>ProductID</th>\n",
       "      <th>ProductName</th>\n",
       "      <th>ProductBrand</th>\n",
       "      <th>Gender</th>\n",
       "      <th>Price (INR)</th>\n",
       "      <th>NumImages</th>\n",
       "      <th>Description</th>\n",
       "      <th>PrimaryColor</th>\n",
       "      <th>ProductIDLength</th>\n",
       "    </tr>\n",
       "  </thead>\n",
       "  <tbody>\n",
       "    <tr>\n",
       "      <th>0</th>\n",
       "      <td>10017413</td>\n",
       "      <td>DKNY Unisex Black &amp; Grey Printed Medium Trolle...</td>\n",
       "      <td>DKNY</td>\n",
       "      <td>Unisex</td>\n",
       "      <td>11745</td>\n",
       "      <td>7</td>\n",
       "      <td>Black and grey printed medium trolley bag, sec...</td>\n",
       "      <td>Black</td>\n",
       "      <td>8</td>\n",
       "    </tr>\n",
       "    <tr>\n",
       "      <th>1</th>\n",
       "      <td>10016283</td>\n",
       "      <td>EthnoVogue Women Beige &amp; Grey Made to Measure ...</td>\n",
       "      <td>EthnoVogue</td>\n",
       "      <td>Women</td>\n",
       "      <td>5810</td>\n",
       "      <td>7</td>\n",
       "      <td>Beige &amp; Grey made to measure kurta with churid...</td>\n",
       "      <td>Beige</td>\n",
       "      <td>8</td>\n",
       "    </tr>\n",
       "    <tr>\n",
       "      <th>2</th>\n",
       "      <td>10009781</td>\n",
       "      <td>SPYKAR Women Pink Alexa Super Skinny Fit High-...</td>\n",
       "      <td>SPYKAR</td>\n",
       "      <td>Women</td>\n",
       "      <td>899</td>\n",
       "      <td>7</td>\n",
       "      <td>Pink coloured wash 5-pocket high-rise cropped ...</td>\n",
       "      <td>Pink</td>\n",
       "      <td>8</td>\n",
       "    </tr>\n",
       "    <tr>\n",
       "      <th>3</th>\n",
       "      <td>10015921</td>\n",
       "      <td>Raymond Men Blue Self-Design Single-Breasted B...</td>\n",
       "      <td>Raymond</td>\n",
       "      <td>Men</td>\n",
       "      <td>5599</td>\n",
       "      <td>5</td>\n",
       "      <td>Blue self-design bandhgala suitBlue self-desig...</td>\n",
       "      <td>Blue</td>\n",
       "      <td>8</td>\n",
       "    </tr>\n",
       "    <tr>\n",
       "      <th>4</th>\n",
       "      <td>10017833</td>\n",
       "      <td>Parx Men Brown &amp; Off-White Slim Fit Printed Ca...</td>\n",
       "      <td>Parx</td>\n",
       "      <td>Men</td>\n",
       "      <td>759</td>\n",
       "      <td>5</td>\n",
       "      <td>Brown and off-white printed casual shirt, has ...</td>\n",
       "      <td>White</td>\n",
       "      <td>8</td>\n",
       "    </tr>\n",
       "  </tbody>\n",
       "</table>\n",
       "</div>"
      ],
      "text/plain": [
       "   ProductID                                        ProductName ProductBrand  \\\n",
       "0   10017413  DKNY Unisex Black & Grey Printed Medium Trolle...         DKNY   \n",
       "1   10016283  EthnoVogue Women Beige & Grey Made to Measure ...   EthnoVogue   \n",
       "2   10009781  SPYKAR Women Pink Alexa Super Skinny Fit High-...       SPYKAR   \n",
       "3   10015921  Raymond Men Blue Self-Design Single-Breasted B...      Raymond   \n",
       "4   10017833  Parx Men Brown & Off-White Slim Fit Printed Ca...         Parx   \n",
       "\n",
       "   Gender  Price (INR)  NumImages  \\\n",
       "0  Unisex        11745          7   \n",
       "1   Women         5810          7   \n",
       "2   Women          899          7   \n",
       "3     Men         5599          5   \n",
       "4     Men          759          5   \n",
       "\n",
       "                                         Description PrimaryColor  \\\n",
       "0  Black and grey printed medium trolley bag, sec...        Black   \n",
       "1  Beige & Grey made to measure kurta with churid...        Beige   \n",
       "2  Pink coloured wash 5-pocket high-rise cropped ...         Pink   \n",
       "3  Blue self-design bandhgala suitBlue self-desig...         Blue   \n",
       "4  Brown and off-white printed casual shirt, has ...        White   \n",
       "\n",
       "   ProductIDLength  \n",
       "0                8  \n",
       "1                8  \n",
       "2                8  \n",
       "3                8  \n",
       "4                8  "
      ]
     },
     "execution_count": 130,
     "metadata": {},
     "output_type": "execute_result"
    }
   ],
   "source": [
    "df.head()"
   ]
  },
  {
   "cell_type": "code",
   "execution_count": 132,
   "metadata": {},
   "outputs": [
    {
     "data": {
      "text/plain": [
       "8    12175\n",
       "7      313\n",
       "6        3\n",
       "Name: ProductIDLength, dtype: int64"
      ]
     },
     "execution_count": 132,
     "metadata": {},
     "output_type": "execute_result"
    }
   ],
   "source": [
    "df[\"ProductIDLength\"].value_counts()"
   ]
  },
  {
   "cell_type": "code",
   "execution_count": null,
   "metadata": {},
   "outputs": [],
   "source": [
    "\n"
   ]
  },
  {
   "cell_type": "code",
   "execution_count": 134,
   "metadata": {},
   "outputs": [],
   "source": [
    "df.rename( columns = {\"Price (INR)\" : \"Price\"}, inplace = True )"
   ]
  },
  {
   "cell_type": "code",
   "execution_count": 138,
   "metadata": {},
   "outputs": [
    {
     "data": {
      "text/html": [
       "<div>\n",
       "<style scoped>\n",
       "    .dataframe tbody tr th:only-of-type {\n",
       "        vertical-align: middle;\n",
       "    }\n",
       "\n",
       "    .dataframe tbody tr th {\n",
       "        vertical-align: top;\n",
       "    }\n",
       "\n",
       "    .dataframe thead th {\n",
       "        text-align: right;\n",
       "    }\n",
       "</style>\n",
       "<table border=\"1\" class=\"dataframe\">\n",
       "  <thead>\n",
       "    <tr style=\"text-align: right;\">\n",
       "      <th></th>\n",
       "      <th>ProductID</th>\n",
       "      <th>ProductName</th>\n",
       "      <th>ProductBrand</th>\n",
       "      <th>Gender</th>\n",
       "      <th>Price</th>\n",
       "      <th>NumImages</th>\n",
       "      <th>Description</th>\n",
       "      <th>PrimaryColor</th>\n",
       "    </tr>\n",
       "  </thead>\n",
       "  <tbody>\n",
       "    <tr>\n",
       "      <th>0</th>\n",
       "      <td>10017413</td>\n",
       "      <td>DKNY Unisex Black &amp; Grey Printed Medium Trolle...</td>\n",
       "      <td>DKNY</td>\n",
       "      <td>Unisex</td>\n",
       "      <td>11745</td>\n",
       "      <td>7</td>\n",
       "      <td>Black and grey printed medium trolley bag, sec...</td>\n",
       "      <td>Black</td>\n",
       "    </tr>\n",
       "    <tr>\n",
       "      <th>1</th>\n",
       "      <td>10016283</td>\n",
       "      <td>EthnoVogue Women Beige &amp; Grey Made to Measure ...</td>\n",
       "      <td>EthnoVogue</td>\n",
       "      <td>Women</td>\n",
       "      <td>5810</td>\n",
       "      <td>7</td>\n",
       "      <td>Beige &amp; Grey made to measure kurta with churid...</td>\n",
       "      <td>Beige</td>\n",
       "    </tr>\n",
       "  </tbody>\n",
       "</table>\n",
       "</div>"
      ],
      "text/plain": [
       "   ProductID                                        ProductName ProductBrand  \\\n",
       "0   10017413  DKNY Unisex Black & Grey Printed Medium Trolle...         DKNY   \n",
       "1   10016283  EthnoVogue Women Beige & Grey Made to Measure ...   EthnoVogue   \n",
       "\n",
       "   Gender  Price  NumImages  \\\n",
       "0  Unisex  11745          7   \n",
       "1   Women   5810          7   \n",
       "\n",
       "                                         Description PrimaryColor  \n",
       "0  Black and grey printed medium trolley bag, sec...        Black  \n",
       "1  Beige & Grey made to measure kurta with churid...        Beige  "
      ]
     },
     "execution_count": 138,
     "metadata": {},
     "output_type": "execute_result"
    }
   ],
   "source": [
    "df.head(2)"
   ]
  },
  {
   "cell_type": "code",
   "execution_count": null,
   "metadata": {},
   "outputs": [],
   "source": []
  },
  {
   "cell_type": "code",
   "execution_count": 137,
   "metadata": {},
   "outputs": [],
   "source": [
    "df.drop(\"ProductIDLength\", axis = 1, inplace = True)"
   ]
  },
  {
   "cell_type": "code",
   "execution_count": null,
   "metadata": {},
   "outputs": [],
   "source": []
  },
  {
   "cell_type": "code",
   "execution_count": null,
   "metadata": {},
   "outputs": [],
   "source": []
  },
  {
   "cell_type": "code",
   "execution_count": null,
   "metadata": {},
   "outputs": [],
   "source": []
  },
  {
   "cell_type": "markdown",
   "metadata": {},
   "source": [
    "# Scenario3\n",
    "\n",
    "So far we have learnt the basics of the dataset and cleaned it as required. Over here you are going to perform deep analysis of the dataset with the help of data manipulation tricks as well as visualize the results. \n",
    "This is the most time consuming tasks and make sure you do perform proper analysis method. \n",
    "Expected shape of the dataset: 12491 rows and 8 columns\n"
   ]
  },
  {
   "cell_type": "markdown",
   "metadata": {},
   "source": [
    "## Task1\n",
    "1.\tUnivariate analysis of each variable\n",
    "2.\tBivariate Analysis of categorical vs numerical variables (Take target variable as fixed variable here)\n",
    "3.\tMultivariate Analysis of categorical and numerical variables\n",
    "4.\tCheck distribution of variables\n"
   ]
  },
  {
   "cell_type": "markdown",
   "metadata": {},
   "source": [
    "### Gender Distribution"
   ]
  },
  {
   "cell_type": "code",
   "execution_count": 25,
   "metadata": {},
   "outputs": [
    {
     "data": {
      "text/html": [
       "<div>\n",
       "<style scoped>\n",
       "    .dataframe tbody tr th:only-of-type {\n",
       "        vertical-align: middle;\n",
       "    }\n",
       "\n",
       "    .dataframe tbody tr th {\n",
       "        vertical-align: top;\n",
       "    }\n",
       "\n",
       "    .dataframe thead th {\n",
       "        text-align: right;\n",
       "    }\n",
       "</style>\n",
       "<table border=\"1\" class=\"dataframe\">\n",
       "  <thead>\n",
       "    <tr style=\"text-align: right;\">\n",
       "      <th></th>\n",
       "      <th>TotalRecords</th>\n",
       "    </tr>\n",
       "    <tr>\n",
       "      <th>Gender</th>\n",
       "      <th></th>\n",
       "    </tr>\n",
       "  </thead>\n",
       "  <tbody>\n",
       "    <tr>\n",
       "      <th>Women</th>\n",
       "      <td>5126</td>\n",
       "    </tr>\n",
       "    <tr>\n",
       "      <th>Men</th>\n",
       "      <td>4591</td>\n",
       "    </tr>\n",
       "    <tr>\n",
       "      <th>Unisex</th>\n",
       "      <td>1188</td>\n",
       "    </tr>\n",
       "    <tr>\n",
       "      <th>Boys</th>\n",
       "      <td>1100</td>\n",
       "    </tr>\n",
       "    <tr>\n",
       "      <th>Girls</th>\n",
       "      <td>440</td>\n",
       "    </tr>\n",
       "  </tbody>\n",
       "</table>\n",
       "</div>"
      ],
      "text/plain": [
       "        TotalRecords\n",
       "Gender              \n",
       "Women           5126\n",
       "Men             4591\n",
       "Unisex          1188\n",
       "Boys            1100\n",
       "Girls            440"
      ]
     },
     "execution_count": 25,
     "metadata": {},
     "output_type": "execute_result"
    }
   ],
   "source": [
    "gender_group = df.groupby(\"Gender\").agg(  TotalRecords = (\"ProductID\", \"size\"))\n",
    "gender_group = gender_group.sort_values(by = \"TotalRecords\", ascending = False)\n",
    "\n",
    "gender_group.head()"
   ]
  },
  {
   "cell_type": "code",
   "execution_count": 26,
   "metadata": {},
   "outputs": [
    {
     "data": {
      "image/png": "[encoded data removed]",
      "text/plain": [
       "<Figure size 1080x576 with 1 Axes>"
      ]
     },
     "metadata": {
      "needs_background": "light"
     },
     "output_type": "display_data"
    }
   ],
   "source": [
    "plt.figure(  figsize = (15, 8) )\n",
    "\n",
    "sns.barplot( x = gender_group.index.values, \n",
    "           y = gender_group.TotalRecords.values,\n",
    "           palette = \"BrBG\")\n",
    "plt.xlabel(\"Gender\")\n",
    "plt.ylabel(\"Total Records\")\n",
    "plt.suptitle(f\"Total records for '{gender_group.index.names[0]}'\", fontsize = 20)\n",
    "plt.title(\"---- Most Popular Colors ----\")\n",
    "plt.xticks(rotation = 90)\n",
    "plt.show()"
   ]
  },
  {
   "cell_type": "code",
   "execution_count": null,
   "metadata": {},
   "outputs": [],
   "source": []
  },
  {
   "cell_type": "markdown",
   "metadata": {},
   "source": [
    "### Number Of Images Distribution"
   ]
  },
  {
   "cell_type": "code",
   "execution_count": 144,
   "metadata": {},
   "outputs": [
    {
     "data": {
      "text/html": [
       "<div>\n",
       "<style scoped>\n",
       "    .dataframe tbody tr th:only-of-type {\n",
       "        vertical-align: middle;\n",
       "    }\n",
       "\n",
       "    .dataframe tbody tr th {\n",
       "        vertical-align: top;\n",
       "    }\n",
       "\n",
       "    .dataframe thead th {\n",
       "        text-align: right;\n",
       "    }\n",
       "</style>\n",
       "<table border=\"1\" class=\"dataframe\">\n",
       "  <thead>\n",
       "    <tr style=\"text-align: right;\">\n",
       "      <th></th>\n",
       "      <th>TotalRecords</th>\n",
       "    </tr>\n",
       "    <tr>\n",
       "      <th>NumImages</th>\n",
       "      <th></th>\n",
       "    </tr>\n",
       "  </thead>\n",
       "  <tbody>\n",
       "    <tr>\n",
       "      <th>1</th>\n",
       "      <td>13</td>\n",
       "    </tr>\n",
       "    <tr>\n",
       "      <th>2</th>\n",
       "      <td>174</td>\n",
       "    </tr>\n",
       "    <tr>\n",
       "      <th>3</th>\n",
       "      <td>1211</td>\n",
       "    </tr>\n",
       "    <tr>\n",
       "      <th>4</th>\n",
       "      <td>1693</td>\n",
       "    </tr>\n",
       "    <tr>\n",
       "      <th>5</th>\n",
       "      <td>7134</td>\n",
       "    </tr>\n",
       "    <tr>\n",
       "      <th>6</th>\n",
       "      <td>1080</td>\n",
       "    </tr>\n",
       "    <tr>\n",
       "      <th>7</th>\n",
       "      <td>1057</td>\n",
       "    </tr>\n",
       "    <tr>\n",
       "      <th>8</th>\n",
       "      <td>102</td>\n",
       "    </tr>\n",
       "    <tr>\n",
       "      <th>9</th>\n",
       "      <td>24</td>\n",
       "    </tr>\n",
       "    <tr>\n",
       "      <th>10</th>\n",
       "      <td>3</td>\n",
       "    </tr>\n",
       "  </tbody>\n",
       "</table>\n",
       "</div>"
      ],
      "text/plain": [
       "           TotalRecords\n",
       "NumImages              \n",
       "1                    13\n",
       "2                   174\n",
       "3                  1211\n",
       "4                  1693\n",
       "5                  7134\n",
       "6                  1080\n",
       "7                  1057\n",
       "8                   102\n",
       "9                    24\n",
       "10                    3"
      ]
     },
     "execution_count": 144,
     "metadata": {},
     "output_type": "execute_result"
    }
   ],
   "source": [
    "images_group = df.groupby(\"NumImages\").agg(  TotalRecords = (\"ProductID\", \"size\"))\n",
    "images_group = images_group.sort_values(by = \"NumImages\")\n",
    "\n",
    "images_group"
   ]
  },
  {
   "cell_type": "code",
   "execution_count": 146,
   "metadata": {},
   "outputs": [
    {
     "data": {
      "image/png": "[encoded data removed]",
      "text/plain": [
       "<Figure size 1080x576 with 1 Axes>"
      ]
     },
     "metadata": {
      "needs_background": "light"
     },
     "output_type": "display_data"
    }
   ],
   "source": [
    "plt.figure(  figsize = (15, 8) )\n",
    "\n",
    "sns.barplot( x = images_group.index.values, \n",
    "           y = images_group.TotalRecords.values,\n",
    "           palette = \"viridis\")\n",
    "plt.xlabel(\"Number Of Images\")\n",
    "plt.ylabel(\"Total Records\")\n",
    "plt.suptitle(f\"Total records for '{gender_group.index.names[0]}'\", fontsize = 20)\n",
    "plt.title(\"---- Images Distribution ----\")\n",
    "plt.xticks(rotation = 90)\n",
    "plt.show()"
   ]
  },
  {
   "cell_type": "code",
   "execution_count": null,
   "metadata": {},
   "outputs": [],
   "source": []
  },
  {
   "cell_type": "markdown",
   "metadata": {},
   "source": [
    "### Analyzing  ProductBrand Groups \n",
    "###### Studying their totalrecords, avgprice and avgimages for top 15 values against each of the category"
   ]
  },
  {
   "cell_type": "code",
   "execution_count": 202,
   "metadata": {},
   "outputs": [
    {
     "data": {
      "text/html": [
       "<div>\n",
       "<style scoped>\n",
       "    .dataframe tbody tr th:only-of-type {\n",
       "        vertical-align: middle;\n",
       "    }\n",
       "\n",
       "    .dataframe tbody tr th {\n",
       "        vertical-align: top;\n",
       "    }\n",
       "\n",
       "    .dataframe thead th {\n",
       "        text-align: right;\n",
       "    }\n",
       "</style>\n",
       "<table border=\"1\" class=\"dataframe\">\n",
       "  <thead>\n",
       "    <tr style=\"text-align: right;\">\n",
       "      <th></th>\n",
       "      <th>TotalRecords</th>\n",
       "      <th>AvgPrice</th>\n",
       "      <th>MaxPrice</th>\n",
       "    </tr>\n",
       "    <tr>\n",
       "      <th>ProductBrand</th>\n",
       "      <th></th>\n",
       "      <th></th>\n",
       "      <th></th>\n",
       "    </tr>\n",
       "  </thead>\n",
       "  <tbody>\n",
       "    <tr>\n",
       "      <th>109F</th>\n",
       "      <td>1</td>\n",
       "      <td>1299.0000</td>\n",
       "      <td>1299</td>\n",
       "    </tr>\n",
       "    <tr>\n",
       "      <th>20Dresses</th>\n",
       "      <td>3</td>\n",
       "      <td>1153.0000</td>\n",
       "      <td>1396</td>\n",
       "    </tr>\n",
       "    <tr>\n",
       "      <th>612 league</th>\n",
       "      <td>16</td>\n",
       "      <td>713.3125</td>\n",
       "      <td>1395</td>\n",
       "    </tr>\n",
       "    <tr>\n",
       "      <th>7Rainbow</th>\n",
       "      <td>3</td>\n",
       "      <td>598.0000</td>\n",
       "      <td>620</td>\n",
       "    </tr>\n",
       "    <tr>\n",
       "      <th>AASK</th>\n",
       "      <td>1</td>\n",
       "      <td>1499.0000</td>\n",
       "      <td>1499</td>\n",
       "    </tr>\n",
       "  </tbody>\n",
       "</table>\n",
       "</div>"
      ],
      "text/plain": [
       "              TotalRecords   AvgPrice  MaxPrice\n",
       "ProductBrand                                   \n",
       "109F                     1  1299.0000      1299\n",
       "20Dresses                3  1153.0000      1396\n",
       "612 league              16   713.3125      1395\n",
       "7Rainbow                 3   598.0000       620\n",
       "AASK                     1  1499.0000      1499"
      ]
     },
     "execution_count": 202,
     "metadata": {},
     "output_type": "execute_result"
    }
   ],
   "source": [
    "products_group = df.groupby(\"ProductBrand\").agg( TotalRecords = (\"ProductID\", 'size'), \n",
    "                                                   AvgPrice = (\"Price\", 'mean'), \n",
    "                                                   MaxPrice = (\"Price\", \"max\"))\n",
    "products_group.head()"
   ]
  },
  {
   "cell_type": "code",
   "execution_count": 204,
   "metadata": {},
   "outputs": [
    {
     "data": {
      "image/png": "[encoded data removed]",
      "text/plain": [
       "<Figure size 1080x432 with 3 Axes>"
      ]
     },
     "metadata": {
      "needs_background": "light"
     },
     "output_type": "display_data"
    }
   ],
   "source": [
    "plt.figure(  figsize = (15, 6) )\n",
    "plt.suptitle(\"------------ Analysis of Products Group ------------\", fontsize = 20)\n",
    "\n",
    "\n",
    "plt.subplot(1, 3, 1)\n",
    "sns.barplot(x = products_group.sort_values(by = 'TotalRecords', ascending = False).index[ : 15], \n",
    "            y = products_group.sort_values(by = 'TotalRecords', ascending = False).TotalRecords.values[ : 15], \n",
    "            palette = \"hsv\")\n",
    "plt.xticks(rotation = 90)\n",
    "plt.title( f\" Number of Records :  {products_group.index.name}\")\n",
    "\n",
    "plt.subplot(1, 3, 2)\n",
    "sns.barplot(x = products_group.sort_values(by = 'AvgPrice', ascending = False).index[ : 15], \n",
    "            y = products_group.sort_values(by = 'AvgPrice', ascending = False).AvgPrice.values[ : 15], \n",
    "            palette = \"hsv\")\n",
    "plt.xticks(rotation = 90)\n",
    "plt.title( f\" Avg Price by :  {products_group.index.name}\")\n",
    "\n",
    "plt.subplot(1, 3, 3)\n",
    "sns.barplot(x = products_group.sort_values(by = 'MaxPrice', ascending = False).index[ : 15], \n",
    "            y = products_group.sort_values(by = 'MaxPrice', ascending = False).MaxPrice.values[ : 15], \n",
    "            palette = \"hsv\")\n",
    "plt.xticks(rotation = 90)\n",
    "plt.title( f\" MaxPrice by :  {products_group.index.name}\")\n",
    "\n",
    "plt.show()"
   ]
  },
  {
   "cell_type": "code",
   "execution_count": null,
   "metadata": {},
   "outputs": [],
   "source": []
  },
  {
   "cell_type": "markdown",
   "metadata": {},
   "source": [
    "### Analyzing  Primary Colors Groups \n",
    "###### Studying their totalrecords, avgprice and avgimages for top 15 values against each of the category"
   ]
  },
  {
   "cell_type": "code",
   "execution_count": 200,
   "metadata": {},
   "outputs": [
    {
     "data": {
      "text/html": [
       "<div>\n",
       "<style scoped>\n",
       "    .dataframe tbody tr th:only-of-type {\n",
       "        vertical-align: middle;\n",
       "    }\n",
       "\n",
       "    .dataframe tbody tr th {\n",
       "        vertical-align: top;\n",
       "    }\n",
       "\n",
       "    .dataframe thead th {\n",
       "        text-align: right;\n",
       "    }\n",
       "</style>\n",
       "<table border=\"1\" class=\"dataframe\">\n",
       "  <thead>\n",
       "    <tr style=\"text-align: right;\">\n",
       "      <th></th>\n",
       "      <th>TotalRecords</th>\n",
       "      <th>AvgPrice</th>\n",
       "    </tr>\n",
       "    <tr>\n",
       "      <th>PrimaryColor</th>\n",
       "      <th></th>\n",
       "      <th></th>\n",
       "    </tr>\n",
       "  </thead>\n",
       "  <tbody>\n",
       "    <tr>\n",
       "      <th>Beige</th>\n",
       "      <td>236</td>\n",
       "      <td>1402.004237</td>\n",
       "    </tr>\n",
       "    <tr>\n",
       "      <th>Black</th>\n",
       "      <td>1640</td>\n",
       "      <td>1951.487805</td>\n",
       "    </tr>\n",
       "    <tr>\n",
       "      <th>Blue</th>\n",
       "      <td>3443</td>\n",
       "      <td>1350.478652</td>\n",
       "    </tr>\n",
       "    <tr>\n",
       "      <th>Bronze</th>\n",
       "      <td>3</td>\n",
       "      <td>588.000000</td>\n",
       "    </tr>\n",
       "    <tr>\n",
       "      <th>Brown</th>\n",
       "      <td>473</td>\n",
       "      <td>1540.021142</td>\n",
       "    </tr>\n",
       "  </tbody>\n",
       "</table>\n",
       "</div>"
      ],
      "text/plain": [
       "              TotalRecords     AvgPrice\n",
       "PrimaryColor                           \n",
       "Beige                  236  1402.004237\n",
       "Black                 1640  1951.487805\n",
       "Blue                  3443  1350.478652\n",
       "Bronze                   3   588.000000\n",
       "Brown                  473  1540.021142"
      ]
     },
     "execution_count": 200,
     "metadata": {},
     "output_type": "execute_result"
    }
   ],
   "source": [
    "colors_group = df.groupby(\"PrimaryColor\").agg( TotalRecords = (\"ProductID\", 'size'), \n",
    "                                                   AvgPrice = (\"Price\", 'mean'))\n",
    "colors_group.head()"
   ]
  },
  {
   "cell_type": "code",
   "execution_count": 201,
   "metadata": {},
   "outputs": [
    {
     "data": {
      "image/png": "[encoded data removed]",
      "text/plain": [
       "<Figure size 1080x432 with 2 Axes>"
      ]
     },
     "metadata": {
      "needs_background": "light"
     },
     "output_type": "display_data"
    }
   ],
   "source": [
    "plt.figure(  figsize = (15, 6) )\n",
    "plt.suptitle(\"------------ Analysis of Primary Color Group ------------\", fontsize = 20)\n",
    "\n",
    "\n",
    "plt.subplot(1, 2, 1)\n",
    "sns.barplot(x = colors_group.sort_values(by = 'TotalRecords', ascending = False).index[ : 15], \n",
    "            y = colors_group.sort_values(by = 'TotalRecords', ascending = False).TotalRecords.values[ : 15], \n",
    "            palette = \"hsv\")\n",
    "plt.xticks(rotation = 90)\n",
    "plt.title( f\" Number of Records\")\n",
    "\n",
    "plt.subplot(1, 2, 2)\n",
    "sns.barplot(x = colors_group.sort_values(by = 'AvgPrice', ascending = False).index[ : 15], \n",
    "            y = colors_group.sort_values(by = 'AvgPrice', ascending = False).AvgPrice.values[ : 15], \n",
    "            palette = \"hsv\")\n",
    "plt.xticks(rotation = 90)\n",
    "plt.title( f\" Avg Price \")\n",
    "\n",
    "plt.show()"
   ]
  },
  {
   "cell_type": "code",
   "execution_count": null,
   "metadata": {},
   "outputs": [],
   "source": []
  },
  {
   "cell_type": "code",
   "execution_count": null,
   "metadata": {},
   "outputs": [],
   "source": []
  },
  {
   "cell_type": "markdown",
   "metadata": {},
   "source": [
    "### Price Distribution"
   ]
  },
  {
   "cell_type": "code",
   "execution_count": 154,
   "metadata": {},
   "outputs": [
    {
     "data": {
      "image/png": "[encoded data removed]",
      "text/plain": [
       "<Figure size 1080x360 with 1 Axes>"
      ]
     },
     "metadata": {
      "needs_background": "light"
     },
     "output_type": "display_data"
    }
   ],
   "source": [
    "plt.figure(  figsize = (15, 5) )\n",
    "\n",
    "sns.histplot( x = df['Price'] , color = \"r\", bins = 25)\n",
    "\n",
    "plt.xlabel(\"Price\")\n",
    "plt.ylabel(\" Frequency \")\n",
    "plt.title(\"---- Price Distribution ----\")\n",
    "plt.show()"
   ]
  },
  {
   "cell_type": "code",
   "execution_count": 156,
   "metadata": {},
   "outputs": [
    {
     "data": {
      "text/plain": [
       "count    12491.000000\n",
       "mean      1452.660956\n",
       "std       2118.503976\n",
       "min         90.000000\n",
       "25%        649.000000\n",
       "50%        920.000000\n",
       "75%       1499.000000\n",
       "max      63090.000000\n",
       "Name: Price, dtype: float64"
      ]
     },
     "execution_count": 156,
     "metadata": {},
     "output_type": "execute_result"
    }
   ],
   "source": [
    "df['Price'].describe()"
   ]
  },
  {
   "cell_type": "markdown",
   "metadata": {},
   "source": [
    "###### As the price varies from 90 to 63000 and mean is around 1400, we can acknowledge the same from the chart.\n",
    "###### For more analysis we are creating the histogram for price less than 10000"
   ]
  },
  {
   "cell_type": "code",
   "execution_count": null,
   "metadata": {},
   "outputs": [],
   "source": []
  },
  {
   "cell_type": "code",
   "execution_count": 157,
   "metadata": {},
   "outputs": [
    {
     "data": {
      "image/png": "[encoded data removed]",
      "text/plain": [
       "<Figure size 1080x432 with 1 Axes>"
      ]
     },
     "metadata": {
      "needs_background": "light"
     },
     "output_type": "display_data"
    }
   ],
   "source": [
    "df2 = df[ df['Price'] <= 10000  ]\n",
    "\n",
    "plt.figure(  figsize = (15, 6) )\n",
    "\n",
    "sns.histplot( x = df2['Price'] , color='orange', bins = 50)\n",
    "\n",
    "plt.xlabel(\"Price\")\n",
    "plt.ylabel(\" Frequency \")\n",
    "plt.title(\"---- Price Distribution ----\")\n",
    "plt.show()"
   ]
  },
  {
   "cell_type": "code",
   "execution_count": 170,
   "metadata": {},
   "outputs": [
    {
     "data": {
      "text/plain": [
       "count    12397.000000\n",
       "mean      1325.894733\n",
       "std       1224.723968\n",
       "min         90.000000\n",
       "25%        649.000000\n",
       "50%        919.000000\n",
       "75%       1484.000000\n",
       "max       9999.000000\n",
       "Name: Price, dtype: float64"
      ]
     },
     "execution_count": 170,
     "metadata": {},
     "output_type": "execute_result"
    }
   ],
   "source": [
    "df[ df['Price'] <= 10000  ]['Price'].describe()"
   ]
  },
  {
   "cell_type": "markdown",
   "metadata": {},
   "source": [
    "**Majority of the people buy between 0 - 2000 price values**"
   ]
  },
  {
   "cell_type": "code",
   "execution_count": null,
   "metadata": {},
   "outputs": [],
   "source": []
  },
  {
   "cell_type": "code",
   "execution_count": 158,
   "metadata": {},
   "outputs": [
    {
     "data": {
      "image/png": "[encoded data removed]",
      "text/plain": [
       "<Figure size 1080x360 with 1 Axes>"
      ]
     },
     "metadata": {
      "needs_background": "light"
     },
     "output_type": "display_data"
    }
   ],
   "source": [
    "df3 = df[ df['Price'] > 10000  ]\n",
    "\n",
    "plt.figure(  figsize = (15, 5) )\n",
    "\n",
    "sns.histplot( x = df3['Price'] , color = 'g', bins = 50)\n",
    "\n",
    "plt.xlabel(\"Price\")\n",
    "plt.ylabel(\" Frequency \")\n",
    "plt.title(\"---- Price Distribution ----\")\n",
    "plt.show()"
   ]
  },
  {
   "cell_type": "code",
   "execution_count": 171,
   "metadata": {},
   "outputs": [
    {
     "data": {
      "text/plain": [
       "count       94.000000\n",
       "mean     18170.968085\n",
       "std      10870.750193\n",
       "min      10125.000000\n",
       "25%      11700.000000\n",
       "50%      14200.500000\n",
       "75%      20398.000000\n",
       "max      63090.000000\n",
       "Name: Price, dtype: float64"
      ]
     },
     "execution_count": 171,
     "metadata": {},
     "output_type": "execute_result"
    }
   ],
   "source": [
    "df[ df['Price'] > 10000  ]['Price'].describe()"
   ]
  },
  {
   "cell_type": "markdown",
   "metadata": {},
   "source": [
    "**Good number of people buy between 10000 and above price values also**"
   ]
  },
  {
   "cell_type": "code",
   "execution_count": null,
   "metadata": {},
   "outputs": [],
   "source": []
  },
  {
   "cell_type": "code",
   "execution_count": null,
   "metadata": {},
   "outputs": [],
   "source": []
  },
  {
   "cell_type": "markdown",
   "metadata": {},
   "source": [
    "### Price Gender Distribution"
   ]
  },
  {
   "cell_type": "code",
   "execution_count": 159,
   "metadata": {},
   "outputs": [
    {
     "data": {
      "image/png": "[encoded data removed]",
      "text/plain": [
       "<Figure size 720x360 with 1 Axes>"
      ]
     },
     "metadata": {
      "needs_background": "light"
     },
     "output_type": "display_data"
    }
   ],
   "source": [
    "plt.figure(  figsize = (10, 5) )\n",
    "\n",
    "sns.histplot( x = df['Price'] , hue = df['Gender'], palette = \"RdGy\", bins = 25, multiple=\"stack\")\n",
    "\n",
    "plt.xlabel(\"Price\")\n",
    "plt.ylabel(\" Frequency \")\n",
    "plt.title(\"---- Price Distribution ----\")\n",
    "plt.show()"
   ]
  },
  {
   "cell_type": "code",
   "execution_count": 161,
   "metadata": {},
   "outputs": [
    {
     "data": {
      "image/png": "[encoded data removed]",
      "text/plain": [
       "<Figure size 720x360 with 1 Axes>"
      ]
     },
     "metadata": {
      "needs_background": "light"
     },
     "output_type": "display_data"
    }
   ],
   "source": [
    "df2 = df[ df['Price'] <= 10000  ]\n",
    "\n",
    "plt.figure(  figsize = (10, 5) )\n",
    "\n",
    "sns.histplot( x = df2['Price'] ,hue = df2['Gender'], palette = \"RdGy\", bins = 20, multiple=\"stack\")\n",
    "\n",
    "plt.xlabel(\"Price\")\n",
    "plt.ylabel(\" Frequency \")\n",
    "plt.title(\"---- Price Distribution ----\")\n",
    "plt.show()"
   ]
  },
  {
   "cell_type": "code",
   "execution_count": 163,
   "metadata": {},
   "outputs": [
    {
     "data": {
      "image/png": "[encoded data removed]",
      "text/plain": [
       "<Figure size 720x360 with 1 Axes>"
      ]
     },
     "metadata": {
      "needs_background": "light"
     },
     "output_type": "display_data"
    }
   ],
   "source": [
    "df3 = df[ df['Price'] > 10000  ]\n",
    "\n",
    "plt.figure(  figsize = (10, 5) )\n",
    "\n",
    "sns.histplot( x = df3['Price'] ,hue = df3['Gender'], palette = \"RdGy\", bins = 20, multiple=\"stack\")\n",
    "\n",
    "plt.xlabel(\"Price\")\n",
    "plt.ylabel(\" Frequency \")\n",
    "plt.title(\"---- Price Distribution ----\")\n",
    "plt.show()"
   ]
  },
  {
   "cell_type": "markdown",
   "metadata": {},
   "source": [
    "- Price range <= 10000, All gender groups buy the product\n",
    "- Price range > 10000, gender groups (unisex, women, men) buy the product\n",
    "- Price range ~1000, majority of women buy the product\n"
   ]
  },
  {
   "cell_type": "code",
   "execution_count": null,
   "metadata": {},
   "outputs": [],
   "source": []
  },
  {
   "cell_type": "code",
   "execution_count": null,
   "metadata": {},
   "outputs": [],
   "source": []
  },
  {
   "cell_type": "code",
   "execution_count": null,
   "metadata": {},
   "outputs": [],
   "source": []
  },
  {
   "cell_type": "markdown",
   "metadata": {},
   "source": [
    "## Task2\n",
    "\n",
    "1.\tCreate a new Column “NewGender” to analyse further its distribution.\n",
    "\n",
    "    Logic Applied\n",
    "\n",
    "            i.Include Boys & Men as Men\n",
    "            ii.Include Girls & Women as Women\n",
    "            iii.Include Unisex & Unisex Kids as Unisex\n",
    "\n",
    "2.\tComplete the analysis of NewGender along with other categorical cols.\n",
    "\n"
   ]
  },
  {
   "cell_type": "code",
   "execution_count": 174,
   "metadata": {},
   "outputs": [],
   "source": [
    "df['NewGender'] = df['Gender'].copy()"
   ]
  },
  {
   "cell_type": "code",
   "execution_count": 175,
   "metadata": {},
   "outputs": [
    {
     "data": {
      "text/html": [
       "<div>\n",
       "<style scoped>\n",
       "    .dataframe tbody tr th:only-of-type {\n",
       "        vertical-align: middle;\n",
       "    }\n",
       "\n",
       "    .dataframe tbody tr th {\n",
       "        vertical-align: top;\n",
       "    }\n",
       "\n",
       "    .dataframe thead th {\n",
       "        text-align: right;\n",
       "    }\n",
       "</style>\n",
       "<table border=\"1\" class=\"dataframe\">\n",
       "  <thead>\n",
       "    <tr style=\"text-align: right;\">\n",
       "      <th></th>\n",
       "      <th>ProductID</th>\n",
       "      <th>ProductName</th>\n",
       "      <th>ProductBrand</th>\n",
       "      <th>Gender</th>\n",
       "      <th>Price</th>\n",
       "      <th>NumImages</th>\n",
       "      <th>Description</th>\n",
       "      <th>PrimaryColor</th>\n",
       "      <th>NewGender</th>\n",
       "    </tr>\n",
       "  </thead>\n",
       "  <tbody>\n",
       "    <tr>\n",
       "      <th>0</th>\n",
       "      <td>10017413</td>\n",
       "      <td>DKNY Unisex Black &amp; Grey Printed Medium Trolle...</td>\n",
       "      <td>DKNY</td>\n",
       "      <td>Unisex</td>\n",
       "      <td>11745</td>\n",
       "      <td>7</td>\n",
       "      <td>Black and grey printed medium trolley bag, sec...</td>\n",
       "      <td>Black</td>\n",
       "      <td>Unisex</td>\n",
       "    </tr>\n",
       "    <tr>\n",
       "      <th>1</th>\n",
       "      <td>10016283</td>\n",
       "      <td>EthnoVogue Women Beige &amp; Grey Made to Measure ...</td>\n",
       "      <td>EthnoVogue</td>\n",
       "      <td>Women</td>\n",
       "      <td>5810</td>\n",
       "      <td>7</td>\n",
       "      <td>Beige &amp; Grey made to measure kurta with churid...</td>\n",
       "      <td>Beige</td>\n",
       "      <td>Women</td>\n",
       "    </tr>\n",
       "  </tbody>\n",
       "</table>\n",
       "</div>"
      ],
      "text/plain": [
       "   ProductID                                        ProductName ProductBrand  \\\n",
       "0   10017413  DKNY Unisex Black & Grey Printed Medium Trolle...         DKNY   \n",
       "1   10016283  EthnoVogue Women Beige & Grey Made to Measure ...   EthnoVogue   \n",
       "\n",
       "   Gender  Price  NumImages  \\\n",
       "0  Unisex  11745          7   \n",
       "1   Women   5810          7   \n",
       "\n",
       "                                         Description PrimaryColor NewGender  \n",
       "0  Black and grey printed medium trolley bag, sec...        Black    Unisex  \n",
       "1  Beige & Grey made to measure kurta with churid...        Beige     Women  "
      ]
     },
     "execution_count": 175,
     "metadata": {},
     "output_type": "execute_result"
    }
   ],
   "source": [
    "df.head(2)"
   ]
  },
  {
   "cell_type": "code",
   "execution_count": 176,
   "metadata": {},
   "outputs": [],
   "source": [
    "df['NewGender'].replace({\"Unisex Kids\" : \"Unisex\", \n",
    "                        \"Boys\" : \"Men\", \n",
    "                        \"Girls\" : \"Women\"}, inplace = True)"
   ]
  },
  {
   "cell_type": "code",
   "execution_count": 177,
   "metadata": {},
   "outputs": [
    {
     "data": {
      "text/plain": [
       "array(['Unisex', 'Women', 'Men'], dtype=object)"
      ]
     },
     "execution_count": 177,
     "metadata": {},
     "output_type": "execute_result"
    }
   ],
   "source": [
    "df.NewGender.unique()"
   ]
  },
  {
   "cell_type": "markdown",
   "metadata": {},
   "source": [
    "### Analyzing  Gender Groups \n",
    "###### Studying their totalrecords, avgprice and avgimages  against each of the category"
   ]
  },
  {
   "cell_type": "code",
   "execution_count": 197,
   "metadata": {},
   "outputs": [
    {
     "data": {
      "text/html": [
       "<div>\n",
       "<style scoped>\n",
       "    .dataframe tbody tr th:only-of-type {\n",
       "        vertical-align: middle;\n",
       "    }\n",
       "\n",
       "    .dataframe tbody tr th {\n",
       "        vertical-align: top;\n",
       "    }\n",
       "\n",
       "    .dataframe thead th {\n",
       "        text-align: right;\n",
       "    }\n",
       "</style>\n",
       "<table border=\"1\" class=\"dataframe\">\n",
       "  <thead>\n",
       "    <tr style=\"text-align: right;\">\n",
       "      <th></th>\n",
       "      <th>TotalRecords</th>\n",
       "      <th>AvgPrice</th>\n",
       "    </tr>\n",
       "    <tr>\n",
       "      <th>NewGender</th>\n",
       "      <th></th>\n",
       "      <th></th>\n",
       "    </tr>\n",
       "  </thead>\n",
       "  <tbody>\n",
       "    <tr>\n",
       "      <th>Men</th>\n",
       "      <td>5691</td>\n",
       "      <td>1434.021613</td>\n",
       "    </tr>\n",
       "    <tr>\n",
       "      <th>Unisex</th>\n",
       "      <td>1234</td>\n",
       "      <td>2120.924635</td>\n",
       "    </tr>\n",
       "    <tr>\n",
       "      <th>Women</th>\n",
       "      <td>5566</td>\n",
       "      <td>1323.562702</td>\n",
       "    </tr>\n",
       "  </tbody>\n",
       "</table>\n",
       "</div>"
      ],
      "text/plain": [
       "           TotalRecords     AvgPrice\n",
       "NewGender                           \n",
       "Men                5691  1434.021613\n",
       "Unisex             1234  2120.924635\n",
       "Women              5566  1323.562702"
      ]
     },
     "execution_count": 197,
     "metadata": {},
     "output_type": "execute_result"
    }
   ],
   "source": [
    "newgender_group = df.groupby(\"NewGender\").agg( TotalRecords = (\"ProductID\", 'size'), \n",
    "                                                   AvgPrice = (\"Price\", 'mean'))\n",
    "newgender_group"
   ]
  },
  {
   "cell_type": "code",
   "execution_count": 199,
   "metadata": {},
   "outputs": [
    {
     "data": {
      "image/png": "[encoded data removed]",
      "text/plain": [
       "<Figure size 1080x432 with 2 Axes>"
      ]
     },
     "metadata": {
      "needs_background": "light"
     },
     "output_type": "display_data"
    }
   ],
   "source": [
    "plt.figure(  figsize = (15, 6) )\n",
    "plt.suptitle(\"------------ Analysis of NewGender Group ------------\", fontsize = 20)\n",
    "\n",
    "\n",
    "plt.subplot(1, 2, 1)\n",
    "sns.barplot(x = newgender_group.sort_values(by = 'TotalRecords', ascending = False).index, \n",
    "            y = newgender_group.sort_values(by = 'TotalRecords', ascending = False).TotalRecords.values, \n",
    "            palette = \"hsv\")\n",
    "plt.xticks(rotation = 90)\n",
    "plt.title( f\" Number of Records :  {newgender_group.index.name}\")\n",
    "\n",
    "plt.subplot(1, 2, 2)\n",
    "sns.barplot(x = newgender_group.sort_values(by = 'AvgPrice', ascending = False).index, \n",
    "            y = newgender_group.sort_values(by = 'AvgPrice', ascending = False).AvgPrice.values, \n",
    "            palette = \"hsv\")\n",
    "plt.xticks(rotation = 90)\n",
    "plt.title( f\" Avg Amount spent by :  {newgender_group.index.name}\")\n",
    "\n",
    "\n",
    "plt.show()"
   ]
  },
  {
   "cell_type": "code",
   "execution_count": null,
   "metadata": {},
   "outputs": [],
   "source": []
  },
  {
   "cell_type": "markdown",
   "metadata": {},
   "source": [
    "### Analyzing  Gender to ProductBrand \n",
    "###### Studying their totalrecords, avgprice and avgimages for top 15 product brand ?values against each of the category"
   ]
  },
  {
   "cell_type": "code",
   "execution_count": 182,
   "metadata": {},
   "outputs": [
    {
     "data": {
      "text/html": [
       "<div>\n",
       "<style scoped>\n",
       "    .dataframe tbody tr th:only-of-type {\n",
       "        vertical-align: middle;\n",
       "    }\n",
       "\n",
       "    .dataframe tbody tr th {\n",
       "        vertical-align: top;\n",
       "    }\n",
       "\n",
       "    .dataframe thead th {\n",
       "        text-align: right;\n",
       "    }\n",
       "</style>\n",
       "<table border=\"1\" class=\"dataframe\">\n",
       "  <thead>\n",
       "    <tr style=\"text-align: right;\">\n",
       "      <th></th>\n",
       "      <th>TotalRecords</th>\n",
       "      <th>AvgPrice</th>\n",
       "      <th>AvgImages</th>\n",
       "    </tr>\n",
       "    <tr>\n",
       "      <th>ProductBrand</th>\n",
       "      <th></th>\n",
       "      <th></th>\n",
       "      <th></th>\n",
       "    </tr>\n",
       "  </thead>\n",
       "  <tbody>\n",
       "    <tr>\n",
       "      <th>109F</th>\n",
       "      <td>1</td>\n",
       "      <td>1299.0</td>\n",
       "      <td>5.0</td>\n",
       "    </tr>\n",
       "    <tr>\n",
       "      <th>20Dresses</th>\n",
       "      <td>3</td>\n",
       "      <td>1153.0</td>\n",
       "      <td>5.0</td>\n",
       "    </tr>\n",
       "  </tbody>\n",
       "</table>\n",
       "</div>"
      ],
      "text/plain": [
       "              TotalRecords  AvgPrice  AvgImages\n",
       "ProductBrand                                   \n",
       "109F                     1    1299.0        5.0\n",
       "20Dresses                3    1153.0        5.0"
      ]
     },
     "execution_count": 182,
     "metadata": {},
     "output_type": "execute_result"
    }
   ],
   "source": [
    "df_gender = df[ df['NewGender'] == \"Women\" ]\n",
    "\n",
    "women_group = df_gender.groupby(\"ProductBrand\").agg( TotalRecords = (\"ProductID\", 'size'), \n",
    "                                                   AvgPrice = (\"Price\", 'mean'), \n",
    "                                                   AvgImages = (\"NumImages\", \"mean\"))\n",
    "women_group.head(2)"
   ]
  },
  {
   "cell_type": "code",
   "execution_count": 45,
   "metadata": {},
   "outputs": [
    {
     "data": {
      "image/png": "[encoded data removed]",
      "text/plain": [
       "<Figure size 1080x360 with 3 Axes>"
      ]
     },
     "metadata": {
      "needs_background": "light"
     },
     "output_type": "display_data"
    }
   ],
   "source": [
    "plt.figure(  figsize = (15, 5) )\n",
    "plt.suptitle(\"------------ Analysis of Women Group ------------\", fontsize = 20)\n",
    "\n",
    "\n",
    "plt.subplot(1, 3, 1)\n",
    "sns.barplot(x = women_group.sort_values(by = 'TotalRecords', ascending = False).index[ : 15], \n",
    "            y = women_group.sort_values(by = 'TotalRecords', ascending = False).TotalRecords.values[ : 15], \n",
    "            palette = \"hsv\")\n",
    "plt.xticks(rotation = 90)\n",
    "plt.title( f\" Number of Records :  {women_group.index.name}\")\n",
    "\n",
    "plt.subplot(1, 3, 2)\n",
    "sns.barplot(x = women_group.sort_values(by = 'AvgPrice', ascending = False).index[ : 15], \n",
    "            y = women_group.sort_values(by = 'AvgPrice', ascending = False).AvgPrice.values[ : 15], \n",
    "            palette = \"hsv\")\n",
    "plt.xticks(rotation = 90)\n",
    "plt.title( f\" Avg Amount spent by :  {women_group.index.name}\")\n",
    "\n",
    "plt.subplot(1, 3, 3)\n",
    "sns.barplot(x = women_group.sort_values(by = 'AvgImages', ascending = False).index[ : 15], \n",
    "            y = women_group.sort_values(by = 'AvgImages', ascending = False).AvgImages.values[ : 15], \n",
    "            palette = \"hsv\")\n",
    "plt.xticks(rotation = 90)\n",
    "plt.title( f\" Average Images by :  {women_group.index.name}\")\n",
    "\n",
    "plt.show()"
   ]
  },
  {
   "cell_type": "code",
   "execution_count": 183,
   "metadata": {},
   "outputs": [
    {
     "data": {
      "text/html": [
       "<div>\n",
       "<style scoped>\n",
       "    .dataframe tbody tr th:only-of-type {\n",
       "        vertical-align: middle;\n",
       "    }\n",
       "\n",
       "    .dataframe tbody tr th {\n",
       "        vertical-align: top;\n",
       "    }\n",
       "\n",
       "    .dataframe thead th {\n",
       "        text-align: right;\n",
       "    }\n",
       "</style>\n",
       "<table border=\"1\" class=\"dataframe\">\n",
       "  <thead>\n",
       "    <tr style=\"text-align: right;\">\n",
       "      <th></th>\n",
       "      <th>TotalRecords</th>\n",
       "      <th>AvgPrice</th>\n",
       "      <th>AvgImages</th>\n",
       "    </tr>\n",
       "    <tr>\n",
       "      <th>ProductBrand</th>\n",
       "      <th></th>\n",
       "      <th></th>\n",
       "      <th></th>\n",
       "    </tr>\n",
       "  </thead>\n",
       "  <tbody>\n",
       "    <tr>\n",
       "      <th>612 league</th>\n",
       "      <td>11</td>\n",
       "      <td>736.454545</td>\n",
       "      <td>3.636364</td>\n",
       "    </tr>\n",
       "    <tr>\n",
       "      <th>ADIDAS</th>\n",
       "      <td>4</td>\n",
       "      <td>3736.500000</td>\n",
       "      <td>5.000000</td>\n",
       "    </tr>\n",
       "  </tbody>\n",
       "</table>\n",
       "</div>"
      ],
      "text/plain": [
       "              TotalRecords     AvgPrice  AvgImages\n",
       "ProductBrand                                      \n",
       "612 league              11   736.454545   3.636364\n",
       "ADIDAS                   4  3736.500000   5.000000"
      ]
     },
     "execution_count": 183,
     "metadata": {},
     "output_type": "execute_result"
    }
   ],
   "source": [
    "df_gender = df[ df['NewGender'] == \"Men\" ]\n",
    "\n",
    "men_group = df_gender.groupby(\"ProductBrand\").agg( TotalRecords = (\"ProductID\", 'size'), \n",
    "                                                   AvgPrice = (\"Price\", 'mean'), \n",
    "                                                   AvgImages = (\"NumImages\", \"mean\"))\n",
    "men_group.head(2)"
   ]
  },
  {
   "cell_type": "code",
   "execution_count": 47,
   "metadata": {},
   "outputs": [
    {
     "data": {
      "image/png": "[encoded data removed]",
      "text/plain": [
       "<Figure size 1080x432 with 3 Axes>"
      ]
     },
     "metadata": {
      "needs_background": "light"
     },
     "output_type": "display_data"
    }
   ],
   "source": [
    "plt.figure(  figsize = (15, 6) )\n",
    "plt.suptitle(\"------------ Analysis of Men Group ------------\", fontsize = 20)\n",
    "\n",
    "\n",
    "plt.subplot(1, 3, 1)\n",
    "sns.barplot(x = men_group.sort_values(by = 'TotalRecords', ascending = False).index[ : 15], \n",
    "            y = men_group.sort_values(by = 'TotalRecords', ascending = False).TotalRecords.values[ : 15], \n",
    "            palette = \"hsv\")\n",
    "plt.xticks(rotation = 90)\n",
    "plt.title( f\" Number of Records :  {men_group.index.name}\")\n",
    "\n",
    "plt.subplot(1, 3, 2)\n",
    "sns.barplot(x = men_group.sort_values(by = 'AvgPrice', ascending = False).index[ : 15], \n",
    "            y = men_group.sort_values(by = 'AvgPrice', ascending = False).AvgPrice.values[ : 15], \n",
    "            palette = \"hsv\")\n",
    "plt.xticks(rotation = 90)\n",
    "plt.title( f\" Avg Amount spent by :  {men_group.index.name}\")\n",
    "\n",
    "plt.subplot(1, 3, 3)\n",
    "sns.barplot(x = men_group.sort_values(by = 'AvgImages', ascending = False).index[ : 15], \n",
    "            y = men_group.sort_values(by = 'AvgImages', ascending = False).AvgImages.values[ : 15], \n",
    "            palette = \"hsv\")\n",
    "plt.xticks(rotation = 90)\n",
    "plt.title( f\" Average Images by :  {men_group.index.name}\")\n",
    "\n",
    "plt.show()"
   ]
  },
  {
   "cell_type": "code",
   "execution_count": null,
   "metadata": {},
   "outputs": [],
   "source": []
  },
  {
   "cell_type": "code",
   "execution_count": 184,
   "metadata": {},
   "outputs": [
    {
     "data": {
      "text/html": [
       "<div>\n",
       "<style scoped>\n",
       "    .dataframe tbody tr th:only-of-type {\n",
       "        vertical-align: middle;\n",
       "    }\n",
       "\n",
       "    .dataframe tbody tr th {\n",
       "        vertical-align: top;\n",
       "    }\n",
       "\n",
       "    .dataframe thead th {\n",
       "        text-align: right;\n",
       "    }\n",
       "</style>\n",
       "<table border=\"1\" class=\"dataframe\">\n",
       "  <thead>\n",
       "    <tr style=\"text-align: right;\">\n",
       "      <th></th>\n",
       "      <th>TotalRecords</th>\n",
       "      <th>AvgPrice</th>\n",
       "      <th>AvgImages</th>\n",
       "    </tr>\n",
       "    <tr>\n",
       "      <th>ProductBrand</th>\n",
       "      <th></th>\n",
       "      <th></th>\n",
       "      <th></th>\n",
       "    </tr>\n",
       "  </thead>\n",
       "  <tbody>\n",
       "    <tr>\n",
       "      <th>Aapno Rajasthan</th>\n",
       "      <td>3</td>\n",
       "      <td>570.666667</td>\n",
       "      <td>4.0</td>\n",
       "    </tr>\n",
       "    <tr>\n",
       "      <th>AccessHer</th>\n",
       "      <td>1</td>\n",
       "      <td>380.000000</td>\n",
       "      <td>4.0</td>\n",
       "    </tr>\n",
       "  </tbody>\n",
       "</table>\n",
       "</div>"
      ],
      "text/plain": [
       "                 TotalRecords    AvgPrice  AvgImages\n",
       "ProductBrand                                        \n",
       "Aapno Rajasthan             3  570.666667        4.0\n",
       "AccessHer                   1  380.000000        4.0"
      ]
     },
     "execution_count": 184,
     "metadata": {},
     "output_type": "execute_result"
    }
   ],
   "source": [
    "df_gender = df[ df['NewGender'] == \"Unisex\" ]\n",
    "\n",
    "unisex_group = df_gender.groupby(\"ProductBrand\").agg( TotalRecords = (\"ProductID\", 'size'), \n",
    "                                                   AvgPrice = (\"Price\", 'mean'), \n",
    "                                                   AvgImages = (\"NumImages\", \"mean\"))\n",
    "unisex_group.head(2)"
   ]
  },
  {
   "cell_type": "code",
   "execution_count": 49,
   "metadata": {},
   "outputs": [
    {
     "data": {
      "image/png": "[encoded data removed]",
      "text/plain": [
       "<Figure size 1080x432 with 3 Axes>"
      ]
     },
     "metadata": {
      "needs_background": "light"
     },
     "output_type": "display_data"
    }
   ],
   "source": [
    "plt.figure(  figsize = (15, 6) )\n",
    "plt.suptitle(\"------------ Analysis of Unisex Group ------------\", fontsize = 20)\n",
    "\n",
    "\n",
    "plt.subplot(1, 3, 1)\n",
    "sns.barplot(x = unisex_group.sort_values(by = 'TotalRecords', ascending = False).index[ : 15], \n",
    "            y = unisex_group.sort_values(by = 'TotalRecords', ascending = False).TotalRecords.values[ : 15], \n",
    "            palette = \"hsv\")\n",
    "plt.xticks(rotation = 90)\n",
    "plt.title( f\" Number of Records :  {unisex_group.index.name}\")\n",
    "\n",
    "plt.subplot(1, 3, 2)\n",
    "sns.barplot(x = unisex_group.sort_values(by = 'AvgPrice', ascending = False).index[ : 15], \n",
    "            y = unisex_group.sort_values(by = 'AvgPrice', ascending = False).AvgPrice.values[ : 15], \n",
    "            palette = \"hsv\")\n",
    "plt.xticks(rotation = 90)\n",
    "plt.title( f\" Avg Amount spent by :  {unisex_group.index.name}\")\n",
    "\n",
    "plt.subplot(1, 3, 3)\n",
    "sns.barplot(x = unisex_group.sort_values(by = 'AvgImages', ascending = False).index[ : 15], \n",
    "            y = unisex_group.sort_values(by = 'AvgImages', ascending = False).AvgImages.values[ : 15], \n",
    "            palette = \"hsv\")\n",
    "plt.xticks(rotation = 90)\n",
    "plt.title( f\" Average Images by :  {unisex_group.index.name}\")\n",
    "\n",
    "plt.show()"
   ]
  },
  {
   "cell_type": "code",
   "execution_count": null,
   "metadata": {},
   "outputs": [],
   "source": []
  },
  {
   "cell_type": "code",
   "execution_count": null,
   "metadata": {},
   "outputs": [],
   "source": []
  },
  {
   "cell_type": "markdown",
   "metadata": {},
   "source": [
    "### Analyzing  Gender to PrimaryColor \n",
    "###### Studying their totalrecords for top 5 values against each of the category"
   ]
  },
  {
   "cell_type": "code",
   "execution_count": 52,
   "metadata": {},
   "outputs": [
    {
     "data": {
      "image/png": "[encoded data removed]",
      "text/plain": [
       "<Figure size 1080x432 with 3 Axes>"
      ]
     },
     "metadata": {
      "needs_background": "light"
     },
     "output_type": "display_data"
    }
   ],
   "source": [
    "plt.figure(  figsize = (15, 6) )\n",
    "plt.suptitle(\"------------ Apparel Color decision by Gender ------------\", fontsize = 20)\n",
    "\n",
    "\n",
    "##  ************************************************************************ ##\n",
    "\n",
    "plt.subplot(1, 3, 1)\n",
    "df_gender = df[ df['NewGender'] == \"Women\" ]\n",
    "group = df_gender.groupby(\"PrimaryColor\").agg( TotalRecords = (\"ProductID\", 'size'))\n",
    "sns.barplot(x = group.sort_values(by = 'TotalRecords', ascending = False).index[ : 15], \n",
    "            y = group.sort_values(by = 'TotalRecords', ascending = False).TotalRecords.values[ : 15], \n",
    "            palette = \"hsv\")\n",
    "plt.xticks(rotation = 90)\n",
    "plt.title( f\" Color Choice by {df_gender['NewGender'].unique()[0]}\")\n",
    "\n",
    "##  ************************************************************************ ##\n",
    "\n",
    "plt.subplot(1, 3, 2)\n",
    "df_gender = df[ df['NewGender'] == \"Men\" ]\n",
    "group = df_gender.groupby(\"PrimaryColor\").agg( TotalRecords = (\"ProductID\", 'size'))\n",
    "sns.barplot(x = group.sort_values(by = 'TotalRecords', ascending = False).index[ : 15], \n",
    "            y = group.sort_values(by = 'TotalRecords', ascending = False).TotalRecords.values[ : 15], \n",
    "            palette = \"hsv\")\n",
    "plt.xticks(rotation = 90)\n",
    "plt.title( f\" Color Choice by {df_gender['NewGender'].unique()[0]}\")\n",
    "\n",
    "\n",
    "##  ************************************************************************ ##\n",
    "\n",
    "plt.subplot(1, 3, 3)\n",
    "df_gender = df[ df['NewGender'] == \"Unisex\" ]\n",
    "group = df_gender.groupby(\"PrimaryColor\").agg( TotalRecords = (\"ProductID\", 'size'))\n",
    "sns.barplot(x = group.sort_values(by = 'TotalRecords', ascending = False).index[ : 15], \n",
    "            y = group.sort_values(by = 'TotalRecords', ascending = False).TotalRecords.values[ : 15], \n",
    "            palette = \"hsv\")\n",
    "plt.xticks(rotation = 90)\n",
    "plt.title( f\" Color Choice by {df_gender['NewGender'].unique()[0]}\")\n",
    "\n",
    "\n",
    "plt.show()"
   ]
  },
  {
   "cell_type": "code",
   "execution_count": null,
   "metadata": {},
   "outputs": [],
   "source": []
  },
  {
   "cell_type": "code",
   "execution_count": null,
   "metadata": {},
   "outputs": [],
   "source": []
  },
  {
   "cell_type": "code",
   "execution_count": null,
   "metadata": {},
   "outputs": [],
   "source": []
  },
  {
   "cell_type": "markdown",
   "metadata": {},
   "source": [
    "## Task3\n",
    "\n",
    "1.\tCreate a new Column “DescriptionLength” to analyse further its distribution.\n",
    "    \n",
    "    Logic Applied ==> Each record of DescriptionLength is equal to the number of chars in Description\n",
    "\n",
    "\n",
    "2.\tComplete the analysis of DescriptionLength along with other categorical cols. \n",
    "3.\tIsn’t it important to check if attribute information is also included in Description? Complete this task before answering it. \n"
   ]
  },
  {
   "cell_type": "markdown",
   "metadata": {},
   "source": [
    "## Create Description Length Columns"
   ]
  },
  {
   "cell_type": "code",
   "execution_count": 189,
   "metadata": {},
   "outputs": [],
   "source": [
    "df['Length'] = df.Description.apply(lambda x : len(x))"
   ]
  },
  {
   "cell_type": "code",
   "execution_count": 190,
   "metadata": {},
   "outputs": [
    {
     "data": {
      "text/html": [
       "<div>\n",
       "<style scoped>\n",
       "    .dataframe tbody tr th:only-of-type {\n",
       "        vertical-align: middle;\n",
       "    }\n",
       "\n",
       "    .dataframe tbody tr th {\n",
       "        vertical-align: top;\n",
       "    }\n",
       "\n",
       "    .dataframe thead th {\n",
       "        text-align: right;\n",
       "    }\n",
       "</style>\n",
       "<table border=\"1\" class=\"dataframe\">\n",
       "  <thead>\n",
       "    <tr style=\"text-align: right;\">\n",
       "      <th></th>\n",
       "      <th>ProductID</th>\n",
       "      <th>ProductName</th>\n",
       "      <th>ProductBrand</th>\n",
       "      <th>Gender</th>\n",
       "      <th>Price</th>\n",
       "      <th>NumImages</th>\n",
       "      <th>Description</th>\n",
       "      <th>PrimaryColor</th>\n",
       "      <th>NewGender</th>\n",
       "      <th>Length</th>\n",
       "    </tr>\n",
       "  </thead>\n",
       "  <tbody>\n",
       "    <tr>\n",
       "      <th>0</th>\n",
       "      <td>10017413</td>\n",
       "      <td>DKNY Unisex Black &amp; Grey Printed Medium Trolle...</td>\n",
       "      <td>DKNY</td>\n",
       "      <td>Unisex</td>\n",
       "      <td>11745</td>\n",
       "      <td>7</td>\n",
       "      <td>Black and grey printed medium trolley bag, sec...</td>\n",
       "      <td>Black</td>\n",
       "      <td>Unisex</td>\n",
       "      <td>401</td>\n",
       "    </tr>\n",
       "    <tr>\n",
       "      <th>1</th>\n",
       "      <td>10016283</td>\n",
       "      <td>EthnoVogue Women Beige &amp; Grey Made to Measure ...</td>\n",
       "      <td>EthnoVogue</td>\n",
       "      <td>Women</td>\n",
       "      <td>5810</td>\n",
       "      <td>7</td>\n",
       "      <td>Beige &amp; Grey made to measure kurta with churid...</td>\n",
       "      <td>Beige</td>\n",
       "      <td>Women</td>\n",
       "      <td>620</td>\n",
       "    </tr>\n",
       "    <tr>\n",
       "      <th>2</th>\n",
       "      <td>10009781</td>\n",
       "      <td>SPYKAR Women Pink Alexa Super Skinny Fit High-...</td>\n",
       "      <td>SPYKAR</td>\n",
       "      <td>Women</td>\n",
       "      <td>899</td>\n",
       "      <td>7</td>\n",
       "      <td>Pink coloured wash 5-pocket high-rise cropped ...</td>\n",
       "      <td>Pink</td>\n",
       "      <td>Women</td>\n",
       "      <td>133</td>\n",
       "    </tr>\n",
       "    <tr>\n",
       "      <th>3</th>\n",
       "      <td>10015921</td>\n",
       "      <td>Raymond Men Blue Self-Design Single-Breasted B...</td>\n",
       "      <td>Raymond</td>\n",
       "      <td>Men</td>\n",
       "      <td>5599</td>\n",
       "      <td>5</td>\n",
       "      <td>Blue self-design bandhgala suitBlue self-desig...</td>\n",
       "      <td>Blue</td>\n",
       "      <td>Men</td>\n",
       "      <td>340</td>\n",
       "    </tr>\n",
       "    <tr>\n",
       "      <th>4</th>\n",
       "      <td>10017833</td>\n",
       "      <td>Parx Men Brown &amp; Off-White Slim Fit Printed Ca...</td>\n",
       "      <td>Parx</td>\n",
       "      <td>Men</td>\n",
       "      <td>759</td>\n",
       "      <td>5</td>\n",
       "      <td>Brown and off-white printed casual shirt, has ...</td>\n",
       "      <td>White</td>\n",
       "      <td>Men</td>\n",
       "      <td>122</td>\n",
       "    </tr>\n",
       "  </tbody>\n",
       "</table>\n",
       "</div>"
      ],
      "text/plain": [
       "   ProductID                                        ProductName ProductBrand  \\\n",
       "0   10017413  DKNY Unisex Black & Grey Printed Medium Trolle...         DKNY   \n",
       "1   10016283  EthnoVogue Women Beige & Grey Made to Measure ...   EthnoVogue   \n",
       "2   10009781  SPYKAR Women Pink Alexa Super Skinny Fit High-...       SPYKAR   \n",
       "3   10015921  Raymond Men Blue Self-Design Single-Breasted B...      Raymond   \n",
       "4   10017833  Parx Men Brown & Off-White Slim Fit Printed Ca...         Parx   \n",
       "\n",
       "   Gender  Price  NumImages  \\\n",
       "0  Unisex  11745          7   \n",
       "1   Women   5810          7   \n",
       "2   Women    899          7   \n",
       "3     Men   5599          5   \n",
       "4     Men    759          5   \n",
       "\n",
       "                                         Description PrimaryColor NewGender  \\\n",
       "0  Black and grey printed medium trolley bag, sec...        Black    Unisex   \n",
       "1  Beige & Grey made to measure kurta with churid...        Beige     Women   \n",
       "2  Pink coloured wash 5-pocket high-rise cropped ...         Pink     Women   \n",
       "3  Blue self-design bandhgala suitBlue self-desig...         Blue       Men   \n",
       "4  Brown and off-white printed casual shirt, has ...        White       Men   \n",
       "\n",
       "   Length  \n",
       "0     401  \n",
       "1     620  \n",
       "2     133  \n",
       "3     340  \n",
       "4     122  "
      ]
     },
     "execution_count": 190,
     "metadata": {},
     "output_type": "execute_result"
    }
   ],
   "source": [
    "df.head()"
   ]
  },
  {
   "cell_type": "code",
   "execution_count": null,
   "metadata": {},
   "outputs": [],
   "source": []
  },
  {
   "cell_type": "markdown",
   "metadata": {},
   "source": [
    "### Analyzing  Gender Groups with Description Length\n",
    "###### Studying their totalrecords, avglength against each of the category"
   ]
  },
  {
   "cell_type": "code",
   "execution_count": 191,
   "metadata": {},
   "outputs": [
    {
     "data": {
      "text/html": [
       "<div>\n",
       "<style scoped>\n",
       "    .dataframe tbody tr th:only-of-type {\n",
       "        vertical-align: middle;\n",
       "    }\n",
       "\n",
       "    .dataframe tbody tr th {\n",
       "        vertical-align: top;\n",
       "    }\n",
       "\n",
       "    .dataframe thead th {\n",
       "        text-align: right;\n",
       "    }\n",
       "</style>\n",
       "<table border=\"1\" class=\"dataframe\">\n",
       "  <thead>\n",
       "    <tr style=\"text-align: right;\">\n",
       "      <th></th>\n",
       "      <th>TotalRecords</th>\n",
       "      <th>AvgLength</th>\n",
       "    </tr>\n",
       "    <tr>\n",
       "      <th>NewGender</th>\n",
       "      <th></th>\n",
       "      <th></th>\n",
       "    </tr>\n",
       "  </thead>\n",
       "  <tbody>\n",
       "    <tr>\n",
       "      <th>Men</th>\n",
       "      <td>5691</td>\n",
       "      <td>140.587243</td>\n",
       "    </tr>\n",
       "    <tr>\n",
       "      <th>Unisex</th>\n",
       "      <td>1234</td>\n",
       "      <td>198.464344</td>\n",
       "    </tr>\n",
       "    <tr>\n",
       "      <th>Women</th>\n",
       "      <td>5566</td>\n",
       "      <td>169.492454</td>\n",
       "    </tr>\n",
       "  </tbody>\n",
       "</table>\n",
       "</div>"
      ],
      "text/plain": [
       "           TotalRecords   AvgLength\n",
       "NewGender                          \n",
       "Men                5691  140.587243\n",
       "Unisex             1234  198.464344\n",
       "Women              5566  169.492454"
      ]
     },
     "execution_count": 191,
     "metadata": {},
     "output_type": "execute_result"
    }
   ],
   "source": [
    "newgender_group = df.groupby(\"NewGender\").agg( TotalRecords = (\"ProductID\", 'size'), \n",
    "                                                   AvgLength = (\"Length\", 'mean'))\n",
    "newgender_group"
   ]
  },
  {
   "cell_type": "code",
   "execution_count": 192,
   "metadata": {},
   "outputs": [
    {
     "data": {
      "image/png": "[encoded data removed]",
      "text/plain": [
       "<Figure size 1080x432 with 2 Axes>"
      ]
     },
     "metadata": {
      "needs_background": "light"
     },
     "output_type": "display_data"
    }
   ],
   "source": [
    "plt.figure(  figsize = (15, 6) )\n",
    "plt.suptitle(\"------------ Analysis of Gender Group ------------\", fontsize = 20)\n",
    "\n",
    "\n",
    "plt.subplot(1, 2, 1)\n",
    "sns.barplot(x = newgender_group.sort_values(by = 'TotalRecords', ascending = False).index, \n",
    "            y = newgender_group.sort_values(by = 'TotalRecords', ascending = False).TotalRecords.values, \n",
    "            palette = \"hsv\")\n",
    "plt.xticks(rotation = 90)\n",
    "plt.title( f\" Number of Records :  {newgender_group.index.name}\")\n",
    "\n",
    "plt.subplot(1, 2, 2)\n",
    "sns.barplot(x = newgender_group.sort_values(by = 'AvgLength', ascending = False).index, \n",
    "            y = newgender_group.sort_values(by = 'AvgLength', ascending = False).AvgLength.values, \n",
    "            palette = \"hsv\")\n",
    "plt.xticks(rotation = 90)\n",
    "plt.title( f\" Avg Description Length spent by :  {newgender_group.index.name}\")\n",
    "\n",
    "\n",
    "plt.show()"
   ]
  },
  {
   "cell_type": "code",
   "execution_count": null,
   "metadata": {},
   "outputs": [],
   "source": []
  },
  {
   "cell_type": "markdown",
   "metadata": {},
   "source": [
    "### Analyzing  ProductBrand Groups with Desciption Length\n",
    "###### Studying their totalrecords, avglength for top 15 values against each of the category"
   ]
  },
  {
   "cell_type": "code",
   "execution_count": 193,
   "metadata": {},
   "outputs": [
    {
     "data": {
      "text/html": [
       "<div>\n",
       "<style scoped>\n",
       "    .dataframe tbody tr th:only-of-type {\n",
       "        vertical-align: middle;\n",
       "    }\n",
       "\n",
       "    .dataframe tbody tr th {\n",
       "        vertical-align: top;\n",
       "    }\n",
       "\n",
       "    .dataframe thead th {\n",
       "        text-align: right;\n",
       "    }\n",
       "</style>\n",
       "<table border=\"1\" class=\"dataframe\">\n",
       "  <thead>\n",
       "    <tr style=\"text-align: right;\">\n",
       "      <th></th>\n",
       "      <th>TotalRecords</th>\n",
       "      <th>AvgPrice</th>\n",
       "      <th>AvgImages</th>\n",
       "      <th>AvgLength</th>\n",
       "    </tr>\n",
       "    <tr>\n",
       "      <th>ProductBrand</th>\n",
       "      <th></th>\n",
       "      <th></th>\n",
       "      <th></th>\n",
       "      <th></th>\n",
       "    </tr>\n",
       "  </thead>\n",
       "  <tbody>\n",
       "    <tr>\n",
       "      <th>109F</th>\n",
       "      <td>1</td>\n",
       "      <td>1299.0000</td>\n",
       "      <td>5.0000</td>\n",
       "      <td>102.0000</td>\n",
       "    </tr>\n",
       "    <tr>\n",
       "      <th>20Dresses</th>\n",
       "      <td>3</td>\n",
       "      <td>1153.0000</td>\n",
       "      <td>5.0000</td>\n",
       "      <td>110.0000</td>\n",
       "    </tr>\n",
       "    <tr>\n",
       "      <th>612 league</th>\n",
       "      <td>16</td>\n",
       "      <td>713.3125</td>\n",
       "      <td>3.5625</td>\n",
       "      <td>112.3125</td>\n",
       "    </tr>\n",
       "    <tr>\n",
       "      <th>7Rainbow</th>\n",
       "      <td>3</td>\n",
       "      <td>598.0000</td>\n",
       "      <td>5.0000</td>\n",
       "      <td>365.0000</td>\n",
       "    </tr>\n",
       "    <tr>\n",
       "      <th>AASK</th>\n",
       "      <td>1</td>\n",
       "      <td>1499.0000</td>\n",
       "      <td>5.0000</td>\n",
       "      <td>69.0000</td>\n",
       "    </tr>\n",
       "    <tr>\n",
       "      <th>ABELINO</th>\n",
       "      <td>1</td>\n",
       "      <td>442.0000</td>\n",
       "      <td>4.0000</td>\n",
       "      <td>162.0000</td>\n",
       "    </tr>\n",
       "  </tbody>\n",
       "</table>\n",
       "</div>"
      ],
      "text/plain": [
       "              TotalRecords   AvgPrice  AvgImages  AvgLength\n",
       "ProductBrand                                               \n",
       "109F                     1  1299.0000     5.0000   102.0000\n",
       "20Dresses                3  1153.0000     5.0000   110.0000\n",
       "612 league              16   713.3125     3.5625   112.3125\n",
       "7Rainbow                 3   598.0000     5.0000   365.0000\n",
       "AASK                     1  1499.0000     5.0000    69.0000\n",
       "ABELINO                  1   442.0000     4.0000   162.0000"
      ]
     },
     "execution_count": 193,
     "metadata": {},
     "output_type": "execute_result"
    }
   ],
   "source": [
    "products_group = df.groupby(\"ProductBrand\").agg( TotalRecords = (\"ProductID\", 'size'), \n",
    "                                                   AvgPrice = (\"Price\", 'mean'), \n",
    "                                                   AvgImages = (\"NumImages\", \"mean\"), \n",
    "                                               AvgLength = (\"Length\", 'mean'))\n",
    "products_group.head(6)"
   ]
  },
  {
   "cell_type": "code",
   "execution_count": 194,
   "metadata": {},
   "outputs": [
    {
     "data": {
      "image/png": "[encoded data removed]",
      "text/plain": [
       "<Figure size 1080x432 with 4 Axes>"
      ]
     },
     "metadata": {
      "needs_background": "light"
     },
     "output_type": "display_data"
    }
   ],
   "source": [
    "plt.figure(  figsize = (15, 6) )\n",
    "plt.suptitle(\"------------ Analysis of Products Group ------------\", fontsize = 20)\n",
    "\n",
    "\n",
    "plt.subplot(1, 4, 1)\n",
    "sns.barplot(x = products_group.sort_values(by = 'TotalRecords', ascending = False).index[ : 15], \n",
    "            y = products_group.sort_values(by = 'TotalRecords', ascending = False).TotalRecords.values[ : 15], \n",
    "            palette = \"hsv\")\n",
    "plt.xticks(rotation = 90)\n",
    "plt.title( f\" Number of Records \")\n",
    "\n",
    "plt.subplot(1, 4, 2)\n",
    "sns.barplot(x = products_group.sort_values(by = 'AvgPrice', ascending = False).index[ : 15], \n",
    "            y = products_group.sort_values(by = 'AvgPrice', ascending = False).AvgPrice.values[ : 15], \n",
    "            palette = \"hsv\")\n",
    "plt.xticks(rotation = 90)\n",
    "plt.title( f\" Avg Price\")\n",
    "\n",
    "plt.subplot(1, 4, 3)\n",
    "sns.barplot(x = products_group.sort_values(by = 'AvgImages', ascending = False).index[ : 15], \n",
    "            y = products_group.sort_values(by = 'AvgImages', ascending = False).AvgImages.values[ : 15], \n",
    "            palette = \"hsv\")\n",
    "plt.xticks(rotation = 90)\n",
    "plt.title( f\" Avg Images\")\n",
    "\n",
    "plt.subplot(1, 4, 4)\n",
    "sns.barplot(x = products_group.sort_values(by = 'AvgLength', ascending = False).index[ : 15], \n",
    "            y = products_group.sort_values(by = 'AvgLength', ascending = False).AvgLength.values[ : 15], \n",
    "            palette = \"hsv\")\n",
    "plt.xticks(rotation = 90)\n",
    "plt.title( f\" Avg Description Length \")\n",
    "\n",
    "\n",
    "plt.show()"
   ]
  },
  {
   "cell_type": "markdown",
   "metadata": {},
   "source": [
    "**Description length doesn't seem to play a key role in making decision.**\n",
    "\n",
    "**The products having highest avg description doesn't have highest avg price and highest no of records**"
   ]
  },
  {
   "cell_type": "code",
   "execution_count": null,
   "metadata": {},
   "outputs": [],
   "source": []
  },
  {
   "cell_type": "code",
   "execution_count": null,
   "metadata": {},
   "outputs": [],
   "source": []
  },
  {
   "cell_type": "markdown",
   "metadata": {},
   "source": [
    "### Analyzing  Attribute values in Desciption"
   ]
  },
  {
   "cell_type": "code",
   "execution_count": 195,
   "metadata": {},
   "outputs": [
    {
     "data": {
      "text/html": [
       "<div>\n",
       "<style scoped>\n",
       "    .dataframe tbody tr th:only-of-type {\n",
       "        vertical-align: middle;\n",
       "    }\n",
       "\n",
       "    .dataframe tbody tr th {\n",
       "        vertical-align: top;\n",
       "    }\n",
       "\n",
       "    .dataframe thead th {\n",
       "        text-align: right;\n",
       "    }\n",
       "</style>\n",
       "<table border=\"1\" class=\"dataframe\">\n",
       "  <thead>\n",
       "    <tr style=\"text-align: right;\">\n",
       "      <th></th>\n",
       "      <th>ProductID</th>\n",
       "      <th>ProductName</th>\n",
       "      <th>ProductBrand</th>\n",
       "      <th>Gender</th>\n",
       "      <th>Price</th>\n",
       "      <th>NumImages</th>\n",
       "      <th>Description</th>\n",
       "      <th>PrimaryColor</th>\n",
       "      <th>NewGender</th>\n",
       "      <th>Length</th>\n",
       "    </tr>\n",
       "  </thead>\n",
       "  <tbody>\n",
       "    <tr>\n",
       "      <th>0</th>\n",
       "      <td>10017413</td>\n",
       "      <td>DKNY Unisex Black &amp; Grey Printed Medium Trolle...</td>\n",
       "      <td>DKNY</td>\n",
       "      <td>Unisex</td>\n",
       "      <td>11745</td>\n",
       "      <td>7</td>\n",
       "      <td>Black and grey printed medium trolley bag, sec...</td>\n",
       "      <td>Black</td>\n",
       "      <td>Unisex</td>\n",
       "      <td>401</td>\n",
       "    </tr>\n",
       "    <tr>\n",
       "      <th>1</th>\n",
       "      <td>10016283</td>\n",
       "      <td>EthnoVogue Women Beige &amp; Grey Made to Measure ...</td>\n",
       "      <td>EthnoVogue</td>\n",
       "      <td>Women</td>\n",
       "      <td>5810</td>\n",
       "      <td>7</td>\n",
       "      <td>Beige &amp; Grey made to measure kurta with churid...</td>\n",
       "      <td>Beige</td>\n",
       "      <td>Women</td>\n",
       "      <td>620</td>\n",
       "    </tr>\n",
       "  </tbody>\n",
       "</table>\n",
       "</div>"
      ],
      "text/plain": [
       "   ProductID                                        ProductName ProductBrand  \\\n",
       "0   10017413  DKNY Unisex Black & Grey Printed Medium Trolle...         DKNY   \n",
       "1   10016283  EthnoVogue Women Beige & Grey Made to Measure ...   EthnoVogue   \n",
       "\n",
       "   Gender  Price  NumImages  \\\n",
       "0  Unisex  11745          7   \n",
       "1   Women   5810          7   \n",
       "\n",
       "                                         Description PrimaryColor NewGender  \\\n",
       "0  Black and grey printed medium trolley bag, sec...        Black    Unisex   \n",
       "1  Beige & Grey made to measure kurta with churid...        Beige     Women   \n",
       "\n",
       "   Length  \n",
       "0     401  \n",
       "1     620  "
      ]
     },
     "execution_count": 195,
     "metadata": {},
     "output_type": "execute_result"
    }
   ],
   "source": [
    "df.head(2)"
   ]
  },
  {
   "cell_type": "code",
   "execution_count": 60,
   "metadata": {},
   "outputs": [
    {
     "name": "stdout",
     "output_type": "stream",
     "text": [
      "58.82\n"
     ]
    }
   ],
   "source": [
    "# Finding the %age of number of records that have Primary Color value mentioned in the Description\n",
    "\n",
    "counter = 0\n",
    "for each in range(  df.shape[0]  ) : \n",
    "    if (  df.loc[each , \"PrimaryColor\" ] in df.loc[ each , \"Description\" ] )  : \n",
    "        counter += 1\n",
    "        \n",
    "print(round ( ( counter / df.shape[0] ) * 100 , 2))"
   ]
  },
  {
   "cell_type": "code",
   "execution_count": 63,
   "metadata": {},
   "outputs": [
    {
     "name": "stdout",
     "output_type": "stream",
     "text": [
      "4.76\n"
     ]
    }
   ],
   "source": [
    "# Finding the %age of number of records that have Brand Name value mentioned in the Description\n",
    "\n",
    "counter = 0\n",
    "for each in range(  df.shape[0]  ) : \n",
    "    if (  df.loc[each , \"ProductBrand\" ] in df.loc[ each , \"Description\" ] )  : \n",
    "        counter += 1\n",
    "        \n",
    "print(round ( ( counter / df.shape[0] ) * 100 , 2))"
   ]
  },
  {
   "cell_type": "code",
   "execution_count": null,
   "metadata": {},
   "outputs": [],
   "source": []
  },
  {
   "cell_type": "code",
   "execution_count": 65,
   "metadata": {
    "scrolled": true
   },
   "outputs": [
    {
     "data": {
      "image/png": "[encoded data removed]",
      "text/plain": [
       "<Figure size 1440x1080 with 3 Axes>"
      ]
     },
     "metadata": {
      "needs_background": "light"
     },
     "output_type": "display_data"
    }
   ],
   "source": [
    "# Find the price distribution of the newgender for the products having primary color in description\n",
    "\n",
    "plt.figure(  figsize = (20, 15) )\n",
    "plt.suptitle(\"-- Price distribution of Newgender for the products having primary color in description --\", fontsize = 20)\n",
    "\n",
    "rowIndex = []\n",
    "for each in range(  df.shape[0]  ) : \n",
    "    if (  df.loc[each , \"PrimaryColor\" ] in df.loc[ each , \"Description\" ] )  : \n",
    "        rowIndex.append(each)\n",
    "# print(rowIndex)\n",
    "\n",
    "plt.subplot(3, 1, 1)\n",
    "dfNew = df.loc[ rowIndex,  ]\n",
    "sns.histplot( x = dfNew['Price (INR)'] ,hue = dfNew['NewGender'], palette = \"viridis\", bins = 25, multiple=\"stack\")\n",
    "plt.title(\" ** Price Distribution : Range (90, 65000) ** \")\n",
    "\n",
    "plt.subplot(3, 1, 2)\n",
    "dfNew = dfNew[ dfNew[\"Price (INR)\"] <= 10000 ]\n",
    "sns.histplot( x = dfNew['Price (INR)'] ,hue = dfNew['NewGender'], palette = \"viridis\", bins = 25, multiple=\"stack\")\n",
    "plt.title(\" ** Price Distribution : Range (90, 10000) ** \")\n",
    "\n",
    "\n",
    "plt.subplot(3, 1, 3)\n",
    "dfNew = dfNew[ dfNew[\"Price (INR)\"] > 10000 ]\n",
    "sns.histplot( x = dfNew['Price (INR)'] ,hue = dfNew['NewGender'], palette = \"viridis\", bins = 25, multiple=\"stack\")\n",
    "plt.title(\" ** Price Distribution : Range (10000, 65000) ** \")\n",
    "\n",
    "plt.show()"
   ]
  },
  {
   "cell_type": "markdown",
   "metadata": {},
   "source": [
    "There are no records more than 10000"
   ]
  },
  {
   "cell_type": "code",
   "execution_count": null,
   "metadata": {},
   "outputs": [],
   "source": []
  },
  {
   "cell_type": "code",
   "execution_count": null,
   "metadata": {},
   "outputs": [],
   "source": []
  }
 ],
 "metadata": {
  "kernelspec": {
   "display_name": "Python 3 (ipykernel)",
   "language": "python",
   "name": "python3"
  },
  "language_info": {
   "codemirror_mode": {
    "name": "ipython",
    "version": 3
   },
   "file_extension": ".py",
   "mimetype": "text/x-python",
   "name": "python",
   "nbconvert_exporter": "python",
   "pygments_lexer": "ipython3",
   "version": "3.10.9"
  }
 },
 "nbformat": 4,
 "nbformat_minor": 4
}
