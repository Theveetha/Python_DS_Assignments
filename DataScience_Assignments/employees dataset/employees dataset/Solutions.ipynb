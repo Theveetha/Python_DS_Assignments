{
 "cells": [
  {
   "cell_type": "code",
   "execution_count": 105,
   "metadata": {},
   "outputs": [],
   "source": [
    "# Import the Relevant Packages\n",
    "\n",
    "import numpy as np\n",
    "import pandas as pd\n",
    "import matplotlib.pyplot as plt\n",
    "import seaborn as sns"
   ]
  },
  {
   "cell_type": "code",
   "execution_count": 106,
   "metadata": {},
   "outputs": [
    {
     "name": "stdout",
     "output_type": "stream",
     "text": [
      "(1000, 8)\n"
     ]
    },
    {
     "data": {
      "text/html": [
       "<div>\n",
       "<style scoped>\n",
       "    .dataframe tbody tr th:only-of-type {\n",
       "        vertical-align: middle;\n",
       "    }\n",
       "\n",
       "    .dataframe tbody tr th {\n",
       "        vertical-align: top;\n",
       "    }\n",
       "\n",
       "    .dataframe thead th {\n",
       "        text-align: right;\n",
       "    }\n",
       "</style>\n",
       "<table border=\"1\" class=\"dataframe\">\n",
       "  <thead>\n",
       "    <tr style=\"text-align: right;\">\n",
       "      <th></th>\n",
       "      <th>First Name</th>\n",
       "      <th>Gender</th>\n",
       "      <th>Start Date</th>\n",
       "      <th>Last Login Time</th>\n",
       "      <th>Salary</th>\n",
       "      <th>Bonus %</th>\n",
       "      <th>Senior Management</th>\n",
       "      <th>Team</th>\n",
       "    </tr>\n",
       "  </thead>\n",
       "  <tbody>\n",
       "    <tr>\n",
       "      <th>0</th>\n",
       "      <td>Douglas</td>\n",
       "      <td>Male</td>\n",
       "      <td>8/6/1993</td>\n",
       "      <td>12:42 PM</td>\n",
       "      <td>97308</td>\n",
       "      <td>6.945</td>\n",
       "      <td>True</td>\n",
       "      <td>Marketing</td>\n",
       "    </tr>\n",
       "    <tr>\n",
       "      <th>1</th>\n",
       "      <td>Thomas</td>\n",
       "      <td>Male</td>\n",
       "      <td>3/31/1996</td>\n",
       "      <td>6:53 AM</td>\n",
       "      <td>61933</td>\n",
       "      <td>4.170</td>\n",
       "      <td>True</td>\n",
       "      <td>NaN</td>\n",
       "    </tr>\n",
       "    <tr>\n",
       "      <th>2</th>\n",
       "      <td>Maria</td>\n",
       "      <td>Female</td>\n",
       "      <td>4/23/1993</td>\n",
       "      <td>11:17 AM</td>\n",
       "      <td>130590</td>\n",
       "      <td>11.858</td>\n",
       "      <td>False</td>\n",
       "      <td>Finance</td>\n",
       "    </tr>\n",
       "    <tr>\n",
       "      <th>3</th>\n",
       "      <td>Jerry</td>\n",
       "      <td>Male</td>\n",
       "      <td>3/4/2005</td>\n",
       "      <td>1:00 PM</td>\n",
       "      <td>138705</td>\n",
       "      <td>9.340</td>\n",
       "      <td>True</td>\n",
       "      <td>Finance</td>\n",
       "    </tr>\n",
       "    <tr>\n",
       "      <th>4</th>\n",
       "      <td>Larry</td>\n",
       "      <td>Male</td>\n",
       "      <td>1/24/1998</td>\n",
       "      <td>4:47 PM</td>\n",
       "      <td>101004</td>\n",
       "      <td>1.389</td>\n",
       "      <td>True</td>\n",
       "      <td>Client Services</td>\n",
       "    </tr>\n",
       "  </tbody>\n",
       "</table>\n",
       "</div>"
      ],
      "text/plain": [
       "  First Name  Gender Start Date Last Login Time  Salary  Bonus %  \\\n",
       "0    Douglas    Male   8/6/1993        12:42 PM   97308    6.945   \n",
       "1     Thomas    Male  3/31/1996         6:53 AM   61933    4.170   \n",
       "2      Maria  Female  4/23/1993        11:17 AM  130590   11.858   \n",
       "3      Jerry    Male   3/4/2005         1:00 PM  138705    9.340   \n",
       "4      Larry    Male  1/24/1998         4:47 PM  101004    1.389   \n",
       "\n",
       "  Senior Management             Team  \n",
       "0              True        Marketing  \n",
       "1              True              NaN  \n",
       "2             False          Finance  \n",
       "3              True          Finance  \n",
       "4              True  Client Services  "
      ]
     },
     "execution_count": 106,
     "metadata": {},
     "output_type": "execute_result"
    }
   ],
   "source": [
    "# Import the dataset.\n",
    "# Check the shape\n",
    "# Show the top records\n",
    "\n",
    "df = pd.read_csv(\"employees.csv\")\n",
    "print(df.shape)\n",
    "\n",
    "df.head()\n"
   ]
  },
  {
   "cell_type": "code",
   "execution_count": 107,
   "metadata": {},
   "outputs": [
    {
     "data": {
      "text/html": [
       "<div>\n",
       "<style scoped>\n",
       "    .dataframe tbody tr th:only-of-type {\n",
       "        vertical-align: middle;\n",
       "    }\n",
       "\n",
       "    .dataframe tbody tr th {\n",
       "        vertical-align: top;\n",
       "    }\n",
       "\n",
       "    .dataframe thead th {\n",
       "        text-align: right;\n",
       "    }\n",
       "</style>\n",
       "<table border=\"1\" class=\"dataframe\">\n",
       "  <thead>\n",
       "    <tr style=\"text-align: right;\">\n",
       "      <th></th>\n",
       "      <th>Salary</th>\n",
       "      <th>Bonus %</th>\n",
       "    </tr>\n",
       "  </thead>\n",
       "  <tbody>\n",
       "    <tr>\n",
       "      <th>count</th>\n",
       "      <td>1000.000000</td>\n",
       "      <td>1000.000000</td>\n",
       "    </tr>\n",
       "    <tr>\n",
       "      <th>mean</th>\n",
       "      <td>90662.181000</td>\n",
       "      <td>10.207555</td>\n",
       "    </tr>\n",
       "    <tr>\n",
       "      <th>std</th>\n",
       "      <td>32923.693342</td>\n",
       "      <td>5.528481</td>\n",
       "    </tr>\n",
       "    <tr>\n",
       "      <th>min</th>\n",
       "      <td>35013.000000</td>\n",
       "      <td>1.015000</td>\n",
       "    </tr>\n",
       "    <tr>\n",
       "      <th>25%</th>\n",
       "      <td>62613.000000</td>\n",
       "      <td>5.401750</td>\n",
       "    </tr>\n",
       "    <tr>\n",
       "      <th>50%</th>\n",
       "      <td>90428.000000</td>\n",
       "      <td>9.838500</td>\n",
       "    </tr>\n",
       "    <tr>\n",
       "      <th>75%</th>\n",
       "      <td>118740.250000</td>\n",
       "      <td>14.838000</td>\n",
       "    </tr>\n",
       "    <tr>\n",
       "      <th>max</th>\n",
       "      <td>149908.000000</td>\n",
       "      <td>19.944000</td>\n",
       "    </tr>\n",
       "  </tbody>\n",
       "</table>\n",
       "</div>"
      ],
      "text/plain": [
       "              Salary      Bonus %\n",
       "count    1000.000000  1000.000000\n",
       "mean    90662.181000    10.207555\n",
       "std     32923.693342     5.528481\n",
       "min     35013.000000     1.015000\n",
       "25%     62613.000000     5.401750\n",
       "50%     90428.000000     9.838500\n",
       "75%    118740.250000    14.838000\n",
       "max    149908.000000    19.944000"
      ]
     },
     "execution_count": 107,
     "metadata": {},
     "output_type": "execute_result"
    }
   ],
   "source": [
    "# Find the Average Salary and Average Bonus.\n",
    "\n",
    "df.describe()\n",
    "# 90662.181000 \t10.207555\n"
   ]
  },
  {
   "cell_type": "code",
   "execution_count": null,
   "metadata": {},
   "outputs": [],
   "source": []
  },
  {
   "cell_type": "code",
   "execution_count": 108,
   "metadata": {},
   "outputs": [
    {
     "name": "stdout",
     "output_type": "stream",
     "text": [
      "<class 'pandas.core.frame.DataFrame'>\n",
      "RangeIndex: 1000 entries, 0 to 999\n",
      "Data columns (total 8 columns):\n",
      " #   Column             Non-Null Count  Dtype  \n",
      "---  ------             --------------  -----  \n",
      " 0   First Name         933 non-null    object \n",
      " 1   Gender             855 non-null    object \n",
      " 2   Start Date         1000 non-null   object \n",
      " 3   Last Login Time    1000 non-null   object \n",
      " 4   Salary             1000 non-null   int64  \n",
      " 5   Bonus %            1000 non-null   float64\n",
      " 6   Senior Management  933 non-null    object \n",
      " 7   Team               957 non-null    object \n",
      "dtypes: float64(1), int64(1), object(6)\n",
      "memory usage: 62.6+ KB\n"
     ]
    }
   ],
   "source": [
    "# Check for the Datatypes and Structre\n",
    "df.info()"
   ]
  },
  {
   "cell_type": "code",
   "execution_count": 109,
   "metadata": {},
   "outputs": [],
   "source": [
    "\n",
    "# Convert the Start Date as datetime64\n",
    "# HINT : .astype('datetime64')\n",
    "\n",
    "df['Start Date'] = df['Start Date'].astype('datetime64')\n"
   ]
  },
  {
   "cell_type": "code",
   "execution_count": 110,
   "metadata": {},
   "outputs": [
    {
     "data": {
      "text/html": [
       "<div>\n",
       "<style scoped>\n",
       "    .dataframe tbody tr th:only-of-type {\n",
       "        vertical-align: middle;\n",
       "    }\n",
       "\n",
       "    .dataframe tbody tr th {\n",
       "        vertical-align: top;\n",
       "    }\n",
       "\n",
       "    .dataframe thead th {\n",
       "        text-align: right;\n",
       "    }\n",
       "</style>\n",
       "<table border=\"1\" class=\"dataframe\">\n",
       "  <thead>\n",
       "    <tr style=\"text-align: right;\">\n",
       "      <th></th>\n",
       "      <th>First Name</th>\n",
       "      <th>Gender</th>\n",
       "      <th>Start Date</th>\n",
       "      <th>Last Login Time</th>\n",
       "      <th>Salary</th>\n",
       "      <th>Bonus %</th>\n",
       "      <th>Senior Management</th>\n",
       "      <th>Team</th>\n",
       "    </tr>\n",
       "  </thead>\n",
       "  <tbody>\n",
       "    <tr>\n",
       "      <th>0</th>\n",
       "      <td>Douglas</td>\n",
       "      <td>Male</td>\n",
       "      <td>1993-08-06</td>\n",
       "      <td>12:42 PM</td>\n",
       "      <td>97308</td>\n",
       "      <td>6.945</td>\n",
       "      <td>True</td>\n",
       "      <td>Marketing</td>\n",
       "    </tr>\n",
       "    <tr>\n",
       "      <th>1</th>\n",
       "      <td>Thomas</td>\n",
       "      <td>Male</td>\n",
       "      <td>1996-03-31</td>\n",
       "      <td>6:53 AM</td>\n",
       "      <td>61933</td>\n",
       "      <td>4.170</td>\n",
       "      <td>True</td>\n",
       "      <td>NaN</td>\n",
       "    </tr>\n",
       "    <tr>\n",
       "      <th>2</th>\n",
       "      <td>Maria</td>\n",
       "      <td>Female</td>\n",
       "      <td>1993-04-23</td>\n",
       "      <td>11:17 AM</td>\n",
       "      <td>130590</td>\n",
       "      <td>11.858</td>\n",
       "      <td>False</td>\n",
       "      <td>Finance</td>\n",
       "    </tr>\n",
       "    <tr>\n",
       "      <th>3</th>\n",
       "      <td>Jerry</td>\n",
       "      <td>Male</td>\n",
       "      <td>2005-03-04</td>\n",
       "      <td>1:00 PM</td>\n",
       "      <td>138705</td>\n",
       "      <td>9.340</td>\n",
       "      <td>True</td>\n",
       "      <td>Finance</td>\n",
       "    </tr>\n",
       "    <tr>\n",
       "      <th>4</th>\n",
       "      <td>Larry</td>\n",
       "      <td>Male</td>\n",
       "      <td>1998-01-24</td>\n",
       "      <td>4:47 PM</td>\n",
       "      <td>101004</td>\n",
       "      <td>1.389</td>\n",
       "      <td>True</td>\n",
       "      <td>Client Services</td>\n",
       "    </tr>\n",
       "  </tbody>\n",
       "</table>\n",
       "</div>"
      ],
      "text/plain": [
       "  First Name  Gender Start Date Last Login Time  Salary  Bonus %  \\\n",
       "0    Douglas    Male 1993-08-06        12:42 PM   97308    6.945   \n",
       "1     Thomas    Male 1996-03-31         6:53 AM   61933    4.170   \n",
       "2      Maria  Female 1993-04-23        11:17 AM  130590   11.858   \n",
       "3      Jerry    Male 2005-03-04         1:00 PM  138705    9.340   \n",
       "4      Larry    Male 1998-01-24         4:47 PM  101004    1.389   \n",
       "\n",
       "  Senior Management             Team  \n",
       "0              True        Marketing  \n",
       "1              True              NaN  \n",
       "2             False          Finance  \n",
       "3              True          Finance  \n",
       "4              True  Client Services  "
      ]
     },
     "execution_count": 110,
     "metadata": {},
     "output_type": "execute_result"
    }
   ],
   "source": [
    "df.head()"
   ]
  },
  {
   "cell_type": "code",
   "execution_count": 114,
   "metadata": {},
   "outputs": [
    {
     "name": "stdout",
     "output_type": "stream",
     "text": [
      "468\n",
      "******************************\n",
      "468\n"
     ]
    }
   ],
   "source": [
    "# Find out how many are there in Senior Management\n",
    "\n",
    "res = df[ df['Senior Management'] == True ][\"Senior Management\"  ]\n",
    "print( res.count() )\n",
    "\n",
    "\n",
    "print('*' * 30)\n",
    "res =  df[\"Senior Management\"  ].value_counts()\n",
    "print( res[1] )\n",
    "\n"
   ]
  },
  {
   "cell_type": "code",
   "execution_count": 115,
   "metadata": {},
   "outputs": [
    {
     "name": "stdout",
     "output_type": "stream",
     "text": [
      "True     468\n",
      "False    465\n",
      "Name: Senior Management, dtype: int64\n"
     ]
    },
    {
     "name": "stderr",
     "output_type": "stream",
     "text": [
      "C:\\Users\\Nitish\\anaconda3\\lib\\site-packages\\seaborn\\_decorators.py:36: FutureWarning: Pass the following variable as a keyword arg: x. From version 0.12, the only valid positional argument will be `data`, and passing other arguments without an explicit keyword will result in an error or misinterpretation.\n",
      "  warnings.warn(\n"
     ]
    },
    {
     "data": {
      "image/png": "[encoded data removed]",
      "text/plain": [
       "<Figure size 1440x360 with 1 Axes>"
      ]
     },
     "metadata": {
      "needs_background": "light"
     },
     "output_type": "display_data"
    }
   ],
   "source": [
    "# Display the chart for the \"Senior Management\" highlighting the COUNT\n",
    "\n",
    "\n",
    "# Senior Management Analysis\n",
    "\n",
    "print( df['Senior Management'].value_counts() )\n",
    "\n",
    "plt.figure( figsize = (20, 5) )\n",
    "sns.countplot(df['Senior Management'], color = 'g')\n",
    "plt.xticks(rotation = 45, fontsize = 12)\n",
    "plt.yticks(fontsize = 12)\n",
    "plt.xlabel(\"Senior Management\", fontsize = 12)\n",
    "plt.ylabel(\"Count\", fontsize = 12)\n",
    "plt.title(\"Senior Management Analysis\", fontsize = 16)\n",
    "plt.show()\n",
    "\n"
   ]
  },
  {
   "cell_type": "code",
   "execution_count": null,
   "metadata": {},
   "outputs": [],
   "source": [
    "\n",
    "\n"
   ]
  },
  {
   "cell_type": "code",
   "execution_count": 116,
   "metadata": {},
   "outputs": [
    {
     "name": "stdout",
     "output_type": "stream",
     "text": [
      "1995    44\n",
      "2009    42\n",
      "1999    37\n",
      "2002    34\n",
      "2007    33\n",
      "Name: Start Date, dtype: int64\n"
     ]
    },
    {
     "data": {
      "image/png": "[encoded data removed]",
      "text/plain": [
       "<Figure size 1440x432 with 1 Axes>"
      ]
     },
     "metadata": {
      "needs_background": "light"
     },
     "output_type": "display_data"
    },
    {
     "name": "stdout",
     "output_type": "stream",
     "text": [
      "***************  Two - Year in which we had maximum HIRE and Min Hire ****************\n",
      "Maximum Hire:: \n",
      " 1995    44\n",
      "2009    42\n",
      "Name: Start Date, dtype: int64\n",
      "Minimum Hire:: \n",
      " 1987    16\n",
      "2016    15\n",
      "Name: Start Date, dtype: int64\n"
     ]
    }
   ],
   "source": [
    "# Two - Year in which company had maximum HIRE and Min Hire\n",
    "\n",
    "df['Start Date'] = df['Start Date'].astype('datetime64')\n",
    "\n",
    "year_count = df['Start Date'].dt.year.value_counts()\n",
    "print(year_count.head())\n",
    "\n",
    "plt.figure( figsize = (20, 6) )\n",
    "sns.lineplot(x = year_count.index.values, y = year_count.values , color = \"red\" )\n",
    "plt.show()\n",
    "\n",
    "print(\"***************  Two - Year in which we had maximum HIRE and Min Hire ****************\")\n",
    "print(\"Maximum Hire:: \\n\", year_count.head(2))\n",
    "print(\"Minimum Hire:: \\n\", year_count.tail(2))\n"
   ]
  },
  {
   "cell_type": "code",
   "execution_count": null,
   "metadata": {},
   "outputs": [],
   "source": []
  },
  {
   "cell_type": "code",
   "execution_count": 117,
   "metadata": {},
   "outputs": [
    {
     "name": "stdout",
     "output_type": "stream",
     "text": [
      "Client Services         106\n",
      "Finance                 102\n",
      "Business Development    101\n",
      "Marketing                98\n",
      "Product                  95\n",
      "Sales                    94\n",
      "Engineering              92\n",
      "Human Resources          91\n",
      "Distribution             90\n",
      "Legal                    88\n",
      "Name: Team, dtype: int64\n"
     ]
    },
    {
     "name": "stderr",
     "output_type": "stream",
     "text": [
      "C:\\Users\\Nitish\\anaconda3\\lib\\site-packages\\seaborn\\_decorators.py:36: FutureWarning: Pass the following variable as a keyword arg: x. From version 0.12, the only valid positional argument will be `data`, and passing other arguments without an explicit keyword will result in an error or misinterpretation.\n",
      "  warnings.warn(\n"
     ]
    },
    {
     "data": {
      "image/png": "[encoded data removed]",
      "text/plain": [
       "<Figure size 1440x360 with 1 Axes>"
      ]
     },
     "metadata": {
      "needs_background": "light"
     },
     "output_type": "display_data"
    }
   ],
   "source": [
    "# Find the Team that is having the highest number of records.\n",
    "# Visualizae the results as Well\n",
    "\n",
    "print( df.Team.value_counts() )\n",
    "\n",
    "plt.figure( figsize = (20, 5) )\n",
    "sns.countplot(df['Team'], color = 'orange')\n",
    "plt.xticks(rotation = 45, fontsize = 12)\n",
    "plt.yticks(fontsize = 12)\n",
    "plt.xlabel(\"team\", fontsize = 12)\n",
    "plt.ylabel(\"Count\", fontsize = 12)\n",
    "plt.title(\"Team Analysis\", fontsize = 16)\n",
    "plt.show()\n",
    "\n"
   ]
  },
  {
   "cell_type": "code",
   "execution_count": 119,
   "metadata": {},
   "outputs": [
    {
     "data": {
      "image/png": "[encoded data removed]",
      "text/plain": [
       "<Figure size 1440x360 with 1 Axes>"
      ]
     },
     "metadata": {
      "needs_background": "light"
     },
     "output_type": "display_data"
    }
   ],
   "source": [
    "# # Visualizae the Salary Analysis of the dataset\n",
    "\n",
    "plt.figure( figsize = (20, 5) )\n",
    "\n",
    "sns.histplot(df['Salary'], color = 'm', bins=50)\n",
    "plt.xticks(rotation = 45, fontsize = 12)\n",
    "plt.yticks(fontsize = 12)\n",
    "plt.xlabel(\"Salary\", fontsize = 12)\n",
    "plt.ylabel(\"Distribution\", fontsize = 12)\n",
    "plt.title(\"Salary Analysis\", fontsize = 16)\n",
    "plt.show()\n",
    "\n"
   ]
  },
  {
   "cell_type": "code",
   "execution_count": 120,
   "metadata": {},
   "outputs": [],
   "source": [
    "# # Last Login Time Analysis\n",
    "\n",
    "# df['Last Login Time'].value_counts()\n",
    "\n",
    "# plt.figure( figsize = (20, 5) )\n",
    "# sns.countplot(df['Last Login Time'], color = 'r')\n",
    "# plt.xticks(rotation = 45, fontsize = 12)\n",
    "# plt.yticks(fontsize = 12)\n",
    "# plt.xlabel(\"Last Login Time\", fontsize = 12)\n",
    "# plt.ylabel(\"Count\", fontsize = 12)\n",
    "# plt.title(\"Last Login Time Analysis\", fontsize = 16)\n",
    "# plt.show()\n",
    "\n"
   ]
  },
  {
   "cell_type": "code",
   "execution_count": 121,
   "metadata": {},
   "outputs": [
    {
     "name": "stderr",
     "output_type": "stream",
     "text": [
      "C:\\Users\\Nitish\\anaconda3\\lib\\site-packages\\seaborn\\_decorators.py:36: FutureWarning: Pass the following variable as a keyword arg: x. From version 0.12, the only valid positional argument will be `data`, and passing other arguments without an explicit keyword will result in an error or misinterpretation.\n",
      "  warnings.warn(\n"
     ]
    },
    {
     "data": {
      "image/png": "[encoded data removed]",
      "text/plain": [
       "<Figure size 1440x360 with 1 Axes>"
      ]
     },
     "metadata": {
      "needs_background": "light"
     },
     "output_type": "display_data"
    }
   ],
   "source": [
    "# Find the Gender that is having the highest number of records.\n",
    "# Visualizae the results as Well\n",
    "\n",
    "\n",
    "df['Gender'].value_counts()\n",
    "\n",
    "plt.figure( figsize = (20, 5) )\n",
    "sns.countplot(df['Gender'], color = 'y')\n",
    "plt.xticks(rotation = 45, fontsize = 12)\n",
    "plt.yticks(fontsize = 12)\n",
    "plt.xlabel(\"Gender\", fontsize = 12)\n",
    "plt.ylabel(\"Count\", fontsize = 12)\n",
    "plt.title(\"Gender Analysis\", fontsize = 16)\n",
    "plt.show()\n",
    "\n"
   ]
  },
  {
   "cell_type": "code",
   "execution_count": 65,
   "metadata": {},
   "outputs": [
    {
     "data": {
      "text/html": [
       "<div>\n",
       "<style scoped>\n",
       "    .dataframe tbody tr th:only-of-type {\n",
       "        vertical-align: middle;\n",
       "    }\n",
       "\n",
       "    .dataframe tbody tr th {\n",
       "        vertical-align: top;\n",
       "    }\n",
       "\n",
       "    .dataframe thead th {\n",
       "        text-align: right;\n",
       "    }\n",
       "</style>\n",
       "<table border=\"1\" class=\"dataframe\">\n",
       "  <thead>\n",
       "    <tr style=\"text-align: right;\">\n",
       "      <th></th>\n",
       "      <th></th>\n",
       "      <th>totalRecords</th>\n",
       "    </tr>\n",
       "    <tr>\n",
       "      <th>Gender</th>\n",
       "      <th>Senior Management</th>\n",
       "      <th></th>\n",
       "    </tr>\n",
       "  </thead>\n",
       "  <tbody>\n",
       "    <tr>\n",
       "      <th rowspan=\"2\" valign=\"top\">Female</th>\n",
       "      <th>False</th>\n",
       "      <td>200</td>\n",
       "    </tr>\n",
       "    <tr>\n",
       "      <th>True</th>\n",
       "      <td>200</td>\n",
       "    </tr>\n",
       "    <tr>\n",
       "      <th rowspan=\"2\" valign=\"top\">Male</th>\n",
       "      <th>False</th>\n",
       "      <td>198</td>\n",
       "    </tr>\n",
       "    <tr>\n",
       "      <th>True</th>\n",
       "      <td>197</td>\n",
       "    </tr>\n",
       "  </tbody>\n",
       "</table>\n",
       "</div>"
      ],
      "text/plain": [
       "                          totalRecords\n",
       "Gender Senior Management              \n",
       "Female False                       200\n",
       "       True                        200\n",
       "Male   False                       198\n",
       "       True                        197"
      ]
     },
     "execution_count": 65,
     "metadata": {},
     "output_type": "execute_result"
    }
   ],
   "source": [
    "grp = df.groupby([\"Gender\", \"Senior Management\"]).agg(totalRecords = ('Gender', np.size))\n",
    "grp"
   ]
  },
  {
   "cell_type": "code",
   "execution_count": 122,
   "metadata": {},
   "outputs": [
    {
     "data": {
      "text/plain": [
       "First Name            67\n",
       "Gender               145\n",
       "Start Date             0\n",
       "Last Login Time        0\n",
       "Salary                 0\n",
       "Bonus %                0\n",
       "Senior Management     67\n",
       "Team                  43\n",
       "dtype: int64"
      ]
     },
     "execution_count": 122,
     "metadata": {},
     "output_type": "execute_result"
    }
   ],
   "source": [
    "# Find the columns having maximum NA values\n",
    "\n",
    "df.isna().sum()"
   ]
  },
  {
   "cell_type": "code",
   "execution_count": null,
   "metadata": {},
   "outputs": [],
   "source": [
    "\n",
    "# df.sort_values(by = 'Salary', ascending = False)\n",
    "print( type(df.isna().sum()) )\n",
    "print( df.isna().sum() )\n",
    "\n",
    "df.isna().sum().sort_values(ascending=False).head(1)\n"
   ]
  },
  {
   "cell_type": "code",
   "execution_count": 123,
   "metadata": {},
   "outputs": [
    {
     "name": "stdout",
     "output_type": "stream",
     "text": [
      "                      totalRecords     AvgSalary   AvgBonus\n",
      "Team                                                       \n",
      "Business Development           101  91866.316832  10.572376\n",
      "Client Services                106  88224.424528  10.495104\n",
      "Distribution                    90  88500.466667   9.615644\n",
      "Engineering                     92  94269.195652  10.462989\n",
      "Finance                        102  92219.480392  10.186873\n",
      "Human Resources                 91  90944.527473   9.993879\n",
      "Legal                           88  89303.613636  10.322830\n",
      "Marketing                       98  90435.591837  10.353449\n",
      "Product                         95  88665.505263   9.791484\n",
      "Sales                           94  92173.436170  10.116915\n"
     ]
    },
    {
     "data": {
      "image/png": "[encoded data removed]",
      "text/plain": [
       "<Figure size 1440x360 with 3 Axes>"
      ]
     },
     "metadata": {},
     "output_type": "display_data"
    }
   ],
   "source": [
    "# Visualizae the results of the Team with respect to Average Salary and Bonus. Make Pie or Bar Chart\n",
    "\n",
    "\n",
    "\n",
    "grp = df.groupby([\"Team\"]).agg(totalRecords = ('Team', np.size), \n",
    "                              AvgSalary = ('Salary', np.mean) , \n",
    "                              AvgBonus = ('Bonus %', np.mean)  ) \n",
    "\n",
    "print( grp )\n",
    "\n",
    "# Chart analysis\n",
    "\n",
    "plt.figure( figsize = (20, 5) )\n",
    "\n",
    "\n",
    "plt.subplot( 1, 3, 1 )\n",
    "\n",
    "grp = grp.sort_values(by = \"totalRecords\", ascending = False)\n",
    "plt.pie( x = grp.totalRecords.values, labels = grp.index.values , startangle=0)\n",
    "plt.title(\"totalRecords Analysis\", fontsize = 16)\n",
    "\n",
    "\n",
    "plt.subplot( 1, 3, 2 )\n",
    "\n",
    "grp = grp.sort_values(by = \"AvgSalary\", ascending = False)\n",
    "plt.pie( x = grp.AvgSalary.values, labels = grp.index.values , startangle=0 )\n",
    "plt.title(\"AvgSalary Analysis\", fontsize = 16)\n",
    "\n",
    "\n",
    "plt.subplot( 1, 3, 3 )\n",
    "\n",
    "grp = grp.sort_values(by = \"AvgBonus\", ascending = False)\n",
    "plt.pie( x = grp.AvgBonus.values, labels = grp.index.values , startangle=0 )\n",
    "plt.title(\"AvgBonus Analysis\", fontsize = 16)\n",
    "\n",
    "\n",
    "plt.show()\n",
    "\n",
    "\n",
    "\n"
   ]
  },
  {
   "cell_type": "code",
   "execution_count": 80,
   "metadata": {},
   "outputs": [
    {
     "name": "stdout",
     "output_type": "stream",
     "text": [
      "                      totalRecords     AvgSalary   AvgBonus\n",
      "Team                                                       \n",
      "Business Development           101  91866.316832  10.572376\n",
      "Client Services                106  88224.424528  10.495104\n",
      "Distribution                    90  88500.466667   9.615644\n",
      "Engineering                     92  94269.195652  10.462989\n",
      "Finance                        102  92219.480392  10.186873\n",
      "Human Resources                 91  90944.527473   9.993879\n",
      "Legal                           88  89303.613636  10.322830\n",
      "Marketing                       98  90435.591837  10.353449\n",
      "Product                         95  88665.505263   9.791484\n",
      "Sales                           94  92173.436170  10.116915\n"
     ]
    },
    {
     "data": {
      "image/png": "[encoded data removed]",
      "text/plain": [
       "<Figure size 1440x360 with 3 Axes>"
      ]
     },
     "metadata": {
      "needs_background": "light"
     },
     "output_type": "display_data"
    }
   ],
   "source": [
    "# Visualizae the results of the Team with respect to Average Salary and Bonus. Make Pie or Bar Chart\n",
    "\n",
    "\n",
    "grp = df.groupby([\"Team\"]).agg(totalRecords = ('Team', np.size), \n",
    "                              AvgSalary = ('Salary', np.mean) , \n",
    "                              AvgBonus = ('Bonus %', np.mean)  ) \n",
    "\n",
    "print( grp )\n",
    "\n",
    "# Chart analysis\n",
    "\n",
    "plt.figure( figsize = (20, 5) )\n",
    "\n",
    "\n",
    "plt.subplot( 1, 3, 1 )\n",
    "\n",
    "grp = grp.sort_values(by = \"totalRecords\", ascending = False)\n",
    "plt.bar( height = grp.totalRecords.values, x = grp.index.values )\n",
    "plt.xticks(rotation = 45)\n",
    "plt.title(\"totalRecords Analysis\", fontsize = 16)\n",
    "\n",
    "\n",
    "plt.subplot( 1, 3, 2 )\n",
    "\n",
    "grp = grp.sort_values(by = \"AvgSalary\", ascending = False)\n",
    "plt.bar( height = grp.AvgSalary.values, x = grp.index.values  )\n",
    "plt.xticks(rotation = 45)\n",
    "plt.title(\"AvgSalary Analysis\", fontsize = 16)\n",
    "\n",
    "\n",
    "plt.subplot( 1, 3, 3 )\n",
    "\n",
    "grp = grp.sort_values(by = \"AvgBonus\", ascending = False)\n",
    "plt.bar( height = grp.AvgBonus.values, x = grp.index.values  )\n",
    "plt.xticks(rotation = 45)\n",
    "plt.title(\"AvgBonus Analysis\", fontsize = 16)\n",
    "\n",
    "\n",
    "plt.show()\n",
    "\n",
    "\n",
    "\n"
   ]
  },
  {
   "cell_type": "code",
   "execution_count": 82,
   "metadata": {},
   "outputs": [
    {
     "data": {
      "text/plain": [
       "(46, 9)"
      ]
     },
     "execution_count": 82,
     "metadata": {},
     "output_type": "execute_result"
    }
   ],
   "source": [
    "# Find the Business Development employee that are having salary more than 1 lac\n",
    "\n",
    "df[ ( df['Team'] == \"Business Development\")  &  ( df['Salary'] >= 100000 ) ] .shape\n"
   ]
  },
  {
   "cell_type": "code",
   "execution_count": 83,
   "metadata": {},
   "outputs": [
    {
     "data": {
      "text/plain": [
       "(13, 9)"
      ]
     },
     "execution_count": 83,
     "metadata": {},
     "output_type": "execute_result"
    }
   ],
   "source": [
    "# Find the Finance employee that are having salary less than 50K\n",
    "\n",
    "df[ ( df['Team'] == \"Finance\")  &  ( df['Salary'] <= 50000 ) ] .shape\n"
   ]
  },
  {
   "cell_type": "code",
   "execution_count": 95,
   "metadata": {},
   "outputs": [
    {
     "data": {
      "text/html": [
       "<div>\n",
       "<style scoped>\n",
       "    .dataframe tbody tr th:only-of-type {\n",
       "        vertical-align: middle;\n",
       "    }\n",
       "\n",
       "    .dataframe tbody tr th {\n",
       "        vertical-align: top;\n",
       "    }\n",
       "\n",
       "    .dataframe thead th {\n",
       "        text-align: right;\n",
       "    }\n",
       "</style>\n",
       "<table border=\"1\" class=\"dataframe\">\n",
       "  <thead>\n",
       "    <tr style=\"text-align: right;\">\n",
       "      <th></th>\n",
       "      <th>First Name</th>\n",
       "      <th>Gender</th>\n",
       "      <th>Start Date</th>\n",
       "      <th>Last Login Time</th>\n",
       "      <th>Salary</th>\n",
       "      <th>Bonus %</th>\n",
       "      <th>Senior Management</th>\n",
       "      <th>Team</th>\n",
       "      <th>Last Login Time 2</th>\n",
       "    </tr>\n",
       "  </thead>\n",
       "  <tbody>\n",
       "    <tr>\n",
       "      <th>765</th>\n",
       "      <td>Alice</td>\n",
       "      <td>NaN</td>\n",
       "      <td>1995-04-23</td>\n",
       "      <td>6:35 AM</td>\n",
       "      <td>148339</td>\n",
       "      <td>11.479</td>\n",
       "      <td>True</td>\n",
       "      <td>Finance</td>\n",
       "      <td>&lt;pandas.core.strings.StringMethods object at 0...</td>\n",
       "    </tr>\n",
       "  </tbody>\n",
       "</table>\n",
       "</div>"
      ],
      "text/plain": [
       "    First Name Gender Start Date Last Login Time  Salary  Bonus %  \\\n",
       "765      Alice    NaN 1995-04-23         6:35 AM  148339   11.479   \n",
       "\n",
       "    Senior Management     Team  \\\n",
       "765              True  Finance   \n",
       "\n",
       "                                     Last Login Time 2  \n",
       "765  <pandas.core.strings.StringMethods object at 0...  "
      ]
     },
     "execution_count": 95,
     "metadata": {},
     "output_type": "execute_result"
    }
   ],
   "source": [
    "# Find the employees who joined the organization in 1995, with salary being the highest in that YEAR\n",
    "\n",
    "Max_salary_1995 =  np.max(  df[ ( df['Start Date'].dt.year == 1995 ) ]['Salary'] )\n",
    "\n",
    "q2 = df[ ( df['Start Date'].dt.year == 1995 ) &  ( df['Salary'] == Max_salary_1995 ) ]\n",
    "q2"
   ]
  },
  {
   "cell_type": "code",
   "execution_count": 97,
   "metadata": {},
   "outputs": [
    {
     "data": {
      "text/html": [
       "<div>\n",
       "<style scoped>\n",
       "    .dataframe tbody tr th:only-of-type {\n",
       "        vertical-align: middle;\n",
       "    }\n",
       "\n",
       "    .dataframe tbody tr th {\n",
       "        vertical-align: top;\n",
       "    }\n",
       "\n",
       "    .dataframe thead th {\n",
       "        text-align: right;\n",
       "    }\n",
       "</style>\n",
       "<table border=\"1\" class=\"dataframe\">\n",
       "  <thead>\n",
       "    <tr style=\"text-align: right;\">\n",
       "      <th></th>\n",
       "      <th>First Name</th>\n",
       "      <th>Gender</th>\n",
       "      <th>Start Date</th>\n",
       "      <th>Last Login Time</th>\n",
       "      <th>Salary</th>\n",
       "      <th>Bonus %</th>\n",
       "      <th>Senior Management</th>\n",
       "      <th>Team</th>\n",
       "      <th>Last Login Time 2</th>\n",
       "    </tr>\n",
       "  </thead>\n",
       "  <tbody>\n",
       "    <tr>\n",
       "      <th>740</th>\n",
       "      <td>Russell</td>\n",
       "      <td>NaN</td>\n",
       "      <td>2009-05-09</td>\n",
       "      <td>11:59 AM</td>\n",
       "      <td>149456</td>\n",
       "      <td>3.533</td>\n",
       "      <td>False</td>\n",
       "      <td>Marketing</td>\n",
       "      <td>&lt;pandas.core.strings.StringMethods object at 0...</td>\n",
       "    </tr>\n",
       "  </tbody>\n",
       "</table>\n",
       "</div>"
      ],
      "text/plain": [
       "    First Name Gender Start Date Last Login Time  Salary  Bonus %  \\\n",
       "740    Russell    NaN 2009-05-09        11:59 AM  149456    3.533   \n",
       "\n",
       "    Senior Management       Team  \\\n",
       "740             False  Marketing   \n",
       "\n",
       "                                     Last Login Time 2  \n",
       "740  <pandas.core.strings.StringMethods object at 0...  "
      ]
     },
     "execution_count": 97,
     "metadata": {},
     "output_type": "execute_result"
    }
   ],
   "source": [
    "# Find the employees who joined the organization in 2009, with salary being the highest in that YEAR\n",
    "\n",
    "Max_salary_2009 =  np.max(  df[ ( df['Start Date'].dt.year == 2009 ) ]['Salary'] )\n",
    "\n",
    "q2 = df[ ( df['Start Date'].dt.year == 2009 ) &  ( df['Salary'] == Max_salary_2009 ) ]\n",
    "q2"
   ]
  },
  {
   "cell_type": "code",
   "execution_count": 101,
   "metadata": {},
   "outputs": [
    {
     "data": {
      "text/html": [
       "<div>\n",
       "<style scoped>\n",
       "    .dataframe tbody tr th:only-of-type {\n",
       "        vertical-align: middle;\n",
       "    }\n",
       "\n",
       "    .dataframe tbody tr th {\n",
       "        vertical-align: top;\n",
       "    }\n",
       "\n",
       "    .dataframe thead th {\n",
       "        text-align: right;\n",
       "    }\n",
       "</style>\n",
       "<table border=\"1\" class=\"dataframe\">\n",
       "  <thead>\n",
       "    <tr style=\"text-align: right;\">\n",
       "      <th></th>\n",
       "      <th>totalRecords</th>\n",
       "      <th>AvgSalary</th>\n",
       "      <th>MaxSalary</th>\n",
       "      <th>MinSalary</th>\n",
       "      <th>AvgBonus</th>\n",
       "    </tr>\n",
       "    <tr>\n",
       "      <th>Year</th>\n",
       "      <th></th>\n",
       "      <th></th>\n",
       "      <th></th>\n",
       "      <th></th>\n",
       "      <th></th>\n",
       "    </tr>\n",
       "  </thead>\n",
       "  <tbody>\n",
       "    <tr>\n",
       "      <th>1980</th>\n",
       "      <td>30</td>\n",
       "      <td>80666.333333</td>\n",
       "      <td>145357</td>\n",
       "      <td>35095</td>\n",
       "      <td>10.164900</td>\n",
       "    </tr>\n",
       "    <tr>\n",
       "      <th>1981</th>\n",
       "      <td>21</td>\n",
       "      <td>90886.285714</td>\n",
       "      <td>145988</td>\n",
       "      <td>37748</td>\n",
       "      <td>10.679238</td>\n",
       "    </tr>\n",
       "    <tr>\n",
       "      <th>1982</th>\n",
       "      <td>28</td>\n",
       "      <td>94920.500000</td>\n",
       "      <td>147183</td>\n",
       "      <td>35061</td>\n",
       "      <td>9.239571</td>\n",
       "    </tr>\n",
       "    <tr>\n",
       "      <th>1983</th>\n",
       "      <td>22</td>\n",
       "      <td>87492.363636</td>\n",
       "      <td>145988</td>\n",
       "      <td>36759</td>\n",
       "      <td>10.970864</td>\n",
       "    </tr>\n",
       "    <tr>\n",
       "      <th>1984</th>\n",
       "      <td>32</td>\n",
       "      <td>86175.406250</td>\n",
       "      <td>134120</td>\n",
       "      <td>36837</td>\n",
       "      <td>11.700844</td>\n",
       "    </tr>\n",
       "  </tbody>\n",
       "</table>\n",
       "</div>"
      ],
      "text/plain": [
       "      totalRecords     AvgSalary  MaxSalary  MinSalary   AvgBonus\n",
       "Year                                                             \n",
       "1980            30  80666.333333     145357      35095  10.164900\n",
       "1981            21  90886.285714     145988      37748  10.679238\n",
       "1982            28  94920.500000     147183      35061   9.239571\n",
       "1983            22  87492.363636     145988      36759  10.970864\n",
       "1984            32  86175.406250     134120      36837  11.700844"
      ]
     },
     "execution_count": 101,
     "metadata": {},
     "output_type": "execute_result"
    }
   ],
   "source": [
    "## Year Analysis\n",
    "## Year Analysis. Create a new column for Year from Start Date column\n",
    "\n",
    "\n",
    "df['Year'] = df['Start Date'].dt.year\n",
    "\n",
    "grp = df.groupby([\"Year\"]).agg(totalRecords = ('Year', np.size), \n",
    "                              AvgSalary = ('Salary', np.mean), \n",
    "                               MaxSalary = ('Salary', np.max), \n",
    "                               MinSalary = ('Salary', np.min), \n",
    "                              AvgBonus = ('Bonus %', np.mean)  ) \n",
    "\n",
    "grp.head()\n",
    "\n"
   ]
  },
  {
   "cell_type": "code",
   "execution_count": 102,
   "metadata": {},
   "outputs": [
    {
     "data": {
      "text/html": [
       "<div>\n",
       "<style scoped>\n",
       "    .dataframe tbody tr th:only-of-type {\n",
       "        vertical-align: middle;\n",
       "    }\n",
       "\n",
       "    .dataframe tbody tr th {\n",
       "        vertical-align: top;\n",
       "    }\n",
       "\n",
       "    .dataframe thead th {\n",
       "        text-align: right;\n",
       "    }\n",
       "</style>\n",
       "<table border=\"1\" class=\"dataframe\">\n",
       "  <thead>\n",
       "    <tr style=\"text-align: right;\">\n",
       "      <th></th>\n",
       "      <th>totalRecords</th>\n",
       "      <th>AvgSalary</th>\n",
       "      <th>MaxSalary</th>\n",
       "      <th>MinSalary</th>\n",
       "      <th>AvgBonus</th>\n",
       "    </tr>\n",
       "    <tr>\n",
       "      <th>Year</th>\n",
       "      <th></th>\n",
       "      <th></th>\n",
       "      <th></th>\n",
       "      <th></th>\n",
       "      <th></th>\n",
       "    </tr>\n",
       "  </thead>\n",
       "  <tbody>\n",
       "    <tr>\n",
       "      <th>1996</th>\n",
       "      <td>32</td>\n",
       "      <td>97063.000000</td>\n",
       "      <td>149908</td>\n",
       "      <td>38872</td>\n",
       "      <td>10.192156</td>\n",
       "    </tr>\n",
       "    <tr>\n",
       "      <th>2015</th>\n",
       "      <td>22</td>\n",
       "      <td>98979.181818</td>\n",
       "      <td>149903</td>\n",
       "      <td>45906</td>\n",
       "      <td>10.512500</td>\n",
       "    </tr>\n",
       "    <tr>\n",
       "      <th>2006</th>\n",
       "      <td>26</td>\n",
       "      <td>92860.653846</td>\n",
       "      <td>149684</td>\n",
       "      <td>42087</td>\n",
       "      <td>9.125654</td>\n",
       "    </tr>\n",
       "    <tr>\n",
       "      <th>2005</th>\n",
       "      <td>31</td>\n",
       "      <td>92209.000000</td>\n",
       "      <td>149654</td>\n",
       "      <td>38078</td>\n",
       "      <td>10.677710</td>\n",
       "    </tr>\n",
       "    <tr>\n",
       "      <th>2000</th>\n",
       "      <td>26</td>\n",
       "      <td>80891.961538</td>\n",
       "      <td>149563</td>\n",
       "      <td>37598</td>\n",
       "      <td>9.440615</td>\n",
       "    </tr>\n",
       "  </tbody>\n",
       "</table>\n",
       "</div>"
      ],
      "text/plain": [
       "      totalRecords     AvgSalary  MaxSalary  MinSalary   AvgBonus\n",
       "Year                                                             \n",
       "1996            32  97063.000000     149908      38872  10.192156\n",
       "2015            22  98979.181818     149903      45906  10.512500\n",
       "2006            26  92860.653846     149684      42087   9.125654\n",
       "2005            31  92209.000000     149654      38078  10.677710\n",
       "2000            26  80891.961538     149563      37598   9.440615"
      ]
     },
     "execution_count": 102,
     "metadata": {},
     "output_type": "execute_result"
    }
   ],
   "source": [
    "## Find the top 5 Yearss in accordance with the Highest Salaries Joining In\n",
    "\n",
    "df['Year'] = df['Start Date'].dt.year\n",
    "\n",
    "grp = df.groupby([\"Year\"]).agg(totalRecords = ('Year', np.size), \n",
    "                              AvgSalary = ('Salary', np.mean), \n",
    "                               MaxSalary = ('Salary', np.max), \n",
    "                               MinSalary = ('Salary', np.min), \n",
    "                              AvgBonus = ('Bonus %', np.mean)  ) \n",
    "\n",
    "grp = grp.sort_values(by = \"MaxSalary\", ascending = False)\n",
    "grp.head()\n",
    "\n"
   ]
  },
  {
   "cell_type": "code",
   "execution_count": 103,
   "metadata": {},
   "outputs": [
    {
     "data": {
      "text/html": [
       "<div>\n",
       "<style scoped>\n",
       "    .dataframe tbody tr th:only-of-type {\n",
       "        vertical-align: middle;\n",
       "    }\n",
       "\n",
       "    .dataframe tbody tr th {\n",
       "        vertical-align: top;\n",
       "    }\n",
       "\n",
       "    .dataframe thead th {\n",
       "        text-align: right;\n",
       "    }\n",
       "</style>\n",
       "<table border=\"1\" class=\"dataframe\">\n",
       "  <thead>\n",
       "    <tr style=\"text-align: right;\">\n",
       "      <th></th>\n",
       "      <th>totalRecords</th>\n",
       "      <th>AvgSalary</th>\n",
       "      <th>MaxSalary</th>\n",
       "      <th>MinSalary</th>\n",
       "      <th>AvgBonus</th>\n",
       "    </tr>\n",
       "    <tr>\n",
       "      <th>Year</th>\n",
       "      <th></th>\n",
       "      <th></th>\n",
       "      <th></th>\n",
       "      <th></th>\n",
       "      <th></th>\n",
       "    </tr>\n",
       "  </thead>\n",
       "  <tbody>\n",
       "    <tr>\n",
       "      <th>1989</th>\n",
       "      <td>20</td>\n",
       "      <td>104752.050000</td>\n",
       "      <td>148941</td>\n",
       "      <td>58478</td>\n",
       "      <td>12.490250</td>\n",
       "    </tr>\n",
       "    <tr>\n",
       "      <th>2009</th>\n",
       "      <td>42</td>\n",
       "      <td>103087.642857</td>\n",
       "      <td>149456</td>\n",
       "      <td>37812</td>\n",
       "      <td>9.011571</td>\n",
       "    </tr>\n",
       "    <tr>\n",
       "      <th>1992</th>\n",
       "      <td>28</td>\n",
       "      <td>101673.357143</td>\n",
       "      <td>145316</td>\n",
       "      <td>41238</td>\n",
       "      <td>10.073857</td>\n",
       "    </tr>\n",
       "    <tr>\n",
       "      <th>1988</th>\n",
       "      <td>25</td>\n",
       "      <td>99480.960000</td>\n",
       "      <td>147309</td>\n",
       "      <td>36711</td>\n",
       "      <td>9.268920</td>\n",
       "    </tr>\n",
       "    <tr>\n",
       "      <th>2015</th>\n",
       "      <td>22</td>\n",
       "      <td>98979.181818</td>\n",
       "      <td>149903</td>\n",
       "      <td>45906</td>\n",
       "      <td>10.512500</td>\n",
       "    </tr>\n",
       "  </tbody>\n",
       "</table>\n",
       "</div>"
      ],
      "text/plain": [
       "      totalRecords      AvgSalary  MaxSalary  MinSalary   AvgBonus\n",
       "Year                                                              \n",
       "1989            20  104752.050000     148941      58478  12.490250\n",
       "2009            42  103087.642857     149456      37812   9.011571\n",
       "1992            28  101673.357143     145316      41238  10.073857\n",
       "1988            25   99480.960000     147309      36711   9.268920\n",
       "2015            22   98979.181818     149903      45906  10.512500"
      ]
     },
     "execution_count": 103,
     "metadata": {},
     "output_type": "execute_result"
    }
   ],
   "source": [
    "## Find the top 5 Yearss in accordance with the Highest Acverage Salaries Joining In\n",
    "\n",
    "df['Year'] = df['Start Date'].dt.year\n",
    "\n",
    "grp = df.groupby([\"Year\"]).agg(totalRecords = ('Year', np.size), \n",
    "                              AvgSalary = ('Salary', np.mean), \n",
    "                               MaxSalary = ('Salary', np.max), \n",
    "                               MinSalary = ('Salary', np.min), \n",
    "                              AvgBonus = ('Bonus %', np.mean)  ) \n",
    "\n",
    "grp = grp.sort_values(by = \"AvgSalary\", ascending = False)\n",
    "grp.head()\n",
    "\n"
   ]
  },
  {
   "cell_type": "code",
   "execution_count": null,
   "metadata": {},
   "outputs": [],
   "source": []
  },
  {
   "cell_type": "code",
   "execution_count": null,
   "metadata": {},
   "outputs": [],
   "source": []
  },
  {
   "cell_type": "code",
   "execution_count": null,
   "metadata": {},
   "outputs": [],
   "source": []
  },
  {
   "cell_type": "code",
   "execution_count": null,
   "metadata": {},
   "outputs": [],
   "source": []
  },
  {
   "cell_type": "markdown",
   "metadata": {},
   "source": []
  }
 ],
 "metadata": {
  "kernelspec": {
   "display_name": "Python 3 (ipykernel)",
   "language": "python",
   "name": "python3"
  },
  "language_info": {
   "codemirror_mode": {
    "name": "ipython",
    "version": 3
   },
   "file_extension": ".py",
   "mimetype": "text/x-python",
   "name": "python",
   "nbconvert_exporter": "python",
   "pygments_lexer": "ipython3",
   "version": "3.9.13"
  }
 },
 "nbformat": 4,
 "nbformat_minor": 4
}
