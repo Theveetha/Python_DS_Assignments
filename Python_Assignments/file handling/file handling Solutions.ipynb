{
 "cells": [
  {
   "cell_type": "markdown",
   "metadata": {},
   "source": [
    "# file handling questions"
   ]
  },
  {
   "cell_type": "code",
   "execution_count": 4,
   "metadata": {},
   "outputs": [],
   "source": [
    "myData = \"\"\"\n",
    "This is the File Handling data.\n",
    "There is a lot of stuff in @@Python : \n",
    "string\n",
    "list\n",
    "tuple SUN\n",
    "dictionary\n",
    "regular expression\n",
    "functions\n",
    "\n",
    "To learn further, you have to cover @the best topics -- \n",
    "string\n",
    "@list\n",
    "functions SUN\n",
    "\n",
    "You can reach it to Academy;\n",
    "8745742105\n",
    "96457421 SUN\n",
    "9656452580 \n",
    "011-25499746\n",
    "7744120258 and 9874745745\n",
    "\n",
    "nitsih@gmail.com SUN\n",
    "company@hotmail.com\n",
    "\n",
    "abc@yahoo.com and learning@@hive.com\n",
    "\n",
    "\"\"\""
   ]
  },
  {
   "cell_type": "code",
   "execution_count": 6,
   "metadata": {},
   "outputs": [],
   "source": [
    "f = open('myData.txt', \"w\")\n",
    "f.write(myData)\n",
    "f.close()"
   ]
  },
  {
   "cell_type": "code",
   "execution_count": null,
   "metadata": {},
   "outputs": [],
   "source": []
  },
  {
   "cell_type": "code",
   "execution_count": 8,
   "metadata": {},
   "outputs": [],
   "source": [
    "f = open('myData.txt', \"r\")\n",
    "data = f.read()\n",
    "f.close()"
   ]
  },
  {
   "cell_type": "code",
   "execution_count": 12,
   "metadata": {},
   "outputs": [
    {
     "name": "stdout",
     "output_type": "stream",
     "text": [
      "\n",
      "This is the File Handling data.\n",
      "There is a lot of stuff in Python : \n",
      "string\n",
      "list\n",
      "tuple SUN\n",
      "dictionary\n",
      "regular expression\n",
      "functions\n",
      "\n",
      "To learn further, you have to cover the best topics -- \n",
      "string\n",
      "list\n",
      "functions SUN\n",
      "\n",
      "You can reach it to Academy;\n",
      "8745742105\n",
      "96457421 SUN\n",
      "9656452580 \n",
      "011-25499746\n",
      "7744120258 and 9874745745\n",
      "\n",
      "nitsih@gmail.com SUN\n",
      "company@hotmail.com\n",
      "\n",
      "abc@yahoo.com and learning@@hive.com\n",
      "\n",
      "\n",
      "Frequency ==>   4\n"
     ]
    }
   ],
   "source": [
    "# Count how many times \"SUN\" has occured.\n",
    "\n",
    "f = open('myData.txt', \"r\")\n",
    "data = f.read()\n",
    "f.close()\n",
    "\n",
    "print(data)\n",
    "print(\"Frequency ==>  \", data.count(\"SUN\"))\n"
   ]
  },
  {
   "cell_type": "code",
   "execution_count": 16,
   "metadata": {},
   "outputs": [
    {
     "name": "stdout",
     "output_type": "stream",
     "text": [
      "['\\n', 'This is the File Handling data.\\n', 'There is a lot of stuff in Python : \\n', 'string\\n', 'list\\n', 'tuple SUN\\n', 'dictionary\\n', 'regular expression\\n', 'functions\\n', '\\n', 'To learn further, you have to cover the best topics -- \\n', 'string\\n', 'list\\n', 'functions SUN\\n', '\\n', 'You can reach it to Academy;\\n', '8745742105\\n', '96457421 SUN\\n', '9656452580 \\n', '011-25499746\\n', '7744120258 and 9874745745\\n', '\\n', 'nitsih@gmail.com SUN\\n', 'company@hotmail.com\\n', '\\n', 'abc@yahoo.com and learning@@hive.com\\n', '\\n']\n",
      "\n",
      "SUN has occuredt at positions : \n",
      "5\n",
      "13\n",
      "17\n",
      "22\n"
     ]
    }
   ],
   "source": [
    "# Find the line position number where \"SUN\" has occured.\n",
    "\n",
    "f = open('myData.txt', \"r\")\n",
    "data = f.readlines()\n",
    "f.close()\n",
    "\n",
    "print(data)\n",
    "print(\"\\nSUN has occuredt at positions : \")\n",
    "for i in range(0, len(data) ) : \n",
    "    if \"SUN\" in data[i] :\n",
    "        print(i)\n",
    "        \n"
   ]
  },
  {
   "cell_type": "code",
   "execution_count": null,
   "metadata": {},
   "outputs": [],
   "source": [
    "word=\"SUN\"\n",
    "pos=[]\n",
    "f=open('myData.txt','r')\n",
    "for num,line in enumerate(f,1):\n",
    "    if word in line:\n",
    "        print(f\"{word}-->{num}\")"
   ]
  },
  {
   "cell_type": "code",
   "execution_count": 31,
   "metadata": {},
   "outputs": [
    {
     "name": "stdout",
     "output_type": "stream",
     "text": [
      "Mobile Numbers =  ['8745742105', '9656452580', '7744120258', '9874745745']\n"
     ]
    }
   ],
   "source": [
    "# Find out the valid mobile numbers, which are 10-digit long\n",
    "\n",
    "f = open('myData.txt', \"r\")\n",
    "data = f.readlines()\n",
    "f.close()\n",
    "\n",
    "# print(data)\n",
    "mobileNumbers = []\n",
    "\n",
    "for i in range(0, len(data)) : \n",
    "    if any( c.isdigit() for c in data[i] ) : \n",
    "        \n",
    "        msg = data[i]\n",
    "        words = msg.split(\" \")\n",
    "#         print(words)\n",
    "        for w in words :\n",
    "            w = w.replace(\"\\n\", \"\")\n",
    "            if w.isdigit() and len(w) == 10 : \n",
    "#                 print(w)\n",
    "                mobileNumbers.append( w )\n",
    "\n",
    "    \n",
    "print(\"Mobile Numbers = \", mobileNumbers)"
   ]
  },
  {
   "cell_type": "code",
   "execution_count": 21,
   "metadata": {},
   "outputs": [
    {
     "data": {
      "text/plain": [
       "True"
      ]
     },
     "execution_count": 21,
     "metadata": {},
     "output_type": "execute_result"
    }
   ],
   "source": [
    "# x = \"7744120258 and 9874745745\"\n",
    "# any( c.isdigit() for c in x )"
   ]
  },
  {
   "cell_type": "code",
   "execution_count": 39,
   "metadata": {},
   "outputs": [
    {
     "name": "stdout",
     "output_type": "stream",
     "text": [
      "EMAILS =  ['nitsih@gmail.com', 'company@hotmail.com', 'abc@yahoo.com']\n"
     ]
    }
   ],
   "source": [
    "# Find out the valid EMAIL Address numbers.\n",
    "\n",
    "import re\n",
    "\n",
    "f = open('myData.txt', \"r\")\n",
    "data = f.readlines()\n",
    "f.close()\n",
    "\n",
    "# print(data)\n",
    "emails = []\n",
    "\n",
    "for i in range(0, len(data)) : \n",
    "    if '@' in data[i] : \n",
    "        \n",
    "        msg = data[i]\n",
    "#         print(msg)\n",
    "        \n",
    "        res = re.findall(r\"\\w{1,}@\\w{1,}.\\w{1,}\", msg)\n",
    "#         print(res)\n",
    "        \n",
    "        if res : \n",
    "            emails.extend(res)\n",
    "    \n",
    "print(\"EMAILS = \", emails)"
   ]
  },
  {
   "cell_type": "code",
   "execution_count": null,
   "metadata": {},
   "outputs": [],
   "source": [
    "import re\n",
    "mob=[]\n",
    "f=open('myData.txt','r')\n",
    "data=f.read()\n",
    "m=re.findall(r\"\\b\\w{1,}@\\w{1,}.\\w{1,}\\b\",data)\n",
    "mob.append(m)\n",
    "print(mob)"
   ]
  },
  {
   "cell_type": "code",
   "execution_count": 43,
   "metadata": {},
   "outputs": [
    {
     "name": "stdout",
     "output_type": "stream",
     "text": [
      "EMAILS =  ['nitsih@gmail.com', 'company@hotmail.com', 'abc@yahoo.com']\n",
      "EMAIL platforms :: \n",
      "gmail\n",
      "hotmail\n",
      "yahoo\n"
     ]
    }
   ],
   "source": [
    "# Find out the valid EMAIL platforms\n",
    "\n",
    "import re\n",
    "\n",
    "f = open('myData.txt', \"r\")\n",
    "data = f.readlines()\n",
    "f.close()\n",
    "\n",
    "# print(data)\n",
    "emails = []\n",
    "\n",
    "for i in range(0, len(data)) : \n",
    "    if '@' in data[i] : \n",
    "        \n",
    "        msg = data[i]\n",
    "#         print(msg)\n",
    "        \n",
    "        res = re.findall(r\"\\w{1,}@\\w{1,}.\\w{1,}\", msg)\n",
    "#         print(res)\n",
    "        \n",
    "        if res : \n",
    "            emails.extend(res)\n",
    "        \n",
    "print(\"EMAILS = \", emails)\n",
    "\n",
    "print(\"EMAIL platforms :: \")\n",
    "for e in emails : \n",
    "    res = re.search(r\"@\\w{1,}\", e)\n",
    "    print(res.group()[1 : ])\n"
   ]
  },
  {
   "cell_type": "code",
   "execution_count": null,
   "metadata": {},
   "outputs": [],
   "source": []
  },
  {
   "cell_type": "code",
   "execution_count": null,
   "metadata": {},
   "outputs": [],
   "source": []
  },
  {
   "cell_type": "code",
   "execution_count": null,
   "metadata": {},
   "outputs": [],
   "source": []
  },
  {
   "cell_type": "code",
   "execution_count": null,
   "metadata": {},
   "outputs": [],
   "source": []
  },
  {
   "cell_type": "code",
   "execution_count": null,
   "metadata": {},
   "outputs": [],
   "source": []
  }
 ],
 "metadata": {
  "kernelspec": {
   "display_name": "Python 3 (ipykernel)",
   "language": "python",
   "name": "python3"
  },
  "language_info": {
   "codemirror_mode": {
    "name": "ipython",
    "version": 3
   },
   "file_extension": ".py",
   "mimetype": "text/x-python",
   "name": "python",
   "nbconvert_exporter": "python",
   "pygments_lexer": "ipython3",
   "version": "3.10.9"
  }
 },
 "nbformat": 4,
 "nbformat_minor": 4
}
