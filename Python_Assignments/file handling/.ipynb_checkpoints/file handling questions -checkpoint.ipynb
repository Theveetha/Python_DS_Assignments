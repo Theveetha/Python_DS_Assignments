{
 "cells": [
  {
   "cell_type": "markdown",
   "metadata": {},
   "source": [
    "# file handling questions"
   ]
  },
  {
   "cell_type": "code",
   "execution_count": 3,
   "metadata": {},
   "outputs": [],
   "source": [
    "myData = \"\"\"\n",
    "This is the File Handling data.\n",
    "There is a lot of stuff in @@Python : \n",
    "string\n",
    "list\n",
    "tuple SUN\n",
    "dictionary\n",
    "regular expression\n",
    "functions\n",
    "\n",
    "To learn further, you have to cover @the best topics -- \n",
    "string\n",
    "@list\n",
    "functions SUN\n",
    "\n",
    "You can reach it to Academy;\n",
    "8745742105\n",
    "96457421 SUN\n",
    "9656452580 \n",
    "011-25499746\n",
    "7744120258 and 9874745745\n",
    "\n",
    "nitsih@gmail.com SUN\n",
    "company@hotmail.com\n",
    "\n",
    "abc@yahoo.com and learning@@hive.com\n",
    "\n",
    "\"\"\""
   ]
  },
  {
   "cell_type": "code",
   "execution_count": 4,
   "metadata": {},
   "outputs": [],
   "source": [
    "f = open('myData.txt', \"w\")\n",
    "f.write(myData)\n",
    "f.close()"
   ]
  },
  {
   "cell_type": "code",
   "execution_count": 5,
   "metadata": {},
   "outputs": [
    {
     "name": "stdout",
     "output_type": "stream",
     "text": [
      "\n",
      "This is the File Handling data.\n",
      "There is a lot of stuff in @@Python : \n",
      "string\n",
      "list\n",
      "tuple SUN\n",
      "dictionary\n",
      "regular expression\n",
      "functions\n",
      "\n",
      "To learn further, you have to cover @the best topics -- \n",
      "string\n",
      "@list\n",
      "functions SUN\n",
      "\n",
      "You can reach it to Academy;\n",
      "8745742105\n",
      "96457421 SUN\n",
      "9656452580 \n",
      "011-25499746\n",
      "7744120258 and 9874745745\n",
      "\n",
      "nitsih@gmail.com SUN\n",
      "company@hotmail.com\n",
      "\n",
      "abc@yahoo.com and learning@@hive.com\n",
      "\n",
      "\n",
      "Frequency ==>   4\n"
     ]
    }
   ],
   "source": [
    "# Count how many times \"SUN\" has occured.\n",
    "\n",
    "f = open('myData.txt', \"r\")\n",
    "data = f.read()  #string \n",
    "f.close()\n",
    "\n",
    "print(data)\n",
    "print(\"Frequency ==>  \", data.count(\"SUN\"))"
   ]
  },
  {
   "cell_type": "code",
   "execution_count": 11,
   "metadata": {},
   "outputs": [
    {
     "name": "stdout",
     "output_type": "stream",
     "text": [
      "SUN is present in the Line numbers : [6, 14, 18, 23]\n"
     ]
    }
   ],
   "source": [
    "# Find the line position number where \"SUN\" has occured.\n",
    "\n",
    "f = open('myData.txt', \"r\")\n",
    "data = f.read()\n",
    "f.close()\n",
    "\n",
    "# print(data)\n",
    "newData = data.split(\"\\n\")\n",
    "line = []\n",
    "# print(newData)\n",
    "for i in range(len(newData)):\n",
    "    if 'SUN' in newData[i]:\n",
    "        line.append(i+1)\n",
    "#         print(i+1)\n",
    "print(f\"SUN is present in the Line numbers : {line}\")\n",
    "\n",
    "# # print(data)\n",
    "# newData = data.split(\"\\n\")\n",
    "# # print(newData)\n",
    "# for line in range( len(newData) ) : \n",
    "#     print('Line Number : ', line + 1, end = \"\\t\\t \")\n",
    "#     print('Data : ', newData[line])\n"
   ]
  },
  {
   "cell_type": "code",
   "execution_count": 18,
   "metadata": {},
   "outputs": [
    {
     "data": {
      "text/plain": [
       "['8745742105', '9656452580', '7744120258', '9874745745']"
      ]
     },
     "execution_count": 18,
     "metadata": {},
     "output_type": "execute_result"
    }
   ],
   "source": [
    "# Find out the valid mobile numbers, which are 10-digit long\n",
    "f = open(\"myData.txt\",\"r\")\n",
    "data = f.read()\n",
    "f.close()\n",
    "\n",
    "# print(data)\n",
    "mobileNum = []\n",
    "newData = data.split(\"\\n\")\n",
    "for i in range(0,len(newData)):\n",
    "    word = newData[i].split(\" \")\n",
    "    for j in word:\n",
    "        if j.isdigit() and len(j) == 10:\n",
    "            mobileNum.append(j)\n",
    "mobileNum"
   ]
  },
  {
   "cell_type": "code",
   "execution_count": 21,
   "metadata": {},
   "outputs": [
    {
     "data": {
      "text/plain": [
       "['nitsih@gmail.com', 'company@hotmail.com', 'abc@yahoo.com']"
      ]
     },
     "execution_count": 21,
     "metadata": {},
     "output_type": "execute_result"
    }
   ],
   "source": [
    "# Find out the valid EMAIL Address numbers.\n",
    "f = open('myData.txt', \"r\")\n",
    "data = f.read()\n",
    "f.close()\n",
    "\n",
    "newData = data.split(\"\\n\")\n",
    "# print(newData)\n",
    "email = []\n",
    "for i in range(len(newData)):\n",
    "    word = newData[i].split(\" \")\n",
    "    for j in word:\n",
    "        if j.count('@') == 1 and '.com' in j:\n",
    "            email.append(j)\n",
    "email"
   ]
  },
  {
   "cell_type": "code",
   "execution_count": 27,
   "metadata": {},
   "outputs": [
    {
     "data": {
      "text/plain": [
       "['nitsih@gmail.com', 'company@hotmail.com', 'abc@yahoo.com']"
      ]
     },
     "execution_count": 27,
     "metadata": {},
     "output_type": "execute_result"
    }
   ],
   "source": [
    "# Find out the valid EMAIL Address numbers.\n",
    "f = open('myData.txt', \"r\")\n",
    "data = f.read()\n",
    "f.close()\n",
    "\n",
    "import re\n",
    "newData = data.split(\"\\n\")\n",
    "# print(newData)\n",
    "email = []\n",
    "for i in range(len(newData)):\n",
    "    if '@' in newData[i]:\n",
    "        word = newData[i]\n",
    "        res = re.findall(r\"\\w+@\\w+.\\w+\",word)\n",
    "        if res:\n",
    "            email.extend(res)\n",
    "email"
   ]
  },
  {
   "cell_type": "code",
   "execution_count": 29,
   "metadata": {},
   "outputs": [
    {
     "data": {
      "text/plain": [
       "['nitsih@gmail.com', 'company@hotmail.com', 'abc@yahoo.com']"
      ]
     },
     "execution_count": 29,
     "metadata": {},
     "output_type": "execute_result"
    }
   ],
   "source": [
    "# Find out the valid EMAIL Address numbers.\n",
    "f = open('myData.txt', \"r\")\n",
    "data = f.read()\n",
    "f.close()\n",
    "\n",
    "import re\n",
    "word = re.findall(r\"\\w+@\\w+.\\w+\",data)\n",
    "email = []\n",
    "email.extend(word)\n",
    "# newData = data.split(\"\\n\")\n",
    "# # print(newData)\n",
    "# email = []\n",
    "# for i in range(len(newData)):\n",
    "#     if '@' in newData[i]:\n",
    "#         word = newData[i]\n",
    "#         res = re.findall(r\"\\w+@\\w+.\\w+\",word)\n",
    "#         if res:\n",
    "#             email.extend(res)\n",
    "email"
   ]
  },
  {
   "cell_type": "code",
   "execution_count": 47,
   "metadata": {},
   "outputs": [
    {
     "data": {
      "text/plain": [
       "['gmail', 'hotmail', 'yahoo']"
      ]
     },
     "execution_count": 47,
     "metadata": {},
     "output_type": "execute_result"
    }
   ],
   "source": [
    "# Find out the valid EMAIL platforms\n",
    "f = open(\"myData.txt\",\"r\")\n",
    "data = f.read()\n",
    "f.close()\n",
    "\n",
    "platforms = []\n",
    "word = re.findall(r\"\\w+@(\\w+).com\",data)\n",
    "platforms.extend(word)\n",
    "platforms"
   ]
  }
 ],
 "metadata": {
  "kernelspec": {
   "display_name": "Python 3 (ipykernel)",
   "language": "python",
   "name": "python3"
  },
  "language_info": {
   "codemirror_mode": {
    "name": "ipython",
    "version": 3
   },
   "file_extension": ".py",
   "mimetype": "text/x-python",
   "name": "python",
   "nbconvert_exporter": "python",
   "pygments_lexer": "ipython3",
   "version": "3.10.9"
  }
 },
 "nbformat": 4,
 "nbformat_minor": 4
}
