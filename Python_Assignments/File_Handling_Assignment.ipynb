{
 "cells": [
  {
   "cell_type": "code",
   "execution_count": 1,
   "metadata": {},
   "outputs": [
    {
     "data": {
      "text/plain": [
       "'This is a sample poemThis is a sample poem'"
      ]
     },
     "execution_count": 1,
     "metadata": {},
     "output_type": "execute_result"
    }
   ],
   "source": [
    "# Write a function in python to read the content from \n",
    "# a text file \"poem.txt\" line by line and display the same on screen.\n",
    "# Create a file \"poem.txt\" with some content\n",
    "\n",
    "f = open(\"poem.txt\",\"a\")\n",
    "f.write(\"This is a sample poem\")\n",
    "f.close()\n",
    "\n",
    "f = open(\"poem.txt\",\"r\")\n",
    "data = f.read()\n",
    "f.close()\n",
    "\n",
    "data"
   ]
  },
  {
   "cell_type": "code",
   "execution_count": 2,
   "metadata": {},
   "outputs": [
    {
     "name": "stdout",
     "output_type": "stream",
     "text": [
      "3\n"
     ]
    },
    {
     "data": {
      "text/plain": [
       "3"
      ]
     },
     "execution_count": 2,
     "metadata": {},
     "output_type": "execute_result"
    }
   ],
   "source": [
    "# Write a function in python to count the number of lines \n",
    "# from a text file \"story.txt\" which is not starting with an alphabet \"T\". \n",
    "\n",
    "# Example: If the file \"story.txt\" contains the following lines: A boy is playing there.\n",
    "# There is a playground.\n",
    "# An aeroplane is in the sky.\n",
    "# The sky is pink.\n",
    "# Alphabets and numbers are allowed in the password.\n",
    "# The function should display the output as 3\n",
    "\n",
    "f = open(\"story.txt\",\"wt\")\n",
    "f.write(\"\"\"A boy is playing there.\n",
    "There is a playground.\n",
    "An aeroplane is in the sky.\n",
    "The sky is pink.\n",
    "Alphabets and numbers are allowed in the password.\"\"\")\n",
    "f.close()\n",
    "\n",
    "f = open(\"story.txt\",\"rt\")\n",
    "data = f.read()\n",
    "f.close()\n",
    "\n",
    "lines = data.split(\"\\n\")\n",
    "\n",
    "import re\n",
    "count = 0\n",
    "for i in lines:\n",
    "    if re.match(r\"[^T]\",i):\n",
    "        count += 1\n",
    "    else:\n",
    "        continue\n",
    "print(count)\n",
    "\n",
    "# ********************USING FUNCTION********************\n",
    "def count(file):\n",
    "    f = open(file,\"rt\")\n",
    "    lines = f.readlines()\n",
    "    f.close()\n",
    "    count = sum(1 for line in lines if not line.lower().strip().startswith('t'))\n",
    "    return count\n",
    "\n",
    "count(\"story.txt\")"
   ]
  },
  {
   "cell_type": "code",
   "execution_count": 3,
   "metadata": {},
   "outputs": [
    {
     "name": "stdout",
     "output_type": "stream",
     "text": [
      "27\n"
     ]
    },
    {
     "data": {
      "text/plain": [
       "27"
      ]
     },
     "execution_count": 3,
     "metadata": {},
     "output_type": "execute_result"
    }
   ],
   "source": [
    "# Write a function in Python to count and display the total number of words in a text file.\n",
    "f = open(\"story.txt\",\"rt\")\n",
    "data = f.read()\n",
    "f.close()\n",
    "\n",
    "print(len(data.split()))\n",
    "\n",
    "# ********************USING FUNCTION********************\n",
    "def count(file):\n",
    "    f = open(file,\"rt\")\n",
    "    words = f.read()\n",
    "    f.close()\n",
    "    count = len(words.split())\n",
    "    return count\n",
    "\n",
    "count(\"story.txt\")"
   ]
  },
  {
   "cell_type": "code",
   "execution_count": 4,
   "metadata": {},
   "outputs": [
    {
     "data": {
      "text/plain": [
       "5"
      ]
     },
     "execution_count": 4,
     "metadata": {},
     "output_type": "execute_result"
    }
   ],
   "source": [
    "# Write a function in Python to read lines from a text file \"notes.txt\". \n",
    "# Your function should find and display the occurrence of the word \"the\".\n",
    "\n",
    "# For example: If the content of the file is:\n",
    "# \"India is the fastest-growing economy. India is looking for more investments around the globe. The whole world is looking at India as a great market. Most of the Indians can foresee the heights that India is capable of reaching.\"\n",
    "\n",
    "# The output should be 5.\n",
    "\n",
    "f = open(\"notes.txt\",\"wt\")\n",
    "f.write(\"India is the fastest-growing economy. India is looking for more investments around the globe. The whole world is looking at India as a great market. Most of the Indians can foresee the heights that India is capable of reaching.\")\n",
    "f.close()\n",
    "\n",
    "def count(file):\n",
    "    f = open(file,\"rt\")\n",
    "    data = f.read()\n",
    "    f.close()\n",
    "\n",
    "    words = data.split()\n",
    "    count = sum(1 for i in words if i.strip().lower() == 'the')\n",
    "    return count\n",
    "\n",
    "count(\"notes.txt\")"
   ]
  },
  {
   "cell_type": "code",
   "execution_count": 5,
   "metadata": {},
   "outputs": [
    {
     "name": "stdout",
     "output_type": "stream",
     "text": [
      "['A', 'boy', 'is', 'is', 'a', 'An', 'is', 'in', 'the', 'The', 'sky', 'is', 'and', 'are', 'in', 'the']\n"
     ]
    }
   ],
   "source": [
    "# Write a function display_words() in python to read lines from a text file \"story.txt\", \n",
    "# and display those words, which are less than 4 characters.\n",
    "\n",
    "def display_words(file):\n",
    "    f = open(file,\"rt\")\n",
    "    data = f.read()\n",
    "    f.close()\n",
    "    \n",
    "    words = data.split()\n",
    "    word_list = [i for i in words if len(i) < 4]\n",
    "    return(word_list)\n",
    "\n",
    "print(display_words(\"story.txt\"))"
   ]
  },
  {
   "cell_type": "code",
   "execution_count": 6,
   "metadata": {},
   "outputs": [
    {
     "data": {
      "text/plain": [
       "2"
      ]
     },
     "execution_count": 6,
     "metadata": {},
     "output_type": "execute_result"
    }
   ],
   "source": [
    "# Write a function in Python to count the words \"this\" and \"these\" present in a text file \"article.txt\". \n",
    "# [Note that the words \"this\" and \"these\" are complete words] \n",
    "f = open(\"article.txt\",\"wt\")\n",
    "f.write(\"\"\"Write a function in Python to count the words 'this' and 'these' present in a text file 'article.txt'\"\"\")\n",
    "f.close()\n",
    "\n",
    "def word_count(file):\n",
    "    f = open(file,\"rt\")\n",
    "    data = f.read()\n",
    "    f.close()\n",
    "    words = data.split()\n",
    "    count = sum(1 for i in words if (\"this\" in i) | (\"these\" in i))\n",
    "    return count\n",
    "\n",
    "word_count(\"article.txt\")"
   ]
  },
  {
   "cell_type": "code",
   "execution_count": 7,
   "metadata": {},
   "outputs": [
    {
     "data": {
      "text/plain": [
       "7"
      ]
     },
     "execution_count": 7,
     "metadata": {},
     "output_type": "execute_result"
    }
   ],
   "source": [
    "# Write a function in Python to count words in a text file those are ending with alphabet \"e\"\n",
    "import string\n",
    "\n",
    "def count(file):\n",
    "    f = open(file,\"rt\")\n",
    "    data = f.read()\n",
    "    f.close()\n",
    "    words = data.split()\n",
    "    punctuation = str(string.punctuation)\n",
    "    count = sum(1 for word in words if word.rstrip(punctuation).lower().endswith('e'))\n",
    "    return count\n",
    "\n",
    "count(\"story.txt\")"
   ]
  },
  {
   "cell_type": "code",
   "execution_count": 8,
   "metadata": {},
   "outputs": [
    {
     "data": {
      "text/plain": [
       "27"
      ]
     },
     "execution_count": 8,
     "metadata": {},
     "output_type": "execute_result"
    }
   ],
   "source": [
    "# Write a function in Python to count uppercase character in a text file.\n",
    "f = open(\"sample.txt\",\"wt\")\n",
    "f.write(\"\"\"This is a Sample Text File.\n",
    "It Contains a MixTURE of Upper and Lowercase CHARacters.\n",
    "You can create your own text file with similar content.\n",
    "The FILE_NAME.txt is just an example; you can choose any name.\"\"\")\n",
    "f.close()\n",
    "\n",
    "# def count_individual_uppercase_characters(filename):\n",
    "#     # Open the file in read mode\n",
    "#     with open(filename, 'r') as file:\n",
    "#         # Read the content of the file\n",
    "#         content = file.read()\n",
    "\n",
    "#         # Create a dictionary to store counts of individual uppercase characters\n",
    "#         uppercase_counts = {}\n",
    "\n",
    "#         # Count the individual uppercase characters\n",
    "#         for char in content:\n",
    "#             if char.isupper():\n",
    "#                 uppercase_counts[char] = uppercase_counts.get(char, 0) + 1\n",
    "#                 count = sum(uppercase_counts.values())\n",
    "\n",
    "#     return count\n",
    "\n",
    "# filename = \"sample.txt\"\n",
    "# result = count_individual_uppercase_characters(filename)\n",
    "# print(\"Individual uppercase character counts in the file:\", result)\n",
    "\n",
    "def count(file):\n",
    "    f = open(file,\"rt\")\n",
    "    data = f.read()\n",
    "    f.close()\n",
    "    count = sum(1 for char in data if char.isupper())\n",
    "    return count\n",
    "\n",
    "count(\"sample.txt\")"
   ]
  },
  {
   "cell_type": "code",
   "execution_count": 9,
   "metadata": {},
   "outputs": [
    {
     "name": "stdout",
     "output_type": "stream",
     "text": [
      "T#H#E# W#O#R#L#D# I#S# R#O#U#N#D#\n",
      "T#H#E# #W#O#R#L#D# #I#S# #R#O#U#N#D#\n",
      "T#H#E# #W#O#R#L#D# #I#S# #R#O#U#N#D#\n"
     ]
    },
    {
     "data": {
      "text/plain": [
       "'T#H#E# #W#O#R#L#D# #I#S# #R#O#U#N#D#'"
      ]
     },
     "execution_count": 9,
     "metadata": {},
     "output_type": "execute_result"
    }
   ],
   "source": [
    "# A text file named \"matter.txt\" contains some text, which needs to be displayed such that \n",
    "# every next character is separated by a symbol \"#\". \n",
    "# Write a function definition for hash_display() in Python that would display \n",
    "# the entire content of the file matter.txt in the desired format.\n",
    "\n",
    "# Example :\n",
    "# If the file matter.txt has the following content stored in it :\n",
    "# THE WORLD IS ROUND\n",
    "\n",
    "# The function hash_display() should display the following content :\n",
    "# T#H#E# #W#O#R#L#D# #I#S# #R#O#U#N#D#\n",
    "\n",
    "data = \"THE WORLD IS ROUND\"\n",
    "result = ''.join([char + '#' if char.isupper() else char for char in data])\n",
    "print(result)\n",
    "\n",
    "newData = []\n",
    "for char in data:\n",
    "    newData.append(''.join(char+'#'))\n",
    "print(''.join(newData))\n",
    "\n",
    "newData = ''.join(char+'#' for char in data)\n",
    "print(newData)\n",
    "\n",
    "# ************************USING FUNCTION************************\n",
    "# Note: not creating a file rather using the data alone\n",
    "def hash_display(data):\n",
    "    hashcontent = ''.join(char+'#' for char in data)\n",
    "    return hashcontent\n",
    "hash_display(data)"
   ]
  },
  {
   "cell_type": "code",
   "execution_count": 10,
   "metadata": {},
   "outputs": [
    {
     "name": "stdout",
     "output_type": "stream",
     "text": [
      "Before modification : \n",
      "WELL, THJS JS A WORD BY JTSELF. YOU COULD STRETCH THJS TO BE A SENTENCE\n",
      "After modification : \n",
      "WELL, THIS IS A WORD BY ITSELF. YOU COULD STRETCH THIS TO BE A SENTENCE\n"
     ]
    }
   ],
   "source": [
    "# Aditi has used a text editing software to type some text. After saving the article as WORDS.TXT, \n",
    "# she realised that she has wrongly typed alphabet J in place of alphabet I everywhere in the article.\n",
    "# Write a function definition for JTOI() in Python that would display the corrected version of entire content \n",
    "# of the file WORDS.TXT with all the alphabets \"J\" to be displayed as an alphabet \"I\" on screen.\n",
    "\n",
    "# Note: Assuming that WORD.TXT does not contain any J alphabet otherwise.\n",
    "\n",
    "# Example:\n",
    "# If Aditi has stored the following content in the file WORDS.TXT:\n",
    "# WELL, THJS JS A WORD BY JTSELF. YOU COULD STRETCH THJS TO BE A SENTENCE\n",
    "# The function JTOI() should display the following content:\n",
    "# WELL, THIS IS A WORD BY ITSELF. YOU COULD STRETCH THIS TO BE A SENTENCE\n",
    "\n",
    "\n",
    "# Note: not creating a file rather using the data alone\n",
    "data = \"WELL, THJS JS A WORD BY JTSELF. YOU COULD STRETCH THJS TO BE A SENTENCE\"\n",
    "data = data.replace('J','I')\n",
    "data\n",
    "\n",
    "f = open(\"word.txt\",\"wt\")\n",
    "f.write(\"\"\"WELL, THJS JS A WORD BY JTSELF. YOU COULD STRETCH THJS TO BE A SENTENCE\"\"\")\n",
    "f.close()\n",
    "\n",
    "f = open(\"word.txt\",\"rt\")\n",
    "data = f.read()\n",
    "f.close()\n",
    "\n",
    "print(f\"Before modification : \\n{data}\")\n",
    "\n",
    "def JTOI(file):\n",
    "    f = open(file,\"rt\")\n",
    "    content = f.read()\n",
    "    f.close()\n",
    "    \n",
    "    newcontent = content.replace('J','I')\n",
    "    \n",
    "    f = open(file,\"wt\")\n",
    "    f.write(newcontent)\n",
    "    f.close()\n",
    "\n",
    "JTOI(\"word.txt\")\n",
    "\n",
    "f = open(\"word.txt\",\"rt\")\n",
    "data = f.read()\n",
    "f.close()\n",
    "\n",
    "print(f\"After modification : \\n{data}\")\n",
    "\n"
   ]
  },
  {
   "cell_type": "code",
   "execution_count": 11,
   "metadata": {},
   "outputs": [
    {
     "data": {
      "text/plain": [
       "{'a': 13, 'm': 1}"
      ]
     },
     "execution_count": 11,
     "metadata": {},
     "output_type": "execute_result"
    }
   ],
   "source": [
    "# Write a function AMCount() in Python, which should read each character of a text file STORY.TXT, \n",
    "# should count and display the occurance of alphabets A and M (including small cases a and m too).\n",
    "# For Example:\n",
    "# If the file content is as follows:\n",
    "# Updated information\n",
    "# As simplified by official websites.\n",
    "# The EUCount() function should display the output as:\n",
    "# A or a:4\n",
    "# M or m :2\n",
    "\n",
    "def AMCount(file):\n",
    "    f = open(file,\"rt\")\n",
    "    data = f.read()\n",
    "    f.close()\n",
    "\n",
    "    output = {}\n",
    "    for char in data:\n",
    "        if (char.lower() == 'a') | (char.lower() == 'm'):\n",
    "            output[char.lower()] = output.get(char.lower(),0)+1\n",
    "    return output\n",
    "\n",
    "AMCount(\"story.txt\")"
   ]
  },
  {
   "cell_type": "code",
   "execution_count": 13,
   "metadata": {},
   "outputs": [
    {
     "name": "stdout",
     "output_type": "stream",
     "text": [
      "Enter the number of books you want to add in Book.dat : 1\n",
      "Enter Book Number: 1\n",
      "Enter Book Name: A\n",
      "Enter Author: A1\n",
      "Enter Price: 33\n",
      "Enter the Author name to count books: A2\n",
      "Number of books by A2: 0\n"
     ]
    }
   ],
   "source": [
    "# A binary file \"Book.dat\" has structure [BookNo, Book_Name, Author, Price].\n",
    "# i. Write a user defined function createFile() to input data for a record and add to Book.dat.\n",
    "# ii. Write a function countRec(Author) in Python which accepts the Author name as parameter \n",
    "# and count and return number of books by the given Author are stored in the binary file \"Book.dat\"\n",
    "import struct\n",
    "\n",
    "def createFile():\n",
    "    # Input data for a record\n",
    "    BookNo = int(input(\"Enter Book Number: \"))\n",
    "    Book_Name = input(\"Enter Book Name: \")\n",
    "    Author = input(\"Enter Author: \")\n",
    "    Price = float(input(\"Enter Price: \"))\n",
    "\n",
    "    # Open the binary file in append and binary write mode\n",
    "    with open(\"Book.dat\", 'ab') as file:\n",
    "        # Pack the data into a binary format\n",
    "        record = struct.pack('I30s30sf', BookNo, bytes(Book_Name, 'utf-8'), bytes(Author, 'utf-8'), Price)\n",
    "        \n",
    "        # Write the record to the file\n",
    "        file.write(record)\n",
    "\n",
    "def countRec(Author):\n",
    "    # Open the binary file in binary read mode\n",
    "    with open(\"Book.dat\", 'rb') as file:\n",
    "        count = 0\n",
    "        record_size = struct.calcsize('I30s30sf')\n",
    "\n",
    "        # Read the first record\n",
    "        record = file.read(record_size)\n",
    "\n",
    "        while record:\n",
    "            # Unpack the data from binary format\n",
    "            data = struct.unpack('I30s30sf', record)\n",
    "            book_author = data[2].decode('utf-8').rstrip('\\x00')  # Convert bytes to string and remove trailing null bytes\n",
    "\n",
    "            # Check if the author matches\n",
    "            if book_author == Author:\n",
    "                count += 1\n",
    "\n",
    "            # Read the next record\n",
    "            record = file.read(record_size)\n",
    "\n",
    "    return count\n",
    "\n",
    "Book_Count = int(input(\"Enter the number of books you want to add in Book.dat : \"))\n",
    "for i in range(Book_Count):\n",
    "    createFile()  # Call this function to add a record to Book.dat\n",
    "\n",
    "# Example usage of countRec\n",
    "author_to_count = input(\"Enter the Author name to count books: \")\n",
    "count = countRec(author_to_count)\n",
    "print(f\"Number of books by {author_to_count}: {count}\")"
   ]
  },
  {
   "cell_type": "code",
   "execution_count": 14,
   "metadata": {},
   "outputs": [
    {
     "name": "stdout",
     "output_type": "stream",
     "text": [
      "Enter Admission Number: 1\n",
      "Enter Student Name: T\n",
      "Enter Percentage: 3\n",
      "Details of Students with Percentage above 75%:\n",
      "Admission Number     Name                           Percentage\n",
      "----------------------------------------------------------------------\n",
      "1                    Theveetha                      80.00     \n",
      "2                    Parthiban                      90.00     \n",
      "\n",
      "Number of students scoring above 75%: 2\n"
     ]
    }
   ],
   "source": [
    "# A binary file \"STUDENT.DAT\" has structure (admission_number, Name, Percentage). \n",
    "# Write a function count_rec() in Python that would read contents of the file \"STUDENT.DAT\" \n",
    "# and display the details of those students whose percentage is above 75. \n",
    "# Also display number of students scoring above 75%\n",
    "\n",
    "import struct\n",
    "\n",
    "def createFile():\n",
    "    # Input data for a record\n",
    "    admission_number = int(input(\"Enter Admission Number: \"))\n",
    "    Name = input(\"Enter Student Name: \")\n",
    "    Percentage = float(input(\"Enter Percentage: \"))\n",
    "    \n",
    "    # Open the binary file in append and binary write mode\n",
    "    with open(\"Student.dat\", 'ab') as file:\n",
    "        # Pack the data into a binary format\n",
    "        record = struct.pack('I30sf', admission_number, bytes(Name, 'utf-8'), Percentage)\n",
    "        \n",
    "        # Write the record to the file\n",
    "        file.write(record)\n",
    "\n",
    "createFile()\n",
    "        \n",
    "def count_rec():\n",
    "    # Open the binary file in binary read mode\n",
    "    with open(\"STUDENT.DAT\", 'rb') as file:\n",
    "        count = 0\n",
    "        record_size = struct.calcsize('I30s f')\n",
    "\n",
    "        # Read the first record\n",
    "        record = file.read(record_size)\n",
    "\n",
    "        print(\"Details of Students with Percentage above 75%:\")\n",
    "        print(\"{:<20} {:<30} {:<10}\".format(\"Admission Number\", \"Name\", \"Percentage\"))\n",
    "        print(\"-\" * 70)\n",
    "\n",
    "        while record:\n",
    "            # Unpack the data from binary format\n",
    "            data = struct.unpack('I30s f', record)\n",
    "            admission_number, name, percentage = data\n",
    "\n",
    "            # Convert bytes to string and remove trailing null bytes\n",
    "            student_name = name.decode('utf-8').rstrip('\\x00')\n",
    "\n",
    "            # Check if the percentage is above 75%\n",
    "            if percentage > 75.0:\n",
    "                print(\"{:<20} {:<30} {:<10.2f}\".format(admission_number, student_name, percentage))\n",
    "                count += 1\n",
    "\n",
    "            # Read the next record\n",
    "            record = file.read(record_size)\n",
    "\n",
    "    print(\"\\nNumber of students scoring above 75%:\", count)\n",
    "\n",
    "# Example usage\n",
    "count_rec()"
   ]
  },
  {
   "cell_type": "code",
   "execution_count": 15,
   "metadata": {},
   "outputs": [
    {
     "name": "stdout",
     "output_type": "stream",
     "text": [
      "Empcode: 101, Name: John Doe, Salary: 35000\n",
      "Empcode: 103, Name: Alice Johnson, Salary: 40000\n"
     ]
    }
   ],
   "source": [
    "# Given a binary file employee.dat, created using dictionary object having keys: (empcode, name, and salary)\n",
    "\n",
    "# Write a python function that add one more record at the end of file.\n",
    "# Write a python function that display all employee records whose salary is more that 30000\n",
    "import pickle\n",
    "\n",
    "def add_employee_record(empcode, name, salary):\n",
    "    try:\n",
    "        # Load existing records from the file\n",
    "        with open('employee.dat', 'rb') as file:\n",
    "            records = pickle.load(file)\n",
    "    except (FileNotFoundError, EOFError):\n",
    "        # If the file is not found or is empty, initialize with an empty list\n",
    "        records = []\n",
    "\n",
    "    # Add the new record to the list\n",
    "    records.append({'empcode': empcode, 'name': name, 'salary': salary})\n",
    "\n",
    "    # Save the updated records back to the file\n",
    "    with open('employee.dat', 'wb') as file:\n",
    "        pickle.dump(records, file)\n",
    "\n",
    "def display_high_salary_employees():\n",
    "    try:\n",
    "        # Load existing records from the file\n",
    "        with open('employee.dat', 'rb') as file:\n",
    "            records = pickle.load(file)\n",
    "    except (FileNotFoundError, EOFError):\n",
    "        # If the file is not found or is empty, there are no records\n",
    "        print(\"No employee records found.\")\n",
    "        return\n",
    "\n",
    "    # Display records with salary greater than 30000\n",
    "    for record in records:\n",
    "        if record['salary'] > 30000:\n",
    "            print(f\"Empcode: {record['empcode']}, Name: {record['name']}, Salary: {record['salary']}\")\n",
    "\n",
    "# Example usage:\n",
    "# Add a new employee record\n",
    "add_employee_record(101, 'John Doe', 35000)\n",
    "add_employee_record(102, 'Jane Smith', 28000)\n",
    "add_employee_record(103, 'Alice Johnson', 40000)\n",
    "\n",
    "# Display employees with salary greater than 30000\n",
    "display_high_salary_employees()\n"
   ]
  },
  {
   "cell_type": "code",
   "execution_count": 19,
   "metadata": {},
   "outputs": [],
   "source": [
    "import struct\n",
    "\n",
    "def create_student_file():\n",
    "    # Open the binary file in write mode\n",
    "    with open('student.dat', 'wb') as file:\n",
    "        # Example data to write to the file\n",
    "        student_data = [\n",
    "            (1001, 'John Doe', 'Class 10', 5000.00),\n",
    "            (1002, 'Alice Smith', 'Class 11', 6000.50),\n",
    "            (1003, 'Bob Johnson', 'Class 12', 5500.75),\n",
    "            # Add more data as needed\n",
    "        ]\n",
    "\n",
    "        # Iterate through the data and write each record to the file\n",
    "        for data in student_data:\n",
    "            rollno, name, student_class, fees = data\n",
    "\n",
    "            # Pack the data into binary format before writing to the file\n",
    "            record = struct.pack('I30s30sf', rollno, name.encode('utf-8'), student_class.encode('utf-8'), fees)\n",
    "            \n",
    "            # Write the packed record to the file\n",
    "            file.write(record)\n",
    "\n",
    "# Example usage:\n",
    "create_student_file()\n"
   ]
  },
  {
   "cell_type": "code",
   "execution_count": 21,
   "metadata": {},
   "outputs": [
    {
     "name": "stdout",
     "output_type": "stream",
     "text": [
      "Student Details:\n",
      "Roll No.: 1003\n",
      "Name: Bob Johnson\n",
      "Class: b'Class 12\\x00\\x00\\x00\\x00\\x00\\x00\\x00\\x00\\x00\\x00\\x00\\x00\\x00\\x00\\x00\\x00\\x00\\x00\\x00\\x00\\x00\\x00'\n",
      "Fees: 5500.75\n"
     ]
    }
   ],
   "source": [
    "# Write a function to search and display details of student whose rollno is '1005' \n",
    "# from the binary file student.dat having structure [rollno, name, class and fees].\n",
    "\n",
    "import struct\n",
    "\n",
    "def search_student(rollno_to_search):\n",
    "    try:\n",
    "        # Open the binary file in read mode\n",
    "        with open('student.dat', 'rb') as file:\n",
    "            while True:\n",
    "                # Read one record (each record has structure [rollno, name, class, fees])\n",
    "                record = file.read(struct.calcsize('I30s30sf'))\n",
    "                if not record:\n",
    "                    # End of file\n",
    "                    print(f\"Student with Roll No. {rollno_to_search} not found.\")\n",
    "                    break\n",
    "\n",
    "                # Unpack the record into individual fields\n",
    "                rollno, name, student_class, fees = struct.unpack('I30s30sf', record)\n",
    "\n",
    "                # Decode the name (convert bytes to string)\n",
    "                name = name.decode('utf-8').rstrip('\\x00')  # Remove null characters at the end\n",
    "\n",
    "                # Check if the current record matches the roll number to search\n",
    "                if rollno == rollno_to_search:\n",
    "                    # Display details if a match is found\n",
    "                    print(f\"Student Details:\")\n",
    "                    print(f\"Roll No.: {rollno}\")\n",
    "                    print(f\"Name: {name}\")\n",
    "                    print(f\"Class: {student_class}\")\n",
    "                    print(f\"Fees: {fees}\")\n",
    "                    break\n",
    "    except FileNotFoundError:\n",
    "        print(\"File 'student.dat' not found.\")\n",
    "\n",
    "# Example usage:\n",
    "search_student(1003)\n"
   ]
  },
  {
   "cell_type": "code",
   "execution_count": 34,
   "metadata": {},
   "outputs": [
    {
     "data": {
      "text/plain": [
       "16501.25"
      ]
     },
     "execution_count": 34,
     "metadata": {},
     "output_type": "execute_result"
    }
   ],
   "source": [
    "# A binary file school.dat has structure(rollno, name, class, fees)\n",
    "\n",
    "# Write a definition for function total_fees( ) that reads each object of file and calculate \n",
    "# the total fees of students and display the same.\n",
    "\n",
    "import struct\n",
    "\n",
    "def create_school_file():\n",
    "    # Open the binary file in write mode\n",
    "    with open('school.dat', 'wb') as file:\n",
    "        # Example data to write to the file\n",
    "        school_data = [\n",
    "            (1001, 'John Doe', 'Class 10', 5000.00),\n",
    "            (1002, 'Alice Smith', 'Class 11', 6000.50),\n",
    "            (1003, 'Bob Johnson', 'Class 12', 5500.75),\n",
    "            # Add more data as needed\n",
    "        ]\n",
    "        \n",
    "        for data in school_data:\n",
    "            rollno, name, student_class, fees = data\n",
    "            record = struct.pack('I30s30sf', rollno, name.encode('utf-8'), student_class.encode('utf-8'), fees)\n",
    "            file.write(record)\n",
    "# Example usage:\n",
    "create_school_file()\n",
    "\n",
    "def total_fees():\n",
    "    with open(\"school.dat\", 'rb') as file:\n",
    "        total_fee = 0\n",
    "        record_size = struct.calcsize('I30s30sf')\n",
    "        \n",
    "        # Read the first record\n",
    "        record = file.read(record_size)\n",
    "        \n",
    "        while record:\n",
    "            # Unpack the data from binary format\n",
    "            data = struct.unpack('I30s30sf', record)\n",
    "            total_fee += data[3]\n",
    "            \n",
    "            # Read the next record\n",
    "            record = file.read(record_size)\n",
    "    return total_fee\n",
    "    \n",
    "total_fees()"
   ]
  },
  {
   "cell_type": "code",
   "execution_count": 53,
   "metadata": {},
   "outputs": [
    {
     "name": "stdout",
     "output_type": "stream",
     "text": [
      "Code: 101, Name: Virat Kohli, Country: India, Total Runs: 12000.0\n"
     ]
    },
    {
     "data": {
      "text/plain": [
       "3"
      ]
     },
     "execution_count": 53,
     "metadata": {},
     "output_type": "execute_result"
    }
   ],
   "source": [
    "# A binary file players.dat, containing records of following list format: [code, name, country and total runs]\n",
    "\n",
    "# 1. Write a python function that display all records where player name starts from 'A'\n",
    "# 2. Write a python function that accept country as an argument and count and display \n",
    "#     the number of players of that country.\n",
    "# 3. Write a python function that add one record at the end of file.\n",
    "\n",
    "import struct\n",
    "\n",
    "def create_players_file():\n",
    "    with open (\"players.dat\",\"wb\") as file:\n",
    "        players_data = [\n",
    "            (101, 'Virat Kohli', 'India', 12000),\n",
    "            (102, 'Steve Smith', 'Australia', 8500),\n",
    "            (103, 'Kane Williamson', 'New Zealand', 9500),\n",
    "            (104, 'Aasif Karim', 'Kenya', 7000),\n",
    "            (105, 'David Warner', 'Australia', 12000),\n",
    "            (106, 'Aiden Markram', 'India', 9000),\n",
    "            (107, 'MS Dhoni', 'India', 13000),\n",
    "        ]\n",
    "        \n",
    "        for data in players_data:\n",
    "            code, name, country, total_runs = data\n",
    "            record = struct.pack('I30s30sf', code, name.encode('utf-8'), country.encode('utf-8'), total_runs)\n",
    "            file.write(record)\n",
    "\n",
    "create_players_file()\n",
    "\n",
    "def players_list(startswith):\n",
    "    with open(\"players.dat\", 'rb') as file:\n",
    "        \n",
    "        record_size = struct.calcsize('I30s30sf')\n",
    "        \n",
    "        # Read the first record\n",
    "        record = file.read(record_size)\n",
    "        \n",
    "        while record:\n",
    "            # Unpack the data from binary format\n",
    "            code, name, country, total_runs = struct.unpack('I30s30sf', record)\n",
    "            \n",
    "            # Decode the name and country (convert bytes to string)\n",
    "            name = name.decode('utf-8').rstrip('\\x00')  # Remove null characters at the end\n",
    "            country = country.decode('utf-8').rstrip('\\x00')  # Remove null characters at the end\n",
    "\n",
    "            if name.startswith(startswith):\n",
    "                print(f\"Code: {code}, Name: {name}, Country: {country}, Total Runs: {total_runs}\")\n",
    "            \n",
    "            # Read the next record\n",
    "            record = file.read(record_size)\n",
    "    \n",
    "players_list(\"V\")\n",
    "\n",
    "def count_players_by_country(countrytofind):\n",
    "    with open(\"players.dat\", 'rb') as file:\n",
    "        \n",
    "        count = 0\n",
    "        record_size = struct.calcsize('I30s30sf')\n",
    "        \n",
    "        # Read the first record\n",
    "        record = file.read(record_size)\n",
    "        \n",
    "        while record:\n",
    "            # Unpack the data from binary format\n",
    "            code, name, country, total_runs = struct.unpack('I30s30sf', record)\n",
    "            \n",
    "            # Decode the name and country (convert bytes to string)\n",
    "            name = name.decode('utf-8').rstrip('\\x00')  # Remove null characters at the end\n",
    "            country = country.decode('utf-8').rstrip('\\x00')  # Remove null characters at the end\n",
    "            \n",
    "            if country == countrytofind:\n",
    "                count += 1\n",
    "            \n",
    "            # Read the next record\n",
    "            record = file.read(record_size)\n",
    "            \n",
    "    return count\n",
    "    \n",
    "count_players_by_country(\"India\")\n"
   ]
  },
  {
   "cell_type": "code",
   "execution_count": 1,
   "metadata": {
    "ExecuteTime": {
     "end_time": "2021-05-29T10:46:59.140338Z",
     "start_time": "2021-05-29T10:46:59.135100Z"
    }
   },
   "outputs": [
    {
     "ename": "FileNotFoundError",
     "evalue": "[Errno 2] No such file or directory: 'game.dat'",
     "output_type": "error",
     "traceback": [
      "\u001b[1;31m---------------------------------------------------------------------------\u001b[0m",
      "\u001b[1;31mFileNotFoundError\u001b[0m                         Traceback (most recent call last)",
      "Cell \u001b[1;32mIn[1], line 21\u001b[0m\n\u001b[0;32m     18\u001b[0m         pickle\u001b[38;5;241m.\u001b[39mdump(basket_records, outfile)\n\u001b[0;32m     20\u001b[0m \u001b[38;5;66;03m# Replace 'game.dat' and 'basket.dat' with your actual file names\u001b[39;00m\n\u001b[1;32m---> 21\u001b[0m \u001b[43mfilter_and_write_basket_records\u001b[49m\u001b[43m(\u001b[49m\u001b[38;5;124;43m'\u001b[39;49m\u001b[38;5;124;43mgame.dat\u001b[39;49m\u001b[38;5;124;43m'\u001b[39;49m\u001b[43m,\u001b[49m\u001b[43m \u001b[49m\u001b[38;5;124;43m'\u001b[39;49m\u001b[38;5;124;43mbasket.dat\u001b[39;49m\u001b[38;5;124;43m'\u001b[39;49m\u001b[43m)\u001b[49m\n",
      "Cell \u001b[1;32mIn[1], line 9\u001b[0m, in \u001b[0;36mfilter_and_write_basket_records\u001b[1;34m(input_file, output_file)\u001b[0m\n\u001b[0;32m      7\u001b[0m \u001b[38;5;28;01mdef\u001b[39;00m \u001b[38;5;21mfilter_and_write_basket_records\u001b[39m(input_file, output_file):\n\u001b[0;32m      8\u001b[0m     \u001b[38;5;66;03m# Open the binary file for reading\u001b[39;00m\n\u001b[1;32m----> 9\u001b[0m     \u001b[38;5;28;01mwith\u001b[39;00m \u001b[38;5;28;43mopen\u001b[39;49m\u001b[43m(\u001b[49m\u001b[43minput_file\u001b[49m\u001b[43m,\u001b[49m\u001b[43m \u001b[49m\u001b[38;5;124;43m'\u001b[39;49m\u001b[38;5;124;43mrb\u001b[39;49m\u001b[38;5;124;43m'\u001b[39;49m\u001b[43m)\u001b[49m \u001b[38;5;28;01mas\u001b[39;00m infile:\n\u001b[0;32m     10\u001b[0m         \u001b[38;5;66;03m# Load records from the binary file\u001b[39;00m\n\u001b[0;32m     11\u001b[0m         records \u001b[38;5;241m=\u001b[39m pickle\u001b[38;5;241m.\u001b[39mload(infile)\n\u001b[0;32m     13\u001b[0m     \u001b[38;5;66;03m# Filter records with the game name \"Basket Ball\"\u001b[39;00m\n",
      "File \u001b[1;32m~\\anaconda3_N\\lib\\site-packages\\IPython\\core\\interactiveshell.py:282\u001b[0m, in \u001b[0;36m_modified_open\u001b[1;34m(file, *args, **kwargs)\u001b[0m\n\u001b[0;32m    275\u001b[0m \u001b[38;5;28;01mif\u001b[39;00m file \u001b[38;5;129;01min\u001b[39;00m {\u001b[38;5;241m0\u001b[39m, \u001b[38;5;241m1\u001b[39m, \u001b[38;5;241m2\u001b[39m}:\n\u001b[0;32m    276\u001b[0m     \u001b[38;5;28;01mraise\u001b[39;00m \u001b[38;5;167;01mValueError\u001b[39;00m(\n\u001b[0;32m    277\u001b[0m         \u001b[38;5;124mf\u001b[39m\u001b[38;5;124m\"\u001b[39m\u001b[38;5;124mIPython won\u001b[39m\u001b[38;5;124m'\u001b[39m\u001b[38;5;124mt let you open fd=\u001b[39m\u001b[38;5;132;01m{\u001b[39;00mfile\u001b[38;5;132;01m}\u001b[39;00m\u001b[38;5;124m by default \u001b[39m\u001b[38;5;124m\"\u001b[39m\n\u001b[0;32m    278\u001b[0m         \u001b[38;5;124m\"\u001b[39m\u001b[38;5;124mas it is likely to crash IPython. If you know what you are doing, \u001b[39m\u001b[38;5;124m\"\u001b[39m\n\u001b[0;32m    279\u001b[0m         \u001b[38;5;124m\"\u001b[39m\u001b[38;5;124myou can use builtins\u001b[39m\u001b[38;5;124m'\u001b[39m\u001b[38;5;124m open.\u001b[39m\u001b[38;5;124m\"\u001b[39m\n\u001b[0;32m    280\u001b[0m     )\n\u001b[1;32m--> 282\u001b[0m \u001b[38;5;28;01mreturn\u001b[39;00m io_open(file, \u001b[38;5;241m*\u001b[39margs, \u001b[38;5;241m*\u001b[39m\u001b[38;5;241m*\u001b[39mkwargs)\n",
      "\u001b[1;31mFileNotFoundError\u001b[0m: [Errno 2] No such file or directory: 'game.dat'"
     ]
    }
   ],
   "source": [
    "# Given a binary file game.dat, containing records of following list format: [game_name, participants]\n",
    "\n",
    "# Write a function in Python that would read contents from the file game.dat and \n",
    "# creates a file named basket.dat copying only those records from game.dat where the game name is \"Basket Ball\"\n",
    "import pickle\n",
    "\n",
    "def filter_and_write_basket_records(input_file, output_file):\n",
    "    # Open the binary file for reading\n",
    "    with open(input_file, 'rb') as infile:\n",
    "        # Load records from the binary file\n",
    "        records = pickle.load(infile)\n",
    "\n",
    "    # Filter records with the game name \"Basket Ball\"\n",
    "    basket_records = [(game_name, participants) for game_name, participants in records if game_name == \"Basket Ball\"]\n",
    "\n",
    "    # Write filtered records to the output file\n",
    "    with open(output_file, 'wb') as outfile:\n",
    "        pickle.dump(basket_records, outfile)\n",
    "\n",
    "# Replace 'game.dat' and 'basket.dat' with your actual file names\n",
    "filter_and_write_basket_records('game.dat', 'basket.dat')\n"
   ]
  }
 ],
 "metadata": {
  "kernelspec": {
   "display_name": "Python 3 (ipykernel)",
   "language": "python",
   "name": "python3"
  },
  "language_info": {
   "codemirror_mode": {
    "name": "ipython",
    "version": 3
   },
   "file_extension": ".py",
   "mimetype": "text/x-python",
   "name": "python",
   "nbconvert_exporter": "python",
   "pygments_lexer": "ipython3",
   "version": "3.10.9"
  }
 },
 "nbformat": 4,
 "nbformat_minor": 2
}
