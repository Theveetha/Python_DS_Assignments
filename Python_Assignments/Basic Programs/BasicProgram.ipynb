{
 "cells": [
  {
   "cell_type": "markdown",
   "id": "fb92b8d5",
   "metadata": {},
   "source": [
    "# Basic Program"
   ]
  },
  {
   "cell_type": "code",
   "execution_count": 1,
   "id": "4dbbfa57",
   "metadata": {},
   "outputs": [
    {
     "name": "stdout",
     "output_type": "stream",
     "text": [
      "Hello world!\n"
     ]
    }
   ],
   "source": [
    "# Print Hello world! :\n",
    "print(\"Hello world!\")"
   ]
  },
  {
   "cell_type": "code",
   "execution_count": 2,
   "id": "07d87a16",
   "metadata": {},
   "outputs": [
    {
     "name": "stdout",
     "output_type": "stream",
     "text": [
      "int : 9\n",
      "float : 99.23\n",
      "boolean : True\n",
      "string : Hello\n"
     ]
    }
   ],
   "source": [
    "# Declare the following variables:\n",
    "# Int, Float, Boolean, String & print its value.\n",
    "i = int(9)\n",
    "f = float(99.23)\n",
    "b = bool(True)\n",
    "s = str(\"Hello\")\n",
    "print(\"int :\",i)\n",
    "print(\"float :\",f)\n",
    "print(\"boolean :\",b)\n",
    "print(\"string :\",s)"
   ]
  },
  {
   "cell_type": "code",
   "execution_count": 6,
   "id": "bbb019e3",
   "metadata": {},
   "outputs": [
    {
     "name": "stdout",
     "output_type": "stream",
     "text": [
      "Enter the height of triangle : 6.5\n",
      "Enter the base of triangle : 3.2\n",
      "Area of the triangle :  10.4\n"
     ]
    }
   ],
   "source": [
    "## Program to calculate the Area Of Triangle:\n",
    "# A = (hb)/2\n",
    "height = float(input(\"Enter the height of triangle : \"))\n",
    "base = float(input(\"Enter the base of triangle : \"))\n",
    "area = (height * base)/2\n",
    "print(\"Area of the triangle : \",area)"
   ]
  },
  {
   "cell_type": "code",
   "execution_count": 7,
   "id": "3a0f39cf",
   "metadata": {},
   "outputs": [
    {
     "name": "stdout",
     "output_type": "stream",
     "text": [
      "Enter value 1 : 4\n",
      "Enter value 2 : 3\n",
      "Value 1 : 3\n",
      "Value 2 : 4\n"
     ]
    }
   ],
   "source": [
    "# Program to swap two variables:\n",
    "a = input(\"Enter value 1 : \")\n",
    "b = input(\"Enter value 2 : \")\n",
    "c = a\n",
    "a = b\n",
    "b = c\n",
    "print(\"Value 1 :\",a)\n",
    "print(\"Value 2 :\",b)"
   ]
  },
  {
   "cell_type": "code",
   "execution_count": 15,
   "id": "3da98ead",
   "metadata": {},
   "outputs": [
    {
     "name": "stdout",
     "output_type": "stream",
     "text": [
      "Enter the number to check : 0\n",
      "Entered number 0 is zero\n"
     ]
    }
   ],
   "source": [
    "# Program is to check if a number is positive, negative or 0 (Using If…elif…else).\n",
    "num = int(input(\"Enter the number to check : \"))\n",
    "if num < 0:\n",
    "    print(f\"Entered number {num} is negative\") \n",
    "elif num > 0:\n",
    "    print(f\"Entered number {num} is poistive\")\n",
    "else:\n",
    "    print(f\"Entered number {num} is zero\")"
   ]
  },
  {
   "cell_type": "code",
   "execution_count": 20,
   "id": "615a908b",
   "metadata": {},
   "outputs": [
    {
     "name": "stdout",
     "output_type": "stream",
     "text": [
      "Enter the number to check : 2\n",
      "2 is an even number\n"
     ]
    }
   ],
   "source": [
    "# Program is to check if a number is Even or Odd:\n",
    "num = int(input(\"Enter the number to check : \"))\n",
    "if (num % 2 == 0):\n",
    "    print(f\"{num} is an even number\")\n",
    "else:\n",
    "    print(f\"{num} is an odd number\")"
   ]
  },
  {
   "cell_type": "code",
   "execution_count": 38,
   "id": "650da82b",
   "metadata": {},
   "outputs": [
    {
     "name": "stdout",
     "output_type": "stream",
     "text": [
      "Enter the range : 100\n",
      "[1, 3, 5, 7, 9, 11, 13, 15, 17, 19, 21, 23, 25, 27, 29, 31, 33, 35, 37, 39, 41, 43, 45, 47, 49, 51, 53, 55, 57, 59, 61, 63, 65, 67, 69, 71, 73, 75, 77, 79, 81, 83, 85, 87, 89, 91, 93, 95, 97, 99]\n",
      "[1, 3, 5, 7, 9, 11, 13, 15, 17, 19, 21, 23, 25, 27, 29, 31, 33, 35, 37, 39, 41, 43, 45, 47, 49, 51, 53, 55, 57, 59, 61, 63, 65, 67, 69, 71, 73, 75, 77, 79, 81, 83, 85, 87, 89, 91, 93, 95, 97, 99]\n"
     ]
    }
   ],
   "source": [
    "# Program to print Odd number within a given range:\n",
    "int_range = int(input(\"Enter the range : \"))\n",
    "output1 = []\n",
    "for i in range(1,int_range+1):\n",
    "    if i % 2 != 0:\n",
    "        output1.append(i)\n",
    "    else:\n",
    "        continue\n",
    "print(output1)\n",
    "output2 = []\n",
    "output2 = [i for i in range(1,int_range+1) if i % 2 != 0]\n",
    "print(output2)"
   ]
  },
  {
   "cell_type": "code",
   "execution_count": 33,
   "id": "7ba44ab6",
   "metadata": {},
   "outputs": [
    {
     "name": "stdout",
     "output_type": "stream",
     "text": [
      "Enter the number to calculate factorial : 5\n",
      "120\n"
     ]
    }
   ],
   "source": [
    "# Python program to find the factorial of a number:\n",
    "fact_num = int(input(\"Enter the number to calculate factorial : \"))\n",
    "if fact_num < 0:\n",
    "    print(\"Factorial doesnt exist for negative numbers\")\n",
    "elif fact_num == 0:\n",
    "    print(\"Factorial for 0 is 1\")\n",
    "else:\n",
    "    fact = 1\n",
    "    while(fact_num > 0):\n",
    "        fact = fact_num*fact\n",
    "        fact_num -= 1\n",
    "print(fact)"
   ]
  },
  {
   "cell_type": "code",
   "execution_count": 43,
   "id": "43b1cd9f",
   "metadata": {},
   "outputs": [
    {
     "name": "stdout",
     "output_type": "stream",
     "text": [
      "Enter the number to be reversed : 25\n",
      "Reverse of given number is 52\n",
      "Reverse of given number is 52\n"
     ]
    }
   ],
   "source": [
    "# Program to reverse a given number:\n",
    "num = int(input(\"Enter the number to be reversed : \"))\n",
    "print(f\"Reverse of given number is {str(num)[::-1]}\")\n",
    "# other method\n",
    "reversed_num = 0\n",
    "while num != 0:\n",
    "    digit = num % 10\n",
    "    reversed_num = reversed_num * 10 + digit\n",
    "    num //= 10\n",
    "print(f\"Reverse of given number is {reversed_num}\")"
   ]
  },
  {
   "cell_type": "code",
   "execution_count": 44,
   "id": "94e5f391",
   "metadata": {},
   "outputs": [
    {
     "name": "stdout",
     "output_type": "stream",
     "text": [
      "Enter a natural number : 5\n",
      "15\n"
     ]
    }
   ],
   "source": [
    "#Program to find out the sum of Natural numbers:\n",
    "num = int(input(\"Enter a natural number : \"))\n",
    "if num < 0:\n",
    "    print(\"Enter a positive number\")\n",
    "else:\n",
    "    output = 0\n",
    "    while num > 0:\n",
    "        output += num\n",
    "        num -= 1\n",
    "print(output)"
   ]
  },
  {
   "cell_type": "markdown",
   "id": "cc399176",
   "metadata": {},
   "source": [
    "## Strings"
   ]
  },
  {
   "cell_type": "code",
   "execution_count": 58,
   "id": "6f2623db",
   "metadata": {},
   "outputs": [
    {
     "name": "stdout",
     "output_type": "stream",
     "text": [
      "Enter the string : thevee\n",
      "Reverse of the given string is eeveht\n",
      "Reverse of the given string is eeveht\n",
      "Reverse of the given string is eeveht\n"
     ]
    }
   ],
   "source": [
    "# Program to reverse a string without using recursion:\n",
    "string = str(input(\"Enter the string : \"))\n",
    "print(f\"Reverse of the given string is {string[::-1]}\")\n",
    "reverse1 = []\n",
    "i = 0\n",
    "while i < len(string):\n",
    "    reverse1.append(string[len(string)-1-i])\n",
    "    i+=1\n",
    "print(f'Reverse of the given string is {\"\".join(reverse1)}')\n",
    "reverse2 = [string[len(string)-1-i] for i in range(len(string))]\n",
    "print(f'Reverse of the given string is {\"\".join(reverse2)}')"
   ]
  },
  {
   "cell_type": "code",
   "execution_count": 68,
   "id": "73bf8f6d",
   "metadata": {},
   "outputs": [
    {
     "name": "stdout",
     "output_type": "stream",
     "text": [
      "Enter the string to check if its palindrome or not : MAdam\n",
      "Given string is a palindrome\n"
     ]
    }
   ],
   "source": [
    "# Program to check if string is palindrome or not\n",
    "string = str(input(\"Enter the string to check if its palindrome or not : \"))\n",
    "output = f\"Given string is a palindrome\" if string[::1].lower() == string[::-1].lower() else \"Given string is not a palindorme\"\n",
    "print(output)"
   ]
  },
  {
   "cell_type": "code",
   "execution_count": 69,
   "id": "69b2b581",
   "metadata": {},
   "outputs": [
    {
     "name": "stdout",
     "output_type": "stream",
     "text": [
      "Enter the string where replace is required : shamruthaa\n",
      "'a' is replaced with '$' in the string : sh$mruth$$\n"
     ]
    }
   ],
   "source": [
    "# Python Program to Replace all Occurrences of ‘a’ with $ in a String:\n",
    "string = str(input(\"Enter the string where replace is required : \"))\n",
    "print(f\"'a' is replaced with '$' in the string : {string.replace('a','$')}\")"
   ]
  },
  {
   "cell_type": "code",
   "execution_count": 81,
   "id": "efe41961",
   "metadata": {},
   "outputs": [
    {
     "name": "stdout",
     "output_type": "stream",
     "text": [
      "Enter the string to count the vowels : theVEE\n",
      "Count of vowels in the given string : 3\n",
      "Count of vowels in the given string : 3\n"
     ]
    }
   ],
   "source": [
    "# Python Program to Count the Number of Vowels in a String\n",
    "string = str(input(\"Enter the string to count the vowels : \"))\n",
    "count = 0\n",
    "for i in string:\n",
    "    vowels = ['a','e','i','o','u']\n",
    "    if i.lower() in vowels:\n",
    "        count += 1\n",
    "    else:\n",
    "        continue\n",
    "print(f\"Count of vowels in the given string : {count}\")\n",
    "vowels = 'aeiouAEIOU'\n",
    "output = sum(1 for i in string if i in vowels)\n",
    "print(f\"Count of vowels in the given string : {output}\")"
   ]
  },
  {
   "cell_type": "code",
   "execution_count": 83,
   "id": "28aefc10",
   "metadata": {},
   "outputs": [
    {
     "name": "stdout",
     "output_type": "stream",
     "text": [
      "Enter the first string : theve\n",
      "Enter the second string : parthiban\n",
      "Second String is longer compared to the First String\n"
     ]
    }
   ],
   "source": [
    "# Input Two Strings and Display the Larger String without Using Built-in Functions:\n",
    "str1 = str(input(\"Enter the first string : \"))\n",
    "str2 = str(input(\"Enter the second string : \"))\n",
    "count1 = 0\n",
    "count2 = 0\n",
    "for i in str1:\n",
    "    count1 = count1+1\n",
    "for j in str2:\n",
    "    count2 = count2+1\n",
    "if count1 > count2:\n",
    "    print(\"First String is longer compared to the Second String\")\n",
    "elif count1 == count2:\n",
    "    print(\"First String and Second String are of same length\")\n",
    "else:\n",
    "    print(\"Second String is longer compared to the First String\")"
   ]
  },
  {
   "cell_type": "code",
   "execution_count": 87,
   "id": "64f82028",
   "metadata": {},
   "outputs": [
    {
     "name": "stdout",
     "output_type": "stream",
     "text": [
      "Enter the string : theveetha10071994\n",
      "Count of digit : 8\n",
      "Count of letter : 9\n"
     ]
    }
   ],
   "source": [
    "# Count the number of digits & letter in a string:\n",
    "string = str(input(\"Enter the string : \"))\n",
    "count1 = 0\n",
    "count2 = 0\n",
    "for i in string:\n",
    "    if i.isdigit():\n",
    "        count1 += 1\n",
    "    elif i.isalpha():\n",
    "        count2 += 1\n",
    "    else:\n",
    "        pass\n",
    "print(f\"Count of digit : {count1}\")\n",
    "print(f\"Count of letter : {count2}\")"
   ]
  },
  {
   "cell_type": "code",
   "execution_count": 88,
   "id": "904837b4",
   "metadata": {},
   "outputs": [
    {
     "name": "stdout",
     "output_type": "stream",
     "text": [
      "Enter the string : TheveETHA\n",
      "Count of lowercase characters in given string : 4\n"
     ]
    }
   ],
   "source": [
    "# Count Number of Lowercase Characters in a String:\n",
    "string = str(input(\"Enter the string : \"))\n",
    "count1 = 0\n",
    "for i in string:\n",
    "    if i.islower():\n",
    "        count1 += 1\n",
    "    else:\n",
    "        pass\n",
    "print(f\"Count of lowercase characters in given string : {count1}\")"
   ]
  },
  {
   "cell_type": "code",
   "execution_count": 94,
   "id": "5e510015",
   "metadata": {},
   "outputs": [
    {
     "name": "stdout",
     "output_type": "stream",
     "text": [
      "Enter the string : THEVEETHA PARTHIBAN\n",
      "Enter the sub string : kan\n",
      "Substring is not present in the given string\n"
     ]
    }
   ],
   "source": [
    "# Program to check if a Substring is Present in a Given String:\n",
    "string = str(input(\"Enter the string : \"))\n",
    "sub = str(input(\"Enter the sub string : \"))\n",
    "# if sub.lower() in string.lower():\n",
    "#     print(\"Substring is present in the given string\")\n",
    "# else:\n",
    "#     print(\"Substring is not present in the given string\")\n",
    "print(\"Substring is present in the given string\") if sub.lower() in string.lower() else print(\"Substring is not present in the given string\")"
   ]
  },
  {
   "cell_type": "markdown",
   "id": "bb990e61",
   "metadata": {},
   "source": [
    "## List & Tuples"
   ]
  },
  {
   "cell_type": "code",
   "execution_count": 102,
   "id": "cf6c970a",
   "metadata": {},
   "outputs": [
    {
     "name": "stdout",
     "output_type": "stream",
     "text": [
      "Enter the length of list : 4\n",
      "Enter the values in list[0] : 23\n",
      "Enter the values in list[1] : 456\n",
      "Enter the values in list[2] : 2345\n",
      "Enter the values in list[3] : 2345\n",
      "2345\n",
      "2345\n",
      "2345\n"
     ]
    }
   ],
   "source": [
    "# Program to Find the Largest Number in a List:\n",
    "length = int(input(\"Enter the length of list : \"))\n",
    "list1 = []\n",
    "for i in range(length):\n",
    "    value = int(input(f\"Enter the values in list[{i}] : \"))\n",
    "    list1.append(value)\n",
    "print(max(list1))\n",
    "list1.sort()\n",
    "print(list1[-1])\n",
    "largest = 0\n",
    "for i in range(len(list1)):\n",
    "    if largest < list1[i]:\n",
    "        largest = list1[i]\n",
    "    else:\n",
    "        largest = largest\n",
    "print(largest)"
   ]
  },
  {
   "cell_type": "code",
   "execution_count": 105,
   "id": "a3e0448d",
   "metadata": {},
   "outputs": [
    {
     "name": "stdout",
     "output_type": "stream",
     "text": [
      "Enter the length : 4\n",
      "Enter the elements : 0\n",
      "Enter the elements : 0\n",
      "Enter the elements : 2\n",
      "Enter the elements : 3\n",
      "Even : [0, 0, 2]\n",
      "Odd : [3]\n"
     ]
    }
   ],
   "source": [
    "# Program to Put Even and Odd elements in a List into Two Different Lists:\n",
    "inp = int(input(\"Enter the length : \"))\n",
    "list1 = []\n",
    "list2 = []\n",
    "for i in range(1,inp+1):\n",
    "    inp1 = int(input(\"Enter the elements : \"))\n",
    "    if inp1 % 2 == 0:\n",
    "        list1.append(inp1)\n",
    "    else:\n",
    "        list2.append(inp1)\n",
    "print(\"Even :\",list1)\n",
    "print(\"Odd :\",list2)"
   ]
  },
  {
   "cell_type": "code",
   "execution_count": 112,
   "id": "643de9f6",
   "metadata": {},
   "outputs": [
    {
     "name": "stdout",
     "output_type": "stream",
     "text": [
      "Length of longest word is 7\n"
     ]
    }
   ],
   "source": [
    "# Program to Read a List of Words and Return the Length of the Longest One:\n",
    "inp = \"Program to Read a List of Words and Return the Length of the Longest One\"\n",
    "largest = \"\"\n",
    "split = inp.split(\" \")\n",
    "for i in range(len(split)):\n",
    "    if len(largest) < len(split[i]):\n",
    "        largest = split[i]\n",
    "    else:\n",
    "        largest = largest\n",
    "print(f\"Length of longest word is {len(largest)}\")"
   ]
  },
  {
   "cell_type": "code",
   "execution_count": 115,
   "id": "fd62c71e",
   "metadata": {},
   "outputs": [
    {
     "name": "stdout",
     "output_type": "stream",
     "text": [
      "Enter the length of the list : 4\n",
      "Enter the numbers to find square : 2\n",
      "Enter the numbers to find square : 3\n",
      "Enter the numbers to find square : 5\n",
      "Enter the numbers to find square : 6\n",
      "[(2, 4), (3, 9), (5, 25), (6, 36)]\n"
     ]
    }
   ],
   "source": [
    "# Create a List of Tuples with the First Element as the Number and Second Element as the Square of the Number:\n",
    "length = int(input(\"Enter the length of the list : \"))\n",
    "list1 = []\n",
    "for i in range(length):\n",
    "    value = int(input(\"Enter the numbers to find square : \"))\n",
    "    list1.append((value,value*value))\n",
    "print(list1)"
   ]
  },
  {
   "cell_type": "code",
   "execution_count": 126,
   "id": "01864d3b",
   "metadata": {},
   "outputs": [
    {
     "name": "stdout",
     "output_type": "stream",
     "text": [
      "Before removing the duplicate : [10, 23, 0, -5, 80, False, 'Python', 23, -5]\n",
      "After removing the duplicate : [0, 'Python', 10, 80, 23, -5]\n",
      "After removing the duplicate : [10, 23, 0, -5, 80, 'Python']\n",
      "After removing the duplicate : [10, 23, 0, -5, 80, 'Python']\n"
     ]
    }
   ],
   "source": [
    "# Program to Remove the Duplicate Items from a List:\n",
    "myList = [10,23,0,-5,80,False,\"Python\",23,-5]\n",
    "print(\"Before removing the duplicate :\",myList)\n",
    "print(\"After removing the duplicate :\",list(set(myList)))\n",
    "newList = []\n",
    "for i in myList:\n",
    "    if i in newList:\n",
    "        pass\n",
    "    else:\n",
    "        newList.append(i)\n",
    "print(\"After removing the duplicate :\",newList)\n",
    "newList = []\n",
    "[newList.append(i) for i in myList if i not in newList]\n",
    "print(\"After removing the duplicate :\",newList)"
   ]
  },
  {
   "cell_type": "markdown",
   "id": "c2e355d4",
   "metadata": {},
   "source": [
    "## Dictionary"
   ]
  },
  {
   "cell_type": "code",
   "execution_count": 129,
   "id": "be2c46ce",
   "metadata": {},
   "outputs": [
    {
     "name": "stdout",
     "output_type": "stream",
     "text": [
      "Please enter the key to check : A\n",
      "Given key A doesn't exist in the Dictionary\n"
     ]
    }
   ],
   "source": [
    "# Program to Check if a Given Key Exists in a Dictionary or Not:\n",
    "dt = {\"a\":\"delhi\",\n",
    "      \"b\":2j,\n",
    "      \"c\":14,\n",
    "      \"d\":-6.4,\n",
    "      \"e\":False,\n",
    "      \"f\":{10,20,30},\n",
    "      \"g\":{\"A\":100,\"B\":200}}\n",
    "k = input(\"Please enter the key to check : \")\n",
    "print(f\"Given key {k} exists in the Dictionary\" if k in dt.keys() else f\"Given key {k} doesn't exist in the Dictionary\")"
   ]
  },
  {
   "cell_type": "code",
   "execution_count": 132,
   "id": "d95fcb28",
   "metadata": {},
   "outputs": [
    {
     "name": "stdout",
     "output_type": "stream",
     "text": [
      "Enter the total number of values : 3\n",
      "Enter key for 0 in dictionary : a\n",
      "Enter value for 0 in dictionary : 3\n",
      "Enter key for 1 in dictionary : b\n",
      "Enter value for 1 in dictionary : 3\n",
      "Enter key for 2 in dictionary : c\n",
      "Enter value for 2 in dictionary : 3\n",
      "Sum of all the items in Dictionary : 9\n"
     ]
    }
   ],
   "source": [
    "# Program to Sum All the Items in a Dictionary:\n",
    "num = {}\n",
    "count = int(input(\"Enter the total number of values : \"))\n",
    "total = 0\n",
    "for i in range(count):\n",
    "    key = str(input(f\"Enter key for {i} in dictionary : \"))\n",
    "    value = int(input(f\"Enter value for {i} in dictionary : \"))\n",
    "    num[key] = value\n",
    "print(f\"Sum of all the items in Dictionary : {sum(num.values())}\")"
   ]
  },
  {
   "cell_type": "code",
   "execution_count": 142,
   "id": "528d10b6",
   "metadata": {},
   "outputs": [
    {
     "name": "stdout",
     "output_type": "stream",
     "text": [
      "Before Removal : {1: 'delhi', 2: 2j, 3: False, 4: {10, 20, 30}, 5: {'A': 100, 'B': 200}}\n",
      "Enter the key to be deleted : 3\n",
      "After Removal : {1: 'delhi', 2: 2j, 4: {10, 20, 30}, 5: {'A': 100, 'B': 200}}\n"
     ]
    }
   ],
   "source": [
    "#Program to Remove the Given Key from a Dictionary:\n",
    "dt = {1:\"delhi\",\n",
    "      2:2j,\n",
    "      3:False,\n",
    "      4:{10,20,30},\n",
    "      5:{\"A\":100,\"B\":200}}\n",
    "print(\"Before Removal :\",dt)\n",
    "delete = int(input(\"Enter the key to be deleted : \"))\n",
    "if delete in dt.keys():\n",
    "    dt.pop(delete)\n",
    "    print(\"After Removal :\",dt)\n",
    "else:\n",
    "    print(f\"Given key {delete} doesn't exist\")"
   ]
  },
  {
   "cell_type": "code",
   "execution_count": 135,
   "id": "b58b3668",
   "metadata": {},
   "outputs": [
    {
     "name": "stdout",
     "output_type": "stream",
     "text": [
      "Enter the count of numbers : 4\n",
      "Please enter the key : a\n",
      "Please enter the number : 1\n",
      "Please enter the key : b\n",
      "Please enter the number : 2\n",
      "Please enter the key : c\n",
      "Please enter the number : 3\n",
      "Please enter the key : d\n",
      "Please enter the number : 4\n",
      "{'a': 1, 'b': 2, 'c': 3, 'd': 4}\n"
     ]
    }
   ],
   "source": [
    "#Write a Python program to iterate over dictionaries using for loops:\n",
    "num = {}\n",
    "count = int(input(\"Enter the count of numbers : \"))\n",
    "for i in range(count):\n",
    "    key = str(input(\"Please enter the key : \"))\n",
    "    value = int(input(\"Please enter the number : \"))\n",
    "    num[key] = value\n",
    "print(num)"
   ]
  },
  {
   "cell_type": "code",
   "execution_count": 143,
   "id": "ee1c0378",
   "metadata": {},
   "outputs": [
    {
     "name": "stdout",
     "output_type": "stream",
     "text": [
      "{1: 2j, 2: 'delhi', 3: {'A': 100, 'B': 200}, 4: {10, 20, 30}, 5: False}\n"
     ]
    }
   ],
   "source": [
    "#Write a Python program to sort a dictionary by key:\n",
    "dt = {2:\"delhi\",\n",
    "      1:2j,\n",
    "      5:False,\n",
    "      4:{10,20,30},\n",
    "      3:{\"A\":100,\"B\":200}}\n",
    "new_dt = {}\n",
    "new_Keys = list(dt.keys())\n",
    "new_Keys.sort()\n",
    "\n",
    "for i in new_Keys:\n",
    "    new_dt[i] = dt[i]\n",
    "    \n",
    "print(new_dt)"
   ]
  }
 ],
 "metadata": {
  "kernelspec": {
   "display_name": "Python 3 (ipykernel)",
   "language": "python",
   "name": "python3"
  },
  "language_info": {
   "codemirror_mode": {
    "name": "ipython",
    "version": 3
   },
   "file_extension": ".py",
   "mimetype": "text/x-python",
   "name": "python",
   "nbconvert_exporter": "python",
   "pygments_lexer": "ipython3",
   "version": "3.10.9"
  }
 },
 "nbformat": 4,
 "nbformat_minor": 5
}
