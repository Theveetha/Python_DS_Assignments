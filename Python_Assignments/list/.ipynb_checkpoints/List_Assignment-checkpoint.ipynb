{
 "cells": [
  {
   "cell_type": "code",
   "execution_count": 5,
   "metadata": {
    "id": "gtlAv2oq9yzd"
   },
   "outputs": [
    {
     "data": {
      "text/plain": [
       "100"
      ]
     },
     "execution_count": 5,
     "metadata": {},
     "output_type": "execute_result"
    }
   ],
   "source": [
    "#Write a Python program to find the sum of all elements in a list using loop.\n",
    "#Input:- [10,20,30,40]\n",
    "list_1 = [10,20,30,40]\n",
    "total = 0\n",
    "for i in list_1:\n",
    "    total += i\n",
    "total\n",
    "#Output:- 100"
   ]
  },
  {
   "cell_type": "code",
   "execution_count": 7,
   "metadata": {
    "id": "gTbA8psa93Y_"
   },
   "outputs": [
    {
     "data": {
      "text/plain": [
       "240000"
      ]
     },
     "execution_count": 7,
     "metadata": {},
     "output_type": "execute_result"
    }
   ],
   "source": [
    "#Write a Python program to find the multiplication of all elements in a list using loop.\n",
    "#Input:- [10,20,30,40]\n",
    "list_1 = [10,20,30,40]\n",
    "total = 1\n",
    "for i in list_1:\n",
    "    total *= i\n",
    "total\n",
    "#Output:- 240000"
   ]
  },
  {
   "cell_type": "code",
   "execution_count": 18,
   "metadata": {
    "id": "XBCrEtLN94Lj"
   },
   "outputs": [
    {
     "name": "stdout",
     "output_type": "stream",
     "text": [
      "2321\n",
      "2321\n",
      "2321\n"
     ]
    }
   ],
   "source": [
    "#Write a Python program to find the largest number from a list using loop.\n",
    "#Input:- [10,100,2321, 1,200,2]\n",
    "list_1 = [10,100,2321, 1,200,2]\n",
    "total = 0\n",
    "for i in list_1:\n",
    "    if total < i:\n",
    "        total = i\n",
    "    else:\n",
    "        pass\n",
    "print(total)\n",
    "#Output:- 2321\n",
    "list_1 = [10,100,2321, 1,200,2]\n",
    "list_1.sort()\n",
    "print(list_1[-1])\n",
    "list_1 = [10,100,2321, 1,200,2]\n",
    "list_1.sort(reverse=True)\n",
    "print(list_1[0])"
   ]
  },
  {
   "cell_type": "code",
   "execution_count": 20,
   "metadata": {
    "id": "l3paUtbH94Vw"
   },
   "outputs": [
    {
     "name": "stdout",
     "output_type": "stream",
     "text": [
      "1\n",
      "1\n",
      "1\n"
     ]
    }
   ],
   "source": [
    "#Write a Python program to find the smallest number from a list using loop.\n",
    "#Input:- [10,100,2321, 1,200,2]\n",
    "list_1 = [10,100,2321, 1,200,2]\n",
    "total = list_1[0]\n",
    "for i in list_1:\n",
    "    if total > i:\n",
    "        total = i\n",
    "    else:\n",
    "        pass\n",
    "print(total)\n",
    "#Output:- 1\n",
    "list_1 = [10,100,2321, 1,200,2]\n",
    "list_1.sort()\n",
    "print(list_1[0])\n",
    "list_1 = [10,100,2321, 1,200,2]\n",
    "list_1.sort(reverse=True)\n",
    "print(list_1[-1])"
   ]
  },
  {
   "cell_type": "code",
   "execution_count": 24,
   "metadata": {
    "id": "JTVgy5VD94cE"
   },
   "outputs": [
    {
     "name": "stdout",
     "output_type": "stream",
     "text": [
      "Count of Palindrome Strings : 2\n"
     ]
    }
   ],
   "source": [
    "#Write a Python program to count the number of strings having length more than 2 and are palindrome in a list using loop.\n",
    "#Input:- ['ab', 'abc', 'aba', 'xyz', '1991']\n",
    "list_1 = ['ab', 'abc', 'aba', 'xyz', '1991']\n",
    "total = 0\n",
    "for i in list_1:\n",
    "    if len(i) > 2 and (i[::1] == i[::-1]):\n",
    "        total += 1\n",
    "print(f\"Count of Palindrome Strings : {total}\")\n",
    "#Output:- 2"
   ]
  },
  {
   "cell_type": "code",
   "execution_count": 40,
   "metadata": {
    "id": "xs-ZGJbJ94gr"
   },
   "outputs": [
    {
     "data": {
      "text/plain": [
       "[1, 2, 9, 10, 65, 80, 100, 298, 483, 9213, 49876]"
      ]
     },
     "execution_count": 40,
     "metadata": {},
     "output_type": "execute_result"
    }
   ],
   "source": [
    "#Write a Python program to sort a list in ascending order using loop.\n",
    "#Input:- [100,10,1,298,65,483,49876,2,80,9,9213]\n",
    "#Output:- [1,2,9,10,65,80,100,298,483,9213,49876]\n",
    "list_1 = [100,10,1,298,65,483,49876,2,80,9,9213]\n",
    "for i in range(len(list_1)):\n",
    "    for j in range(len(list_1)-i-1):\n",
    "        if list_1[j] > list_1[j+1]:\n",
    "            list_1[j],list_1[j+1] = list_1[j+1],list_1[j]\n",
    "        else:\n",
    "            pass\n",
    "list_1"
   ]
  },
  {
   "cell_type": "code",
   "execution_count": 43,
   "metadata": {
    "id": "VhKQJizZ94kg"
   },
   "outputs": [
    {
     "data": {
      "text/plain": [
       "[(9, 1), (2, 3), (5, 4), (5, 5), (7, 6), (5, 9)]"
      ]
     },
     "execution_count": 43,
     "metadata": {},
     "output_type": "execute_result"
    }
   ],
   "source": [
    "#Write a Python program to get a sorted list in increasing order of last element in each tuple in a given list using loop.\n",
    "#Input:- [(5,4),(9,1),(2,3),(5,9),(7,6),(5,5)]\n",
    "#output:- [(9,1),(2,3),(5,4),(5,5),(7,6),(5,9)]\n",
    "list_1 = [(5,4),(9,1),(2,3),(5,9),(7,6),(5,5)]\n",
    "for i in range(len(list_1)):\n",
    "    for j in range(len(list_1)-i-1):\n",
    "        if list_1[j][1] > list_1[j+1][1]:\n",
    "            list_1[j],list_1[j+1] = list_1[j+1],list_1[j]\n",
    "        else:\n",
    "            continue\n",
    "list_1"
   ]
  },
  {
   "cell_type": "code",
   "execution_count": 53,
   "metadata": {
    "id": "YJrCLYp694n_"
   },
   "outputs": [
    {
     "name": "stdout",
     "output_type": "stream",
     "text": [
      "[768, 1, 10, 11, 876, 92, 29]\n",
      "[10, 1, 11, 29, 876, 768, 92]\n",
      "[10, 1, 11, 29, 876, 768, 92]\n"
     ]
    }
   ],
   "source": [
    "#Write a Python program to remove fuplicate element from a list using loop.\n",
    "#Input:- [10,1,11,1,29,876,768,10,11,1,92,29,876]\n",
    "#Output:- [10,1,11,29,876,768,92]\n",
    "list_1 = [10,1,11,1,29,876,768,10,11,1,92,29,876]\n",
    "print(list(set(list_1)))\n",
    "output = []\n",
    "for i in list_1:\n",
    "    if i in output:\n",
    "        continue\n",
    "    else:\n",
    "        output.append(i)\n",
    "print(output)\n",
    "list_1 = [10,1,11,1,29,876,768,10,11,1,92,29,876]\n",
    "output = []\n",
    "[output.append(i) for i in list_1 if i not in output]\n",
    "print(output)"
   ]
  },
  {
   "cell_type": "code",
   "execution_count": 57,
   "metadata": {
    "id": "koYe4YCu94rh"
   },
   "outputs": [
    {
     "name": "stdout",
     "output_type": "stream",
     "text": [
      "List is not empty\n",
      "List is empty\n"
     ]
    }
   ],
   "source": [
    "#Write a Python program to check a list is empty or not?\n",
    "#Input:- []\n",
    "#Output:- List is empty\n",
    "#Input:- [10,20,30]\n",
    "#Output:- List is not empty\n",
    "myList = [10,20,30]\n",
    "print(\"List is not empty\") if len(myList) > 0 else print(\"List is empty\")\n",
    "myList = []\n",
    "print(\"List is not empty\") if len(myList) > 0 else print(\"List is empty\")"
   ]
  },
  {
   "cell_type": "code",
   "execution_count": 62,
   "metadata": {
    "id": "mES1WANa94u5"
   },
   "outputs": [
    {
     "name": "stdout",
     "output_type": "stream",
     "text": [
      "using Copy : [10, 10.2, (10+20j), 'Python', [10, 20], (10, 20)]\n",
      "using shallow copy : [10, 10.2, (10+20j), 'Python', [10, 20], (10, 20)]\n",
      "using deep copy : [10, 10.2, (10+20j), 'Python', [10, 20], (10, 20)]\n",
      "*******Using loop********\n",
      "using loop : [10, 10.2, (10+20j), 'Python', [10, 20], (10, 20)]\n"
     ]
    }
   ],
   "source": [
    "#Write a Python program to copy a list using loop.\n",
    "#inp_lst = [10,10.20,10+20j, 'Python', [10,20], (10,20)]\n",
    "#out_lst = [10,10.20,10+20j, 'Python', [10,20], (10,20)]\n",
    "inp_lst = [10,10.20,10+20j, 'Python', [10,20], (10,20)]\n",
    "#using inbuilt function\n",
    "out_lst = inp_lst.copy()\n",
    "print(\"using Copy :\",out_lst)\n",
    "\n",
    "import copy\n",
    "out_lst = []\n",
    "out_lst = copy.copy(inp_lst)\n",
    "print(\"using shallow copy :\",out_lst)\n",
    "out_lst = []\n",
    "out_lst = copy.deepcopy(inp_lst)\n",
    "print(\"using deep copy :\",out_lst)\n",
    "print(\"*******Using loop********\")\n",
    "out_lst = []\n",
    "for each in inp_lst:\n",
    "    out_lst.append(each)\n",
    "print(\"using loop :\",out_lst)"
   ]
  },
  {
   "cell_type": "code",
   "execution_count": 66,
   "metadata": {
    "id": "CpBh31WO94yi"
   },
   "outputs": [
    {
     "name": "stdout",
     "output_type": "stream",
     "text": [
      "['How', 'much', 'wood', 'would', 'a', 'woodchuck', 'chuck', 'if', 'a', 'woodchuck', 'could', 'chuck', 'wood']\n",
      "['much', 'wood', 'would', 'woodchuck', 'chuck', 'could']\n",
      "['much', 'wood', 'would', 'woodchuck', 'chuck', 'could']\n"
     ]
    }
   ],
   "source": [
    "#Write a Python program to find the list of words that are longer than or equal to 4 from a given string.\n",
    "#Input:- 'How much wood would a woodchuck chuck if a woodchuck could chuck wood'\n",
    "#Output:- ['much', 'wood', 'would', 'woodchuck', 'chuck', 'could']\n",
    "#Note:- Duplicate should be avoided.\n",
    "inp_lst = 'How much wood would a woodchuck chuck if a woodchuck could chuck wood'.split(\" \")\n",
    "print(inp_lst)\n",
    "out_lst = []\n",
    "for i in inp_lst:\n",
    "    if i not in out_lst and len(i) >= 4:\n",
    "        out_lst.append(i)\n",
    "    else:\n",
    "        continue\n",
    "print(out_lst)\n",
    "out_lst = []\n",
    "[out_lst.append(i) for i in inp_lst if i not in out_lst and len(i) >= 4]\n",
    "print(out_lst)"
   ]
  },
  {
   "cell_type": "code",
   "execution_count": 72,
   "metadata": {
    "id": "YVfj0fgZ9416"
   },
   "outputs": [
    {
     "name": "stdout",
     "output_type": "stream",
     "text": [
      "True\n"
     ]
    }
   ],
   "source": [
    "#Write a Python program which takes two list as input and returns True if they have at least 3 common elements.\n",
    "#inp_lst1 = [10,20,'Python', 10.20, 10+20j, [10,20,30], (10,20,30)]\n",
    "#inp_lst2 = [(10,20,30),1,20+3j,100.2, 10+20j, [10,20,30],'Python']\n",
    "#Output:- True\n",
    "inp_lst1 = [10,20,'Python', 10.20, 10+20j, [10,20,30], (10,20,30)]\n",
    "inp_lst2 = [(10,20,30),1,20+3j,100.2, 10+20j, [10,20,30],'Python']\n",
    "count = 0\n",
    "for i in inp_lst1:\n",
    "    if i in inp_lst2:\n",
    "        count += 1\n",
    "print(\"True\") if count >= 3 else print(\"False\")"
   ]
  },
  {
   "cell_type": "code",
   "execution_count": 87,
   "metadata": {
    "id": "7vwc3pjR945O"
   },
   "outputs": [
    {
     "name": "stdout",
     "output_type": "stream",
     "text": [
      "Input number of rows: 4\n",
      "Input number of columns: 4\n",
      "[[0, 0, 0, 0], [0, 0, 0, 0], [0, 0, 0, 0], [0, 0, 0, 0]]\n",
      "[[0, 0, 0, 0], [0, 1, 2, 3], [0, 2, 4, 6], [0, 3, 6, 9]]\n"
     ]
    }
   ],
   "source": [
    "#Write a Python program to create a 4X4 2D matrix with below elements using loop and list comprehension both.\n",
    "#Output:- [[0,0,0,0],[0,1,2,3],[0,2,4,6],[0,3,6,9]]\n",
    "start = 0\n",
    "# list1 = []\n",
    "\n",
    "# list2 = []\n",
    "# for inner in range(0,4):\n",
    "#     list2.append(0)\n",
    "# list1.append(list2)\n",
    "\n",
    "# list2 = []\n",
    "# for inner in range(0,4):\n",
    "#     list2.append(inner)\n",
    "# list1.append(list2)\n",
    "\n",
    "# print(list1)\n",
    "row_num = int(input(\"Input number of rows: \"))\n",
    "col_num = int(input(\"Input number of columns: \"))\n",
    "multi_list = [[0 for col in range(col_num)] for row in range(row_num)]\n",
    "print(multi_list)\n",
    "for row in range(row_num):\n",
    "    for col in range(col_num):\n",
    "        multi_list[row][col]= row*col\n",
    "print(multi_list)"
   ]
  },
  {
   "cell_type": "code",
   "execution_count": 100,
   "metadata": {
    "id": "Pxafor84948b"
   },
   "outputs": [
    {
     "name": "stdout",
     "output_type": "stream",
     "text": [
      "Input x : 3\n",
      "Input y : 4\n",
      "Input z : 6\n",
      "[[[0, 0, 0, 0, 0, 0], [0, 0, 0, 0, 0, 0], [0, 0, 0, 0, 0, 0], [0, 0, 0, 0, 0, 0]], [[0, 0, 0, 0, 0, 0], [0, 0, 0, 0, 0, 0], [0, 0, 0, 0, 0, 0], [0, 0, 0, 0, 0, 0]], [[0, 0, 0, 0, 0, 0], [0, 0, 0, 0, 0, 0], [0, 0, 0, 0, 0, 0], [0, 0, 0, 0, 0, 0]]]\n"
     ]
    },
    {
     "data": {
      "text/plain": [
       "[[[0, 0, 0, 0, 0, 0],\n",
       "  [0, 0, 0, 0, 0, 0],\n",
       "  [0, 0, 0, 0, 0, 0],\n",
       "  [0, 0, 0, 0, 0, 0]],\n",
       " [[0, 0, 0, 0, 0, 0],\n",
       "  [1, 1, 1, 1, 1, 1],\n",
       "  [2, 2, 2, 2, 2, 2],\n",
       "  [3, 3, 3, 3, 3, 3]],\n",
       " [[0, 0, 0, 0, 0, 0],\n",
       "  [2, 2, 2, 2, 2, 2],\n",
       "  [4, 4, 4, 4, 4, 4],\n",
       "  [6, 6, 6, 6, 6, 6]]]"
      ]
     },
     "execution_count": 100,
     "metadata": {},
     "output_type": "execute_result"
    }
   ],
   "source": [
    "#Write a Python program to create a 3X4X6 3D matrix wiith below elements using loop\n",
    "#Output:- \n",
    "# [\n",
    "#     [[0,0,0,0,0,0],[0,0,0,0,0,0],[0,0,0,0,0,0],[0,0,0,0,0,0]],\n",
    "#     [[0,0,0,0,0,0],[1,1,1,1,1,1],[2,2,2,2,2,2],[3,3,3,3,3,3]],\n",
    "#     [[0,0,0,0,0,0],[2,2,2,2,2,2],[4,4,4,4,4,4],[6,6,6,6,6,6]]\n",
    "# ]\n",
    "x_num = int(input(\"Input x : \")) #3\n",
    "y_num = int(input(\"Input y : \")) #4\n",
    "z_num = int(input(\"Input z : \")) #6\n",
    "multi_list = [\n",
    "    [[0 for z in range(z_num)] for y in range(y_num)] for x in range(x_num)\n",
    "]\n",
    "print(multi_list)\n",
    "for x in range(x_num):\n",
    "    for y in range(y_num):\n",
    "        for z in range(z_num):\n",
    "            multi_list[x][y][z] = x*y\n",
    "multi_list"
   ]
  },
  {
   "cell_type": "code",
   "execution_count": 102,
   "metadata": {
    "id": "lYNv8gk794_p"
   },
   "outputs": [
    {
     "data": {
      "text/plain": [
       "[21, 87, 45, 33, 1]"
      ]
     },
     "execution_count": 102,
     "metadata": {},
     "output_type": "execute_result"
    }
   ],
   "source": [
    "#Write a Python program which takes a list of numbers as input and prints a new list after removing even numbers from it.\n",
    "#Input:- [10,21,22,98,87,45,33,1,2,100]\n",
    "#Output:- [21,87,45,33,1]\n",
    "inp_lst = [10,21,22,98,87,45,33,1,2,100]\n",
    "out_lst = []\n",
    "[out_lst.append(i) for i in inp_lst if i%2 != 0]\n",
    "out_lst"
   ]
  },
  {
   "cell_type": "code",
   "execution_count": 104,
   "metadata": {
    "id": "3BaCb-rB95B7"
   },
   "outputs": [
    {
     "name": "stdout",
     "output_type": "stream",
     "text": [
      "Enter the length of list :4\n",
      "Enter the input :1\n",
      "Enter the input :3\n",
      "Enter the input :56\n",
      "Enter the input :34\n",
      "['1', '3', '56', '34']\n",
      "[['1', '34', '3', '56']]\n"
     ]
    }
   ],
   "source": [
    "#Write a Python program which takes a list from the user and prints it after reshuffling the elements of the list.\n",
    "#Input:- [10,21,22,98,87,45,33,1,2,100]\n",
    "#Output:- [1,87,21,10,33,2,100,45,98,22] (It may be any randon list but with same elements)\n",
    "inp_lst = []\n",
    "num = int(input(\"Enter the length of list :\"))\n",
    "for i in range(0,num):\n",
    "    inp_num = input(\"Enter the input :\")\n",
    "    inp_lst.append(inp_num)\n",
    "print(inp_lst)\n",
    "import random\n",
    "out_lst = [random.sample(inp_lst,len(inp_lst))]\n",
    "print(out_lst)"
   ]
  }
 ],
 "metadata": {
  "colab": {
   "name": "List_Assignment.ipynb",
   "provenance": []
  },
  "kernelspec": {
   "display_name": "Python 3 (ipykernel)",
   "language": "python",
   "name": "python3"
  },
  "language_info": {
   "codemirror_mode": {
    "name": "ipython",
    "version": 3
   },
   "file_extension": ".py",
   "mimetype": "text/x-python",
   "name": "python",
   "nbconvert_exporter": "python",
   "pygments_lexer": "ipython3",
   "version": "3.10.9"
  }
 },
 "nbformat": 4,
 "nbformat_minor": 1
}
