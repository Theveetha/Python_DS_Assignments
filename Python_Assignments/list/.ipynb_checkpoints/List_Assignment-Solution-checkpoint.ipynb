{
 "cells": [
  {
   "cell_type": "code",
   "execution_count": 5,
   "metadata": {
    "id": "gtlAv2oq9yzd"
   },
   "outputs": [
    {
     "name": "stdout",
     "output_type": "stream",
     "text": [
      "100\n",
      "40\n",
      "10\n",
      "100\n"
     ]
    }
   ],
   "source": [
    "#Write a Python program to find the sum of all elements in a list using loop.\n",
    "#Input:- [10,20,30,40]\n",
    "#Output:- 100\n",
    "\n",
    "Input = [10,20,30,40]\n",
    "print( sum(Input) )\n",
    "print( max(Input) )\n",
    "print( min(Input) )\n",
    "\n",
    "\n",
    "total = 0\n",
    "for i in Input : \n",
    "    total = total+i\n",
    "\n",
    "print( total )"
   ]
  },
  {
   "cell_type": "code",
   "execution_count": null,
   "metadata": {},
   "outputs": [],
   "source": []
  },
  {
   "cell_type": "code",
   "execution_count": 6,
   "metadata": {
    "id": "gTbA8psa93Y_"
   },
   "outputs": [
    {
     "name": "stdout",
     "output_type": "stream",
     "text": [
      "240000\n"
     ]
    }
   ],
   "source": [
    "#Write a Python program to find the multiplication of all elements in a list using loop.\n",
    "#Input:- [10,20,30,40]\n",
    "#Output:- 240000\n",
    "\n",
    "total = 1\n",
    "for i in Input : \n",
    "    total = total * i\n",
    "\n",
    "print( total )\n"
   ]
  },
  {
   "cell_type": "code",
   "execution_count": 13,
   "metadata": {
    "id": "XBCrEtLN94Lj"
   },
   "outputs": [
    {
     "name": "stdout",
     "output_type": "stream",
     "text": [
      "2321\n",
      "2321\n",
      "2321\n"
     ]
    }
   ],
   "source": [
    "#Write a Python program to find the largest number from a list using loop.\n",
    "#Input:- [10,100,2321, 1,200,2]\n",
    "#Output:- 2321\n",
    "\n",
    "Input = [10,100,2321, 1,200,2]\n",
    "\n",
    "max_value = Input[0]\n",
    "\n",
    "for i in range( len(Input) ) : \n",
    "#     print(Input[i])\n",
    "    if max_value < Input[i] :  # New maximum Found\n",
    "        max_value = Input[i]\n",
    "    else :                     # Max value is there\n",
    "        pass\n",
    "print(max_value)\n",
    "\n",
    "print( max(Input) )\n",
    "\n",
    "Input.sort()\n",
    "print( Input[-1] )"
   ]
  },
  {
   "cell_type": "code",
   "execution_count": null,
   "metadata": {},
   "outputs": [],
   "source": []
  },
  {
   "cell_type": "code",
   "execution_count": null,
   "metadata": {
    "id": "l3paUtbH94Vw"
   },
   "outputs": [],
   "source": [
    "#Write a Python program to find the smallest number from a list using loop.\n",
    "#Input:- [10,100,2321, 1,200,2]\n",
    "#Output:- 1\n",
    "\n",
    "\n"
   ]
  },
  {
   "cell_type": "code",
   "execution_count": null,
   "metadata": {
    "id": "JTVgy5VD94cE"
   },
   "outputs": [],
   "source": [
    "#Write a Python program to count the number of strings having length more than 2 and are palindrome in a list using loop.\n",
    "#Input:- ['ab', 'abc', 'aba', 'xyz', '1991']\n",
    "#Output:- 2"
   ]
  },
  {
   "cell_type": "code",
   "execution_count": 15,
   "metadata": {},
   "outputs": [
    {
     "name": "stdout",
     "output_type": "stream",
     "text": [
      "2\n"
     ]
    }
   ],
   "source": [
    "my_list = ['ab', 'abc', 'aba', 'xyz', '1991']\n",
    "count = 0\n",
    "for i in my_list:\n",
    "    if len (i) > 2 and i[ : : -1] == i[ : : 1]:\n",
    "        count = count + 1\n",
    "        \n",
    "print (count)"
   ]
  },
  {
   "cell_type": "code",
   "execution_count": null,
   "metadata": {},
   "outputs": [],
   "source": []
  },
  {
   "cell_type": "code",
   "execution_count": 21,
   "metadata": {
    "id": "xs-ZGJbJ94gr"
   },
   "outputs": [
    {
     "name": "stdout",
     "output_type": "stream",
     "text": [
      "[1, 2, 9, 10, 65, 80, 100, 298, 483, 9213, 49876]\n"
     ]
    }
   ],
   "source": [
    "#Write a Python program to sort a list in ascending order using loop.\n",
    "#Input:- [100,10,1,298,65,483,49876,2,80,9,9213]\n",
    "#Output:- [1,2,9,10,65,80,100,298,483,9213,49876]\n",
    "\n",
    "Input = [100,10,1,298,65,483,49876,2,80,9,9213]\n",
    "\n",
    "for i in range( len(Input) ) : \n",
    "#     print(\"Input[i] : \", Input[i])\n",
    "    for j in range( len(Input) - i - 1 ) : \n",
    "#         print( \">>> Input[j] : \", Input[j] )\n",
    "        if Input[j] > Input[j + 1] : \n",
    "            Input[j], Input[j + 1] = Input[j + 1], Input[j ]\n",
    "        \n",
    "    \n",
    "print(Input)\n"
   ]
  },
  {
   "cell_type": "code",
   "execution_count": 31,
   "metadata": {},
   "outputs": [
    {
     "name": "stdout",
     "output_type": "stream",
     "text": [
      "Input[i] :  100\n",
      ">>> Input[j] :  100\n",
      "................100, 10 Expression TRUE\n",
      ">>> Input[j] :  100\n",
      "................100, 1 Expression TRUE\n",
      ">>> Input[j] :  100\n",
      "FALSE\n",
      ">>> Input[j] :  298\n",
      "................298, 65 Expression TRUE\n",
      ">>> Input[j] :  298\n",
      "FALSE\n",
      ">>> Input[j] :  483\n",
      "FALSE\n",
      ">>> Input[j] :  49876\n",
      "................49876, 2 Expression TRUE\n",
      ">>> Input[j] :  49876\n",
      "................49876, 80 Expression TRUE\n",
      ">>> Input[j] :  49876\n",
      "................49876, 9 Expression TRUE\n",
      ">>> Input[j] :  49876\n",
      "................49876, 9213 Expression TRUE\n",
      "Input[i] :  1\n",
      ">>> Input[j] :  10\n",
      "................10, 1 Expression TRUE\n",
      ">>> Input[j] :  10\n",
      "FALSE\n",
      ">>> Input[j] :  100\n",
      "................100, 65 Expression TRUE\n",
      ">>> Input[j] :  100\n",
      "FALSE\n",
      ">>> Input[j] :  298\n",
      "FALSE\n",
      ">>> Input[j] :  483\n",
      "................483, 2 Expression TRUE\n",
      ">>> Input[j] :  483\n",
      "................483, 80 Expression TRUE\n",
      ">>> Input[j] :  483\n",
      "................483, 9 Expression TRUE\n",
      ">>> Input[j] :  483\n",
      "FALSE\n",
      "Input[i] :  65\n",
      ">>> Input[j] :  1\n",
      "FALSE\n",
      ">>> Input[j] :  10\n",
      "FALSE\n",
      ">>> Input[j] :  65\n",
      "FALSE\n",
      ">>> Input[j] :  100\n",
      "FALSE\n",
      ">>> Input[j] :  298\n",
      "................298, 2 Expression TRUE\n",
      ">>> Input[j] :  298\n",
      "................298, 80 Expression TRUE\n",
      ">>> Input[j] :  298\n",
      "................298, 9 Expression TRUE\n",
      ">>> Input[j] :  298\n",
      "FALSE\n",
      "Input[i] :  100\n",
      ">>> Input[j] :  1\n",
      "FALSE\n",
      ">>> Input[j] :  10\n",
      "FALSE\n",
      ">>> Input[j] :  65\n",
      "FALSE\n",
      ">>> Input[j] :  100\n",
      "................100, 2 Expression TRUE\n",
      ">>> Input[j] :  100\n",
      "................100, 80 Expression TRUE\n",
      ">>> Input[j] :  100\n",
      "................100, 9 Expression TRUE\n",
      ">>> Input[j] :  100\n",
      "FALSE\n",
      "Input[i] :  80\n",
      ">>> Input[j] :  1\n",
      "FALSE\n",
      ">>> Input[j] :  10\n",
      "FALSE\n",
      ">>> Input[j] :  65\n",
      "................65, 2 Expression TRUE\n",
      ">>> Input[j] :  65\n",
      "FALSE\n",
      ">>> Input[j] :  80\n",
      "................80, 9 Expression TRUE\n",
      ">>> Input[j] :  80\n",
      "FALSE\n",
      "Input[i] :  80\n",
      ">>> Input[j] :  1\n",
      "FALSE\n",
      ">>> Input[j] :  10\n",
      "................10, 2 Expression TRUE\n",
      ">>> Input[j] :  10\n",
      "FALSE\n",
      ">>> Input[j] :  65\n",
      "................65, 9 Expression TRUE\n",
      ">>> Input[j] :  65\n",
      "FALSE\n",
      "Input[i] :  100\n",
      ">>> Input[j] :  1\n",
      "FALSE\n",
      ">>> Input[j] :  2\n",
      "FALSE\n",
      ">>> Input[j] :  10\n",
      "................10, 9 Expression TRUE\n",
      ">>> Input[j] :  10\n",
      "FALSE\n",
      "Input[i] :  298\n",
      ">>> Input[j] :  1\n",
      "FALSE\n",
      ">>> Input[j] :  2\n",
      "FALSE\n",
      ">>> Input[j] :  9\n",
      "FALSE\n",
      "Input[i] :  483\n",
      ">>> Input[j] :  1\n",
      "FALSE\n",
      ">>> Input[j] :  2\n",
      "FALSE\n",
      "Input[i] :  9213\n",
      ">>> Input[j] :  1\n",
      "FALSE\n",
      "Input[i] :  49876\n"
     ]
    }
   ],
   "source": [
    "Input = [100,10,1,298,65,483,49876,2,80,9,9213]\n",
    "\n",
    "for i in range( len(Input) ) : \n",
    "    print(\"Input[i] : \", Input[i])\n",
    "    for j in range( len(Input) - i - 1 ) : \n",
    "        print( \">>> Input[j] : \", Input[j] )\n",
    "        if Input[j] > Input[j + 1] : \n",
    "            Input[j], Input[j + 1] = Input[j + 1], Input[j ]\n",
    "        else : \n",
    "            print(\"FALSE\")\n",
    "\n",
    "        \n"
   ]
  },
  {
   "cell_type": "code",
   "execution_count": null,
   "metadata": {
    "id": "VhKQJizZ94kg"
   },
   "outputs": [],
   "source": [
    "#Write a Python program to get a sorted list in increasing order of last element in each tuple in a given list using loop.\n",
    "#Input:- [(5,4),(9,1),(2,3),(5,9),(7,6),(5,5)]\n",
    "#output:- [(9,1),(2,3),(5,4),(5,5),(7,6),(5,9)]\n",
    "\n",
    "\n"
   ]
  },
  {
   "cell_type": "code",
   "execution_count": 34,
   "metadata": {
    "id": "YJrCLYp694n_"
   },
   "outputs": [
    {
     "data": {
      "text/plain": [
       "[10, 1, 11, 29, 876, 768, 92]"
      ]
     },
     "execution_count": 34,
     "metadata": {},
     "output_type": "execute_result"
    }
   ],
   "source": [
    "#Write a Python program to remove fuplicate element from a list using loop.\n",
    "#Input:- [10,1,11,1,29,876,768,10,11,1,92,29,876]\n",
    "#Output:- [10,1,11,29,876,768,92]\n",
    "\n",
    "Input = [10,1,11,1,29,876,768,10,11,1,92,29,876]\n",
    "Output  = []\n",
    "\n",
    "for each in Input : \n",
    "#     print(each)\n",
    "    if each in Output : \n",
    "        continue\n",
    "    else : \n",
    "        Output.append(each)\n",
    "\n",
    "Output\n",
    "\n"
   ]
  },
  {
   "cell_type": "code",
   "execution_count": 35,
   "metadata": {},
   "outputs": [
    {
     "data": {
      "text/plain": [
       "[10, 1, 11, 29, 876, 768, 92]"
      ]
     },
     "execution_count": 35,
     "metadata": {},
     "output_type": "execute_result"
    }
   ],
   "source": [
    "#Write a Python program to remove fuplicate element from a list using loop.\n",
    "#Input:- [10,1,11,1,29,876,768,10,11,1,92,29,876]\n",
    "#Output:- [10,1,11,29,876,768,92]\n",
    "\n",
    "Input = [10,1,11,1,29,876,768,10,11,1,92,29,876]\n",
    "Output  = []\n",
    "\n",
    "for each in Input : \n",
    "    if each not in Output : \n",
    "        Output.append(each)\n",
    "    else : \n",
    "        pass\n",
    "Output\n",
    "\n"
   ]
  },
  {
   "cell_type": "code",
   "execution_count": 37,
   "metadata": {
    "id": "koYe4YCu94rh"
   },
   "outputs": [
    {
     "name": "stdout",
     "output_type": "stream",
     "text": [
      "Values are there\n"
     ]
    }
   ],
   "source": [
    "#Write a Python program to check a list is empty or not?\n",
    "#Input:- []\n",
    "#Output:- List is empty\n",
    "#Input:- [10,20,30]\n",
    "#Output:- List is not empty\n",
    "\n",
    "\n",
    "myList = [10, 5]\n",
    "\n",
    "\n",
    "if not(myList) : # # if len(myList) == 0\n",
    "    print(\"Empty\")\n",
    "else :\n",
    "    print(\"Values are there\")\n"
   ]
  },
  {
   "cell_type": "code",
   "execution_count": null,
   "metadata": {
    "id": "mES1WANa94u5"
   },
   "outputs": [],
   "source": [
    "#Write a Python program to copy a list using loop.\n",
    "#inp_lst = [10,10.20,10+20j, 'Python', [10,20], (10,20)]\n",
    "#out_lst = [10,10.20,10+20j, 'Python', [10,20], (10,20)]\n",
    "\n",
    "# .copY()\n",
    "# [i for in in inp_lst]\n"
   ]
  },
  {
   "cell_type": "code",
   "execution_count": null,
   "metadata": {
    "id": "CpBh31WO94yi"
   },
   "outputs": [],
   "source": [
    "#Write a Python program to find the list of words that are longer than or equal to 4 from a given string.\n",
    "#Input:- 'How much wood would a woodchuck chuck if a woodchuck could chuck wood'\n",
    "#Output:- ['much', 'wood', 'would', 'woodchuck', 'chuck', 'could']\n",
    "#Note:- Duplicate should be avoided.\n",
    "\n",
    "\n",
    "# [i for in in inp_lst if len(i) > 4]\n",
    "input_str = 'How much wood would a woodchuck chuck if a woodchuck could chuck wood'\n",
    "\n",
    "input_lst = input_str.split (\" \")\n",
    "out_lst = []\n",
    "\n",
    "for i in input_lst:\n",
    "    if i not in out_lst and len(i) >=4:\n",
    "        out_lst.append(i)\n",
    "\n",
    "print (out_lst)"
   ]
  },
  {
   "cell_type": "code",
   "execution_count": null,
   "metadata": {
    "id": "YVfj0fgZ9416"
   },
   "outputs": [],
   "source": [
    "#Write a Python program which takes two list as input and returns True if they have at least 3 common elements.\n",
    "#inp_lst1 = [10,20,'Python', 10.20, 10+20j, [10,20,30], (10,20,30)]\n",
    "#inp_lst2 = [(10,20,30),1,20+3j,100.2, 10+20j, [10,20,30],'Python']\n",
    "#Output:- True\n",
    "\n",
    "\n"
   ]
  },
  {
   "cell_type": "code",
   "execution_count": null,
   "metadata": {
    "id": "7vwc3pjR945O"
   },
   "outputs": [],
   "source": [
    "#Write a Python program to create a 4X4 2D matrix with below elements using loop and list comprehension both.\n",
    "#Output:- [[0,0,0,0],[0,1,2,3],[0,2,4,6],[0,3,6,9]]\n",
    "\n",
    "\n"
   ]
  },
  {
   "cell_type": "code",
   "execution_count": null,
   "metadata": {
    "id": "Pxafor84948b"
   },
   "outputs": [],
   "source": [
    "#Write a Python program to create a 3X4X6 3D matrix wiith below elements using loop\n",
    "#Output:- \n",
    "# [\n",
    "#     [[0,0,0,0,0,0],[0,0,0,0,0,0],[0,0,0,0,0,0],[0,0,0,0,0,0]],\n",
    "#     [[0,0,0,0,0,0],[1,1,1,1,1,1],[2,2,2,2,2,2],[3,3,3,3,3,3]],\n",
    "#     [[0,0,0,0,0,0],[2,2,2,2,2,2],[4,4,4,4,4,4],[6,6,6,6,6,6]]\n",
    "# ]\n",
    "\n",
    "\n"
   ]
  },
  {
   "cell_type": "code",
   "execution_count": null,
   "metadata": {
    "id": "lYNv8gk794_p"
   },
   "outputs": [],
   "source": [
    "#Write a Python program which takes a list of numbers as input and prints a new list after removing even numbers from it.\n",
    "#Input:- [10,21,22,98,87,45,33,1,2,100]\n",
    "#Output:- [21,87,45,33,1]\n",
    "\n",
    "\n"
   ]
  },
  {
   "cell_type": "code",
   "execution_count": null,
   "metadata": {
    "id": "3BaCb-rB95B7"
   },
   "outputs": [],
   "source": [
    "#Write a Python program which takes a list from the user and prints it after reshuffling the elements of the list.\n",
    "#Input:- [10,21,22,98,87,45,33,1,2,100]\n",
    "#Output:- [1,87,21,10,33,2,100,45,98,22] (It may be any randon list but with same elements)\n",
    "\n",
    "\n"
   ]
  }
 ],
 "metadata": {
  "colab": {
   "name": "List_Assignment.ipynb",
   "provenance": []
  },
  "kernelspec": {
   "display_name": "Python 3 (ipykernel)",
   "language": "python",
   "name": "python3"
  },
  "language_info": {
   "codemirror_mode": {
    "name": "ipython",
    "version": 3
   },
   "file_extension": ".py",
   "mimetype": "text/x-python",
   "name": "python",
   "nbconvert_exporter": "python",
   "pygments_lexer": "ipython3",
   "version": "3.10.9"
  }
 },
 "nbformat": 4,
 "nbformat_minor": 1
}
