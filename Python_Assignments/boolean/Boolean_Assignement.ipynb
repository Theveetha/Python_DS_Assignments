{
 "cells": [
  {
   "cell_type": "code",
   "execution_count": 3,
   "metadata": {
    "id": "7JIFn6BP4M0R"
   },
   "outputs": [
    {
     "name": "stdout",
     "output_type": "stream",
     "text": [
      "<class 'bool'>\n",
      "140731731757264\n"
     ]
    }
   ],
   "source": [
    "#Declare a boolean value and store it in a variable. \n",
    "# boolval = bool(True)\n",
    "bool_val = True\n",
    "#Check the type and print the id of the same.\n",
    "# print(type(boolval))\n",
    "print(type(bool_val))\n",
    "print(id(bool_val))"
   ]
  },
  {
   "cell_type": "code",
   "execution_count": 4,
   "metadata": {
    "id": "o9bjjhN64kAP"
   },
   "outputs": [
    {
     "name": "stdout",
     "output_type": "stream",
     "text": [
      "140731731757264\n",
      "140731731757264\n"
     ]
    }
   ],
   "source": [
    "#Take one boolean value between 0 - 256.\n",
    "#Assign it to two different variables.\n",
    "bool1 = True\n",
    "bool2 = True\n",
    "#Check the id of both the variables. It should come same. Check why?\n",
    "print(id(bool1))\n",
    "print(id(bool2))"
   ]
  },
  {
   "cell_type": "code",
   "execution_count": 6,
   "metadata": {
    "id": "yr4ETGSf4l5y"
   },
   "outputs": [
    {
     "name": "stdout",
     "output_type": "stream",
     "text": [
      "Enter any number between 0 - 256 : 3\n",
      "Enter any number between 0 - 256 : 9\n",
      "Sum : 2\n",
      "Difference : 0\n",
      "Product : 1\n",
      "Division : 1.0\n",
      "Remainder : 0\n",
      "Quotient : 1\n",
      "Power : 1\n"
     ]
    }
   ],
   "source": [
    "#Arithmatic Operations on boolean data\n",
    "#Take two different boolean values.\n",
    "#Store them in two different variables.\n",
    "bool_var_1 = bool(int(input(\"Enter any number between 0 - 256 : \")))\n",
    "bool_var_2 = bool(int(input(\"Enter any number between 0 - 256 : \")))\n",
    "#Do below operations on them:-\n",
    "    #Find sum of both values\n",
    "print(f\"Sum : {bool_var_1 + bool_var_2}\")\n",
    "    #Find differce between them\n",
    "print(f\"Difference : {bool_var_1 - bool_var_2}\")\n",
    "    #Find the product of both.\n",
    "print(f\"Product : {bool_var_1 * bool_var_2}\")\n",
    "    #Find value after dividing first value with second value\n",
    "print(f\"Division : {bool_var_1 / bool_var_2}\")\n",
    "    #Find the remainder after dividing first value with second value\n",
    "print(f\"Remainder : {bool_var_1 % bool_var_2}\")\n",
    "    #Find the quotient after dividing first value with second value\n",
    "print(f\"Quotient : {bool_var_1 // bool_var_2}\")\n",
    "    #Find the result of first value to the power of second value.\n",
    "print(f\"Power : {bool_var_1 ** bool_var_2}\")"
   ]
  },
  {
   "cell_type": "code",
   "execution_count": 7,
   "metadata": {
    "id": "xG4mX84E4n2O"
   },
   "outputs": [
    {
     "name": "stdout",
     "output_type": "stream",
     "text": [
      "Enter any number between 0 - 256 : 5\n",
      "Enter any number between 0 - 256 : 6\n",
      "bool_var_1 > bool_var_2 : False\n",
      "bool_var_1 < bool_var_2 : False\n",
      "bool_var_1 >= bool_var_2 : True\n",
      "bool_var_1 <= bool_var_2 : True\n"
     ]
    }
   ],
   "source": [
    "#Comparison Operators on boolean values\n",
    "#Take two different boolean values.\n",
    "#Store them in two different variables.\n",
    "bool_var_1 = bool(int(input(\"Enter any number between 0 - 256 : \")))\n",
    "bool_var_2 = bool(int(input(\"Enter any number between 0 - 256 : \")))\n",
    "#Do below operations on them:-\n",
    "    #Compare these two values with below operator:-\n",
    "        #Greater than, '>'\n",
    "print(f\"bool_var_1 > bool_var_2 : {bool_var_1 > bool_var_2}\")\n",
    "        #less than, '<'\n",
    "print(f\"bool_var_1 < bool_var_2 : {bool_var_1 < bool_var_2}\")\n",
    "        #Greater than or equal to, '>='\n",
    "print(f\"bool_var_1 >= bool_var_2 : {bool_var_1 >= bool_var_2}\")\n",
    "        #Less than or equal to, '<='\n",
    "print(f\"bool_var_1 <= bool_var_2 : {bool_var_1 <= bool_var_2}\")\n",
    "#Observe their output(return type should be boolean)"
   ]
  },
  {
   "cell_type": "code",
   "execution_count": 9,
   "metadata": {
    "id": "TUIo2Z9V4qBJ"
   },
   "outputs": [
    {
     "name": "stdout",
     "output_type": "stream",
     "text": [
      "Enter any number between 0 - 256 : 0\n",
      "Enter any number between 0 - 256 : 2\n",
      "bool_var_1 == bool_var_2 : False\n",
      "bool_var_1 != bool_var_2 : True\n"
     ]
    }
   ],
   "source": [
    "#Equality Operator\n",
    "#Take two different boolean values.\n",
    "#Store them in two different variables.\n",
    "bool_var_1 = bool(int(input(\"Enter any number between 0 - 256 : \")))\n",
    "bool_var_2 = bool(int(input(\"Enter any number between 0 - 256 : \")))\n",
    "#Equuate them using equality operator (==, !=)\n",
    "print(f\"bool_var_1 == bool_var_2 : {bool_var_1 == bool_var_2}\")\n",
    "print(f\"bool_var_1 != bool_var_2 : {bool_var_1 != bool_var_2}\")\n",
    "#Observe the output(return type should be boolean)"
   ]
  },
  {
   "cell_type": "code",
   "execution_count": 10,
   "metadata": {
    "id": "XukEq5E44rxv"
   },
   "outputs": [
    {
     "name": "stdout",
     "output_type": "stream",
     "text": [
      "True\n",
      "False\n",
      "False\n",
      "False\n",
      "True\n",
      "True\n",
      "True\n",
      "False\n",
      "False\n",
      "True\n"
     ]
    }
   ],
   "source": [
    "#Logical operators\n",
    "#Observe the output of below code\n",
    "#Cross check the output manually\n",
    "\n",
    "print(True and True)        #----------------------------------------->Output is True\n",
    "print(False and True)        #----------------------------------------->Output is False\n",
    "print(True and False)        #----------------------------------------->Output is False\n",
    "print(False and False)       #----------------------------------------->Output is False\n",
    "\n",
    "print(True or True)          #----------------------------------------->Output is True\n",
    "print(False or True)         #----------------------------------------->Output is True\n",
    "print(True or False)         #----------------------------------------->Output is True\n",
    "print(False or False)        #----------------------------------------->Output is False\n",
    "\n",
    "print(not True)              #----------------------------------------->Output is False\n",
    "print(not False)             #----------------------------------------->Output is True"
   ]
  },
  {
   "cell_type": "code",
   "execution_count": 11,
   "metadata": {
    "id": "02jPgt094vK-"
   },
   "outputs": [
    {
     "name": "stdout",
     "output_type": "stream",
     "text": [
      "True & True  True\n",
      "True | False  True\n",
      "True ^ False  True\n",
      "~True  -2\n",
      "True << 2  4\n",
      "True >> 2  0\n",
      "True\n",
      "1\n"
     ]
    }
   ],
   "source": [
    "#Bitwise Operators\n",
    "#Do below operations on the values provided below:-\n",
    "    #Bitwise and(&) -----------------------------------------> True, True    -------> Output is True\n",
    "print(\"True & True \",True & True)\n",
    "    #Bitwise or(|)  -----------------------------------------> True, False   -------> Output is True\n",
    "print(\"True | False \",True | False)\n",
    "    #Bitwise(^)     -----------------------------------------> True, False   -------> Output is True\n",
    "print(\"True ^ False \",True ^ False)\n",
    "    #Bitwise negation(~) ------------------------------------> True          -------> Output is -2\n",
    "print(\"~True \",~True)\n",
    "    #Bitwise left shift  ------------------------------------> True,2        -------> Output is 4\n",
    "print(\"True << 2 \",True<<2)\n",
    "    #Bitwise right shift ------------------------------------> True,2        -------> Output is 0\n",
    "print(\"True >> 2 \",True>>2)\n",
    "#Cross check the output manually\n",
    "print( True ^ False )\n",
    "print( 1 ^ 0 )\n"
   ]
  },
  {
   "cell_type": "code",
   "execution_count": 12,
   "metadata": {
    "id": "cy5i7sWz4v_c"
   },
   "outputs": [
    {
     "name": "stdout",
     "output_type": "stream",
     "text": [
      "True\n",
      "False\n",
      "True\n",
      "False\n"
     ]
    }
   ],
   "source": [
    "#What is the output of expression inside print statement. Cross check before running the program.\n",
    "a = True\n",
    "b = True\n",
    "print(a is b)          #True or False?   #True\n",
    "print(a is not b)      #True or False?   #False\n",
    "\n",
    "a = False\n",
    "b = False\n",
    "print(a is b)          #True or False?   #True\n",
    "print(a is not b)      #True or False?   #False\n"
   ]
  },
  {
   "cell_type": "code",
   "execution_count": 14,
   "metadata": {
    "id": "AOcPQi8544M-"
   },
   "outputs": [
    {
     "name": "stdout",
     "output_type": "stream",
     "text": [
      "True\n",
      "True\n",
      "True\n",
      "True\n",
      "True\n",
      "False\n"
     ]
    }
   ],
   "source": [
    "#Membership operation\n",
    "#in, not in are two membership operators and it returns boolean value\n",
    "\n",
    "print(True in [10,10.20,10+20j,'Python', True]) #True\n",
    "print(False in (10,10.20,10+20j,'Python', False)) #True\n",
    "print(True in {1,2,3, True}) #True\n",
    "print(True in {True:100, False:200, True:300}) #True\n",
    "print(False in {True:100, False:200, True:300}) #True\n",
    "\n",
    "print(True in {False:100, False:200, False:300}) #False"
   ]
  },
  {
   "cell_type": "code",
   "execution_count": null,
   "metadata": {
    "id": "MPa1Lpco46Ja"
   },
   "outputs": [],
   "source": []
  }
 ],
 "metadata": {
  "colab": {
   "name": "Boolean_Assignement.ipynb",
   "provenance": []
  },
  "kernelspec": {
   "display_name": "Python 3 (ipykernel)",
   "language": "python",
   "name": "python3"
  },
  "language_info": {
   "codemirror_mode": {
    "name": "ipython",
    "version": 3
   },
   "file_extension": ".py",
   "mimetype": "text/x-python",
   "name": "python",
   "nbconvert_exporter": "python",
   "pygments_lexer": "ipython3",
   "version": "3.10.9"
  }
 },
 "nbformat": 4,
 "nbformat_minor": 1
}
