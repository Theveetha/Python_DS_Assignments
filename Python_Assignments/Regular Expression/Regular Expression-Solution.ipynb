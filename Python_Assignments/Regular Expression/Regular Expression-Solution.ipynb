{
 "cells": [
  {
   "cell_type": "code",
   "execution_count": null,
   "metadata": {
    "ExecuteTime": {
     "start_time": "2021-01-02T11:38:41.284Z"
    }
   },
   "outputs": [],
   "source": [
    "#Write the regular expression and use proper method which gives output as:- 'cat' in stringName.\n",
    "import re\n",
    "stringName = 'cat mat bat rat'\n",
    "res = re.match(r'c\\w\\w', stringName)\n",
    "print(res.group())"
   ]
  },
  {
   "cell_type": "code",
   "execution_count": 8,
   "metadata": {},
   "outputs": [
    {
     "name": "stdout",
     "output_type": "stream",
     "text": [
      "Pattern Found :  rat\n"
     ]
    }
   ],
   "source": [
    "#Write the regular expression and use proper method which gives output as:- 'rat' in str.\n",
    "import re\n",
    "stringName = 'cat mat bat rat'\n",
    "\n",
    "res = re.search(\"rat\", stringName)\n",
    "if res : \n",
    "    print(\"Pattern Found : \", res.group())\n",
    "else : \n",
    "    print(\"No Pattern\")\n"
   ]
  },
  {
   "cell_type": "code",
   "execution_count": 6,
   "metadata": {},
   "outputs": [
    {
     "name": "stdout",
     "output_type": "stream",
     "text": [
      "No Pattern\n",
      "Pattern Found :  cat\n"
     ]
    }
   ],
   "source": [
    "#Write the regular expression and use proper method which gives output as:- 'rat' in str.\n",
    "import re\n",
    "stringName = 'cat mat bat rat'\n",
    "\n",
    "res = re.match(\"rat\", stringName)\n",
    "if res : \n",
    "    print(\"Pattern Found : \", res.group())\n",
    "else : \n",
    "    print(\"No Pattern\")\n",
    "\n",
    "    \n",
    "#Write the regular expression and use proper method which gives output as:- 'rat' in str.\n",
    "import re\n",
    "stringName = 'cat mat bat rat'\n",
    "\n",
    "res = re.match(\"cat\", stringName)\n",
    "if res : \n",
    "    print(\"Pattern Found : \", res.group())\n",
    "else : \n",
    "    print(\"No Pattern\")\n"
   ]
  },
  {
   "cell_type": "code",
   "execution_count": 10,
   "metadata": {},
   "outputs": [
    {
     "name": "stdout",
     "output_type": "stream",
     "text": [
      "Pattern Found :  ['mat', 'man']\n"
     ]
    }
   ],
   "source": [
    "#Write the regular expression and use proper method which gives output as:- ['mat', 'man'] in str.\n",
    "import re\n",
    "stringName = 'cat mat bat rat man'\n",
    "\n",
    "res = re.findall(r\"m\\w{2}\", stringName)\n",
    "if res : \n",
    "    print(\"Pattern Found : \", res)\n",
    "else : \n",
    "    print(\"No Pattern\")\n",
    "\n"
   ]
  },
  {
   "cell_type": "code",
   "execution_count": 12,
   "metadata": {},
   "outputs": [
    {
     "name": "stdout",
     "output_type": "stream",
     "text": [
      "[\"Python's\", 'Programming:', 'is', 'very', 'easy', 'to', 'learn']\n",
      "['Python', 's', 'Programming', 'is', 'very', 'easy', 'to', 'learn']\n"
     ]
    }
   ],
   "source": [
    "#Write the regular expression and use proper method which gives output as:- \n",
    "#['Python', 's', 'Programming', 'is', 'very', 'easy', 'to', 'learn'] in str.\n",
    "import re\n",
    "stringName = \"Python's Programming: is very easy to learn\"\n",
    "\n",
    "output = stringName.split(\" \")\n",
    "print(output)\n",
    "\n",
    "output = re.split( r\"\\W{1,}\", stringName)\n",
    "print(output)\n",
    "\n"
   ]
  },
  {
   "cell_type": "code",
   "execution_count": 8,
   "metadata": {},
   "outputs": [
    {
     "name": "stdout",
     "output_type": "stream",
     "text": [
      "Python Programming: is very easy to learn\n"
     ]
    }
   ],
   "source": [
    "#Write the regular expression and use proper method which gives output as:- Python Programming: is very easy to learn in str.\n",
    "import re\n",
    "stringName = \"Python's Programming: is very easy to learn\"\n",
    "\n",
    "# re.sub(Python's, Python, stringName)"
   ]
  },
  {
   "cell_type": "code",
   "execution_count": 15,
   "metadata": {},
   "outputs": [
    {
     "name": "stdout",
     "output_type": "stream",
     "text": [
      "Pattern Found :  ['peter', 'per', 'picked', 'peck', 'pickled', 'peppers']\n"
     ]
    }
   ],
   "source": [
    "#Write the regular expression and use proper method which Retrieves all words starting with p.\n",
    "#Output:- ['peter', 'per', 'picked', 'peck', 'pickled', 'peppers']\n",
    "import re\n",
    "stringName = \"peter giper picked a peck of pickled peppers\"\n",
    "\n",
    "\n",
    "res = re.findall(r\"p\\w{0,}\", stringName) # p......\n",
    "if res : \n",
    "    print(\"Pattern Found : \", res)\n",
    "else : \n",
    "    print(\"No Pattern\")\n"
   ]
  },
  {
   "cell_type": "code",
   "execution_count": 16,
   "metadata": {},
   "outputs": [
    {
     "name": "stdout",
     "output_type": "stream",
     "text": [
      "Pattern Found :  ['peter', 'picked', 'peck', 'pickled', 'peppers']\n"
     ]
    }
   ],
   "source": [
    "#Write the regular expression and use proper method which Retrieves all words starting with p except 'per' which is not a separate word.\n",
    "#Output:- ['peter', 'picked', 'peck', 'pickled', 'peppers']\n",
    "import re\n",
    "stringName = \"peter giper picked a peck of pickled peppers\"\n",
    "\n",
    "\n",
    "res = re.findall(r\"\\bp\\w{0,}\\b\", stringName)\n",
    "if res : \n",
    "    print(\"Pattern Found : \", res)\n",
    "else : \n",
    "    print(\"No Pattern\")\n"
   ]
  },
  {
   "cell_type": "code",
   "execution_count": 18,
   "metadata": {},
   "outputs": [
    {
     "name": "stdout",
     "output_type": "stream",
     "text": [
      "Pattern Found :  ['8th', '11th']\n"
     ]
    }
   ],
   "source": [
    "#Write the regular expression and use proper method which Retrieves all words starting with a digit.\n",
    "#Output:- ['8th', '11th']\n",
    "import re\n",
    "stringName = 'The election in delhi will be held on 8th and result for the same will be declared on 11th'\n",
    "\n",
    "\n",
    "\n",
    "res = re.findall(r\"\\b\\d\\w{0,}\\b\", stringName)\n",
    "if res : \n",
    "    print(\"Pattern Found : \", res)\n",
    "else : \n",
    "    print(\"No Pattern\")\n"
   ]
  },
  {
   "cell_type": "code",
   "execution_count": 23,
   "metadata": {},
   "outputs": [
    {
     "name": "stdout",
     "output_type": "stream",
     "text": [
      "Pattern Found :  ['peter', 'giper']\n"
     ]
    }
   ],
   "source": [
    "#Write the regular expression and use proper method which Retrieves all words having 5 characters.\n",
    "#Output:- ['peter', 'giper']\n",
    "import re\n",
    "stringName = \"peter giper picked a peck of pickled peppers\"\n",
    "\n",
    "\n",
    "\n",
    "# res = re.findall(r\"\\b\\w{5}\\b\", stringName)\n",
    "res = re.findall(r\"\\b[p|g]\\w{4}\\b\", stringName)\n",
    "\n",
    "if res : \n",
    "    print(\"Pattern Found : \", res)\n",
    "else : \n",
    "    print(\"No Pattern\")\n",
    "\n",
    "    "
   ]
  },
  {
   "cell_type": "code",
   "execution_count": 25,
   "metadata": {},
   "outputs": [
    {
     "name": "stdout",
     "output_type": "stream",
     "text": [
      "Pattern Found :  ['Retrieving', 'words', 'having', 'least', 'characters']\n"
     ]
    }
   ],
   "source": [
    "#Write the regular expression and use proper method which Retrieves all words having at least 4 characters.\n",
    "#Output:- ['Retrieving', 'words', 'having', 'least', 'characters']\n",
    "import re\n",
    "stringName = \"Retrieving all words having at least 4 characters\"\n",
    "\n",
    "\n",
    "\n",
    "res = re.findall(r\"\\b\\w{4,}\\b\", stringName)\n",
    "if res : \n",
    "    print(\"Pattern Found : \", res)\n",
    "else : \n",
    "    print(\"No Pattern\")\n"
   ]
  },
  {
   "cell_type": "code",
   "execution_count": 4,
   "metadata": {},
   "outputs": [
    {
     "name": "stdout",
     "output_type": "stream",
     "text": [
      "['all', 'words', 'least']\n"
     ]
    }
   ],
   "source": [
    "#Write the regular expression and use proper method which Retrieves all words having at characters between 3 to 5 words.\n",
    "#Output:- ['all', 'words', 'least']\n",
    "import re\n",
    "stringName = \"Retrieving all words having at least 4 characters\"\n",
    "\n",
    "#  SELF"
   ]
  },
  {
   "cell_type": "code",
   "execution_count": 26,
   "metadata": {},
   "outputs": [
    {
     "name": "stdout",
     "output_type": "stream",
     "text": [
      "Pattern Found :  ['8', '11']\n"
     ]
    }
   ],
   "source": [
    "#Write the regular expression and use proper method which Retrieves only digits from the string.\n",
    "#Output:- ['8', '11']\n",
    "import re\n",
    "stringName = 'The election in delhi will be held on 8 and result for the same will be declared on 11'\n",
    "\n",
    "\n",
    "res = re.findall(r\"\\b\\d{1,}\\b\", stringName)\n",
    "if res : \n",
    "    print(\"Pattern Found : \", res)\n",
    "else : \n",
    "    print(\"No Pattern\")\n",
    "\n"
   ]
  },
  {
   "cell_type": "code",
   "execution_count": 31,
   "metadata": {},
   "outputs": [
    {
     "name": "stdout",
     "output_type": "stream",
     "text": [
      "Pattern Found :  ['characters', 'camaflouge']\n"
     ]
    }
   ],
   "source": [
    "#Write the regular expression and use proper method which Retrieves last word if starts with c from the given string.\n",
    "#Output:- ['characters']\n",
    "import re\n",
    "# stringName = \"Retrieving all words having at least 4 characters\"\n",
    "# stringName = \"Retrieving all words having at least 4 characters camaflouge\"\n",
    "stringName = \"Retrieving all words having at least 4 characters camaflouge beautiful\"\n",
    "\n",
    "\n",
    "\n",
    "res = re.findall(r\"\\bc\\w{1,}\\b\", stringName)\n",
    "if res : \n",
    "    print(\"Pattern Found : \", res)\n",
    "else : \n",
    "    print(\"No Pattern\")\n"
   ]
  },
  {
   "cell_type": "code",
   "execution_count": 32,
   "metadata": {},
   "outputs": [
    {
     "name": "stdout",
     "output_type": "stream",
     "text": [
      "No Pattern\n"
     ]
    }
   ],
   "source": [
    "stringName = \"Retrieving all words having at least 4 characters camaflouge beautiful\"\n",
    "# stringName = \"Retrieving all words having at least 4 characters camaflouge\"\n",
    "\n",
    "res = re.findall(r\"\\bc\\w{1,}\\Z\\b\", stringName)\n",
    "if res : \n",
    "    print(\"Pattern Found : \", res)\n",
    "else : \n",
    "    print(\"No Pattern\")\n"
   ]
  },
  {
   "cell_type": "code",
   "execution_count": 36,
   "metadata": {},
   "outputs": [
    {
     "name": "stdout",
     "output_type": "stream",
     "text": [
      "No Pattern\n"
     ]
    }
   ],
   "source": [
    "stringName = \"Retrieving all words having at least 4 characters camaflouge beautiful\"\n",
    "# stringName = \"Retrieving all words having at least 4 characters camaflouge\"\n",
    "\n",
    "res = re.findall(r\"\\bc\\w+$\\b\", stringName)\n",
    "if res : \n",
    "    print(\"Pattern Found : \", res)\n",
    "else : \n",
    "    print(\"No Pattern\")\n"
   ]
  },
  {
   "cell_type": "code",
   "execution_count": null,
   "metadata": {},
   "outputs": [],
   "source": []
  },
  {
   "cell_type": "code",
   "execution_count": null,
   "metadata": {},
   "outputs": [],
   "source": []
  },
  {
   "cell_type": "code",
   "execution_count": 13,
   "metadata": {},
   "outputs": [
    {
     "name": "stdout",
     "output_type": "stream",
     "text": [
      "1234567890\n"
     ]
    }
   ],
   "source": [
    "#Write the regular expression and use proper method which Retrieves a phone number from the given string.\n",
    "#Output:- 1234567890\n",
    "import re\n",
    "stringName = \"Learnbay : 1234567890\"\n",
    "\n",
    "#  \\d"
   ]
  },
  {
   "cell_type": "code",
   "execution_count": null,
   "metadata": {},
   "outputs": [],
   "source": [
    "##Write the regular expression and use proper method which Etracts name from the string but not number.\n",
    "#Output:- Learnbay : \n",
    "import re\n",
    "stringName = \"Learnbay : 1234567890\"\n",
    "\n",
    "# \\D"
   ]
  },
  {
   "cell_type": "code",
   "execution_count": 38,
   "metadata": {},
   "outputs": [
    {
     "name": "stdout",
     "output_type": "stream",
     "text": [
      "Pattern Found :  ['anil', 'akhil', 'anant', 'ankur']\n"
     ]
    }
   ],
   "source": [
    "##Write the regular expression and use proper method which Retrieves name starting with 'an' or 'ak'.\n",
    "#Output:- ['anil', 'akhil', 'anant', 'ankur']\n",
    "import re\n",
    "stringName = 'anil akhil anant abhi arun arati arundhati abhijit ankur'\n",
    "\n",
    "res = re.findall(r\"\\ba[n|k]\\w{0,}\\b\", stringName)\n",
    "if res : \n",
    "    print(\"Pattern Found : \", res)\n",
    "else : \n",
    "    print(\"No Pattern\")\n"
   ]
  },
  {
   "cell_type": "code",
   "execution_count": null,
   "metadata": {},
   "outputs": [],
   "source": []
  },
  {
   "cell_type": "code",
   "execution_count": 4,
   "metadata": {},
   "outputs": [
    {
     "name": "stdout",
     "output_type": "stream",
     "text": [
      "Pattern Found :  ['a6423']\n"
     ]
    }
   ],
   "source": [
    "\n",
    "import re\n",
    "stringName = \"Retrieving a6423 words HAVIng at b64323z least 4bdhavb chARAchters camaflouge beautiful\"\n",
    "\n",
    "res = re.findall(r\"\\b\\w[0-9]{1,}\\b\", stringName) # alphanumeric _ _ _ \n",
    "if res : \n",
    "    print(\"Pattern Found : \", res)\n",
    "else : \n",
    "    print(\"No Pattern\")\n"
   ]
  },
  {
   "cell_type": "code",
   "execution_count": 5,
   "metadata": {},
   "outputs": [
    {
     "name": "stdout",
     "output_type": "stream",
     "text": [
      "Pattern Found :  ['Retrieving', 'words', 'at', 'least', '4bdhavb', 'camaflouge', 'beautiful']\n"
     ]
    }
   ],
   "source": [
    "res = re.findall(r\"\\b\\w[a-z]{1,}\\b\", stringName) # alphanumeric _ _ _ \n",
    "if res : \n",
    "    print(\"Pattern Found : \", res)\n",
    "else : \n",
    "    print(\"No Pattern\")\n"
   ]
  },
  {
   "cell_type": "code",
   "execution_count": null,
   "metadata": {},
   "outputs": [],
   "source": [
    "# [0-9a-zA-Z]"
   ]
  },
  {
   "cell_type": "code",
   "execution_count": null,
   "metadata": {},
   "outputs": [],
   "source": [
    "#  chARAchters "
   ]
  },
  {
   "cell_type": "code",
   "execution_count": null,
   "metadata": {},
   "outputs": [],
   "source": []
  }
 ],
 "metadata": {
  "kernelspec": {
   "display_name": "Python 3 (ipykernel)",
   "language": "python",
   "name": "python3"
  },
  "language_info": {
   "codemirror_mode": {
    "name": "ipython",
    "version": 3
   },
   "file_extension": ".py",
   "mimetype": "text/x-python",
   "name": "python",
   "nbconvert_exporter": "python",
   "pygments_lexer": "ipython3",
   "version": "3.9.13"
  },
  "varInspector": {
   "cols": {
    "lenName": 16,
    "lenType": 16,
    "lenVar": 40
   },
   "kernels_config": {
    "python": {
     "delete_cmd_postfix": "",
     "delete_cmd_prefix": "del ",
     "library": "var_list.py",
     "varRefreshCmd": "print(var_dic_list())"
    },
    "r": {
     "delete_cmd_postfix": ") ",
     "delete_cmd_prefix": "rm(",
     "library": "var_list.r",
     "varRefreshCmd": "cat(var_dic_list()) "
    }
   },
   "types_to_exclude": [
    "module",
    "function",
    "builtin_function_or_method",
    "instance",
    "_Feature"
   ],
   "window_display": false
  }
 },
 "nbformat": 4,
 "nbformat_minor": 2
}
