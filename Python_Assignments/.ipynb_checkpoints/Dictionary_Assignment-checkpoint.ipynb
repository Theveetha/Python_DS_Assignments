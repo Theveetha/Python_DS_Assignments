{
 "cells": [
  {
   "cell_type": "code",
   "execution_count": 3,
   "metadata": {
    "id": "2k4ZB9yltJCa"
   },
   "outputs": [
    {
     "name": "stdout",
     "output_type": "stream",
     "text": [
      "{'email': 'tom_latham019@gmail.com', 'Phone': 1987654321, 'City': 'California'}\n",
      "{'email': 'kathy_abram897@gmail.com', 'Phone': 1887654321, 'City': 'New York'}\n"
     ]
    }
   ],
   "source": [
    "# Initialize a dictionary \"emp_info\" with below details\n",
    "# In - emp_info['Tom']\n",
    "# Out - {'email':'tom_latham019@gmail.com', 'Phone': +1987654321, 'City': 'California'}\n",
    "\n",
    "# In - emp_info['Kathy']\n",
    "# Out - {'email':'kathy_abram897@gmail.com', 'Phone': +1887654321, 'City': 'New York'}\n",
    "\n",
    "emp_info = {\n",
    "    'Tom' : {'email':'tom_latham019@gmail.com', 'Phone': +1987654321, 'City': 'California'},\n",
    "    'Kathy' : {'email':'kathy_abram897@gmail.com', 'Phone': +1887654321, 'City': 'New York'}\n",
    "}\n",
    "print(emp_info['Tom'])\n",
    "print(emp_info['Kathy'])"
   ]
  },
  {
   "cell_type": "code",
   "execution_count": 5,
   "metadata": {
    "id": "BAUj-S0fqFWG"
   },
   "outputs": [
    {
     "data": {
      "text/plain": [
       "{'emp1': {'e_name': 'John', 'e_id': 'SG101', 'e_sal': '$10,000'},\n",
       " 'emp2': {'e_name': 'Smith', 'e_id': 'SG102', 'e_sal': '$9,000'},\n",
       " 'emp3': {'e_name': 'Peter', 'e_id': 'SG103', 'e_sal': '$9,500'}}"
      ]
     },
     "execution_count": 5,
     "metadata": {},
     "output_type": "execute_result"
    }
   ],
   "source": [
    "# Create a dictionary out of below inputs\n",
    "# lst1 = ['emp1', 'emp2', 'emp3']\n",
    "# emp_key = ['e_name', 'e_id', 'e_sal']\n",
    "# emp1_val = ['John', 'SG101', '$10,000']\n",
    "# emp2_val = ['Smith', 'SG102', '$9,000']\n",
    "# emp3_val = ['Peter', 'SG103', '$9,500']\n",
    "\n",
    "# Expected Output:- {'emp1':{'e_name':'John', 'e_id':'SG101', 'e_sal':$10,000}, \n",
    "#                    'emp2':{'e_name':'Smith', 'e_id':'SG102', 'e_sal':$9,000}, \n",
    "#                    'emp3':{'e_name':'Peter', 'e_id':'SG103', 'e_sal':$9,500}}\n",
    "\n",
    "lst1 = ['emp1', 'emp2', 'emp3']\n",
    "emp_key = ['e_name', 'e_id', 'e_sal']\n",
    "emp1_val = ['John', 'SG101', '$10,000']\n",
    "emp2_val = ['Smith', 'SG102', '$9,000']\n",
    "emp3_val = ['Peter', 'SG103', '$9,500']\n",
    "\n",
    "emp_dict1 = dict(zip(emp_key,emp1_val))\n",
    "emp_dict2 = dict(zip(emp_key,emp2_val))\n",
    "emp_dict3 = dict(zip(emp_key,emp3_val))\n",
    "\n",
    "output = dict(zip(lst1,[emp_dict1, emp_dict2, emp_dict3]))\n",
    "\n",
    "output"
   ]
  },
  {
   "cell_type": "code",
   "execution_count": 6,
   "metadata": {
    "id": "LxGZ3jbjrBkj"
   },
   "outputs": [
    {
     "data": {
      "text/plain": [
       "80"
      ]
     },
     "execution_count": 6,
     "metadata": {},
     "output_type": "execute_result"
    }
   ],
   "source": [
    "# Acess the value of key 'history'\n",
    "\n",
    "sampleDict = { \n",
    "   \"class\":{ \n",
    "      \"student\":{ \n",
    "         \"name\":\"Mike\",\n",
    "         \"marks\":{ \n",
    "            \"physics\":70,\n",
    "            \"history\":80\n",
    "         }\n",
    "      }\n",
    "   }\n",
    "}\n",
    "\n",
    "sampleDict[\"class\"][\"student\"][\"marks\"][\"history\"]\n"
   ]
  },
  {
   "cell_type": "code",
   "execution_count": 15,
   "metadata": {
    "id": "Vm8UZbyNrKID"
   },
   "outputs": [
    {
     "data": {
      "text/plain": [
       "{'Kelly': {'designation': 'Application Developer', 'salary': 8000},\n",
       " 'Emma': {'designation': 'Application Developer', 'salary': 8000},\n",
       " 'John': {'designation': 'Application Developer', 'salary': 8000}}"
      ]
     },
     "execution_count": 15,
     "metadata": {},
     "output_type": "execute_result"
    }
   ],
   "source": [
    "# Initialize dictionary with default values. Inputs are:-\n",
    "# employees = ['Kelly', 'Emma', 'John']\n",
    "# defaults = {\"designation\": 'Application Developer', \"salary\": 8000}\n",
    "\n",
    "#Expected output:- {'Kelly': {'designation': 'Application Developer', 'salary': 8000}, \n",
    "#                   'Emma': {'designation': 'Application Developer', 'salary': 8000}, \n",
    "#                   'John': {'designation': 'Application Developer', 'salary': 8000}}\n",
    "\n",
    "employees = ['Kelly', 'Emma', 'John']\n",
    "defaults = {\"designation\": 'Application Developer', \"salary\": 8000}\n",
    "\n",
    "output = {emp: defaults for emp in employees}\n",
    "output"
   ]
  },
  {
   "cell_type": "code",
   "execution_count": 32,
   "metadata": {
    "id": "nmFdbaHBrThC"
   },
   "outputs": [
    {
     "name": "stdout",
     "output_type": "stream",
     "text": [
      "UCGA\n"
     ]
    },
    {
     "data": {
      "text/plain": [
       "0"
      ]
     },
     "execution_count": 32,
     "metadata": {},
     "output_type": "execute_result"
    }
   ],
   "source": [
    "# In gene expression, mRNA is transcribed from a DNA template. \n",
    "# The 4 nucleotide bases of A, T, C, G corresponds to the U, A, G, C bases of the mRNA. \n",
    "# Write a function that returns the mRNA transcript given the sequence of a DNA strand.\n",
    "\n",
    "# Use a dictionary to provide the mapping of DNA to RNA bases.\n",
    "dna_sequence = 'AGCT'\n",
    "dna_to_rna_mapping = {'A': 'U', 'T': 'A', 'C': 'G', 'G': 'C'}\n",
    "mRNA_sequence = [dna_to_rna_mapping[base] for base in dna_sequence]\n",
    "print(\"\".join(mRNA_sequence))\n",
    "\n",
    "# def transcribe_to_mRNA(dna_sequence):\n",
    "#     dna_to_rna_mapping = {'A':'U','T':'A','C':'G','G':'C'}\n",
    "#     mRNA_sequence = [dna_to_rna_mapping[base] for base in dna_sequence]\n",
    "#     return \"\".join(mRNA_sequence)\n",
    "\n",
    "# transcribe_to_mRNA('AGCT')"
   ]
  },
  {
   "cell_type": "code",
   "execution_count": 36,
   "metadata": {
    "id": "rop1A1pQw6Uk"
   },
   "outputs": [
    {
     "name": "stdout",
     "output_type": "stream",
     "text": [
      "Please Enter the word : wood chuck wood chuck\n"
     ]
    },
    {
     "data": {
      "text/plain": [
       "{'w': 2, 'o': 4, 'd': 2, ' ': 3, 'c': 4, 'h': 2, 'u': 2, 'k': 2}"
      ]
     },
     "execution_count": 36,
     "metadata": {},
     "output_type": "execute_result"
    }
   ],
   "source": [
    "# Write a function which takes a word as input and returns a dictionary with letters as key and no of time letters are repeated as value.\n",
    "# In - count_letter('google.com')\n",
    "# Out - {'g': 2, 'o': 3, 'l': 1, 'e': 1, '.': 1, 'c': 1, 'm': 1}\n",
    "\n",
    "def count_letter(word):\n",
    "    count = {}\n",
    "    for letter in word:\n",
    "        count[letter] = count.get(letter,0)+1\n",
    "    return count\n",
    "\n",
    "word = str(input(\"Please Enter the word : \"))\n",
    "count_letter(word)"
   ]
  },
  {
   "cell_type": "code",
   "execution_count": 38,
   "metadata": {
    "id": "vAwGIoxdw856"
   },
   "outputs": [
    {
     "name": "stdout",
     "output_type": "stream",
     "text": [
      "Please enter the base composition using letters - A,T,C,G : CTATCGGCACCCTTTCAGCA\n"
     ]
    },
    {
     "data": {
      "text/plain": [
       "{'A': 4, 'C': 8, 'T': 5, 'G': 3}"
      ]
     },
     "execution_count": 38,
     "metadata": {},
     "output_type": "execute_result"
    }
   ],
   "source": [
    "# A DNA strand consisting of the 4 nucleotide bases is usually represented with a string of letters: A,T, C, G. \n",
    "# Write a function that computes the base composition of a given DNA sequence.\n",
    "\n",
    "# In - baseComposition(\"CTATCGGCACCCTTTCAGCA\")\n",
    "# Out - {'A': 4, 'C': 8, 'T': 5,  'G': 3 }\n",
    "    \n",
    "# In - baseComposition(\"AGT\")\n",
    "# Out - {'A': 1, 'C': 0, 'T': 1,  'G': 1 }\n",
    "\n",
    "def dna_composition(dna_sequence):\n",
    "    count = {'A':0,'C':0,'T':0,'G':0}\n",
    "    for i in dna_sequence:\n",
    "        count[i] = count.get(i,0)+1\n",
    "    return count\n",
    "\n",
    "dna_sequence = str(input(\"Please enter the base composition using letters - A,T,C,G : \"))\n",
    "dna_composition(dna_sequence)"
   ]
  },
  {
   "cell_type": "code",
   "execution_count": 45,
   "metadata": {
    "id": "iVNnSsvaxMDo"
   },
   "outputs": [
    {
     "data": {
      "text/plain": [
       "{'Name1': 'Tom', 'Name2': 'Tom', 'Name3': 'Tom', 'Name4': 'Tom'}"
      ]
     },
     "execution_count": 45,
     "metadata": {},
     "output_type": "execute_result"
    }
   ],
   "source": [
    "# [MCQ] Suppose \"d\" is an empty dictionary, which statement does not assign \"d\" with {\"Name\":\"Tom\"}? \n",
    "# 1. d = {\"Name\": \"Tom\" }\n",
    "# 2. d[\"Name\"] = \"Tom\"\n",
    "# 3. d.update({\"Name\": \"Tom\" })\n",
    "# 4. d.setdefault(\"Name\", \"Tom\")\n",
    "# 5. None of the above.\n",
    "\n",
    "d = {}\n",
    "d = {\"Name1\": \"Tom\" }\n",
    "d[\"Name2\"] = \"Tom\"\n",
    "d.update({\"Name3\": \"Tom\" })\n",
    "d.setdefault(\"Name4\", \"Tom\")\n",
    "d\n",
    "\n",
    "# Ans: 5. None of the above"
   ]
  },
  {
   "cell_type": "code",
   "execution_count": 46,
   "metadata": {
    "id": "tOgsXi2axnhF"
   },
   "outputs": [
    {
     "data": {
      "text/plain": [
       "dict_values([1, 2])"
      ]
     },
     "execution_count": 46,
     "metadata": {},
     "output_type": "execute_result"
    }
   ],
   "source": [
    "# [MCQ] d = {\"a\":1, \"b\":2}. Which of the statements returns [1,2]? \n",
    "# 1. d.keys()\n",
    "# 2. d.values()\n",
    "# 3. d.items()\n",
    "# 4. d.popitem()\n",
    "# 5. None of the above.\n",
    "\n",
    "d = {\"a\":1, \"b\":2}\n",
    "d.values()\n",
    "\n",
    "# Ans: 2. d.values()"
   ]
  },
  {
   "cell_type": "code",
   "execution_count": 50,
   "metadata": {
    "id": "BeNNopkDzK0k"
   },
   "outputs": [
    {
     "name": "stdout",
     "output_type": "stream",
     "text": [
      "{'Name': 'Tom'}\n",
      "{(1, 3, 4): 4.5}\n",
      "{}\n",
      "{1: 0.4}\n"
     ]
    }
   ],
   "source": [
    "# [MCQ] Which of the following declarations is not valid for 'dict' type?\n",
    "# 1. d = {\"Name\": \"Tom\" }\n",
    "# 2. d = { (1,3,4): 4.5 }\n",
    "# 3. d = { [\"First\", \"Last\"]: (1,3) }\n",
    "# 4. d = { 1: 0.4 }\n",
    "# 5. None of the above\n",
    "\n",
    "d1 = {\"Name\": \"Tom\" }\n",
    "d2 = { (1,3,4): 4.5 }\n",
    "d3 = {}\n",
    "# d3 = { [\"First\", \"Last\"]: (1,3) }\n",
    "d4 = { 1: 0.4 }\n",
    "\n",
    "print(f\"{d1}\\n{d2}\\n{d3}\\n{d4}\")\n",
    "\n",
    "# Ans: 3. d = { [\"First\", \"Last\"]: (1,3) }"
   ]
  },
  {
   "cell_type": "code",
   "execution_count": 62,
   "metadata": {
    "id": "7kPbKcfMzTHP"
   },
   "outputs": [
    {
     "data": {
      "text/plain": [
       "['b', 'c']"
      ]
     },
     "execution_count": 62,
     "metadata": {},
     "output_type": "execute_result"
    }
   ],
   "source": [
    "# Write a function reverseLookup(dictionary, value) that takes in a dictionary \n",
    "# and a value as arguments and returns a sorted list of all keys that contains the value. \n",
    "# The function will return an empty list if no match is found.\n",
    "\n",
    "# In - reverseLookup({'a':1, 'b':2, 'c':2}, 1)\n",
    "# Out - ['a']\n",
    "# In - reverseLookup({'a':1, 'b':2, 'c':2}, 2)\n",
    "# Out - ['b', 'c']\n",
    "# In - reverseLookup({'a':1, 'b':2, 'c':2}, 3)\n",
    "# Out - []\n",
    "\n",
    "def reverselookup(dictionary,value):\n",
    "    keys = [key for key,val in dictionary.items() if val == value]\n",
    "    return sorted(keys)\n",
    "\n",
    "dt = {'a':1, 'b':2, 'c':2}\n",
    "search_value = 2\n",
    "reverselookup(dt,search_value)\n",
    "\n",
    "# dt = {'a':1, 'b':2, 'c':2}\n",
    "# val = 2\n",
    "# result = [key for key,value in dt.items() if value == val]\n",
    "# sorted(result)"
   ]
  },
  {
   "cell_type": "code",
   "execution_count": 79,
   "metadata": {
    "id": "s87Rvg2HDFYp"
   },
   "outputs": [
    {
     "name": "stdout",
     "output_type": "stream",
     "text": [
      "{1: ['a'], 2: ['b', 'd'], 3: ['c']}\n",
      "{3: ['a', 'b', 'c']}\n",
      "{2: ['a', 'c'], 1: ['b', 'd']}\n"
     ]
    }
   ],
   "source": [
    "# Write a function invertDictionary(d) that takes in a dictionary as argument and return a dictionary that inverts the keys and the values of the original dictionary.\n",
    "# In - invertDictionary({'a':1, 'b':2, 'c':3, 'd':2})\n",
    "# Out - {1: ['a'], 2: ['b', 'd'], 3: ['c']}\n",
    "# In - invertDictionary({'a':3, 'b':3, 'c':3})\n",
    "# Out - {3: ['a', 'c', 'b']}\n",
    "# In - invertDictionary({'a':2, 'b':1, 'c':2, 'd':1})\n",
    "# Out - {1: ['b', 'd'], 2: ['a', 'c']}\n",
    "\n",
    "def invertDictionary(dictionary):\n",
    "    output = {}\n",
    "    for key,value in dictionary.items():\n",
    "        output.setdefault(value,[]).append(key)\n",
    "    return output\n",
    "\n",
    "# dt = {'a':1, 'b':2, 'c':2}\n",
    "print(invertDictionary({'a':1, 'b':2, 'c':3, 'd':2}))\n",
    "print(invertDictionary({'a':3, 'b':3, 'c':3}))\n",
    "print(invertDictionary({'a':2, 'b':1, 'c':2, 'd':1}))"
   ]
  },
  {
   "cell_type": "code",
   "execution_count": 95,
   "metadata": {
    "id": "DgYyaZU6Oz7E"
   },
   "outputs": [
    {
     "name": "stdout",
     "output_type": "stream",
     "text": [
      "{0: 1, 3: 2, 7: 3, 12: 4}\n",
      "{0: 1, 2: 1, 4: 2, 6: 1, 9: 1}\n",
      "{}\n"
     ]
    }
   ],
   "source": [
    "# Write a function that converts a sparse vector into a dictionary as described above.\n",
    "# In - convertVector([1, 0, 0, 2, 0, 0, 0, 3, 0, 0, 0, 0, 4])\n",
    "# Out - {0: 1, 3: 2, 7: 3, 12: 4}\n",
    "# In - convertVector([1, 0, 1 , 0, 2, 0, 1, 0, 0, 1, 0])\n",
    "# Out - {0: 1, 2: 1, 4: 2, 6: 1, 9: 1}\n",
    "# In - convertVector([0, 0, 0, 0, 0])\n",
    "# Out - {}\n",
    "\n",
    "def convertVector(vector):\n",
    "    output = {}\n",
    "    for index,value in enumerate(vector):\n",
    "        if value != 0:\n",
    "            output[index] = value\n",
    "        else:\n",
    "            pass\n",
    "    return output\n",
    "\n",
    "print(convertVector([1, 0, 0, 2, 0, 0, 0, 3, 0, 0, 0, 0, 4]))\n",
    "print(convertVector([1, 0, 1 , 0, 2, 0, 1, 0, 0, 1, 0]))\n",
    "print(convertVector([0, 0, 0, 0, 0]))"
   ]
  },
  {
   "cell_type": "code",
   "execution_count": 106,
   "metadata": {
    "id": "ETCmEcflTGCI"
   },
   "outputs": [
    {
     "name": "stdout",
     "output_type": "stream",
     "text": [
      "[1, 0, 0, 2, 0, 0, 0, 3, 0, 0, 0, 0, 4]\n",
      "[1, 0, 1, 0, 2, 0, 1, 0, 0, 1]\n",
      "[]\n"
     ]
    }
   ],
   "source": [
    "# Write a function that converts a dictionary back to its sparse vector representation.\n",
    "# In - convertDictionary({0: 1, 3: 2, 7: 3, 12: 4})\n",
    "# Out - [1, 0, 0, 2, 0, 0, 0, 3, 0, 0, 0, 0, 4]\n",
    "# In - convertDictionary({0: 1, 2: 1, 4: 2, 6: 1, 9: 1})\n",
    "# Out - [1, 0, 1, 0, 2, 0, 1, 0, 0, 1]\n",
    "# In - convertDictionary({})\n",
    "# Out - []\n",
    "\n",
    "def convertDictionary(dt):\n",
    "    max_index = max(dt.keys(),default=-1)+1\n",
    "    output = [0]*max_index\n",
    "    for key,value in dt.items():\n",
    "        output[key] = value\n",
    "    return output\n",
    "\n",
    "print(convertDictionary({0: 1, 3: 2, 7: 3, 12: 4}))\n",
    "print(convertDictionary({0: 1, 2: 1, 4: 2, 6: 1, 9: 1}))\n",
    "print(convertDictionary({}))"
   ]
  },
  {
   "cell_type": "code",
   "execution_count": 108,
   "metadata": {
    "id": "tTANm2QKZXh3"
   },
   "outputs": [
    {
     "data": {
      "text/plain": [
       "{'emp1': {'name': 'Jhon', 'salary': 7500},\n",
       " 'emp2': {'name': 'Emma', 'salary': 8000},\n",
       " 'emp3': {'name': 'Brad', 'salary': 8500}}"
      ]
     },
     "execution_count": 108,
     "metadata": {},
     "output_type": "execute_result"
    }
   ],
   "source": [
    "# Given a Python dictionary, Change Brad’s salary to 8500\n",
    "# sampleDict = {\n",
    "#      'emp1': {'name': 'Jhon', 'salary': 7500},\n",
    "#      'emp2': {'name': 'Emma', 'salary': 8000},\n",
    "#      'emp3': {'name': 'Brad', 'salary': 6500}\n",
    "# }\n",
    "\n",
    "# Expected Output\n",
    "# sampleDict = {\n",
    "#      'emp1': {'name': 'Jhon', 'salary': 7500},\n",
    "#      'emp2': {'name': 'Emma', 'salary': 8000},\n",
    "#      'emp3': {'name': 'Brad', 'salary': 8500}\n",
    "# }\n",
    "\n",
    "sampleDict = {\n",
    "     'emp1': {'name': 'Jhon', 'salary': 7500},\n",
    "     'emp2': {'name': 'Emma', 'salary': 8000},\n",
    "     'emp3': {'name': 'Brad', 'salary': 6500}\n",
    "}\n",
    "\n",
    "sampleDict.update({'emp3': {'name': 'Brad', 'salary': 8500}})\n",
    "sampleDict\n",
    "\n",
    "sampleDict = {\n",
    "     'emp1': {'name': 'Jhon', 'salary': 7500},\n",
    "     'emp2': {'name': 'Emma', 'salary': 8000},\n",
    "     'emp3': {'name': 'Brad', 'salary': 6500}\n",
    "}\n",
    "sampleDict['emp3']['salary']=8500\n",
    "sampleDict"
   ]
  },
  {
   "cell_type": "code",
   "execution_count": 112,
   "metadata": {
    "id": "8dUHXiCVZmUx"
   },
   "outputs": [
    {
     "data": {
      "text/plain": [
       "'Math'"
      ]
     },
     "execution_count": 112,
     "metadata": {},
     "output_type": "execute_result"
    }
   ],
   "source": [
    "# Get the key corresponding to the minimum value from the following dictionary\n",
    "# sampleDict = {\n",
    "#   'Physics': 82,\n",
    "#   'Math': 65,\n",
    "#   'history': 75\n",
    "# }\n",
    "\n",
    "# Expected Output\n",
    "# Math\n",
    "\n",
    "sampleDict = {\n",
    "  'Physics': 82,\n",
    "  'Math': 65,\n",
    "  'history': 75\n",
    "}\n",
    "\n",
    "min(sampleDict,key=lambda k:sampleDict[k])\n"
   ]
  },
  {
   "cell_type": "code",
   "execution_count": 116,
   "metadata": {
    "id": "AQe5QNGdZ7aJ"
   },
   "outputs": [
    {
     "data": {
      "text/plain": [
       "{'name': 'Kelly', 'age': 25, 'salary': 8000, 'location': 'New york'}"
      ]
     },
     "execution_count": 116,
     "metadata": {},
     "output_type": "execute_result"
    }
   ],
   "source": [
    "# Rename key city to location in the following dictionary\n",
    "# sampleDict = {\n",
    "#   \"name\": \"Kelly\",\n",
    "#   \"age\":25,\n",
    "#   \"salary\": 8000,\n",
    "#   \"city\": \"New york\"\n",
    "# }\n",
    "\n",
    "# Expected Output\n",
    "# {\n",
    "#   \"name\": \"Kelly\",\n",
    "#   \"age\":25,\n",
    "#   \"salary\": 8000,\n",
    "#   \"location\": \"New york\"\n",
    "# }\n",
    "\n",
    "sampleDict = {\n",
    "  \"name\": \"Kelly\",\n",
    "  \"age\":25,\n",
    "  \"salary\": 8000,\n",
    "  \"city\": \"New york\"\n",
    "}\n",
    "\n",
    "sampleDict['location'] = sampleDict.pop('city')\n",
    "sampleDict"
   ]
  },
  {
   "cell_type": "code",
   "execution_count": 118,
   "metadata": {
    "id": "e19_ddO9aNNw"
   },
   "outputs": [
    {
     "name": "stdout",
     "output_type": "stream",
     "text": [
      "Please enter the value to check200\n",
      "True\n"
     ]
    }
   ],
   "source": [
    "# Check if a value 200 exists in a dictionary\n",
    "# sampleDict = {'a': 100, 'b': 200, 'c': 300}\n",
    "\n",
    "# Expected Output: True\n",
    "\n",
    "sampleDict = {'a': 100, 'b': 200, 'c': 300}\n",
    "value = int(input(\"Please enter the value to check\"))\n",
    "print(\"True\") if value in sampleDict.values() else print(\"False\")"
   ]
  },
  {
   "cell_type": "code",
   "execution_count": 120,
   "metadata": {
    "id": "yphwjc1gabMa"
   },
   "outputs": [
    {
     "data": {
      "text/plain": [
       "{'age': 25, 'city': 'New york'}"
      ]
     },
     "execution_count": 120,
     "metadata": {},
     "output_type": "execute_result"
    }
   ],
   "source": [
    "# Delete set of keys from Python Dictionary\n",
    "# sampleDict = {\n",
    "#   \"name\": \"Kelly\",\n",
    "#   \"age\":25,\n",
    "#   \"salary\": 8000,\n",
    "#   \"city\": \"New york\"\n",
    "  \n",
    "# }\n",
    "# keysToRemove = [\"name\", \"salary\"]\n",
    "\n",
    "# Expected Output:\n",
    "# {'city': 'New york', 'age': 25}\n",
    "\n",
    "sampleDict = {\n",
    "  \"name\": \"Kelly\",\n",
    "  \"age\":25,\n",
    "  \"salary\": 8000,\n",
    "  \"city\": \"New york\" \n",
    "}\n",
    "\n",
    "keysToRemove = ['name','salary']\n",
    "\n",
    "for i in keysToRemove:\n",
    "    sampleDict.pop(i)\n",
    "sampleDict"
   ]
  }
 ],
 "metadata": {
  "colab": {
   "name": "Dictionary_Assignment.ipynb",
   "provenance": []
  },
  "kernelspec": {
   "display_name": "Python 3 (ipykernel)",
   "language": "python",
   "name": "python3"
  },
  "language_info": {
   "codemirror_mode": {
    "name": "ipython",
    "version": 3
   },
   "file_extension": ".py",
   "mimetype": "text/x-python",
   "name": "python",
   "nbconvert_exporter": "python",
   "pygments_lexer": "ipython3",
   "version": "3.10.9"
  }
 },
 "nbformat": 4,
 "nbformat_minor": 1
}
