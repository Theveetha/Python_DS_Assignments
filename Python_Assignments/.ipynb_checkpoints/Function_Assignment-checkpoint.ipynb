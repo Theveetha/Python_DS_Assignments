{
 "cells": [
  {
   "cell_type": "code",
   "execution_count": 2,
   "metadata": {},
   "outputs": [],
   "source": [
    "import pandas as pd\n",
    "import numpy as np"
   ]
  },
  {
   "cell_type": "code",
   "execution_count": 3,
   "metadata": {
    "id": "1YVTYu-CuCOO"
   },
   "outputs": [
    {
     "name": "stdout",
     "output_type": "stream",
     "text": [
      "Enter value 1 : 3\n",
      "Enter value 2 : 4\n"
     ]
    },
    {
     "data": {
      "text/plain": [
       "7"
      ]
     },
     "execution_count": 3,
     "metadata": {},
     "output_type": "execute_result"
    }
   ],
   "source": [
    "# Define a function calls addNumber(x, y) that takes in two number and returns the sum of the two numbers.\n",
    "def addNumber (x,y):\n",
    "    result = x + y\n",
    "    return result\n",
    "\n",
    "x = int(input(\"Enter value 1 : \"))\n",
    "y = int(input(\"Enter value 2 : \"))\n",
    "\n",
    "addNumber(x,y)"
   ]
  },
  {
   "cell_type": "code",
   "execution_count": 5,
   "metadata": {
    "id": "1-gIq-Rju2i2"
   },
   "outputs": [
    {
     "name": "stdout",
     "output_type": "stream",
     "text": [
      "Enter value 1 : 5\n",
      "Enter value 2 : 6\n"
     ]
    },
    {
     "data": {
      "text/plain": [
       "-1"
      ]
     },
     "execution_count": 5,
     "metadata": {},
     "output_type": "execute_result"
    }
   ],
   "source": [
    "# Define a function calls subtractNumber(x, y) that takes in two numbers and returns the difference of the two numbers.\n",
    "def subNumber (x,y):\n",
    "    result = x - y\n",
    "    return result\n",
    "\n",
    "x = int(input(\"Enter value 1 : \"))\n",
    "y = int(input(\"Enter value 2 : \"))\n",
    "\n",
    "subNumber(x,y)"
   ]
  },
  {
   "cell_type": "code",
   "execution_count": 8,
   "metadata": {
    "id": "kiAE0iLbviG9"
   },
   "outputs": [
    {
     "name": "stdout",
     "output_type": "stream",
     "text": [
      "Enter value 1 : 4\n",
      "Enter value 2 : 4\n",
      "Both values are equal\n"
     ]
    }
   ],
   "source": [
    "# Write a function getBiggerNumber(x, y) that takes in two numbers as arguments and returns the bigger number.\n",
    "def getBiggerNumber (x,y):\n",
    "    if x > y:\n",
    "        print(\"1st value is greater\")\n",
    "    elif x < y:\n",
    "        print(\"2nd value is greater\")\n",
    "    else:\n",
    "        print(\"Both values are equal\")\n",
    "\n",
    "x = int(input(\"Enter value 1 : \"))\n",
    "y = int(input(\"Enter value 2 : \"))\n",
    "\n",
    "getBiggerNumber(x,y)"
   ]
  },
  {
   "cell_type": "code",
   "execution_count": 12,
   "metadata": {
    "id": "10B5oVcZh16d"
   },
   "outputs": [
    {
     "name": "stdout",
     "output_type": "stream",
     "text": [
      "Enter value to calculate the square root : 4\n",
      "Square root of 4 is 2.0\n",
      "Enter the number to calculate the power : 3\n",
      "Enter the power : 2\n",
      "3 to the power of 2 is 9.0\n",
      "Enter the radius : 3\n",
      "Area of Circle with radius 3 is 28.274333882308138\n"
     ]
    }
   ],
   "source": [
    "# Python provides many built-in modules with many useful functions. \n",
    "# One such module is the math module. The math module provides many useful functions such as sqrt(x), pow(x, y), ceil(x), floor(x) etc. \n",
    "# You will need to do a \"import math\" before you are allowed to use the functions within the math module.\n",
    "import math\n",
    "# Calculate the square root of 16 and stores it in the variable a\n",
    "def sqrtCalc(a):\n",
    "    result = math.sqrt(a)\n",
    "    return result\n",
    "a = int(input(\"Enter value to calculate the square root : \"))\n",
    "sqr = sqrtCalc(a)\n",
    "print(f\"Square root of {a} is {sqr}\")\n",
    "\n",
    "# Calculate 3 to the power of 5 and stores it in the variable b\n",
    "def powerCalc(a,b):\n",
    "    result = math.pow(a,b)\n",
    "    return result\n",
    "a = int(input(\"Enter the number to calculate the power : \"))\n",
    "b = int(input(\"Enter the power : \"))\n",
    "power = powerCalc(a,b)\n",
    "print(f\"{a} to the power of {b} is {power}\")\n",
    "\n",
    "# Calculate area of circle with radius = 3.0 by making use of the math.pi constant and store it in the variable c\n",
    "def areaofCircle(r):\n",
    "    result = math.pi*math.pow(r,2)\n",
    "    return result\n",
    "r = int(input(\"Enter the radius : \"))\n",
    "area = areaofCircle(a)\n",
    "print(f\"Area of Circle with radius {r} is {area}\")\n"
   ]
  },
  {
   "cell_type": "code",
   "execution_count": 15,
   "metadata": {
    "id": "Yado0B99h2E_"
   },
   "outputs": [
    {
     "name": "stdout",
     "output_type": "stream",
     "text": [
      "Enter the Celsius to be converted : 0\n",
      "0.0 - Celsius is equivalent to 32.00 - Fahrenheit\n"
     ]
    }
   ],
   "source": [
    "# Write a function to convert temperature from Celsius to Fahrenheit scale.\n",
    "# oC to oF Conversion: Multipy by 9, then divide by 5, then add 32.\n",
    "\n",
    "def Cel2Fah(cel):\n",
    "    fah = ((cel * 9)/5)+32\n",
    "    return round(fah,2)\n",
    "\n",
    "cel = float(input(\"Enter the Celsius to be converted : \"))\n",
    "fah = Cel2Fah(cel)\n",
    "print(f\"{cel} - Celsius is equivalent to {fah:.2f} - Fahrenheit\")\n",
    "\n",
    "# Note: Return a string of 2 decimal places.\n",
    "# In - Cel2Fah(28.0)\n",
    "# Out - '82.40'\n",
    "# In - Cel2Fah(0.00)\n",
    "# Out - '32.00'"
   ]
  },
  {
   "cell_type": "code",
   "execution_count": 16,
   "metadata": {
    "id": "n7lsFol9h2ID"
   },
   "outputs": [
    {
     "name": "stdout",
     "output_type": "stream",
     "text": [
      "Enter the weight in kg : 63\n",
      "Enter the height in m : 1.7\n",
      "BMI of person with weight 63.0kg and height 1.7m is 21.8\n"
     ]
    }
   ],
   "source": [
    "# Write a function to compute the BMI of a person.\n",
    "#     BMI = weight(kg)  /  ( height(m)*height(m) )\n",
    "\n",
    "def BMI(w,h):\n",
    "    bmi = w/(h*h)\n",
    "    return round(bmi,2)\n",
    "\n",
    "w = float(input(\"Enter the weight in kg : \"))\n",
    "h = float(input(\"Enter the height in m : \"))\n",
    "bmi = BMI(w,h)\n",
    "print(f\"BMI of person with weight {w}kg and height {h}m is {bmi:.1f}\")\n",
    "\n",
    "# Note: Return a string of 1 decimal place.\n",
    "# In - BMI(63, 1.7)\n",
    "# Out - '21.8'\n",
    "# In - BMI(110, 2)\n",
    "# Out - '27.5'\n",
    "\n"
   ]
  },
  {
   "cell_type": "code",
   "execution_count": 20,
   "metadata": {
    "id": "f2tV1AU8h2LN"
   },
   "outputs": [
    {
     "name": "stdout",
     "output_type": "stream",
     "text": [
      "Enter the value : 46\n",
      "Enter the total : 90\n",
      "Percentage value : 51\n"
     ]
    }
   ],
   "source": [
    "# Write a function percent(value, total) that takes in two numbers as arguments, and returns the percentage value as an integer.\n",
    "# In - percent(46, 90)\n",
    "# Out - 51\n",
    "# In - percent(51, 51)\n",
    "# Out - 100\n",
    "# In - percent(63, 12)\n",
    "# Out - 525\n",
    "def percent(a,b):\n",
    "    percentage = (a/b)*100\n",
    "    return round(percentage)\n",
    "a = float(input(\"Enter the value : \"))\n",
    "b = float(input(\"Enter the total : \"))\n",
    "per = percent(a,b)\n",
    "print(f\"Percentage value : {per}\")"
   ]
  },
  {
   "cell_type": "code",
   "execution_count": 22,
   "metadata": {
    "id": "QyoWR3dQh2OZ"
   },
   "outputs": [
    {
     "name": "stdout",
     "output_type": "stream",
     "text": [
      "Enter side 1 value of triangle : 5\n",
      "Enter side 2 value of triangle : 12\n",
      "Hypotenuse of triangle with side values 5 and 12 is 13\n"
     ]
    }
   ],
   "source": [
    "# Write a function to compute the hypotenuse given sides a and b of the triangle.\n",
    "# Hint: You can use math.sqrt(x) to compute the square root of x.\n",
    "# In - hypotenuse(3, 4)\n",
    "# Out - 5\n",
    "# In - hypotenuse(5, 12)\n",
    "# Out - 13\n",
    "def hypotenuse(a,b):\n",
    "    h = math.sqrt(math.pow(a,2)+math.pow(b,2))\n",
    "    return round(h)\n",
    "a = int(input(\"Enter side 1 value of triangle : \"))\n",
    "b = int(input(\"Enter side 2 value of triangle : \"))\n",
    "hyp = hypotenuse(a,b)\n",
    "print(f\"Hypotenuse of triangle with side values {a} and {b} is {hyp}\")"
   ]
  },
  {
   "cell_type": "code",
   "execution_count": 31,
   "metadata": {
    "id": "XthPUigkh2Ro"
   },
   "outputs": [
    {
     "name": "stdout",
     "output_type": "stream",
     "text": [
      "9\n",
      "480\n",
      "9\n",
      "10\n"
     ]
    }
   ],
   "source": [
    "# Write a function getSumOfLastDigits() that takes in a list of positive numbers and returns the sum of all the last digits in the list.\n",
    "# getSumOfLastDigits([2, 3, 4])\n",
    "# 9\n",
    "# getSumOfLastDigits([1, 23, 456])\n",
    "# 10\n",
    "\n",
    "def sumofDigits(numbers):\n",
    "    total = 0\n",
    "    for i in numbers:\n",
    "        total += i\n",
    "    return total\n",
    "\n",
    "print(sumofDigits([2,3,4]))\n",
    "print(sumofDigits([1, 23, 456]))\n",
    "\n",
    "def sumofLastDigits(numbers):\n",
    "#     total = sum(int(str(num)[-1]) for num in numbers)\n",
    "    total = 0\n",
    "    for i in numbers:\n",
    "        total += int(str(i)[-1])\n",
    "    return total\n",
    "\n",
    "print(sumofLastDigits([2,3,4]))\n",
    "print(sumofLastDigits([1, 23, 456]))"
   ]
  },
  {
   "cell_type": "code",
   "execution_count": 35,
   "metadata": {
    "id": "T-uIqm9Mh2Un"
   },
   "outputs": [
    {
     "name": "stdout",
     "output_type": "stream",
     "text": [
      "My name is Thevee. My age is secret\n",
      "My name is Thevee. I am 29 years old.\n"
     ]
    }
   ],
   "source": [
    "# Write a function that uses a default value.\n",
    "# In - introduce('Lim', 20)\n",
    "# Out - 'My name is Lim. I am 20 years old.'\n",
    "# In - introduce('Ahmad')\n",
    "# Out - 'My name is Ahmad. My age is secret.'\n",
    "def introduce(name,age='secret'):\n",
    "    return f\"My name is {name}. I am {age} years old.\" if age != 'secret' else f\"My name is {name}. My age is {age}\"\n",
    "\n",
    "print(introduce('Thevee'))\n",
    "print(introduce('Thevee',29))"
   ]
  },
  {
   "cell_type": "code",
   "execution_count": 39,
   "metadata": {
    "id": "h0pXo5vH6wA-"
   },
   "outputs": [
    {
     "name": "stdout",
     "output_type": "stream",
     "text": [
      "False\n",
      "True\n",
      "False\n"
     ]
    }
   ],
   "source": [
    "# Write a function isEquilateral(x, y, z) that accepts the 3 sides of a triangle as arguments. \n",
    "# The program should return True if it is an equilateral triangle.\n",
    "\n",
    "# In - isEquilateral(2, 4, 3)\n",
    "# False - False\n",
    "# In - isEquilateral(3, 3, 3)\n",
    "# Out - True\n",
    "# In - isEquilateral(-3, -3, -3)\n",
    "# Out - False\n",
    "\n",
    "def isEquilateral(x,y,z):\n",
    "    isEq = 0\n",
    "#     if x==y==z and (x>0 and y>0 and z>0):\n",
    "#         isEq = 1\n",
    "#     else:\n",
    "#         isEq = 0\n",
    "#     return \"True\" if isEq == 1 else \"False\"\n",
    "    return \"True\" if x==y==z and x>0 and y>0 and z>0 else \"False\"\n",
    "print(isEquilateral(2,3,4))\n",
    "print(isEquilateral(3,3,3))\n",
    "print(isEquilateral(-3,-3,-3))"
   ]
  },
  {
   "cell_type": "code",
   "execution_count": 40,
   "metadata": {
    "id": "3NvcKCkn6wFy"
   },
   "outputs": [
    {
     "name": "stdout",
     "output_type": "stream",
     "text": [
      "-8\n",
      "1\n",
      "0\n"
     ]
    }
   ],
   "source": [
    "# For a quadratic equation in the form of ax2+bx+c, the discriminant, D is b2-4ac. Write a function to compute the discriminant, D.\n",
    "# In - quadratic(1, 2, 3)\n",
    "# Out - 'The discriminant is -8.'\n",
    "# In - quadratic(1, 3, 2)\n",
    "# Out - 'The discriminant is 1.'\n",
    "# In - quadratic(1, 4, 4)\n",
    "# Out - 'The discriminant is 0.'\n",
    "\n",
    "def quadratic(a,b,c):\n",
    "    D = b**2 - (4*a*c)\n",
    "    return D\n",
    "print(quadratic(1, 2, 3))\n",
    "print(quadratic(1, 3, 2))\n",
    "print(quadratic(1, 4, 4))"
   ]
  },
  {
   "cell_type": "code",
   "execution_count": 56,
   "metadata": {
    "colab": {
     "base_uri": "https://localhost:8080/",
     "height": 34
    },
    "id": "ihmuttBS6wJQ",
    "outputId": "0ef031e9-dec6-4ffe-b1ea-38d836dbcdcf"
   },
   "outputs": [
    {
     "name": "stdout",
     "output_type": "stream",
     "text": [
      "5\n",
      "0\n",
      "10\n"
     ]
    }
   ],
   "source": [
    "# Define a function calls addFirstAndLast(x) that takes in a list of numbers and returns the sum of the first and last numbers.\n",
    "# In - addFirstAndLast([])\n",
    "# Out - 0\n",
    "# In - addFirstAndLast([2, 7, 3])\n",
    "# Out - 5\n",
    "# In - addFirstAndLast([10])\n",
    "# Out - 10\n",
    "\n",
    "def addFirstAndLast(lst):\n",
    "    if not lst:\n",
    "        return 0\n",
    "    elif len(lst) == 1:\n",
    "        return lst[0]\n",
    "    else:\n",
    "        return lst[0] + lst[-1]\n",
    "\n",
    "print(addFirstAndLast([2,7,3]))\n",
    "print(addFirstAndLast([]))\n",
    "print(addFirstAndLast([10]))\n"
   ]
  },
  {
   "cell_type": "code",
   "execution_count": 59,
   "metadata": {
    "colab": {
     "base_uri": "https://localhost:8080/",
     "height": 34
    },
    "id": "lEt9HNPI6wM0",
    "outputId": "b07e15c3-a864-454c-aef5-1f1f0e07b39a"
   },
   "outputs": [
    {
     "data": {
      "text/plain": [
       "False"
      ]
     },
     "execution_count": 59,
     "metadata": {},
     "output_type": "execute_result"
    }
   ],
   "source": [
    "# Complete the 'lambda' expression so that it returns True if the argument is an even number, and False otherwise.\n",
    "\n",
    "# (lambda num : ---------------------------------------)(6)\n",
    "is_even = lambda x : x % 2 == 0\n",
    "is_even(7)"
   ]
  },
  {
   "cell_type": "code",
   "execution_count": 65,
   "metadata": {
    "colab": {
     "base_uri": "https://localhost:8080/",
     "height": 35
    },
    "id": "JYWSZXPg6wQN",
    "outputId": "7b71e08d-573f-4d03-d5e3-e220df4c3b90"
   },
   "outputs": [
    {
     "name": "stdout",
     "output_type": "stream",
     "text": [
      "Help on function getScore in module __main__:\n",
      "\n",
      "getScore()\n",
      "    'A function that computes and returns the final score.\n",
      "\n",
      "'A function that computes and returns the final score.\n"
     ]
    }
   ],
   "source": [
    "\n",
    "# Get the documentation of below function\n",
    "\n",
    "def getScore():\n",
    "  ''''A function that computes and returns the final score.'''\n",
    "  pass\n",
    "help(getScore)\n",
    "print(getScore.__doc__)"
   ]
  },
  {
   "cell_type": "code",
   "execution_count": 67,
   "metadata": {
    "colab": {
     "base_uri": "https://localhost:8080/",
     "height": 34
    },
    "id": "zmi81hi76wTK",
    "outputId": "232b4456-63ad-4582-d2cd-d888952dc957"
   },
   "outputs": [
    {
     "name": "stdout",
     "output_type": "stream",
     "text": [
      "25\n",
      "100\n",
      "1\n"
     ]
    }
   ],
   "source": [
    "# In Python, it is possible to pass a function as a argument to another function. \n",
    "# Write a function useFunction(func, num) that takes in a function and a number as arguments. \n",
    "# The useFunction should produce the output shown in the examples given below.\n",
    "\n",
    "# def addOne(x):\n",
    "#   return x + 1\n",
    "# useFunction(addOne, 4)\n",
    "# 25\n",
    "# useFunction(addOne, 9)\n",
    "# 100\n",
    "# useFunction(addOne, 0)\n",
    "# 1\n",
    "\n",
    "\n",
    "def addOne(x):\n",
    "    return x+1\n",
    "\n",
    "def useFunction(fun,num):\n",
    "    return(fun(num)**2)\n",
    "\n",
    "print(useFunction(addOne,4))\n",
    "print(useFunction(addOne,9))\n",
    "print(useFunction(addOne,0))"
   ]
  },
  {
   "cell_type": "code",
   "execution_count": 77,
   "metadata": {
    "id": "JJm1zFMX6wWK"
   },
   "outputs": [
    {
     "name": "stdout",
     "output_type": "stream",
     "text": [
      "Enter 1st number : 3\n",
      "Enter 2nd number : 1\n",
      "Enter 3rd number : 4\n",
      "largest number among 3,1,4 is 4\n"
     ]
    }
   ],
   "source": [
    "# Write a function find_max that accepts three numbers as arguments and returns the largest number among three. \n",
    "# Write another function main, in main() function accept three numbers from user and call find_max.\n",
    "\n",
    "def find_max(a,b,c):\n",
    "    return max(a,b,c)\n",
    "\n",
    "def main():\n",
    "    a = int(input(\"Enter 1st number : \"))\n",
    "    b = int(input(\"Enter 2nd number : \"))\n",
    "    c = int(input(\"Enter 3rd number : \"))\n",
    "    result = find_max(a,b,c)\n",
    "    print(f\"largest number among {a},{b},{c} is {result}\")\n",
    "\n",
    "main()\n",
    "# lst = [6,3,1]\n",
    "# total = 0\n",
    "# for i in lst:\n",
    "#     if i > total:\n",
    "#         total = i\n",
    "#     else:\n",
    "#         total = total\n",
    "# print(total)\n"
   ]
  },
  {
   "cell_type": "code",
   "execution_count": 96,
   "metadata": {
    "colab": {
     "base_uri": "https://localhost:8080/",
     "height": 34
    },
    "id": "PBvBwg0O6waD",
    "outputId": "57768b69-c749-4d88-be06-7a9d41a98de2"
   },
   "outputs": [
    {
     "name": "stdout",
     "output_type": "stream",
     "text": [
      "Enter a single character : A\n",
      "Entered character A is a vowel : True\n",
      "Enter the string : Thevee WEDS Parthi\n"
     ]
    },
    {
     "data": {
      "text/plain": [
       "\"The number of vowels in the given string 'Thevee WEDS Parthi' is 6\""
      ]
     },
     "execution_count": 96,
     "metadata": {},
     "output_type": "execute_result"
    }
   ],
   "source": [
    "# Write a function, is_vowel that returns the value true if a given character is a vowel, \n",
    "# and otherwise returns false. \n",
    "# Write another function main, in main() function accept a string from user and count number \n",
    "# of vowels in that string.\n",
    "\n",
    "def is_vowel(char):\n",
    "    return \"True\" if char.lower() in ('a','e','i','o','u') else \"False\"\n",
    "\n",
    "# This function checks the single character\n",
    "def main():\n",
    "    char = input(\"Enter a single character : \")\n",
    "    result = is_vowel(char)\n",
    "    print(f\"Entered character {char} is a vowel : {result}\")\n",
    "\n",
    "def is_main():\n",
    "    string = input(\"Enter the string : \")\n",
    "    count = 0\n",
    "    for i in string:\n",
    "        if is_vowel(i) == 'True':\n",
    "            count += 1\n",
    "    return f\"The number of vowels in the given string '{string}' is {count}\"\n",
    "\n",
    "main()\n",
    "is_main()"
   ]
  },
  {
   "cell_type": "code",
   "execution_count": null,
   "metadata": {},
   "outputs": [],
   "source": [
    "def is_vowel(char):\n",
    "    vowels = 'aeiouAEIOU'\n",
    "    return char in vowels\n",
    "\n",
    "def main():\n",
    "    # Accept a string from the user\n",
    "    input_string = input(\"Enter a string: \")\n",
    "\n",
    "    # Count the number of vowels in the string\n",
    "    vowel_count = sum(1 for char in input_string if is_vowel(char))\n",
    "\n",
    "    # Display the result\n",
    "    print(f\"The number of vowels in the string is: {vowel_count}\")\n",
    "\n",
    "# Call the main function to run the program\n",
    "main()"
   ]
  },
  {
   "cell_type": "code",
   "execution_count": 109,
   "metadata": {},
   "outputs": [
    {
     "data": {
      "text/plain": [
       "[2, 4, 6, 8, 10]"
      ]
     },
     "execution_count": 109,
     "metadata": {},
     "output_type": "execute_result"
    }
   ],
   "source": [
    "# Write a function named is_prime, which takes an integer as an argument and returns true \n",
    "# if the argument is a prime number, or false otherwise. \n",
    "# Also, write the main function that displays prime numbers between 1 to 500.\n",
    "\n",
    "def is_prime(i):\n",
    "    return i if i % 2 == 0 else \"False\"\n",
    "\n",
    "def main():\n",
    "    prime_num = []\n",
    "    for i in range(1,11):\n",
    "        if is_prime(i) != 'False':\n",
    "            prime_num.append(i)\n",
    "    return prime_num\n",
    "        \n",
    "main()"
   ]
  },
  {
   "cell_type": "code",
   "execution_count": 118,
   "metadata": {},
   "outputs": [
    {
     "name": "stdout",
     "output_type": "stream",
     "text": [
      "Enter the length of list : 3\n",
      "Enter element 1 : 1\n",
      "Enter element 2 : 2\n",
      "Enter element 3 : 3\n"
     ]
    },
    {
     "data": {
      "text/plain": [
       "36"
      ]
     },
     "execution_count": 118,
     "metadata": {},
     "output_type": "execute_result"
    }
   ],
   "source": [
    "### Write a function in python to find the sum of the cube of elements in a list. \n",
    "# The list is received as an argument to the function, in turn, the function must return the sum. \n",
    "# Write the main function which invokes the above function.\n",
    "\n",
    "def cube(lst):\n",
    "#     output = []\n",
    "#     for i in lst:\n",
    "#         output.append(i**3)\n",
    "#     return output\n",
    "    return sum(x**3 for x in lst)\n",
    "\n",
    "def main():\n",
    "    length = int(input(\"Enter the length of list : \"))\n",
    "    lst = []\n",
    "    for i in range(1,length+1):\n",
    "        num = int(input(f\"Enter element {i} : \"))\n",
    "        lst.append(num)\n",
    "    return cube(lst)\n",
    "\n",
    "main()"
   ]
  },
  {
   "cell_type": "code",
   "execution_count": 125,
   "metadata": {},
   "outputs": [
    {
     "data": {
      "text/plain": [
       "920"
      ]
     },
     "execution_count": 125,
     "metadata": {},
     "output_type": "execute_result"
    }
   ],
   "source": [
    "# Write the definition of a function zero_ending(scores) to add all those values in the list of scores, \n",
    "# which are ending with zero and display the sum.\n",
    "# For example: If the scores contain [200, 456, 300, 100, 234, 678] The sum should be displayed as 600\n",
    "\n",
    "def zero_ending(lst):\n",
    "    return sum(x for x in lst if str(x)[-1] == '0')\n",
    "\n",
    "lst = [200, 456, 300, 100, 234, 678, 320]\n",
    "zero_ending(lst)"
   ]
  },
  {
   "cell_type": "code",
   "execution_count": 132,
   "metadata": {},
   "outputs": [
    {
     "data": {
      "text/plain": [
       "['LONDON', 'NEW YORK']"
      ]
     },
     "execution_count": 132,
     "metadata": {},
     "output_type": "execute_result"
    }
   ],
   "source": [
    "# Write a definition of a method count_now(places) to find and display those place names, \n",
    "# in which there are more than 5 characters.\n",
    "\n",
    "# For example :\n",
    "# If the list places contains\n",
    "# [\"DELHI\",\"LONDON\",\"PARIS\",\"NEW YORK\",\"DUBAI\"]\n",
    "# The following should get displayed :\n",
    "# LONDON\n",
    "# NEW YORK\n",
    "\n",
    "def count_now(places):\n",
    "    output = [x for x in places if len(x) > 5]\n",
    "    return output\n",
    "\n",
    "places = [\"DELHI\",\"LONDON\",\"PARIS\",\"NEW YORK\",\"DUBAI\"]\n",
    "count_now(places)"
   ]
  },
  {
   "cell_type": "code",
   "execution_count": 146,
   "metadata": {},
   "outputs": [
    {
     "data": {
      "text/plain": [
       "['414141', 'DROND#', 'GIRIRAJ#', '131313', 'ZARA#']"
      ]
     },
     "execution_count": 146,
     "metadata": {},
     "output_type": "execute_result"
    }
   ],
   "source": [
    "# Write a method in python to display the elements of list thrice if it is a number and display \n",
    "# the element terminated with ‘#’ if it is not a number.\n",
    "\n",
    "# For example, if the content of list is as follows :\n",
    "# ThisList=[‘41’,‘DROND’,‘GIRIRAJ’, ‘13’,‘ZARA’]\n",
    "# The output should be\n",
    "# 414141\n",
    "# DROND#\n",
    "# GIRIRAJ#\n",
    "# 131313\n",
    "# ZARA#\n",
    "\n",
    "def append(lst):\n",
    "    return [i*3 if i.isnumeric() else i+'#' for i in lst]\n",
    "\n",
    "lst = ['41','DROND','GIRIRAJ','13','ZARA']\n",
    "# output = []\n",
    "# for i in lst:\n",
    "#     if i.isnumeric():\n",
    "#         output.append(i*3)\n",
    "#     else:\n",
    "#         output.append(i+'#')\n",
    "# print(output)\n",
    "\n",
    "append(lst)"
   ]
  },
  {
   "cell_type": "code",
   "execution_count": 162,
   "metadata": {},
   "outputs": [
    {
     "data": {
      "text/plain": [
       "0"
      ]
     },
     "execution_count": 162,
     "metadata": {},
     "output_type": "execute_result"
    }
   ],
   "source": [
    "# For a given list of values in descending order, write a method in python to search \n",
    "# for a value with the help of Binary Search method. \n",
    "# The method should return position of the value and should return -1 if the value not present in the list.\n",
    "\n",
    "def value_search(arr,target):\n",
    "    new_lst = sorted(arr,reverse=True)\n",
    "    index = 0\n",
    "    for i in range(len(arr)):\n",
    "        if arr[i] == target:\n",
    "            index = i\n",
    "            break\n",
    "    return index\n",
    "\n",
    "lst = [10, 50, 40, 20, 10]\n",
    "target_value = 10\n",
    "\n",
    "value_search(lst,target_value)"
   ]
  },
  {
   "cell_type": "code",
   "execution_count": 173,
   "metadata": {},
   "outputs": [
    {
     "name": "stdout",
     "output_type": "stream",
     "text": [
      "[50, 60, 70, 40, 10, 20, 30]\n",
      "[40, 50, 60, 10, 20, 30]\n"
     ]
    }
   ],
   "source": [
    "# Write a function half_and_half that takes in a list and change the list \n",
    "# such that the elements of the second half are now in the first half.\n",
    "\n",
    "# For example, if the size of list is even and content of list is as follows :\n",
    "# my_liist = [10,20,30,40,50,60]\n",
    "# The output should be\n",
    "# [40,50,60,10,20,30]\n",
    "# if the size of list is odd and content of list is as follows :\n",
    "# my_liist = [10,20,30,40,50,60,70]\n",
    "# The output should be\n",
    "# [50,60,70,40,10,20,30]\n",
    "\n",
    "def half_and_half(my_list):\n",
    "    length = len(my_list)\n",
    "    mid_length = length // 2\n",
    "    if length % 2 == 0:\n",
    "        my_list[:mid_length],my_list[mid_length:] = my_list[mid_length:],my_list[:mid_length]\n",
    "    else:\n",
    "        my_list[:mid_length], my_list[mid_length+1:] = my_list[mid_length+1:], my_list[:mid_length]\n",
    "\n",
    "    return my_list\n",
    "\n",
    "my_list = [10,20,30,40,50,60,70]\n",
    "print(half_and_half(my_list))\n",
    "my_list = [10,20,30,40,50,60]\n",
    "print(half_and_half(my_list))"
   ]
  },
  {
   "cell_type": "code",
   "execution_count": 181,
   "metadata": {
    "ExecuteTime": {
     "end_time": "2021-05-29T10:39:43.694779Z",
     "start_time": "2021-05-29T10:39:43.691446Z"
    }
   },
   "outputs": [
    {
     "name": "stdout",
     "output_type": "stream",
     "text": [
      "{1: 'a', 2: 'b', 3: 'c'}\n",
      "{}\n",
      "{1: 'a', 3: 'b'}\n"
     ]
    }
   ],
   "source": [
    "# Write a function that accepts a dictionary as an argument. If the dictionary contains replicate values, \n",
    "# return an empty dictionary, otherwise, return a new dictionary whose values are now the keys and whose \n",
    "# keys are the values.\n",
    "def reverse_dict(input_dict):\n",
    "    if len(set(input_dict.values())) != len(input_dict):\n",
    "        return {}\n",
    "    else:\n",
    "        reversed_dict = {value:key for key,value in input_dict.items()}\n",
    "        return reversed_dict\n",
    "\n",
    "my_dict1 = {'a':1,'b':2,'c':3}\n",
    "result1 = reverse_dict(my_dict1)\n",
    "print(result1)\n",
    "my_dict2 = {'a':1,'b':2,'c':2}\n",
    "result2 = reverse_dict(my_dict2)\n",
    "print(result2)\n",
    "my_dict3 = {'a':1,'b':2,'b':3}\n",
    "result3 = reverse_dict(my_dict3)\n",
    "print(result3)"
   ]
  }
 ],
 "metadata": {
  "colab": {
   "name": "Function_Assignment.ipynb",
   "provenance": []
  },
  "kernelspec": {
   "display_name": "Python 3 (ipykernel)",
   "language": "python",
   "name": "python3"
  },
  "language_info": {
   "codemirror_mode": {
    "name": "ipython",
    "version": 3
   },
   "file_extension": ".py",
   "mimetype": "text/x-python",
   "name": "python",
   "nbconvert_exporter": "python",
   "pygments_lexer": "ipython3",
   "version": "3.10.9"
  }
 },
 "nbformat": 4,
 "nbformat_minor": 1
}
