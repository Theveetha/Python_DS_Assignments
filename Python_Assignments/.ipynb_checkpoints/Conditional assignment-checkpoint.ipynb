{
 "cells": [
  {
   "cell_type": "code",
   "execution_count": 11,
   "id": "060501cb",
   "metadata": {},
   "outputs": [
    {
     "name": "stdout",
     "output_type": "stream",
     "text": [
      "Please enter a number between 0 to 9 : 7\n",
      "The word representation of entered number 7 is Seven\n"
     ]
    }
   ],
   "source": [
    "# Q. Write a program (W. A P.) which takes one number from 0 to 9 from the user and prints\n",
    "# it in the word. And if the word is not from 0 to 9 then\n",
    "# it should print that number is outside of the range and program should\n",
    "# exit.\n",
    "def number_to_word():\n",
    "    num_word = {\n",
    "        '0': 'Zero',\n",
    "        '1': 'One',\n",
    "        '2': 'Two',\n",
    "        '3': 'Three',\n",
    "        '4': 'Four',\n",
    "        '5': 'Five',\n",
    "        '6': 'Six',\n",
    "        '7': 'Seven',\n",
    "        '8': 'Eight',\n",
    "        '9': 'Nine'\n",
    "    }\n",
    "    user_input = input(\"Please enter a number between 0 to 9 : \")\n",
    "    if user_input in num_word:\n",
    "        print(f\"The word representation of entered number {user_input} is {num_word[user_input]}\")\n",
    "    else:\n",
    "        print(f\"The entered number {user_input} is outside of the range.\")\n",
    "\n",
    "number_to_word()\n",
    "# For exapmple:-\n",
    "# input = 1\n",
    "# output = one"
   ]
  },
  {
   "cell_type": "code",
   "execution_count": 15,
   "id": "64819948",
   "metadata": {},
   "outputs": [
    {
     "name": "stdout",
     "output_type": "stream",
     "text": [
      "Please enter number 1 for calculation : 5.4\n",
      "Please enter number 2 for calculation : 1.5\n",
      "\n",
      "    # To add enter 1\n",
      "    # To subtract enter 2\n",
      "    # To multiply enter 3\n",
      "    # To divide enter 4\n",
      "    # To divide and find quotient enter 5\n",
      "    # To divide and find remainder enter 6\n",
      "    # To divide and find num1 to the power of num2 enter 7\n",
      "    \n",
      "From above option enter a number to select the operation2\n",
      "The result is : 3.9000000000000004\n"
     ]
    }
   ],
   "source": [
    "# Q. W. A P. to implement calculator but the operation to be done and two\n",
    "# numbers will be taken as input from user:-\n",
    "# Operation console should show below:-\n",
    "#  Please select any one operation from below:-\n",
    "#  * To add enter 1\n",
    "#  * to subtract enter 2\n",
    "#  * To multiply enter 3\n",
    "#  * To divide enter 4\n",
    "#  * To divide and find quotient enter 5\n",
    "#  * To divide and find remainder enter 6\n",
    "#  * To divide and find num1 to the power of num2 enter 7\n",
    "\n",
    "def calculator():\n",
    "    num1 = float(input(\"Please enter number 1 for calculation : \"))\n",
    "    num2 = float(input(\"Please enter number 2 for calculation : \"))\n",
    "    print(\"\"\"\n",
    "    # To add enter 1\n",
    "    # To subtract enter 2\n",
    "    # To multiply enter 3\n",
    "    # To divide enter 4\n",
    "    # To divide and find quotient enter 5\n",
    "    # To divide and find remainder enter 6\n",
    "    # To divide and find num1 to the power of num2 enter 7\n",
    "    \"\"\")\n",
    "    operation = int(input(\"From above option enter a number to select the operation\"))\n",
    "    operator = {\n",
    "        1: num1 + num2,\n",
    "        2: num1 - num2,\n",
    "        3: num1 * num2,\n",
    "        4: num1 / num2 if num1 != 0 else \"Cannot divide by zero\",\n",
    "        5: num1 // num2 if num1 != 0 else \"Cannot divide by zero\",\n",
    "        6: num1 % num2 if num1 != 0 else \"Cannot divide by zero\",\n",
    "        7: num1 ** num2,\n",
    "    }\n",
    "    if operation in operator:\n",
    "        print(f\"The result is : {operator[operation]}\")\n",
    "    else:\n",
    "        print(\"Invalid operation number is entered\")\n",
    "    \n",
    "calculator()"
   ]
  },
  {
   "cell_type": "code",
   "execution_count": 24,
   "id": "063f81a4",
   "metadata": {},
   "outputs": [
    {
     "name": "stdout",
     "output_type": "stream",
     "text": [
      "Please enter a year : 2020\n",
      "2020 is a Leap year\n",
      "Please enter a year : 2020\n",
      "2020 is a Leap year\n"
     ]
    }
   ],
   "source": [
    "# Q. W A P to check whether a year entered by user is an leap year or not?\n",
    "# Check with below input:-\n",
    "#  leap year:- 2012, 1968, 2004, 1200, 1600,2400\n",
    "#  Non-lear year:- 1971, 2006, 1700,1800,1900\n",
    "year = int(input(\"Please enter a year : \"))\n",
    "if year%4 == 0:\n",
    "    print(f\"{year} is a Leap year\") \n",
    "else:\n",
    "    print(f\"{year} is not a Leap year\")\n",
    "\n",
    "def leapyear():\n",
    "    year = int(input(\"Please enter a year : \"))\n",
    "    print(f\"{year} is a Leap year\") if year%4 == 0 else print(f\"{year} is not a Leap year\")\n",
    "leapyear()"
   ]
  },
  {
   "cell_type": "code",
   "execution_count": 27,
   "id": "6a118086",
   "metadata": {},
   "outputs": [
    {
     "name": "stdout",
     "output_type": "stream",
     "text": [
      "Enter the number to check if its odd or even : 10345322345643234565432345432\n",
      "Entered number 10345322345643234565432345432 is an even number\n"
     ]
    }
   ],
   "source": [
    "# Q. W A P which takes one number from the user and checks whether it is\n",
    "# an even or odd number?, If it even then prints number is\n",
    "# even number else prints that number is odd number.\n",
    "def even_odd():\n",
    "    num = int(input(\"Enter the number to check if its odd or even : \"))\n",
    "    print(f\"Entered number {num} is an even number\") if num%2 == 0 else print(f\"Entered number {num} is an odd number\")\n",
    "even_odd()"
   ]
  },
  {
   "cell_type": "code",
   "execution_count": 32,
   "id": "2058bb35",
   "metadata": {},
   "outputs": [
    {
     "name": "stdout",
     "output_type": "stream",
     "text": [
      "Enter number 1 : 4\n",
      "Enter number 2 : 4\n",
      "num1 and num2 are equal\n",
      "Enter number 1 : 4\n",
      "Enter number 2 : 4\n",
      "num1 and num2 are equal\n"
     ]
    }
   ],
   "source": [
    "# Q. W A P which takes two numbers from the user and prints below output:-\n",
    "#  1. num1 is greater than num2 if num1 is greater than num2\n",
    "#  2. num1 is smaller than num2 if num1 is smaller than num2\n",
    "#  3. num1 is equal to num2 if num1 and num2 are equal\n",
    "\n",
    "num1 = int(input(\"Enter number 1 : \"))\n",
    "num2 = int(input(\"Enter number 2 : \"))\n",
    "print(\"num1 is greater than num2\") if num1>num2 else (print(\"num1 is smaller than num2\") if num1<num2 else print(\"num1 and num2 are equal\"))\n",
    "\n",
    "def num_Check():\n",
    "    num1 = int(input(\"Enter number 1 : \"))\n",
    "    num2 = int(input(\"Enter number 2 : \"))\n",
    "    if num1 > num2:\n",
    "        print(\"num1 is greater than num2\")\n",
    "    elif num1 < num2:\n",
    "        print(\"num1 is smaller than num2\")\n",
    "    else:\n",
    "        print(\"num1 and num2 are equal\")\n",
    "    \n",
    "num_Check()\n",
    "# Note:- 1. Do this problem using if - else\n",
    "#  2. Do this using ternary operator"
   ]
  },
  {
   "cell_type": "code",
   "execution_count": 41,
   "id": "58661d96",
   "metadata": {},
   "outputs": [
    {
     "name": "stdout",
     "output_type": "stream",
     "text": [
      "Enter number 1 : 3\n",
      "Enter number 2 : 4\n",
      "Enter number 3 : 1\n",
      "num2 is greater than num1 and num3\n",
      "Enter number 1 : 3\n",
      "Enter number 2 : 4\n",
      "Enter number 3 : 1\n"
     ]
    },
    {
     "data": {
      "text/plain": [
       "'num2 is greater than num1 and num3'"
      ]
     },
     "execution_count": 41,
     "metadata": {},
     "output_type": "execute_result"
    }
   ],
   "source": [
    "# Q. W A P which takes three numbers from the user and prints below\n",
    "# output:-\n",
    "#  1. num1 is greater than num2 and num3 if num1 is greater than num2\n",
    "# and num3\n",
    "#  2. num2 is greater than num1 and num3 if num2 is greater than num1\n",
    "# and num3\n",
    "#  3. num3 is greater than num1 and num2 if num3 is greater than num1\n",
    "# and num2\n",
    "\n",
    "# Note:- 1. Do this problem using if - elif - else\n",
    "#  2. Do this using ternary operator\n",
    "# a = a if a>b else b\n",
    "\n",
    "def num_Check():\n",
    "    num1 = int(input(\"Enter number 1 : \"))\n",
    "    num2 = int(input(\"Enter number 2 : \"))\n",
    "    num3 = int(input(\"Enter number 3 : \"))\n",
    "    if (num1 > num2) & (num1 > num3):\n",
    "        print(\"num1 is greater than num2 and num3\")\n",
    "    elif (num2 > num1) & (num2 > num3):\n",
    "        print(\"num2 is greater than num1 and num3\")\n",
    "    elif (num3 > num1) & (num3 > num2):\n",
    "        print(\"num3 is greater than num1 and num2\")\n",
    "    else:\n",
    "        print(\"No unique maximum number found among the three\")\n",
    "    \n",
    "num_Check()\n",
    "\n",
    "num1 = int(input(\"Enter number 1 : \"))\n",
    "num2 = int(input(\"Enter number 2 : \"))\n",
    "num3 = int(input(\"Enter number 3 : \"))\n",
    "\n",
    "result = (\"num1 is greater than num2 and num3\" if (num1 > num2) & (num1 > num3) else\n",
    "          \"num2 is greater than num1 and num3\" if (num2 > num1) & (num2 > num3) else\n",
    "          \"num3 is greater than num1 and num2\" if (num3 > num1) & (num3 > num2) else\n",
    "          \"No unique maximum number found anong the three\"\n",
    "         )\n",
    "\n",
    "result"
   ]
  },
  {
   "cell_type": "code",
   "execution_count": null,
   "id": "73377829",
   "metadata": {},
   "outputs": [],
   "source": []
  }
 ],
 "metadata": {
  "kernelspec": {
   "display_name": "Python 3 (ipykernel)",
   "language": "python",
   "name": "python3"
  },
  "language_info": {
   "codemirror_mode": {
    "name": "ipython",
    "version": 3
   },
   "file_extension": ".py",
   "mimetype": "text/x-python",
   "name": "python",
   "nbconvert_exporter": "python",
   "pygments_lexer": "ipython3",
   "version": "3.10.9"
  }
 },
 "nbformat": 4,
 "nbformat_minor": 5
}
