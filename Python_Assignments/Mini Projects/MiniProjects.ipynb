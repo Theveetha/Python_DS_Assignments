{
 "cells": [
  {
   "cell_type": "code",
   "execution_count": 21,
   "id": "07101711",
   "metadata": {},
   "outputs": [
    {
     "name": "stdout",
     "output_type": "stream",
     "text": [
      "Please enter your user name : thevee@yahoo.com\n",
      "yahoo\n",
      "Your user name is thevee and your domain name is yahoo\n",
      "Your user name is thevee and your domain name is yahoo\n",
      "Your user name is thevee and your domain name is yahoo\n",
      "Your extension is com\n",
      "Your username is thevee and Domain is yahoo\n"
     ]
    }
   ],
   "source": [
    "#get user email address\n",
    "# Tell her username and company domain name\n",
    "email = input(\"Please enter your user name : \")\n",
    "pos = email.rfind('@')\n",
    "domainpos = email.rfind('.com')\n",
    "print(email[pos+1:domainpos])\n",
    "\n",
    "# email = input(\"Please enter your user name : \")\n",
    "pos = email.rfind(\"@\")\n",
    "domainpos = email.rfind(\".com\")\n",
    "userName,domainName = email[0:pos:],email[pos+1:domainpos:]\n",
    "print(f\"Your user name is {userName} and your domain name is {domainName}\")\n",
    "\n",
    "list_n = email.split('@')\n",
    "userName = list_n[0]\n",
    "domainName = list_n[1].split('.')[0]\n",
    "print(f\"Your user name is {userName} and your domain name is {domainName}\")\n",
    "\n",
    "import re\n",
    "userName, domainName, extension = re.split(r'[@.]',email)\n",
    "print(f\"Your user name is {userName} and your domain name is {domainName}\")\n",
    "print(f\"Your extension is {extension}\")\n",
    "\n",
    "pattern='^[a-zAA-Z0-9-_]+@[a-zA-Z0-9]+.[a-zA-Z]{1,3}$'\n",
    "if re.match(pattern, email):\n",
    "    res=re.split(r\"@\",email)\n",
    "    username, domain =res[0], res[1].split('.')[0]\n",
    "    print(\"Your username is {} and Domain is {}\".format(username, domain))\n",
    "else:\n",
    "    print(\"Enter a valid email ID\")\n"
   ]
  },
  {
   "cell_type": "code",
   "execution_count": 27,
   "id": "80cdefb7",
   "metadata": {},
   "outputs": [
    {
     "name": "stdout",
     "output_type": "stream",
     "text": [
      "Please enter the number of passwords : 5\n",
      "Please enter the length of passwords : 12\n"
     ]
    },
    {
     "data": {
      "text/plain": [
       "['Dasi0xeJP#([',\n",
       " 'z<\"r=2_X[L$c',\n",
       " ')=xc/p~`f93^',\n",
       " '<t/,(RLDkr{Z',\n",
       " 'NQ&+]e-jWAZ6']"
      ]
     },
     "execution_count": 27,
     "metadata": {},
     "output_type": "execute_result"
    }
   ],
   "source": [
    "# Create a program to generate passwords for you.\n",
    "#You have to create a Program that asks user total passwords he needed and the length of them.\n",
    "\n",
    "import string\n",
    "import random\n",
    "\n",
    "characters = string.ascii_letters + string.digits + string.punctuation\n",
    "\n",
    "totalPass = int(input(\"Please enter the number of passwords : \"))\n",
    "passlength = int(input(\"Please enter the length of passwords : \"))\n",
    "\n",
    "pass_list = []\n",
    "\n",
    "for i in range(totalPass):\n",
    "    password = random.sample(characters,passlength)\n",
    "    pass_list.append(\"\".join(password))\n",
    "pass_list"
   ]
  },
  {
   "cell_type": "code",
   "execution_count": 28,
   "id": "a9e7e160",
   "metadata": {},
   "outputs": [
    {
     "data": {
      "text/plain": [
       "'\\nWrite a Python program to take team size from the user and take their names.\\nYour job is to split in approximate 2 halves only such that members of TeamA shall not reflect in TeamB\\n\\nSample Shown in Folder\\n\\n'"
      ]
     },
     "execution_count": 28,
     "metadata": {},
     "output_type": "execute_result"
    }
   ],
   "source": [
    "## Create random 2 teams.py solution\n",
    "\n",
    "\n",
    "\n",
    "# __________________Tasks_________________\n",
    "\n",
    "'''\n",
    "Write a Python program to take team size from the user and take their names.\n",
    "Your job is to split in approximate 2 halves only such that members of TeamA shall not reflect in TeamB\n",
    "\n",
    "Sample Shown in Folder\n",
    "\n",
    "'''"
   ]
  },
  {
   "cell_type": "code",
   "execution_count": 30,
   "id": "dab5f4ff",
   "metadata": {},
   "outputs": [
    {
     "name": "stdout",
     "output_type": "stream",
     "text": [
      "Enter the number of members : 5\n",
      "Enter the member name : 2\n",
      "Enter the member name : 3\n",
      "Enter the member name : 4\n",
      "Enter the member name : 1\n",
      "Enter the member name : 2\n",
      "['2', '3', '4', '1', '2']\n",
      "Enter the count of team 1 : 3\n",
      "Team1 :  ['2', '4', '2']\n",
      "Team2 :  ['1', '3']\n"
     ]
    }
   ],
   "source": [
    "#Write a Python program to take team size from the user and take their names.\n",
    "#Your job is to split in approximate 2 halves only such that members of TeamA shall not reflect in TeamB\n",
    "import random\n",
    "count = int(input(\"Enter the number of members : \"))\n",
    "members = []\n",
    "for i in range(0,count):\n",
    "    name = input(\"Enter the member name : \")\n",
    "    members.append(name)\n",
    "print(members)\n",
    "t1_count = int(input(\"Enter the count of team 1 : \"))\n",
    "t2_count = count - t1_count\n",
    "team1 = random.sample(members,t1_count)\n",
    "team2 = []\n",
    "print(\"Team1 : \",team1)\n",
    "while len(team2) < t2_count:\n",
    "    x = random.choice(members)\n",
    "    if x not in team1 and x not in team2:\n",
    "#     if x not in team1:\n",
    "        team2.append(x)\n",
    "print(\"Team2 : \",team2)"
   ]
  },
  {
   "cell_type": "code",
   "execution_count": 31,
   "id": "785b5357",
   "metadata": {},
   "outputs": [
    {
     "name": "stdout",
     "output_type": "stream",
     "text": [
      "Please enter the count of total members : 5\n",
      "Please enter team members name one by one all should be unique: \n",
      "Name 1 : 1\n",
      "Name 2 : 2\n",
      "Name 3 : 3\n",
      "Name 4 : 3\n",
      "Please enter a unique name, this name already exists in main team\n",
      "Name 4 : 2\n",
      "Please enter a unique name, this name already exists in main team\n",
      "Name 4 : 2\n",
      "Please enter a unique name, this name already exists in main team\n",
      "Name 4 : 5\n",
      "Name 5 : 6\n",
      "\n",
      "Name entered in main_team :  ['1', '2', '3', '5', '6']\n",
      "Team1 :  ['2', '5']\n",
      "Team2 :  ['1', '3', '6']\n"
     ]
    }
   ],
   "source": [
    "# Here we can't repeat the name\n",
    "import random\n",
    "main_team = []\n",
    "team1 = []\n",
    "team2 = []\n",
    "#input team names by user choice\n",
    "num1 = int(input(\"Please enter the count of total members : \"))\n",
    "print(\"Please enter team members name one by one all should be unique: \")\n",
    "i = 0\n",
    "while i<num1:\n",
    "    name = input(f\"Name {i+1} : \")\n",
    "    if name.lower().strip() in main_team:\n",
    "        print(\"Please enter a unique name, this name already exists in main team\")\n",
    "        i-=1\n",
    "    elif name.lower().strip() == \"\" or name == \" \":\n",
    "        print(\"Please enter a valid name\")\n",
    "        i-=1\n",
    "    else:\n",
    "        main_team.append(name.lower().strip())\n",
    "    i+=1\n",
    "print(\"\\nName entered in main_team : \",main_team)\n",
    "# selecting random team1\n",
    "team1 = random.sample(main_team,int(len(main_team)/2))\n",
    "# selecting team2 not in team1\n",
    "for i in main_team:\n",
    "    if i not in team1:\n",
    "        team2.append(i)\n",
    "print(\"Team1 : \",team1)\n",
    "print(\"Team2 : \",team2)"
   ]
  }
 ],
 "metadata": {
  "kernelspec": {
   "display_name": "Python 3 (ipykernel)",
   "language": "python",
   "name": "python3"
  },
  "language_info": {
   "codemirror_mode": {
    "name": "ipython",
    "version": 3
   },
   "file_extension": ".py",
   "mimetype": "text/x-python",
   "name": "python",
   "nbconvert_exporter": "python",
   "pygments_lexer": "ipython3",
   "version": "3.10.9"
  }
 },
 "nbformat": 4,
 "nbformat_minor": 5
}
