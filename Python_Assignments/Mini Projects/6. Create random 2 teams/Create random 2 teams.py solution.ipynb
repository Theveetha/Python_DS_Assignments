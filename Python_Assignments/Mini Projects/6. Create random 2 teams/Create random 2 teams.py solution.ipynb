{
 "cells": [
  {
   "cell_type": "code",
   "execution_count": null,
   "metadata": {},
   "outputs": [],
   "source": [
    "## Create random 2 teams.py solution\n",
    "\n",
    "\n",
    "\n",
    "# __________________Tasks_________________\n",
    "\n",
    "'''\n",
    "Write a Python program to take team size from the user and take their names.\n",
    "Your job is to split in approximate 2 halves only such that members of TeamA shall not reflect in TeamB\n",
    "\n",
    "Sample Shown in Folder\n",
    "\n",
    "'''\n",
    "\n"
   ]
  },
  {
   "cell_type": "code",
   "execution_count": 1,
   "metadata": {},
   "outputs": [
    {
     "name": "stdout",
     "output_type": "stream",
     "text": [
      "Enter team size: 6\n",
      "a\n",
      "b\n",
      "g\n",
      "t\n",
      "e\n",
      "c\n",
      "['a', 'a', 't']\n",
      "['b', 'g', 'e', 'c']\n"
     ]
    }
   ],
   "source": [
    "import random\n",
    "teamsize = int(input(\"Enter team size: \"))\n",
    "names = []\n",
    "for i in range(teamsize):\n",
    "    x = input()\n",
    "    names.append(x)\n",
    "    \n",
    "team1 = []\n",
    "team2 = []\n",
    "    \n",
    "for i in range(teamsize//2):\n",
    "    x = random.choice(names)\n",
    "    team1.append(x)\n",
    "    \n",
    "#y = teamsize - (teamsize//2)\n",
    "\n",
    "for z in names:\n",
    "    if z not in team1:\n",
    "        team2.append(z)\n",
    "        \n",
    "        \n",
    "print(team1)\n",
    "print(team2)\n"
   ]
  },
  {
   "cell_type": "code",
   "execution_count": 4,
   "metadata": {},
   "outputs": [
    {
     "name": "stdout",
     "output_type": "stream",
     "text": [
      "Enter Team size: 5\n",
      "Team1: ['c', 'b', 'd', 'a', 'e'] \n",
      "Team2: []\n"
     ]
    }
   ],
   "source": [
    "import random\n",
    "def teams(x,y):\n",
    "    Team=random.sample(y, x)\n",
    "    for i in Team:\n",
    "        y.remove(i)\n",
    "    print(\"Team1: {} \\nTeam2: {}\".format(Team,y))\n",
    "Team_size=int(input('Enter Team size: '))\n",
    "Team_list=['a', 'b', 'c', 'd', 'e', 'f', 'g', \n",
    "           'h', 'i', 'j', 'k', 'l', 'm']\n",
    "Team_list=['a', 'b', 'c', 'd', 'e']\n",
    "teams(Team_size, Team_list)\n"
   ]
  },
  {
   "cell_type": "code",
   "execution_count": 6,
   "metadata": {},
   "outputs": [
    {
     "name": "stdout",
     "output_type": "stream",
     "text": [
      "Enter team size5\n",
      "Enter member names:\n",
      "a\n",
      "r\n",
      "y\n",
      "e\n",
      "v\n",
      "Name entered in team: ['a', 'r', 'y', 'e', 'v']\n",
      "Let's say team 1 is: ['a', 'r']\n",
      "Let's say team 2 is: ['y', 'e', 'v']\n"
     ]
    }
   ],
   "source": [
    "import random\n",
    "size=int(input(\"Enter team size\"))\n",
    "list1=[]\n",
    "list2=[]\n",
    "list3=[]\n",
    "print(\"Enter member names:\")\n",
    "for a in range(0,size):\n",
    "    list1.append(input())\n",
    "print(f\"Name entered in team: {list1}\")\n",
    "list2=random.sample(list1,int(size/2))\n",
    "for j in list1:\n",
    "        if j in list2:\n",
    "            continue\n",
    "        else:\n",
    "            list3.append(j)\n",
    "print(f\"Let's say team 1 is: {list2}\")\n",
    "print(f\"Let's say team 2 is: {list3}\")\n"
   ]
  },
  {
   "cell_type": "code",
   "execution_count": 7,
   "metadata": {},
   "outputs": [
    {
     "name": "stdout",
     "output_type": "stream",
     "text": [
      "How many players ? 5\n",
      "Enter the player name below and press enter -- \n",
      "Enter name : a\n",
      "Enter name : d\n",
      "Enter name : r\n",
      "Enter name : y\n",
      "Enter name : i\n",
      "\n",
      "Name entered in team :  ['a', 'd', 'r', 'y', 'i']\n",
      "Let's say Team1 is  ['i', 'a']\n",
      "Let's say Team2 is  ['d', 'r', 'y']\n"
     ]
    }
   ],
   "source": [
    "### \n",
    "\n",
    "\n",
    "import random\n",
    "\n",
    "team = []\n",
    "teamLength = int(input('How many players ? '))\n",
    "print('Enter the player name below and press enter -- ')\n",
    "for i in range(teamLength):\n",
    "    print('Enter name : ',end='')\n",
    "    team.append(input())\n",
    "team2 = team.copy()                     #taking a copy o team in team2 as team will be changed in next for loop if taken directly on it\n",
    "team1 = random.sample(team,int(teamLength/2))  \n",
    "for i in team1  :\n",
    "    team2.remove(i)\n",
    "print()\n",
    "print('Name entered in team : ',team)\n",
    "print(\"Let\\'s say Team1 is \",team1)\n",
    "print(\"Let\\'s say Team2 is \",team2)"
   ]
  },
  {
   "cell_type": "code",
   "execution_count": 8,
   "metadata": {},
   "outputs": [
    {
     "name": "stdout",
     "output_type": "stream",
     "text": [
      "Enter total number of members : 6\n",
      "Enter number of team : 2\n",
      "Enter 1 member : a\n",
      "Enter 2 member : tr\n",
      "Enter 3 member : u\n",
      "Enter 4 member : re\n",
      "Enter 5 member : v\n",
      "Enter 6 member : hj\n",
      "team_1 : ['Tr', 'A', 'V']\n",
      "team_2 : ['Re', 'Hj', 'U']\n"
     ]
    }
   ],
   "source": [
    "import random\n",
    "num_member = int(input('Enter total number of members : '))\n",
    "num_team = int(input('Enter number of team : '))\n",
    "total_membar = []\n",
    "for i in range(num_member):\n",
    "    member = input(f'Enter {i+1} member : ')\n",
    "    total_membar.append(member.title())\n",
    "teams = {}\n",
    "t_num = num_member // num_team\n",
    "for i, team in enumerate(range(num_team)):\n",
    "    team_mem = []\n",
    "    for member in range(t_num):\n",
    "        participate = random.choice(total_membar)\n",
    "        total_membar.remove(participate)\n",
    "        team_mem.append(participate)\n",
    "    t_number = f'team_{i+1}'\n",
    "    teams[t_number] = team_mem\n",
    "rest_mem = num_member % num_team\n",
    "for i in teams:\n",
    "    if rest_mem>0:\n",
    "        participate = random.choice(total_membar)\n",
    "        teams[i].append(participate)\n",
    "        total_membar.remove(participate)\n",
    "        rest_mem -= 1\n",
    "    else:\n",
    "        break\n",
    "\n",
    "for i, j in teams.items():\n",
    "    print(f'{i} : {j}')\n"
   ]
  },
  {
   "cell_type": "code",
   "execution_count": null,
   "metadata": {},
   "outputs": [],
   "source": []
  }
 ],
 "metadata": {
  "kernelspec": {
   "display_name": "Python 3 (ipykernel)",
   "language": "python",
   "name": "python3"
  },
  "language_info": {
   "codemirror_mode": {
    "name": "ipython",
    "version": 3
   },
   "file_extension": ".py",
   "mimetype": "text/x-python",
   "name": "python",
   "nbconvert_exporter": "python",
   "pygments_lexer": "ipython3",
   "version": "3.10.9"
  }
 },
 "nbformat": 4,
 "nbformat_minor": 4
}
