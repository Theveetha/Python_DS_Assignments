{
 "cells": [
  {
   "cell_type": "markdown",
   "id": "8d24695a",
   "metadata": {},
   "source": [
    "# Random Game Questions"
   ]
  },
  {
   "cell_type": "code",
   "execution_count": 12,
   "id": "d5504d79",
   "metadata": {},
   "outputs": [
    {
     "name": "stdout",
     "output_type": "stream",
     "text": [
      "Please enter a number between the range 1 to 20 : 3\n",
      "USER LOST\n",
      "Number chosen by computer : 17\n"
     ]
    }
   ],
   "source": [
    "## Guess a Number : \n",
    "#  within a range 1 to 20\n",
    "# compNumber = 14\n",
    "# step1 : repeat 1 time\n",
    "# userNumber = 10 , Win or Lose\n",
    "import random\n",
    "compNumber = random.randrange(1,20)\n",
    "userNumber = int(input(\"Please enter a number between the range 1 to 20 : \"))\n",
    "\n",
    "if userNumber < 1 or userNumber > 20:\n",
    "    print(\"Please enter within the given range\")\n",
    "else:\n",
    "    if userNumber > compNumber:\n",
    "        print(\"USER WINS\")\n",
    "    elif userNumber < compNumber:\n",
    "        print(\"USER LOST\")\n",
    "    else:\n",
    "        print(\"MATCH DRAW\")\n",
    "print(f\"Number chosen by computer : {compNumber}\")"
   ]
  },
  {
   "cell_type": "code",
   "execution_count": null,
   "id": "88dad04d",
   "metadata": {},
   "outputs": [],
   "source": [
    "# Guess a Number : \n",
    "#  within a range 1 to 20\n",
    "# compNumber = 14\n",
    "# step2 : repeat till he reaches the answer\n",
    "# userNumber = 10 , UP\n",
    "# userNumber = 20 , down\n",
    "# userNumber = 16 , down\n",
    "# userNumber = 14 , win\n",
    "import random\n",
    "compNumber = random.randrange(1,20)\n",
    "userNumber = int(input(\"Please enter a number between the range 1 to 20 : \"))\n",
    "\n",
    "if userNumber < 1 or userNumber > 20:\n",
    "    print(\"Please enter within the given range\")\n",
    "else:\n",
    "    while userNumber != compNumber:\n",
    "        if userNumber > compNumber:\n",
    "            print(\"Down\")\n",
    "        else:\n",
    "            print(\"Up\")\n",
    "        userNumber = int(input(\"Please enter a number between the range 1 to 20 : \"))\n",
    "    print(\"Win\")\n",
    "print(f\"Number chosen by computer : {compNumber}\")"
   ]
  },
  {
   "cell_type": "code",
   "execution_count": 43,
   "id": "def85608",
   "metadata": {},
   "outputs": [
    {
     "name": "stdout",
     "output_type": "stream",
     "text": [
      "Please enter the number of try you want : 6\n",
      "Please enter a number between the range 1 to 20 : 1\n",
      "Up\n",
      "Want to Proceed 'Yes or No ? ': yes\n",
      "Please enter a number between the range 1 to 20 : 2\n",
      "Up\n",
      "Want to Proceed 'Yes or No ? ': yes\n",
      "Please enter a number between the range 1 to 20 : 3\n",
      "Up\n",
      "Want to Proceed 'Yes or No ? ': yes\n",
      "Please enter a number between the range 1 to 20 : 4\n",
      "Up\n",
      "Want to Proceed 'Yes or No ? ': 5\n",
      "Please enter a number between the range 1 to 20 : 5\n",
      "Up\n",
      "Want to Proceed 'Yes or No ? ': yes\n",
      "Please enter a number between the range 1 to 20 : 6\n",
      "Chances to try is over\n",
      "Number chosen by computer : 14\n"
     ]
    }
   ],
   "source": [
    "## Guess a Number : \n",
    "#  within a range 1 to 20\n",
    "# compNumber = 14\n",
    "# step3 : repeat till user gives up (QQ) or you provide that chances (5)\n",
    "# userNumber = 10 , UP\n",
    "# userNumber = 20 , down\n",
    "# userNumber = 16 , down\n",
    "# userNumber = 14 , win\n",
    "import random\n",
    "compNumber = random.randrange(1,20)\n",
    "chance = int(input(\"Please enter the number of try you want : \"))\n",
    "userNumber = int(input(\"Please enter a number between the range 1 to 20 : \"))\n",
    "for i in range (1,chance):\n",
    "    if userNumber < 1 or userNumber > 20:\n",
    "        print(\"Please enter within the given range\")\n",
    "    else:\n",
    "        if userNumber > compNumber:\n",
    "            print(\"Down\")\n",
    "        elif userNumber < compNumber:\n",
    "            print(\"Up\")\n",
    "        else:\n",
    "            print(\"Win\")\n",
    "            break\n",
    "        quit = input(\"Want to Proceed 'Yes or No ? ': \").lower().strip()\n",
    "        if quit != \"no\":\n",
    "            userNumber = int(input(\"Please enter a number between the range 1 to 20 : \"))\n",
    "        else:\n",
    "            print(\"User chose to quit\")\n",
    "            break\n",
    "    if i == chance-1:\n",
    "        print(\"Chances to try is over\")\n",
    "print(f\"Number chosen by computer : {compNumber}\")\n"
   ]
  },
  {
   "cell_type": "code",
   "execution_count": 73,
   "id": "3d435d29",
   "metadata": {},
   "outputs": [
    {
     "name": "stdout",
     "output_type": "stream",
     "text": [
      "Choose 1 for Rock, 2 for Paper and 3 for Scissor : 1\n",
      "User Wins as Rock beats Scissor!\n",
      "Computer selected Scissor\n"
     ]
    }
   ],
   "source": [
    "# Rock paper and scissor\n",
    "# 1. rock\n",
    "# 2. paper\n",
    "# 3. scissor\n",
    "# rock beats scissor\n",
    "# scissor beats paper\n",
    "# paper beats rock\n",
    "\n",
    "# 1 beats 3\n",
    "# 3 beats 2\n",
    "# 2 beats 1\n",
    "\n",
    "# comp = 2\n",
    "# user = 3 , win\n",
    "# comp = 2, WIN\n",
    "# user = 1 \n",
    "import random\n",
    "comp = random.randrange(1,4)\n",
    "user = int(input(\"Choose 1 for Rock, 2 for Paper and 3 for Scissor : \"))\n",
    "value = [\"Rock\",\"Paper\",\"Scissor\"]\n",
    "if user < 1 or user > 3:\n",
    "    print(\"Please enter valid option\")\n",
    "else:\n",
    "    if (comp == 1 and user == 3) | (comp == 3 and user == 2) | (comp == 2 and user == 1):\n",
    "        print(f\"Computer Wins as {value[comp-1]} beats {value[user-1]}!\")\n",
    "    elif comp == user:\n",
    "        print(f\"Match Draw as {value[comp-1]} same as {value[user-1]}!\")\n",
    "    else:\n",
    "        print(f\"User Wins as {value[user-1]} beats {value[comp-1]}!\")\n",
    "print(f\"Computer selected {value[comp-1]}\")"
   ]
  }
 ],
 "metadata": {
  "kernelspec": {
   "display_name": "Python 3 (ipykernel)",
   "language": "python",
   "name": "python3"
  },
  "language_info": {
   "codemirror_mode": {
    "name": "ipython",
    "version": 3
   },
   "file_extension": ".py",
   "mimetype": "text/x-python",
   "name": "python",
   "nbconvert_exporter": "python",
   "pygments_lexer": "ipython3",
   "version": "3.10.9"
  }
 },
 "nbformat": 4,
 "nbformat_minor": 5
}
