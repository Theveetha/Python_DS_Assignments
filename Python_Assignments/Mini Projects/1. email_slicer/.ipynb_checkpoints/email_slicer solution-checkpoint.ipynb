{
 "cells": [
  {
   "cell_type": "code",
   "execution_count": 4,
   "metadata": {},
   "outputs": [
    {
     "name": "stdout",
     "output_type": "stream",
     "text": [
      "Write your email address : nitish@@gamil.c\n"
     ]
    },
    {
     "ename": "ValueError",
     "evalue": "too many values to unpack (expected 3)",
     "output_type": "error",
     "traceback": [
      "\u001b[1;31m---------------------------------------------------------------------------\u001b[0m",
      "\u001b[1;31mValueError\u001b[0m                                Traceback (most recent call last)",
      "\u001b[1;32m<ipython-input-4-0a9684bdcae8>\u001b[0m in \u001b[0;36m<module>\u001b[1;34m\u001b[0m\n\u001b[0;32m      9\u001b[0m \u001b[1;33m\u001b[0m\u001b[0m\n\u001b[0;32m     10\u001b[0m \u001b[0memail\u001b[0m \u001b[1;33m=\u001b[0m \u001b[0minput\u001b[0m\u001b[1;33m(\u001b[0m\u001b[1;34m'Write your email address : '\u001b[0m\u001b[1;33m)\u001b[0m\u001b[1;33m\u001b[0m\u001b[1;33m\u001b[0m\u001b[0m\n\u001b[1;32m---> 11\u001b[1;33m \u001b[0musername\u001b[0m\u001b[1;33m,\u001b[0m \u001b[0mdomain\u001b[0m\u001b[1;33m,\u001b[0m \u001b[0mextension\u001b[0m \u001b[1;33m=\u001b[0m \u001b[0mre\u001b[0m\u001b[1;33m.\u001b[0m\u001b[0msplit\u001b[0m\u001b[1;33m(\u001b[0m\u001b[1;34mr'[@.]'\u001b[0m\u001b[1;33m,\u001b[0m \u001b[0memail\u001b[0m\u001b[1;33m)\u001b[0m\u001b[1;33m\u001b[0m\u001b[1;33m\u001b[0m\u001b[0m\n\u001b[0m\u001b[0;32m     12\u001b[0m \u001b[1;33m\u001b[0m\u001b[0m\n\u001b[0;32m     13\u001b[0m \u001b[0mprint\u001b[0m\u001b[1;33m(\u001b[0m\u001b[1;34mf'Your username is \"{username}\" and your domain name is \"{domain}\".'\u001b[0m\u001b[1;33m)\u001b[0m\u001b[1;33m\u001b[0m\u001b[1;33m\u001b[0m\u001b[0m\n",
      "\u001b[1;31mValueError\u001b[0m: too many values to unpack (expected 3)"
     ]
    }
   ],
   "source": [
    "# Solution \n",
    "\n",
    "\n",
    "# Q. \n",
    "#get user email address\n",
    "# Tell her username and company domain name\n",
    "\n",
    "import re\n",
    "\n",
    "email = input('Write your email address : ')\n",
    "username, domain, extension = re.split(r'[@.]', email)\n",
    "\n",
    "print(f'Your username is \"{username}\" and your domain name is \"{domain}\".')\n"
   ]
  },
  {
   "cell_type": "code",
   "execution_count": 3,
   "metadata": {},
   "outputs": [
    {
     "name": "stdout",
     "output_type": "stream",
     "text": [
      "Enter email address: nitish@@gamil.com\n",
      "Your username is  nitish and your domain name is \n"
     ]
    }
   ],
   "source": [
    "email = input(\"Enter email address: \")\n",
    "list_new = email.split(\"@\")\n",
    "new = list_new[1]  # gmail.com\n",
    "domain = new.split(\".\")\n",
    "#print(domain)\n",
    "#print(list_new)\n",
    "print(\"Your username is \",list_new[0], \"and your domain name is\", domain[0] )\n"
   ]
  },
  {
   "cell_type": "code",
   "execution_count": 6,
   "metadata": {},
   "outputs": [
    {
     "name": "stdout",
     "output_type": "stream",
     "text": [
      "Enter a valid email ID: nit@g.com\n",
      "Your username is nit and Domain is g\n"
     ]
    }
   ],
   "source": [
    "import re\n",
    "str1= input(\"Enter a valid email ID: \")\n",
    "pattern='^[a-zAA-Z0-9-_]+@[a-zA-Z0-9]+.[a-zA-Z]{1,3}$'\n",
    "if re.match(pattern, str1):\n",
    "    res=re.split(r\"@\",str1)\n",
    "    username, domain =res[0], res[1].split('.')[0]\n",
    "    print(\"Your username is {} and Domain is {}\".format(username, domain))\n",
    "else:\n",
    "    print(\"Enter a valid email ID\")\n"
   ]
  },
  {
   "cell_type": "code",
   "execution_count": null,
   "metadata": {},
   "outputs": [],
   "source": []
  }
 ],
 "metadata": {
  "kernelspec": {
   "display_name": "Python 3 (ipykernel)",
   "language": "python",
   "name": "python3"
  },
  "language_info": {
   "codemirror_mode": {
    "name": "ipython",
    "version": 3
   },
   "file_extension": ".py",
   "mimetype": "text/x-python",
   "name": "python",
   "nbconvert_exporter": "python",
   "pygments_lexer": "ipython3",
   "version": "3.10.9"
  }
 },
 "nbformat": 4,
 "nbformat_minor": 4
}
